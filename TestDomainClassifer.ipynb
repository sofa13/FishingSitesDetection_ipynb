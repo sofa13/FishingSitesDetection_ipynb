{
 "cells": [
  {
   "cell_type": "markdown",
   "metadata": {},
   "source": [
    "# Brandname partial ratio check"
   ]
  },
  {
   "cell_type": "code",
   "execution_count": 1,
   "metadata": {},
   "outputs": [
    {
     "name": "stdout",
     "output_type": "stream",
     "text": [
      "[nltk_data] Downloading package words to /home/sophie/nltk_data...\n",
      "[nltk_data]   Package words is already up-to-date!\n"
     ]
    }
   ],
   "source": [
    "from FishingSitesDetection.Sophie.DomainClassifier import feature_methods as fm\n",
    "#from FishingSitesDetection.Sophie.DomainClassifier import DomainClassifier"
   ]
  },
  {
   "cell_type": "code",
   "execution_count": 2,
   "metadata": {},
   "outputs": [],
   "source": [
    "brandnames_fin = \"./domainclassification/features/brand_domains\"\n",
    "\n",
    "# brandnames\n",
    "with open(brandnames_fin, 'r', encoding='utf-8') as f:\n",
    "    brandnames = eval(f.read())"
   ]
  },
  {
   "cell_type": "code",
   "execution_count": 3,
   "metadata": {},
   "outputs": [
    {
     "name": "stdout",
     "output_type": "stream",
     "text": [
      "{'cibc', 'fhb', 'nexi', 'dropbox', 'gatherfcu', 'huntington', 'natwest', 'livingsocial', 'tesco', 'gtbank', 'adobe', 'eppicard', 'ing', 'twitter', 'nbkc', 'citi', 'usaa', 'wikipedia', 'arena', 'bhdleon', 'binance', 'pinterest', 'stgeorge', 'bankmillennium', 'cimbclicks', 'independentbank', 'unicredit', 'merriam-webster', 'orkut', 'aetna', 'att', 'pkobp', 'swedbank', 'blockchain', 'paxful', 'tdameritrade', 'centurylink', 'treehousetv', 'opengovca', 'nbtbank', 'salemfive', 'virustotal', 'lottomatica', 'github', 'wellsfargo', 'citizensbank', 'mbtrading', 'verizonwireless', 'safra', 'dinersclub', 'blizzard', 'fdic', 'peoplesjewellers', 'bitflyer', 'bmo', 'discovery', 'walmart', 'gruppocarige', 'whatsapp', 'visa', 'idex', 'comerica', 'dbs', 'mastercard', 'discover', 'firstdirect', 'nationwide', 'permanenttsb', 'myetherwallet', 'nationalcityca', 'paypal', 'ato', 'ebay', 'lasalle', 'coinbase', 'americangreetings', 'latam', 'localbitcoins', 'rackspace', 'chase', 'xapo', 'nab', 'westpac', 'halifax', 'credit-agricole', 'capitecbank', 'salesforce', 'craigslist', 'kiwibank', 'bankofthewest', 'absa', 'tsb', 'compasscard', 'creditkarma', 'mycrypto', 'mergersandinquisitions', 'metrobankonline', 'intesasanpaolo', 'nordea', 'rbs', 'lloydsbank', 'tibia', 'key', 'live', 'cielostudios', 'abl', 'itau', 'imdb', 'anz', 'alibaba', 'usbank', 'alliancebank', 'zynga', 'littlewoods', 'mymonero', 'steampowered', 'guildwars2', 'associatedbank', 'nedbank', 'yahoo', 'abnamro', 'co-operativebank', 'cua', 'myspace', 'runescape', 'hotmail', 'hsbc', 'smile', 'dhl', 'interactivebrokers', 'pnc', 'uol', 'regions', 'rbcroyalbank', 'allegro', 'americanexpress', 'db', 'bitfinex', 'fnb', 'aol', 'skype', 'banco', 'groupon', 'linkedin', 'nba', 'caixa', 'sars', 'otomoto', 'westernunion', 'apple', 'orange', 'crunchbase', 'habbo', 'td', 'amazon', 'santander', 'very', 'vodafone', 'asb', 'commbank', 'bendigobank', 'suncorp', 'microsoft', 'nantucketbank', 'scotiabank', 'netsuite', 'canadapost', 'careerbuilder', 'barclays', 'mortgagecentreedmonton', 'worldofwarcraft', 'nexon', 'netflix', 'bitmex', 'bankofamerica', 'delta', 'rabobank', 'irs', 'cnbbank', 'uber', 'vr', 'bbt', 'capitalone', 'accurint', 'google', 'standardbankbd', 'tagged', 'facebook'}\n",
      "188\n"
     ]
    }
   ],
   "source": [
    "print(brandnames)\n",
    "print(len(brandnames))"
   ]
  },
  {
   "cell_type": "code",
   "execution_count": 4,
   "metadata": {},
   "outputs": [],
   "source": [
    "domain = \"dlhservices.com\"\n",
    "#domain = \"dhlservices.com\""
   ]
  },
  {
   "cell_type": "code",
   "execution_count": 5,
   "metadata": {},
   "outputs": [
    {
     "name": "stdout",
     "output_type": "stream",
     "text": [
      "[67, 'dhl']\n"
     ]
    }
   ],
   "source": [
    "print(fm.checkBrandName(domain, brandnames))"
   ]
  },
  {
   "cell_type": "markdown",
   "metadata": {},
   "source": [
    "# Hosting providers update, with IP address list"
   ]
  },
  {
   "cell_type": "code",
   "execution_count": 8,
   "metadata": {},
   "outputs": [],
   "source": [
    "hosting_service_fin = \"./domainclassification/features/hostingService/hosting_providers\"\n",
    "\n",
    "# hosting service info\n",
    "with open(hosting_service_fin, 'r', encoding=\"utf-8\") as fin:\n",
    "    hosting_services_hosts = eval(fin.read())"
   ]
  },
  {
   "cell_type": "code",
   "execution_count": 9,
   "metadata": {},
   "outputs": [
    {
     "name": "stdout",
     "output_type": "stream",
     "text": [
      "558\n"
     ]
    }
   ],
   "source": [
    "print(len(hosting_services_hosts))"
   ]
  },
  {
   "cell_type": "code",
   "execution_count": 10,
   "metadata": {},
   "outputs": [],
   "source": [
    "new_hosting_services = {\"noip.com\", \"krypt.com\", \"tailormadeservers.com\", \"vultr.com\", \"choopa.com\", \"000a.biz\"}\n",
    "updated_hosting_services = hosting_services_hosts.union(new_hosting_services)"
   ]
  },
  {
   "cell_type": "code",
   "execution_count": 11,
   "metadata": {},
   "outputs": [
    {
     "data": {
      "text/plain": [
       "564"
      ]
     },
     "execution_count": 11,
     "metadata": {},
     "output_type": "execute_result"
    }
   ],
   "source": [
    "len(updated_hosting_services)"
   ]
  },
  {
   "cell_type": "code",
   "execution_count": 12,
   "metadata": {},
   "outputs": [],
   "source": [
    "from pprint import pprint\n",
    "\n",
    "updated_hosting_service_fout = \"./domainclassification/features/hostingService/hosting_providers_2\"\n",
    "\n",
    "# hosting service info\n",
    "with open(updated_hosting_service_fout, 'w', encoding=\"utf-8\") as fout:\n",
    "    pprint(updated_hosting_services, fout)"
   ]
  },
  {
   "cell_type": "code",
   "execution_count": 15,
   "metadata": {},
   "outputs": [
    {
     "name": "stdout",
     "output_type": "stream",
     "text": [
      "8.23.224.107\n"
     ]
    }
   ],
   "source": [
    "from FishingSitesDetection.PhishEnd.Common.URLResolver import URLResolver\n",
    "\n",
    "domain = \"noip.com\"\n",
    "# generate IP address list from hosting services\n",
    "ur = URLResolver()\n",
    "\n",
    "# get IP of random subdomain, see if it resolves\n",
    "#check_resolves = \"fkY1Ds9Gj2PyYTjx.\" + domain\n",
    "check_resolves = domain\n",
    "ip = ur.getIP(check_resolves)\n",
    "\n",
    "print(ip)"
   ]
  },
  {
   "cell_type": "code",
   "execution_count": 2,
   "metadata": {},
   "outputs": [
    {
     "name": "stdout",
     "output_type": "stream",
     "text": [
      "{'8.23.224.107', '104.20.55.31', '67.229.135.158'}\n"
     ]
    }
   ],
   "source": [
    "print(fm.getIPs([\"noip.com\", \"krypt.com\", \"pitsubunchi.space\"]))"
   ]
  },
  {
   "cell_type": "code",
   "execution_count": null,
   "metadata": {},
   "outputs": [],
   "source": []
  }
 ],
 "metadata": {
  "kernelspec": {
   "display_name": "Python 3",
   "language": "python",
   "name": "python3"
  },
  "language_info": {
   "codemirror_mode": {
    "name": "ipython",
    "version": 3
   },
   "file_extension": ".py",
   "mimetype": "text/x-python",
   "name": "python",
   "nbconvert_exporter": "python",
   "pygments_lexer": "ipython3",
   "version": "3.6.4"
  }
 },
 "nbformat": 4,
 "nbformat_minor": 2
}
