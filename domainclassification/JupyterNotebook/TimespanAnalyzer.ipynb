{
 "cells": [
  {
   "cell_type": "markdown",
   "metadata": {},
   "source": [
    "# Setup"
   ]
  },
  {
   "cell_type": "code",
   "execution_count": 1,
   "metadata": {},
   "outputs": [],
   "source": [
    "from joblib import dump, load\n",
    "import numpy as np\n",
    "from numpy import nan\n",
    "from pprint import pprint\n",
    "import matplotlib.pyplot as plt\n",
    "import tldextract"
   ]
  },
  {
   "cell_type": "markdown",
   "metadata": {},
   "source": [
    "# Load imputer, scalar and model"
   ]
  },
  {
   "cell_type": "code",
   "execution_count": 2,
   "metadata": {},
   "outputs": [],
   "source": [
    "imp = load('finalized_imputer.joblib')\n",
    "scaler = load('finalized_scaler.joblib')\n",
    "model = load('finalized_model.joblib')"
   ]
  },
  {
   "cell_type": "markdown",
   "metadata": {},
   "source": [
    "# Load phishing database"
   ]
  },
  {
   "cell_type": "code",
   "execution_count": 3,
   "metadata": {},
   "outputs": [
    {
     "name": "stdout",
     "output_type": "stream",
     "text": [
      "['archived' 'years_active' 'years_inactive' 'num_captures'\n",
      " 'archive_redirected_domain' 'freenom_tld' 'wildcard_subdomain'\n",
      " 'reachable' 'blocked' 'alexa_rank' 'ratio_longest_word' 'contain_digit'\n",
      " 'contain_dash' 'name_len' 'brandname_partialratio']\n",
      "# features:  15\n",
      "# Xdb:  69366\n",
      "# ydb:  69366\n",
      "array([[ 1.        , 10.        ,  1.        , 11.        ,  0.        ,\n",
      "         0.        ,  1.        ,  1.        ,  0.        ,         nan,\n",
      "         0.4       ,  0.        ,  1.        , 11.        , 54.        ],\n",
      "       [ 1.        , 14.        ,  1.        , 44.        ,  0.        ,\n",
      "         0.        ,  0.        ,  1.        ,  0.        ,         nan,\n",
      "         0.33333333,  0.        ,  0.        ,  5.        , 60.        ]])\n",
      "array([-1, -1])\n",
      "# archived true:  40463\n",
      "# years_active:  36358\n",
      "# years_inactive:  33021\n",
      "# captures:  36358\n",
      "# archive_redirected true:  4718\n",
      "# freenom tld true:  1858\n",
      "# wildcard_subdomain true:  10004\n",
      "# reachable true:  41906\n",
      "# blocked true:  1812\n",
      "# alexa_rank true:  3713\n",
      "# brandname >80:  4704\n"
     ]
    }
   ],
   "source": [
    "with open(\"data/urlinfo_2019-01-21_69366\", \"r\", encoding='utf-8') as f:\n",
    "    data_db = eval(f.read())\n",
    "\n",
    "Xdb = np.array([d['feat'] for d in data_db])\n",
    "ydb = np.array([d['target'] for d in data_db])\n",
    "# ignore redirected\n",
    "feat_labels = np.concatenate((data_db[0]['feat_labels'][0:8], data_db[0]['feat_labels'][9:16]), axis=0)\n",
    "Xdb = np.concatenate((Xdb[:,0:8], Xdb[:,9:16]), axis=1)\n",
    "print(feat_labels)\n",
    "print(\"# features: \", len(feat_labels))\n",
    "print(\"# Xdb: \", len(Xdb))\n",
    "print(\"# ydb: \", len(ydb))\n",
    "pprint(Xdb[:2])\n",
    "pprint(ydb[:2])\n",
    "\n",
    "print(\"# archived true: \", len([x for x in Xdb if x[0]==1]))\n",
    "print(\"# years_active: \", len([x for x in Xdb if not np.isnan(x[1])]))\n",
    "print(\"# years_inactive: \", len([x for x in Xdb if x[2]<=1]))\n",
    "print(\"# captures: \", len([x for x in Xdb if not np.isnan(x[3])]))\n",
    "print(\"# archive_redirected true: \", len([x for x in Xdb if x[4]==1]))\n",
    "print(\"# freenom tld true: \", len([x for x in Xdb if x[5]==1]))\n",
    "print(\"# wildcard_subdomain true: \", len([x for x in Xdb if x[6]==1]))\n",
    "print(\"# reachable true: \", len([i for i, x in enumerate(Xdb) if x[7]==1]))\n",
    "print(\"# blocked true: \", len([x for x in Xdb if x[8]==1]))\n",
    "print(\"# alexa_rank true: \", len([x for x in Xdb if x[9]>-1]))\n",
    "print(\"# brandname >80: \", len([x for x in Xdb if x[-1]>80]))\n",
    "#print([i for i, x in enumerate(Xtrain) if x[8]==1])\n",
    "#print(data_train[72])"
   ]
  },
  {
   "cell_type": "markdown",
   "metadata": {},
   "source": [
    "# Normalize and Impute"
   ]
  },
  {
   "cell_type": "code",
   "execution_count": 4,
   "metadata": {},
   "outputs": [
    {
     "name": "stdout",
     "output_type": "stream",
     "text": [
      "[[ 1.19764085e+00  1.08579927e+00  4.72918171e-02 -9.34425768e-02\n",
      "  -5.72172343e-01 -3.07368802e-01  3.28397362e+00  1.20591004e+00\n",
      "  -4.64438203e-01  1.36976577e-13  7.66853940e-01 -3.85667598e-01\n",
      "   1.53313085e+00 -3.53419090e-01 -8.87921901e-01]\n",
      " [ 1.19764085e+00  2.17914931e+00  4.72918171e-02 -9.13356557e-02\n",
      "  -5.72172343e-01 -3.07368802e-01 -3.04509145e-01  1.20591004e+00\n",
      "  -4.64438203e-01  1.36976577e-13  1.36535252e-01 -3.85667598e-01\n",
      "  -6.52260048e-01 -1.16607493e+00 -4.61632072e-01]]\n"
     ]
    }
   ],
   "source": [
    "Xdb = imp.transform(Xdb)\n",
    "Xdb = scaler.transform(Xdb)\n",
    "print(Xdb[:2])"
   ]
  },
  {
   "cell_type": "markdown",
   "metadata": {},
   "source": [
    "# Predict"
   ]
  },
  {
   "cell_type": "code",
   "execution_count": 5,
   "metadata": {},
   "outputs": [],
   "source": [
    "ydb_pred = model.predict(Xdb)\n",
    "ydb_proba = model.predict_proba(Xdb)\n",
    "#print(sorted(Xpredict_proba[:,0]))"
   ]
  },
  {
   "cell_type": "code",
   "execution_count": 6,
   "metadata": {},
   "outputs": [
    {
     "name": "stdout",
     "output_type": "stream",
     "text": [
      "# 2nd level domains: 69366\n",
      "# compromised, hacked: 50781\n",
      "# malicious, owned: 18585\n",
      "% compromised, hacked: 0.7320733500562235\n",
      "% malicious, owned: 0.26792664994377646\n"
     ]
    }
   ],
   "source": [
    "print(\"# 2nd level domains:\", len(ydb_pred))\n",
    "print(\"# compromised, hacked:\", len([x for x in ydb_pred if x==1]))\n",
    "print(\"# malicious, owned:\", len([x for x in ydb_pred if x==0]))\n",
    "print(\"% compromised, hacked:\", len([x for x in ydb_pred if x==1])/len(ydb_pred))\n",
    "print(\"% malicious, owned:\", len([x for x in ydb_pred if x==0])/len(ydb_pred))"
   ]
  },
  {
   "cell_type": "markdown",
   "metadata": {},
   "source": [
    "# Prob analysis"
   ]
  },
  {
   "cell_type": "code",
   "execution_count": 7,
   "metadata": {},
   "outputs": [],
   "source": [
    "def plotFractionalGraph(x, y, xlabel=\"\", xmin=0, xmax=4000):\n",
    "    print(y)\n",
    "    print(x)\n",
    "\n",
    "    ax = plt.subplot()\n",
    "    ax.plot(x, y)\n",
    "\n",
    "    plt.xlabel(xlabel)\n",
    "    plt.ylabel(\"Fraction of Domains\")\n",
    "    #plt.axis([xmin, xmax, 0, 1])\n",
    "    plt.grid(True, linestyle='dotted')\n",
    "\n",
    "    plt.show()"
   ]
  },
  {
   "cell_type": "code",
   "execution_count": 8,
   "metadata": {},
   "outputs": [],
   "source": [
    "def fractionalGraph(metric, max=100, step=5):\n",
    "    cnt = 0\n",
    "    fractions = [0]\n",
    "    metricFractions = [0]\n",
    "    while(True):\n",
    "        cnt = cnt + step\n",
    "        if cnt > max:\n",
    "            break\n",
    "\n",
    "        fraction = int(len(metric)*cnt/float(100))\n",
    "        max_step = metric[fraction-1]\n",
    "        fractions.append(cnt/float(100))\n",
    "        metricFractions.append(max_step)\n",
    "\n",
    "    plotFractionalGraph(metricFractions, fractions, xlabel=\"Compromised probability\")"
   ]
  },
  {
   "cell_type": "code",
   "execution_count": 9,
   "metadata": {},
   "outputs": [
    {
     "name": "stdout",
     "output_type": "stream",
     "text": [
      "[0, 0.05, 0.1, 0.15, 0.2, 0.25, 0.3, 0.35, 0.4, 0.45, 0.5, 0.55, 0.6, 0.65, 0.7, 0.75, 0.8, 0.85, 0.9, 0.95, 1.0]\n",
      "[0, 0.20299419006953037, 0.24642460979406522, 0.2826478973194638, 0.38209411795041626, 0.4525808637603048, 0.5333870128523356, 0.5858993737914122, 0.6087557733513467, 0.6728441827569361, 0.7274274106856395, 0.7621330429801598, 0.7872003967875267, 0.8180086845522784, 0.8522864366605658, 0.8698579158147676, 0.8804269814899525, 0.8892363081123791, 0.8962235881187967, 0.9026560628582323, 0.9388206301415224]\n"
     ]
    },
    {
     "data": {
      "image/png": "[encoded data removed]",
      "text/plain": [
       "<Figure size 432x288 with 1 Axes>"
      ]
     },
     "metadata": {},
     "output_type": "display_data"
    }
   ],
   "source": [
    "# distribution of probabilities\n",
    "ydb_proba_sorted = sorted(ydb_proba[:,1])\n",
    "fractionalGraph(ydb_proba_sorted)"
   ]
  },
  {
   "cell_type": "markdown",
   "metadata": {},
   "source": [
    "# Process results"
   ]
  },
  {
   "cell_type": "code",
   "execution_count": 10,
   "metadata": {},
   "outputs": [],
   "source": [
    "domain_target = dict()\n",
    "\n",
    "for i, data in enumerate(data_db):\n",
    "    info = data['info']\n",
    "    domain = info[0]\n",
    "    d_id = info[1]\n",
    "    \n",
    "    domain_target[domain] = ydb_pred[i]\n",
    "\n",
    "#print(domain_target)"
   ]
  },
  {
   "cell_type": "code",
   "execution_count": 11,
   "metadata": {},
   "outputs": [],
   "source": [
    "quarter = {\"01\": 'Q1', \"02\": 'Q1',\"03\": 'Q1', \"04\": 'Q2', \"05\": 'Q2', \"06\": 'Q2', \"07\": 'Q3', \"08\": 'Q3', \"09\": 'Q3', \"10\": 'Q4', \"11\": 'Q4', \"12\": 'Q4'}\n",
    "def processList(phish_list):\n",
    "    data = dict()\n",
    "\n",
    "    for phish in phish_list:\n",
    "        timestamp = phish[1]\n",
    "        phish = phish[0]\n",
    "        \n",
    "        # get year, month\n",
    "        yr, mn = timestamp.split('-')[:2]\n",
    "        \n",
    "        # get month, quarter\n",
    "        yr_qu = '-'.join([yr, quarter[mn]])\n",
    "        \n",
    "        # get year-month\n",
    "        yr_mn = '-'.join(timestamp.split('-')[:2])\n",
    "        \n",
    "        if phish:\n",
    "            ext = tldextract.extract(phish)\n",
    "            if ext and ext.domain and ext.suffix:\n",
    "                domain = '.'.join([ext.domain, ext.suffix])\n",
    "                if domain not in data:\n",
    "                    data[domain] = dict()\n",
    "                    data[domain]['months'] = set()\n",
    "                    data[domain]['quarters'] = set()\n",
    "                    data[domain]['years'] = set()\n",
    "                data[domain]['months'].add(yr_mn)\n",
    "                data[domain]['quarters'].add(yr_qu)\n",
    "                data[domain]['years'].add(yr)\n",
    "\n",
    "    return data"
   ]
  },
  {
   "cell_type": "code",
   "execution_count": 14,
   "metadata": {},
   "outputs": [
    {
     "name": "stdout",
     "output_type": "stream",
     "text": [
      "186762\n"
     ]
    }
   ],
   "source": [
    "data = []\n",
    "with open(\"./data/urlinfo_2019-01-21\", \"r\", encoding='utf-8') as f:\n",
    "    urlinfo = eval(f.read())\n",
    "    print(len(urlinfo))\n",
    "    for info in urlinfo:\n",
    "        path_id = info[0]\n",
    "        firstUrl = info[1]\n",
    "        finalUrl = info[2]\n",
    "        timestamp = info [3]\n",
    "        data.append([firstUrl, timestamp])\n",
    "        data.append([finalUrl, timestamp])\n",
    "\n",
    "domain_timestamp = processList(data)"
   ]
  },
  {
   "cell_type": "code",
   "execution_count": 13,
   "metadata": {},
   "outputs": [
    {
     "name": "stdout",
     "output_type": "stream",
     "text": [
      "{'months': {'2016-01', '2017-01'}, 'quarters': {'2017-Q1', '2016-Q1'}, 'years': {'2016', '2017'}}\n"
     ]
    }
   ],
   "source": [
    "print(domain_timestamp['buda-family.com'])"
   ]
  },
  {
   "cell_type": "code",
   "execution_count": 14,
   "metadata": {},
   "outputs": [],
   "source": [
    "# we want a dict 'domain': target\n",
    "# we want a dict 'domain': timestamp (latest)\n",
    "# we want mal/comp buckets\n",
    "monthly_bins = dict()\n",
    "quarterly_bins = dict()\n",
    "yearly_bins = dict()\n",
    "        \n",
    "for domain, target in domain_target.items():\n",
    "    # get timestamp\n",
    "    keys = ['months', 'quarters', 'years']\n",
    "    bins = [monthly_bins, quarterly_bins, yearly_bins]\n",
    "    \n",
    "    for i, key in enumerate(keys):\n",
    "        bn = bins[i]\n",
    "        times = domain_timestamp[domain][key]\n",
    "        for time in times:\n",
    "            if time not in bn:\n",
    "                bn[time] = [0,0]\n",
    "            bn[time][target] += 1"
   ]
  },
  {
   "cell_type": "code",
   "execution_count": 15,
   "metadata": {},
   "outputs": [
    {
     "name": "stdout",
     "output_type": "stream",
     "text": [
      "{'2016-01': [28, 336],\n",
      " '2016-02': [53, 464],\n",
      " '2016-03': [34, 358],\n",
      " '2016-04': [57, 465],\n",
      " '2016-05': [167, 1006],\n",
      " '2016-06': [263, 1327],\n",
      " '2016-07': [234, 1052],\n",
      " '2016-08': [619, 1974],\n",
      " '2016-09': [888, 2914],\n",
      " '2016-10': [1133, 3961],\n",
      " '2016-11': [913, 2703],\n",
      " '2016-12': [630, 1801],\n",
      " '2017-01': [631, 2146],\n",
      " '2017-02': [576, 1957],\n",
      " '2017-03': [893, 2965],\n",
      " '2017-04': [749, 2701],\n",
      " '2017-05': [791, 2707],\n",
      " '2017-06': [648, 2253],\n",
      " '2017-07': [505, 2060],\n",
      " '2017-08': [286, 1547],\n",
      " '2017-09': [415, 1749],\n",
      " '2017-10': [463, 1594],\n",
      " '2017-11': [384, 2029],\n",
      " '2017-12': [402, 1957],\n",
      " '2018-01': [352, 1841],\n",
      " '2018-02': [699, 2866],\n",
      " '2018-03': [904, 3228],\n",
      " '2018-04': [699, 2652],\n",
      " '2018-05': [698, 1756],\n",
      " '2018-06': [966, 1795],\n",
      " '2018-07': [674, 1243],\n",
      " '2018-08': [1240, 2018],\n",
      " '2018-09': [904, 1901],\n",
      " '2018-10': [693, 1836],\n",
      " '2018-11': [783, 2169],\n",
      " '2018-12': [531, 1429],\n",
      " '2019-01': [377, 970]}\n",
      "{'2016-Q1': [106, 1022],\n",
      " '2016-Q2': [458, 2508],\n",
      " '2016-Q3': [1592, 5163],\n",
      " '2016-Q4': [2472, 7365],\n",
      " '2017-Q1': [1934, 6201],\n",
      " '2017-Q2': [2000, 6525],\n",
      " '2017-Q3': [1140, 4713],\n",
      " '2017-Q4': [1153, 4784],\n",
      " '2018-Q1': [1862, 7177],\n",
      " '2018-Q2': [2312, 5750],\n",
      " '2018-Q3': [2777, 4828],\n",
      " '2018-Q4': [1961, 5096],\n",
      " '2019-Q1': [377, 970]}\n",
      "{'2016': [4238, 13858],\n",
      " '2017': [5753, 19041],\n",
      " '2018': [8729, 20905],\n",
      " '2019': [377, 970]}\n"
     ]
    }
   ],
   "source": [
    "pprint(monthly_bins)\n",
    "pprint(quarterly_bins)\n",
    "pprint(yearly_bins)"
   ]
  },
  {
   "cell_type": "markdown",
   "metadata": {},
   "source": [
    "# Visualize"
   ]
  },
  {
   "cell_type": "code",
   "execution_count": 16,
   "metadata": {},
   "outputs": [],
   "source": [
    "# we want mal/comp percentages\n",
    "# Quarterly\n",
    "# Yearly"
   ]
  },
  {
   "cell_type": "code",
   "execution_count": 24,
   "metadata": {},
   "outputs": [],
   "source": [
    "def domainClassifPerc(timebin, title, ylabel, bin_type=\"\", fraction=True):\n",
    "    plt.figure(figsize=(8, 5))\n",
    "    \n",
    "    #############################################################################33\n",
    "    plt.subplot(1, 1, 1)\n",
    "    \n",
    "    # comp, mal\n",
    "    mal_comp = []\n",
    "    time = sorted(timebin.keys())\n",
    "    time = time[:-1]\n",
    "#     if bin_type == \"year\":\n",
    "#         time = time[:-2]\n",
    "#     elif bin_type = \"quarter\":\n",
    "#         time = time[:]\n",
    "    N = len(time)\n",
    "    for t in time:\n",
    "        mal_comp.append(timebin[t])\n",
    "    \n",
    "    if fraction:\n",
    "        mal = [x[0]/(x[0]+x[1]) for x in mal_comp]\n",
    "        comp = [x[1]/(x[0]+x[1]) for x in mal_comp]\n",
    "    else:\n",
    "        mal = [x[0] for x in mal_comp]\n",
    "        comp = [x[1] for x in mal_comp]\n",
    "        \n",
    "    print(time)\n",
    "    print(mal)\n",
    "    print(comp)\n",
    "\n",
    "    ind = np.arange(N)    # the x locations for the groups\n",
    "    width = 0.7       # the width of the bars: can also be len(x) sequence\n",
    "\n",
    "    p1 = plt.bar(ind, comp, width)\n",
    "    p2 = plt.bar(ind, mal, width,\n",
    "                 bottom=comp)\n",
    "    \n",
    "    #print(p1[0])\n",
    "    \n",
    "    plt.ylabel(ylabel)\n",
    "    #plt.title(title)\n",
    "    plt.xticks(ind, time, rotation=50)\n",
    "    #plt.yticks(np.arange(0, 71, 10))\n",
    "    plt.legend((p1[0], p2[0]), ('Compromised', 'Malicious'))\n",
    "    \n",
    "#     plt.subplot(1, 2, 2)\n",
    "#     detectors = (175, 117, 154, 111, 142)\n",
    "\n",
    "#     #ind = np.arange(N)    # the x locations for the groups\n",
    "#     #width = 0.35       # the width of the bars: can also be len(x) sequence\n",
    "\n",
    "#     pall = plt.bar(ind, detectors, width, color='navy', label=\"All concepts\")\n",
    "\n",
    "#     #plt.ylabel('Scores')\n",
    "#     plt.title('Number of detectors')\n",
    "#     plt.xticks(ind, ('ImageNet','Baseline', 'DataAug', 'Curric', 'Curric-DataAug'), rotation=50)\n",
    "#     plt.yticks(np.arange(0, 201, 50))\n",
    "#     plt.legend([\"all concepts\"])\n",
    "    \n",
    "    plt.tight_layout()\n",
    "    plt.show()"
   ]
  },
  {
   "cell_type": "markdown",
   "metadata": {},
   "source": [
    "#### Yearly"
   ]
  },
  {
   "cell_type": "code",
   "execution_count": 25,
   "metadata": {},
   "outputs": [
    {
     "name": "stdout",
     "output_type": "stream",
     "text": [
      "['2016', '2017', '2018']\n",
      "[4238, 5753, 8729]\n",
      "[13858, 19041, 20905]\n"
     ]
    },
    {
     "data": {
      "image/png": "[encoded data removed]",
      "text/plain": [
       "<Figure size 576x360 with 1 Axes>"
      ]
     },
     "metadata": {},
     "output_type": "display_data"
    },
    {
     "name": "stdout",
     "output_type": "stream",
     "text": [
      "['2016', '2017', '2018']\n",
      "[0.23419540229885058, 0.23203194321206744, 0.2945603023554026]\n",
      "[0.7658045977011494, 0.7679680567879326, 0.7054396976445975]\n"
     ]
    },
    {
     "data": {
      "image/png": "[encoded data removed]",
      "text/plain": [
       "<Figure size 576x360 with 1 Axes>"
      ]
     },
     "metadata": {},
     "output_type": "display_data"
    }
   ],
   "source": [
    "domainClassifPerc(yearly_bins, 'Yearly Domain Classification', 'Number of Domains', fraction=False)\n",
    "domainClassifPerc(yearly_bins, 'Yearly Domain Classification', 'Fraction of Domains')"
   ]
  },
  {
   "cell_type": "markdown",
   "metadata": {},
   "source": [
    "#### Quarterly"
   ]
  },
  {
   "cell_type": "code",
   "execution_count": 23,
   "metadata": {},
   "outputs": [
    {
     "data": {
      "image/png": "[encoded data removed]",
      "text/plain": [
       "<Figure size 576x360 with 1 Axes>"
      ]
     },
     "metadata": {},
     "output_type": "display_data"
    },
    {
     "data": {
      "image/png": "[encoded data removed]",
      "text/plain": [
       "<Figure size 576x360 with 1 Axes>"
      ]
     },
     "metadata": {},
     "output_type": "display_data"
    }
   ],
   "source": [
    "domainClassifPerc(quarterly_bins, 'Quarterly Domain Classification', 'Number of Domains', fraction=False)\n",
    "domainClassifPerc(quarterly_bins, 'Quarterly Domain Classification', 'Fraction of Domains')"
   ]
  },
  {
   "cell_type": "code",
   "execution_count": 20,
   "metadata": {},
   "outputs": [
    {
     "data": {
      "image/png": "[encoded data removed]",
      "text/plain": [
       "<Figure size 576x360 with 1 Axes>"
      ]
     },
     "metadata": {},
     "output_type": "display_data"
    },
    {
     "data": {
      "image/png": "[encoded data removed]",
      "text/plain": [
       "<Figure size 576x360 with 1 Axes>"
      ]
     },
     "metadata": {},
     "output_type": "display_data"
    }
   ],
   "source": [
    "domainClassifPerc(monthly_bins, 'Monthly Domain Classification', 'Number of Domains', fraction=False)\n",
    "domainClassifPerc(monthly_bins, 'Monthly Domain Classification', 'Fraction of Domains')"
   ]
  },
  {
   "cell_type": "markdown",
   "metadata": {},
   "source": [
    "# Compromised URLs"
   ]
  },
  {
   "cell_type": "code",
   "execution_count": 31,
   "metadata": {},
   "outputs": [
    {
     "name": "stdout",
     "output_type": "stream",
     "text": [
      "36492\n"
     ]
    }
   ],
   "source": [
    "comp_domains = set([data_db[i]['info'][0] for i, prob in enumerate(ydb_proba[:,1]) if prob > 0.7])\n",
    "print(len(comp_domains))"
   ]
  },
  {
   "cell_type": "code",
   "execution_count": 43,
   "metadata": {},
   "outputs": [],
   "source": [
    "comp_urls = []\n",
    "comp_urls_set = set()\n",
    "with open(\"./data/urlinfo_2019-01-21\", \"r\", encoding='utf-8') as f:\n",
    "    urlinfo = eval(f.read())\n",
    "    \n",
    "    for info in urlinfo:\n",
    "        path_id = info[0]\n",
    "        urls = []\n",
    "        urls.append(info[1])\n",
    "        urls.append(info[2])\n",
    "        timestamp = info[3]\n",
    "        \n",
    "        firstfinal = None\n",
    "        for i, url in enumerate(urls):                \n",
    "            if url:\n",
    "                if not url.endswith('/'):\n",
    "                    url+='/'\n",
    "                ext = tldextract.extract(url)\n",
    "                if ext and ext.domain and ext.suffix:\n",
    "                    domain = '.'.join([ext.domain, ext.suffix])\n",
    "                    if domain in comp_domains:\n",
    "                        if i==0:\n",
    "                            firstfinal = 'first'\n",
    "                        elif i==1:\n",
    "                            if firstfinal:\n",
    "                                firstfinal = 'both'\n",
    "                            else:\n",
    "                                firstfinal = 'final'\n",
    "        \n",
    "        if firstfinal:\n",
    "            comp_urls.append(info+[firstfinal])"
   ]
  },
  {
   "cell_type": "code",
   "execution_count": 44,
   "metadata": {},
   "outputs": [
    {
     "name": "stdout",
     "output_type": "stream",
     "text": [
      "100325\n"
     ]
    }
   ],
   "source": [
    "print(len(comp_urls))"
   ]
  },
  {
   "cell_type": "code",
   "execution_count": 45,
   "metadata": {},
   "outputs": [],
   "source": [
    "with open(\"./data/compurls_2019-01-21\", \"w\", encoding='utf-8') as f:\n",
    "    pprint(comp_urls, f)"
   ]
  },
  {
   "cell_type": "code",
   "execution_count": null,
   "metadata": {},
   "outputs": [],
   "source": []
  }
 ],
 "metadata": {
  "kernelspec": {
   "display_name": "Python 3",
   "language": "python",
   "name": "python3"
  },
  "language_info": {
   "codemirror_mode": {
    "name": "ipython",
    "version": 3
   },
   "file_extension": ".py",
   "mimetype": "text/x-python",
   "name": "python",
   "nbconvert_exporter": "python",
   "pygments_lexer": "ipython3",
   "version": "3.6.5"
  }
 },
 "nbformat": 4,
 "nbformat_minor": 2
}
