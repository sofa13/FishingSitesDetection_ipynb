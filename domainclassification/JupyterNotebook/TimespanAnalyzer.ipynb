{
 "cells": [
  {
   "cell_type": "markdown",
   "metadata": {},
   "source": [
    "# Setup"
   ]
  },
  {
   "cell_type": "code",
   "execution_count": 1,
   "metadata": {},
   "outputs": [],
   "source": [
    "from joblib import dump, load\n",
    "import numpy as np\n",
    "from numpy import nan\n",
    "from pprint import pprint\n",
    "import matplotlib.pyplot as plt\n",
    "import tldextract"
   ]
  },
  {
   "cell_type": "markdown",
   "metadata": {},
   "source": [
    "# Load imputer, scalar and model"
   ]
  },
  {
   "cell_type": "code",
   "execution_count": 2,
   "metadata": {},
   "outputs": [],
   "source": [
    "#imp = load('finalized_imputer.joblib')\n",
    "scaler = load('./model/apwg_scaler.joblib')\n",
    "model = load('./model/apwg_model.joblib')"
   ]
  },
  {
   "cell_type": "markdown",
   "metadata": {},
   "source": [
    "# Load domains used in training"
   ]
  },
  {
   "cell_type": "code",
   "execution_count": 3,
   "metadata": {},
   "outputs": [],
   "source": [
    "with open(\"data/data_cluster_5744\", \"r\", encoding='utf-8') as f:\n",
    "    data_train = eval(f.read())"
   ]
  },
  {
   "cell_type": "code",
   "execution_count": 4,
   "metadata": {},
   "outputs": [
    {
     "data": {
      "text/plain": [
       "5744"
      ]
     },
     "execution_count": 4,
     "metadata": {},
     "output_type": "execute_result"
    }
   ],
   "source": [
    "domain_train = set([d['info'][1] for d in data_train])\n",
    "len(domain_train)"
   ]
  },
  {
   "cell_type": "markdown",
   "metadata": {},
   "source": [
    "# Load phishing database"
   ]
  },
  {
   "cell_type": "code",
   "execution_count": 5,
   "metadata": {},
   "outputs": [
    {
     "name": "stdout",
     "output_type": "stream",
     "text": [
      "{'comp-deltaphish',\n",
      " 'comp-phishlabs',\n",
      " 'mal-apwg',\n",
      " 'mal-future-apwg',\n",
      " 'mal-phishlabs',\n",
      " 'unlabeled-apwg'}\n"
     ]
    }
   ],
   "source": [
    "with open(\"/home/sophie/SSRG/domainclassification/results/dataset/domain_target_55383\", \"r\", encoding='utf-8') as f:\n",
    "    data = eval(f.read())\n",
    "    \n",
    "#random.Random(4).shuffle(data)\n",
    "    \n",
    "datasets = set([d['dataset'] for d in data])\n",
    "pprint(datasets)"
   ]
  },
  {
   "cell_type": "code",
   "execution_count": 6,
   "metadata": {},
   "outputs": [
    {
     "name": "stdout",
     "output_type": "stream",
     "text": [
      "['archived', 'years_active', 'years_inactive', 'num_captures', 'freenom_tld', 'prev_mal_tld', 'wildcard_subdomain', 'reachable', 'redirected', 'blocked', 'alexa_rank', 'ratio_longest_word', 'contain_digit', 'contain_dash', 'name_len', 'brandname_partialratio', 'prev_mal_domain_ed', 'sub_levels', 'num_sub']\n",
      "19\n",
      "44668\n",
      "(44668, 19)\n",
      "(44668,)\n",
      "['archived', 'years_active', 'years_inactive', 'num_captures', 'freenom_tld', 'prev_mal_tld', 'wildcard_subdomain', 'reachable', 'redirected', 'blocked', 'alexa_rank', 'ratio_longest_word', 'contain_digit', 'contain_dash', 'name_len', 'brandname_partialratio', 'prev_mal_domain_ed', 'sub_levels', 'num_sub']\n",
      "array([[1.00000000e+00, 9.00000000e+00, 1.00000000e+00, 7.42000000e+02,\n",
      "        0.00000000e+00, 0.00000000e+00, 1.00000000e+00, 1.00000000e+00,\n",
      "        0.00000000e+00, 0.00000000e+00, 1.14676000e+05, 3.75000000e-01,\n",
      "        1.00000000e+00, 0.00000000e+00, 4.00000000e+00, 5.00000000e+01,\n",
      "        2.50000000e-01, 1.00000000e+00, 8.00000000e+00],\n",
      "       [0.00000000e+00,            nan,            nan,            nan,\n",
      "        1.00000000e+00, 0.00000000e+00, 0.00000000e+00, 0.00000000e+00,\n",
      "                   nan,            nan,            nan, 2.00000000e-01,\n",
      "        1.00000000e+00, 0.00000000e+00, 7.00000000e+00, 8.00000000e+01,\n",
      "        1.42857143e-01, 0.00000000e+00, 1.00000000e+00],\n",
      "       [1.00000000e+00, 1.60000000e+01, 0.00000000e+00, 6.60000000e+01,\n",
      "        0.00000000e+00, 0.00000000e+00, 1.00000000e+00, 1.00000000e+00,\n",
      "        0.00000000e+00, 0.00000000e+00, 5.45321000e+05, 2.00000000e-01,\n",
      "        1.00000000e+00, 0.00000000e+00, 6.00000000e+00, 0.00000000e+00,\n",
      "        1.66666667e-01, 1.00000000e+00, 2.00000000e+00],\n",
      "       [0.00000000e+00,            nan,            nan,            nan,\n",
      "        0.00000000e+00, 0.00000000e+00, 0.00000000e+00, 0.00000000e+00,\n",
      "                   nan,            nan,            nan, 1.42857143e-01,\n",
      "        1.00000000e+00, 0.00000000e+00, 4.00000000e+00, 5.00000000e+01,\n",
      "        2.50000000e-01, 3.00000000e+00, 1.00000000e+00],\n",
      "       [0.00000000e+00,            nan,            nan,            nan,\n",
      "        0.00000000e+00, 0.00000000e+00, 0.00000000e+00, 0.00000000e+00,\n",
      "                   nan,            nan,            nan, 1.42857143e-01,\n",
      "        1.00000000e+00, 0.00000000e+00, 4.00000000e+00, 3.30000000e+01,\n",
      "        2.50000000e-01, 3.00000000e+00, 1.00000000e+00]])\n",
      "array([0, 0, 0, 0, 0])\n",
      "# compromised:  0\n",
      "# malicious:  0\n",
      "# unknown:  44668\n",
      "% compromised:  0.0\n",
      "% malicious:  0.0\n",
      "% unknown:  1.0\n"
     ]
    }
   ],
   "source": [
    "#random.Random(4).shuffle(data)\n",
    "\n",
    "#dataset_train = {'mal-apwg', 'comp-deltaphish', 'unlabeled-apwg'}\n",
    "dataset_train = {'unlabeled-apwg'}\n",
    "\n",
    "Xdb = np.array([d['feat'] for d in data if d['dataset'] in dataset_train and d['info'][1] not in domain_train])\n",
    "ydb = np.array([d['target'] for d in data if d['dataset'] in dataset_train and d['info'][1] not in domain_train])\n",
    "data_db = [d for d in data if d['dataset'] in dataset_train and d['info'][1] not in domain_train]\n",
    "\n",
    "feat_labels = data_db[0]['feat_labels']\n",
    "print(feat_labels)\n",
    "print(len(feat_labels))\n",
    "\n",
    "print(len(data_db))\n",
    "print(Xdb.shape)\n",
    "print(ydb.shape)\n",
    "print(feat_labels)\n",
    "pprint(Xdb[:5])\n",
    "pprint(ydb[:5])\n",
    "print(\"# compromised: \", len([tar for tar in ydb if tar==1]))\n",
    "print(\"# malicious: \", len([tar for tar in ydb if tar==-1]))\n",
    "print(\"# unknown: \", len([tar for tar in ydb if tar==0]))\n",
    "print(\"% compromised: \", len([tar for tar in ydb if tar==1])/len(ydb))\n",
    "print(\"% malicious: \", len([tar for tar in ydb if tar==-1])/len(ydb))\n",
    "print(\"% unknown: \", len([tar for tar in ydb if tar==0])/len(ydb))"
   ]
  },
  {
   "cell_type": "markdown",
   "metadata": {},
   "source": [
    "# Normalize and Impute"
   ]
  },
  {
   "cell_type": "code",
   "execution_count": 7,
   "metadata": {},
   "outputs": [
    {
     "name": "stdout",
     "output_type": "stream",
     "text": [
      "[[ 9.27224348e-01  9.85399917e-01  9.91101380e-01  2.20487034e-01\n",
      "  -1.56498547e-02 -1.00000000e+00  9.54979067e-01  5.60759520e-01\n",
      "   2.88067021e-01  5.21843564e-01  4.69640683e+00  3.11252699e-01\n",
      "   4.75467522e+00 -2.86101913e-01 -1.74231154e+00 -2.01450175e+00\n",
      "   3.97494790e+00  1.53818755e+00  4.44751814e+00]\n",
      " [-1.07848764e+00 -6.85296388e-01 -9.78082778e-01 -4.25758027e-02\n",
      "   6.38983568e+01 -1.00000000e+00 -1.04714337e+00 -1.78329563e+00\n",
      "  -1.54729291e+00 -1.74299078e+00 -1.23654083e-01 -1.48599910e+00\n",
      "   4.75467522e+00 -2.86101913e-01 -1.04289799e+00  4.55122873e-01\n",
      "   1.15517755e+00 -4.22473486e-01 -1.62381740e-01]]\n"
     ]
    }
   ],
   "source": [
    "#Xdb = imp.transform(Xdb)\n",
    "Xdb = np.where(np.isnan(Xdb), -1, Xdb)\n",
    "Xdb = scaler.transform(Xdb)\n",
    "print(Xdb[:2])"
   ]
  },
  {
   "cell_type": "markdown",
   "metadata": {},
   "source": [
    "# Predict"
   ]
  },
  {
   "cell_type": "code",
   "execution_count": 8,
   "metadata": {},
   "outputs": [],
   "source": [
    "ydb_pred = model.predict(Xdb)\n",
    "ydb_proba = model.predict_proba(Xdb)\n",
    "#print(sorted(Xpredict_proba[:,0]))"
   ]
  },
  {
   "cell_type": "code",
   "execution_count": 9,
   "metadata": {},
   "outputs": [
    {
     "name": "stdout",
     "output_type": "stream",
     "text": [
      "# 2nd level domains: 44668\n",
      "# compromised, hacked: 27476\n",
      "# malicious, owned: 17192\n",
      "% compromised, hacked: 0.6151159666875615\n",
      "% malicious, owned: 0.3848840333124384\n"
     ]
    }
   ],
   "source": [
    "print(\"# 2nd level domains:\", len(ydb_pred))\n",
    "print(\"# compromised, hacked:\", len([x for x in ydb_pred if x==1]))\n",
    "print(\"# malicious, owned:\", len([x for x in ydb_pred if x==-1]))\n",
    "print(\"% compromised, hacked:\", len([x for x in ydb_pred if x==1])/len(ydb_pred))\n",
    "print(\"% malicious, owned:\", len([x for x in ydb_pred if x==-1])/len(ydb_pred))"
   ]
  },
  {
   "cell_type": "code",
   "execution_count": 13,
   "metadata": {},
   "outputs": [
    {
     "name": "stdout",
     "output_type": "stream",
     "text": [
      "# 2nd level domains: 44668\n",
      "# compromised, hacked: 27476\n",
      "# malicious, owned: 17192\n",
      "% compromised, hacked: 0.6151159666875615\n",
      "% malicious, owned: 0.3848840333124384\n"
     ]
    }
   ],
   "source": [
    "print(\"# 2nd level domains:\", len(ydb_pred))\n",
    "print(\"# compromised, hacked:\", len([x for x in ydb_pred if x==1]))\n",
    "print(\"# malicious, owned:\", len([x for x in ydb_pred if x==-1]))\n",
    "print(\"% compromised, hacked:\", len([x for x in ydb_pred if x==1])/len(ydb_pred))\n",
    "print(\"% malicious, owned:\", len([x for x in ydb_pred if x==-1])/len(ydb_pred))"
   ]
  },
  {
   "cell_type": "markdown",
   "metadata": {},
   "source": [
    "#### Most likely malicious"
   ]
  },
  {
   "cell_type": "code",
   "execution_count": 29,
   "metadata": {},
   "outputs": [],
   "source": [
    "ydb_proba_comp = ydb_proba[:,0]\n",
    "idx = np.argsort(ydb_proba_comp)\n",
    "data_db_sort = np.array(data_db)[idx]\n",
    "ydb_proba_sort = np.array(ydb_proba_comp)[idx]"
   ]
  },
  {
   "cell_type": "code",
   "execution_count": 30,
   "metadata": {},
   "outputs": [
    {
     "name": "stdout",
     "output_type": "stream",
     "text": [
      "0.9148238632776867\n",
      "{'dataset': 'unlabeled-apwg', 'feat': [1, 9, 1, 742.0, 0, 0, 1, 1, 0, 0, 114676, 0.375, 1, 0, 4, 50, 0.25, 1, 8], 'feat_labels': ['archived', 'years_active', 'years_inactive', 'num_captures', 'freenom_tld', 'prev_mal_tld', 'wildcard_subdomain', 'reachable', 'redirected', 'blocked', 'alexa_rank', 'ratio_longest_word', 'contain_digit', 'contain_dash', 'name_len', 'brandname_partialratio', 'prev_mal_domain_ed', 'sub_levels', 'num_sub'], 'info': ['000a.biz', 'dd9487f05c914b1bdf0b5ef16c00d17f'], 'target': 0}\n",
      "0.9148238632776867\n",
      "{'dataset': 'unlabeled-apwg', 'feat': [1, 5, 1, 11.0, 0, 0, 1, 1, 0, 0, nan, 0.5, 0, 0, 3, 50, 0.3333333333333333, 0, 1], 'feat_labels': ['archived', 'years_active', 'years_inactive', 'num_captures', 'freenom_tld', 'prev_mal_tld', 'wildcard_subdomain', 'reachable', 'redirected', 'blocked', 'alexa_rank', 'ratio_longest_word', 'contain_digit', 'contain_dash', 'name_len', 'brandname_partialratio', 'prev_mal_domain_ed', 'sub_levels', 'num_sub'], 'info': ['kop.kz', 'ec1a7d893a763f8ad9f093f2f28148d2'], 'target': 0}\n",
      "0.9148238632776867\n",
      "{'dataset': 'unlabeled-apwg', 'feat': [1, 4, 1, 11.0, 0, 0, 1, 1, 0, 0, nan, 0.2222222222222222, 1, 0, 5, 33, 0.2, 1, 1], 'feat_labels': ['archived', 'years_active', 'years_inactive', 'num_captures', 'freenom_tld', 'prev_mal_tld', 'wildcard_subdomain', 'reachable', 'redirected', 'blocked', 'alexa_rank', 'ratio_longest_word', 'contain_digit', 'contain_dash', 'name_len', 'brandname_partialratio', 'prev_mal_domain_ed', 'sub_levels', 'num_sub'], 'info': ['emk01.com', 'd459eba6c6451adab2e6aa544bb9dd6a'], 'target': 0}\n",
      "0.9148238632776867\n",
      "{'dataset': 'unlabeled-apwg', 'feat': [1, 18, 1, 58.0, 0, 0, 1, 1, 0, 0, 960081, 0.5454545454545454, 0, 0, 7, 67, 0.14285714285714285, 1, 2], 'feat_labels': ['archived', 'years_active', 'years_inactive', 'num_captures', 'freenom_tld', 'prev_mal_tld', 'wildcard_subdomain', 'reachable', 'redirected', 'blocked', 'alexa_rank', 'ratio_longest_word', 'contain_digit', 'contain_dash', 'name_len', 'brandname_partialratio', 'prev_mal_domain_ed', 'sub_levels', 'num_sub'], 'info': ['klittle.com', '66be6062de49b52efaa12193841acb7a'], 'target': 0}\n",
      "0.9148238632776867\n",
      "{'dataset': 'unlabeled-apwg', 'feat': [1, 17, 1, 53.0, 0, 0, 1, 1, 0, 0, 148659, 0.42857142857142855, 0, 0, 3, 50, 0.3333333333333333, 0, 1], 'feat_labels': ['archived', 'years_active', 'years_inactive', 'num_captures', 'freenom_tld', 'prev_mal_tld', 'wildcard_subdomain', 'reachable', 'redirected', 'blocked', 'alexa_rank', 'ratio_longest_word', 'contain_digit', 'contain_dash', 'name_len', 'brandname_partialratio', 'prev_mal_domain_ed', 'sub_levels', 'num_sub'], 'info': ['kli.net', '433a9ae9671b05663610d5941d351892'], 'target': 0}\n",
      "0.9148238632776867\n",
      "{'dataset': 'unlabeled-apwg', 'feat': [1, 21, 0, 271.0, 0, 0, 1, 1, 0, 0, 75422, 0.2857142857142857, 0, 0, 3, 67, 0.3333333333333333, 1, 1], 'feat_labels': ['archived', 'years_active', 'years_inactive', 'num_captures', 'freenom_tld', 'prev_mal_tld', 'wildcard_subdomain', 'reachable', 'redirected', 'blocked', 'alexa_rank', 'ratio_longest_word', 'contain_digit', 'contain_dash', 'name_len', 'brandname_partialratio', 'prev_mal_domain_ed', 'sub_levels', 'num_sub'], 'info': ['emt.org', '4bf61cecac317038e35a70397f2fa40b'], 'target': 0}\n",
      "0.9148238632776867\n",
      "{'dataset': 'unlabeled-apwg', 'feat': [1, 14, 1, 198.0, 0, 0, 1, 1, 0, 0, 108729, 0.25, 1, 0, 4, 50, 0.25, 1, 1], 'feat_labels': ['archived', 'years_active', 'years_inactive', 'num_captures', 'freenom_tld', 'prev_mal_tld', 'wildcard_subdomain', 'reachable', 'redirected', 'blocked', 'alexa_rank', 'ratio_longest_word', 'contain_digit', 'contain_dash', 'name_len', 'brandname_partialratio', 'prev_mal_domain_ed', 'sub_levels', 'num_sub'], 'info': ['emv3.com', '59e5b23c58a8d75844c00f3b2166c7bd'], 'target': 0}\n",
      "0.9148238632776867\n",
      "{'dataset': 'unlabeled-apwg', 'feat': [1, 5, 1, 12.0, 0, 0, 1, 1, 1, 0, 153158, 0.2222222222222222, 0, 0, 2, 0, 0.5, 1, 3], 'feat_labels': ['archived', 'years_active', 'years_inactive', 'num_captures', 'freenom_tld', 'prev_mal_tld', 'wildcard_subdomain', 'reachable', 'redirected', 'blocked', 'alexa_rank', 'ratio_longest_word', 'contain_digit', 'contain_dash', 'name_len', 'brandname_partialratio', 'prev_mal_domain_ed', 'sub_levels', 'num_sub'], 'info': ['kl.com.ua', '0afd9504bdf18bfb09aa40535ccce525'], 'target': 0}\n",
      "0.9148238632776867\n",
      "{'dataset': 'unlabeled-apwg', 'feat': [1, 4, 1, 47.0, 0, 0, 1, 1, 0, 0, nan, 0.3333333333333333, 0, 0, 3, 67, 0.3333333333333333, 1, 2], 'feat_labels': ['archived', 'years_active', 'years_inactive', 'num_captures', 'freenom_tld', 'prev_mal_tld', 'wildcard_subdomain', 'reachable', 'redirected', 'blocked', 'alexa_rank', 'ratio_longest_word', 'contain_digit', 'contain_dash', 'name_len', 'brandname_partialratio', 'prev_mal_domain_ed', 'sub_levels', 'num_sub'], 'info': ['eng.ph', '2a08d6bb0fb158a55391f79527b489c8'], 'target': 0}\n",
      "0.9148238632776867\n",
      "{'dataset': 'unlabeled-apwg', 'feat': [1, 16, 1, 41.0, 0, 0, 1, 1, 0, 0, nan, 0.3, 1, 0, 6, 67, 0.16666666666666666, 9, 1], 'feat_labels': ['archived', 'years_active', 'years_inactive', 'num_captures', 'freenom_tld', 'prev_mal_tld', 'wildcard_subdomain', 'reachable', 'redirected', 'blocked', 'alexa_rank', 'ratio_longest_word', 'contain_digit', 'contain_dash', 'name_len', 'brandname_partialratio', 'prev_mal_domain_ed', 'sub_levels', 'num_sub'], 'info': ['acts24.com', '71a2b4e48beba973c10da9e1ec921ed8'], 'target': 0}\n"
     ]
    }
   ],
   "source": [
    "for i, prob in enumerate(ydb_proba_sort[:10]):\n",
    "    print(1-prob)\n",
    "    print(data_db_sort[i])"
   ]
  },
  {
   "cell_type": "markdown",
   "metadata": {},
   "source": [
    "#### Most likely compromised"
   ]
  },
  {
   "cell_type": "code",
   "execution_count": 33,
   "metadata": {},
   "outputs": [],
   "source": [
    "ydb_proba_mal = ydb_proba[:,1]\n",
    "idx = np.argsort(ydb_proba_mal)\n",
    "data_db_sort = np.array(data_db)[idx]\n",
    "ydb_proba_sort = np.array(ydb_proba_mal)[idx]"
   ]
  },
  {
   "cell_type": "code",
   "execution_count": 34,
   "metadata": {},
   "outputs": [
    {
     "name": "stdout",
     "output_type": "stream",
     "text": [
      "0.8960721229923865\n",
      "{'dataset': 'unlabeled-apwg', 'feat': [0, nan, nan, nan, 0, 1, 0, 0, nan, nan, nan, 0.25, 1, 1, 28, 80, 0.03571428571428571, 2, 1], 'feat_labels': ['archived', 'years_active', 'years_inactive', 'num_captures', 'freenom_tld', 'prev_mal_tld', 'wildcard_subdomain', 'reachable', 'redirected', 'blocked', 'alexa_rank', 'ratio_longest_word', 'contain_digit', 'contain_dash', 'name_len', 'brandname_partialratio', 'prev_mal_domain_ed', 'sub_levels', 'num_sub'], 'info': ['vacationrentalreview-g908802.top', '4e9ed79650f717ae0965a9f7176c097a'], 'target': 0}\n",
      "0.8960721229923865\n",
      "{'dataset': 'unlabeled-apwg', 'feat': [0, nan, nan, nan, 0, 1, 0, 0, nan, nan, nan, 0.29411764705882354, 0, 0, 13, 75, 0.07692307692307693, 15, 2], 'feat_labels': ['archived', 'years_active', 'years_inactive', 'num_captures', 'freenom_tld', 'prev_mal_tld', 'wildcard_subdomain', 'reachable', 'redirected', 'blocked', 'alexa_rank', 'ratio_longest_word', 'contain_digit', 'contain_dash', 'name_len', 'brandname_partialratio', 'prev_mal_domain_ed', 'sub_levels', 'num_sub'], 'info': ['radionovidade.top', 'efc3249e56d335682db1df4582d5bf70'], 'target': 0}\n",
      "0.895492333108782\n",
      "{'dataset': 'unlabeled-apwg', 'feat': [0, nan, nan, nan, 0, 1, 0, 0, nan, nan, nan, 0.3, 0, 0, 6, 67, 0.16666666666666666, 6, 1], 'feat_labels': ['archived', 'years_active', 'years_inactive', 'num_captures', 'freenom_tld', 'prev_mal_tld', 'wildcard_subdomain', 'reachable', 'redirected', 'blocked', 'alexa_rank', 'ratio_longest_word', 'contain_digit', 'contain_dash', 'name_len', 'brandname_partialratio', 'prev_mal_domain_ed', 'sub_levels', 'num_sub'], 'info': ['poypol.top', 'ecd49920bc6fc5e699dca17ab4ffb723'], 'target': 0}\n",
      "0.895492333108782\n",
      "{'dataset': 'unlabeled-apwg', 'feat': [0, nan, nan, nan, 0, 1, 0, 0, nan, nan, nan, 0.3333333333333333, 1, 0, 5, 50, 0.2, 3, 1], 'feat_labels': ['archived', 'years_active', 'years_inactive', 'num_captures', 'freenom_tld', 'prev_mal_tld', 'wildcard_subdomain', 'reachable', 'redirected', 'blocked', 'alexa_rank', 'ratio_longest_word', 'contain_digit', 'contain_dash', 'name_len', 'brandname_partialratio', 'prev_mal_domain_ed', 'sub_levels', 'num_sub'], 'info': ['sl1s2.top', '5cd619b654682f0d2c924b62fd491b8f'], 'target': 0}\n",
      "0.895492333108782\n",
      "{'dataset': 'unlabeled-apwg', 'feat': [0, nan, nan, nan, 0, 1, 0, 0, nan, nan, nan, 0.375, 1, 0, 4, 33, 0.25, 3, 1], 'feat_labels': ['archived', 'years_active', 'years_inactive', 'num_captures', 'freenom_tld', 'prev_mal_tld', 'wildcard_subdomain', 'reachable', 'redirected', 'blocked', 'alexa_rank', 'ratio_longest_word', 'contain_digit', 'contain_dash', 'name_len', 'brandname_partialratio', 'prev_mal_domain_ed', 'sub_levels', 'num_sub'], 'info': ['j7g3.top', '98dc79cd64c8c77b62d59c77a0398852'], 'target': 0}\n",
      "0.6937264856640437\n",
      "{'dataset': 'unlabeled-apwg', 'feat': [1, 0, 1, 1.0, 0, 1, 0, 0, nan, nan, nan, 0.23076923076923078, 1, 0, 9, 50, 0.1111111111111111, 3, 117], 'feat_labels': ['archived', 'years_active', 'years_inactive', 'num_captures', 'freenom_tld', 'prev_mal_tld', 'wildcard_subdomain', 'reachable', 'redirected', 'blocked', 'alexa_rank', 'ratio_longest_word', 'contain_digit', 'contain_dash', 'name_len', 'brandname_partialratio', 'prev_mal_domain_ed', 'sub_levels', 'num_sub'], 'info': ['2018sexuk.men', '9d18f06ccf725b2bd19a9aab3734d69d'], 'target': 0}\n",
      "0.6906551504954102\n",
      "{'dataset': 'unlabeled-apwg', 'feat': [1, 0, 1, 1.0, 0, 1, 0, 0, nan, nan, nan, 0.3333333333333333, 0, 0, 5, 67, 0.2, 12, 1], 'feat_labels': ['archived', 'years_active', 'years_inactive', 'num_captures', 'freenom_tld', 'prev_mal_tld', 'wildcard_subdomain', 'reachable', 'redirected', 'blocked', 'alexa_rank', 'ratio_longest_word', 'contain_digit', 'contain_dash', 'name_len', 'brandname_partialratio', 'prev_mal_domain_ed', 'sub_levels', 'num_sub'], 'info': ['atyha.men', 'f6f514003bbead6259cc8f12a2aff5f7'], 'target': 0}\n",
      "0.6685636682774155\n",
      "{'dataset': 'unlabeled-apwg', 'feat': [0, nan, nan, nan, 0, 0, 0, 0, nan, nan, nan, 0.4375, 0, 0, 12, 67, 0.08333333333333333, 0, 1], 'feat_labels': ['archived', 'years_active', 'years_inactive', 'num_captures', 'freenom_tld', 'prev_mal_tld', 'wildcard_subdomain', 'reachable', 'redirected', 'blocked', 'alexa_rank', 'ratio_longest_word', 'contain_digit', 'contain_dash', 'name_len', 'brandname_partialratio', 'prev_mal_domain_ed', 'sub_levels', 'num_sub'], 'info': ['removalmoval.org', '722139f7d4356587506d151e8e24e560'], 'target': 0}\n",
      "0.6685636682774155\n",
      "{'dataset': 'unlabeled-apwg', 'feat': [0, nan, nan, nan, 0, 0, 0, 0, nan, nan, nan, 0.45454545454545453, 0, 0, 8, 100, 0.125, 1, 1], 'feat_labels': ['archived', 'years_active', 'years_inactive', 'num_captures', 'freenom_tld', 'prev_mal_tld', 'wildcard_subdomain', 'reachable', 'redirected', 'blocked', 'alexa_rank', 'ratio_longest_word', 'contain_digit', 'contain_dash', 'name_len', 'brandname_partialratio', 'prev_mal_domain_ed', 'sub_levels', 'num_sub'], 'info': ['inialive.tw', 'ece24ec66fa1304e65d0a13119bc1005'], 'target': 0}\n",
      "0.6685636682774155\n",
      "{'dataset': 'unlabeled-apwg', 'feat': [0, nan, nan, nan, 0, 0, 0, 0, nan, nan, nan, 0.375, 1, 0, 11, 80, 0.09090909090909091, 0, 1], 'feat_labels': ['archived', 'years_active', 'years_inactive', 'num_captures', 'freenom_tld', 'prev_mal_tld', 'wildcard_subdomain', 'reachable', 'redirected', 'blocked', 'alexa_rank', 'ratio_longest_word', 'contain_digit', 'contain_dash', 'name_len', 'brandname_partialratio', 'prev_mal_domain_ed', 'sub_levels', 'num_sub'], 'info': ['rental28009.live', '3a2ad5fa581f0ab70ce4b5350a671f63'], 'target': 0}\n"
     ]
    }
   ],
   "source": [
    "for i, prob in enumerate(ydb_proba_sort[:10]):\n",
    "    print(1-prob)\n",
    "    print(data_db_sort[i])"
   ]
  },
  {
   "cell_type": "markdown",
   "metadata": {},
   "source": [
    "# Prob analysis"
   ]
  },
  {
   "cell_type": "code",
   "execution_count": 14,
   "metadata": {},
   "outputs": [],
   "source": [
    "def plotFractionalGraph(x, y, xlabel=\"\", xmin=0, xmax=4000):\n",
    "    print(y)\n",
    "    print(x)\n",
    "\n",
    "    ax = plt.subplot()\n",
    "    ax.plot(x, y)\n",
    "\n",
    "    plt.xlabel(xlabel)\n",
    "    plt.ylabel(\"Fraction of Domains\")\n",
    "    #plt.axis([xmin, xmax, 0, 1])\n",
    "    plt.grid(True, linestyle='dotted')\n",
    "\n",
    "    plt.show()"
   ]
  },
  {
   "cell_type": "code",
   "execution_count": 15,
   "metadata": {},
   "outputs": [],
   "source": [
    "def fractionalGraph(metric, max=100, step=5):\n",
    "    cnt = 0\n",
    "    fractions = [0]\n",
    "    metricFractions = [0]\n",
    "    while(True):\n",
    "        cnt = cnt + step\n",
    "        if cnt > max:\n",
    "            break\n",
    "\n",
    "        fraction = int(len(metric)*cnt/float(100))\n",
    "        max_step = metric[fraction-1]\n",
    "        fractions.append(cnt/float(100))\n",
    "        metricFractions.append(max_step)\n",
    "\n",
    "    plotFractionalGraph(metricFractions, fractions, xlabel=\"Compromised probability\")"
   ]
  },
  {
   "cell_type": "code",
   "execution_count": 13,
   "metadata": {},
   "outputs": [],
   "source": [
    "def plotSortedGraph(x, y=None, xlabel=\"\"):\n",
    "    ax = plt.subplot()\n",
    "    ax.plot(x)\n",
    "\n",
    "    plt.grid(True, linestyle='dotted')\n",
    "    \n",
    "    plt.xlabel(\"Number of Domains\")\n",
    "    plt.ylabel(\"Compromised probability\")\n",
    "\n",
    "    plt.show()"
   ]
  },
  {
   "cell_type": "code",
   "execution_count": 14,
   "metadata": {},
   "outputs": [
    {
     "data": {
      "image/png": "[encoded data removed]",
      "text/plain": [
       "<matplotlib.figure.Figure at 0x7f681a240748>"
      ]
     },
     "metadata": {},
     "output_type": "display_data"
    }
   ],
   "source": [
    "# distribution of probabilities\n",
    "ydb_proba_sorted = sorted(ydb_proba[:,0])\n",
    "plotSortedGraph(ydb_proba_sorted)"
   ]
  },
  {
   "cell_type": "code",
   "execution_count": 28,
   "metadata": {},
   "outputs": [
    {
     "name": "stdout",
     "output_type": "stream",
     "text": [
      "[0, 0.05, 0.1, 0.15, 0.2, 0.25, 0.3, 0.35, 0.4, 0.45, 0.5, 0.55, 0.6, 0.65, 0.7, 0.75, 0.8, 0.85, 0.9, 0.95, 1.0]\n",
      "[0, 0.33143633172258447, 0.33143633172258447, 0.3339278770076135, 0.3339278770076135, 0.3345076668912181, 0.40394238708529817, 0.4064339323703272, 0.5362735143359563, 0.5510938855176968, 0.60877956969867, 0.611271114983699, 0.6195889189512271, 0.6260914861654395, 0.6920949743139408, 0.6920949743139408, 0.6945865195989698, 0.6945865195989698, 0.6951663094825743, 0.7559310681310687, 0.914823863277687]\n"
     ]
    },
    {
     "data": {
      "image/png": "[encoded data removed]",
      "text/plain": [
       "<matplotlib.figure.Figure at 0x7fbae36133c8>"
      ]
     },
     "metadata": {},
     "output_type": "display_data"
    }
   ],
   "source": [
    "# distribution of probabilities\n",
    "ydb_proba_sorted = sorted(ydb_proba[:,1])\n",
    "fractionalGraph(ydb_proba_sorted)"
   ]
  },
  {
   "cell_type": "code",
   "execution_count": 16,
   "metadata": {},
   "outputs": [
    {
     "data": {
      "text/plain": [
       "28279"
      ]
     },
     "execution_count": 16,
     "metadata": {},
     "output_type": "execute_result"
    }
   ],
   "source": [
    "# num domains 0.7 problable\n",
    "\n",
    "prob = [y for y in ydb_proba[:,0] if y>0.65 or y<0.35]\n",
    "len(prob)"
   ]
  },
  {
   "cell_type": "code",
   "execution_count": 21,
   "metadata": {},
   "outputs": [
    {
     "data": {
      "text/plain": [
       "28279"
      ]
     },
     "execution_count": 21,
     "metadata": {},
     "output_type": "execute_result"
    }
   ],
   "source": [
    "# num domains 0.7 problable\n",
    "\n",
    "prob = [y for y in ydb_proba[:,0] if y>0.65 or y<0.35]\n",
    "len(prob)"
   ]
  },
  {
   "cell_type": "markdown",
   "metadata": {},
   "source": [
    "# Process results"
   ]
  },
  {
   "cell_type": "code",
   "execution_count": 10,
   "metadata": {},
   "outputs": [],
   "source": [
    "domain_target = dict()\n",
    "\n",
    "for i, data in enumerate(data_db):\n",
    "    info = data['info']\n",
    "    domain = info[0]\n",
    "    d_id = info[1]\n",
    "    \n",
    "    domain_target[domain] = ydb_pred[i]\n",
    "\n",
    "#print(domain_target)"
   ]
  },
  {
   "cell_type": "code",
   "execution_count": 11,
   "metadata": {},
   "outputs": [],
   "source": [
    "quarter = {\"01\": 'Q1', \"02\": 'Q1',\"03\": 'Q1', \"04\": 'Q2', \"05\": 'Q2', \"06\": 'Q2', \"07\": 'Q3', \"08\": 'Q3', \"09\": 'Q3', \"10\": 'Q4', \"11\": 'Q4', \"12\": 'Q4'}\n",
    "def processList(phish_list):\n",
    "    data = dict()\n",
    "\n",
    "    for phish in phish_list:\n",
    "        timestamp = phish[1]\n",
    "        phish = phish[0]\n",
    "        \n",
    "        # get year, month\n",
    "        yr, mn = timestamp.split('-')[:2]\n",
    "        \n",
    "        # get month, quarter\n",
    "        yr_qu = '-'.join([yr, quarter[mn]])\n",
    "        \n",
    "        # get year-month\n",
    "        yr_mn = '-'.join(timestamp.split('-')[:2])\n",
    "        \n",
    "        if phish:\n",
    "            ext = tldextract.extract(phish)\n",
    "            if ext and ext.domain and ext.suffix:\n",
    "                domain = '.'.join([ext.domain, ext.suffix])\n",
    "                if domain not in data:\n",
    "                    data[domain] = dict()\n",
    "                    data[domain]['months'] = set()\n",
    "                    data[domain]['quarters'] = set()\n",
    "                    data[domain]['years'] = set()\n",
    "                data[domain]['months'].add(yr_mn)\n",
    "                data[domain]['quarters'].add(yr_qu)\n",
    "                data[domain]['years'].add(yr)\n",
    "\n",
    "    return data"
   ]
  },
  {
   "cell_type": "code",
   "execution_count": 14,
   "metadata": {},
   "outputs": [
    {
     "name": "stdout",
     "output_type": "stream",
     "text": [
      "186762\n"
     ]
    }
   ],
   "source": [
    "data = []\n",
    "with open(\"./data/urlinfo_2019-01-21\", \"r\", encoding='utf-8') as f:\n",
    "    urlinfo = eval(f.read())\n",
    "    print(len(urlinfo))\n",
    "    for info in urlinfo:\n",
    "        path_id = info[0]\n",
    "        firstUrl = info[1]\n",
    "        finalUrl = info[2]\n",
    "        timestamp = info [3]\n",
    "        data.append([firstUrl, timestamp])\n",
    "        data.append([finalUrl, timestamp])\n",
    "\n",
    "domain_timestamp = processList(data)"
   ]
  },
  {
   "cell_type": "code",
   "execution_count": 13,
   "metadata": {},
   "outputs": [
    {
     "name": "stdout",
     "output_type": "stream",
     "text": [
      "{'months': {'2016-01', '2017-01'}, 'quarters': {'2017-Q1', '2016-Q1'}, 'years': {'2016', '2017'}}\n"
     ]
    }
   ],
   "source": [
    "print(domain_timestamp['buda-family.com'])"
   ]
  },
  {
   "cell_type": "code",
   "execution_count": 14,
   "metadata": {},
   "outputs": [],
   "source": [
    "# we want a dict 'domain': target\n",
    "# we want a dict 'domain': timestamp (latest)\n",
    "# we want mal/comp buckets\n",
    "monthly_bins = dict()\n",
    "quarterly_bins = dict()\n",
    "yearly_bins = dict()\n",
    "        \n",
    "for domain, target in domain_target.items():\n",
    "    # get timestamp\n",
    "    keys = ['months', 'quarters', 'years']\n",
    "    bins = [monthly_bins, quarterly_bins, yearly_bins]\n",
    "    \n",
    "    for i, key in enumerate(keys):\n",
    "        bn = bins[i]\n",
    "        times = domain_timestamp[domain][key]\n",
    "        for time in times:\n",
    "            if time not in bn:\n",
    "                bn[time] = [0,0]\n",
    "            bn[time][target] += 1"
   ]
  },
  {
   "cell_type": "code",
   "execution_count": 15,
   "metadata": {},
   "outputs": [
    {
     "name": "stdout",
     "output_type": "stream",
     "text": [
      "{'2016-01': [28, 336],\n",
      " '2016-02': [53, 464],\n",
      " '2016-03': [34, 358],\n",
      " '2016-04': [57, 465],\n",
      " '2016-05': [167, 1006],\n",
      " '2016-06': [263, 1327],\n",
      " '2016-07': [234, 1052],\n",
      " '2016-08': [619, 1974],\n",
      " '2016-09': [888, 2914],\n",
      " '2016-10': [1133, 3961],\n",
      " '2016-11': [913, 2703],\n",
      " '2016-12': [630, 1801],\n",
      " '2017-01': [631, 2146],\n",
      " '2017-02': [576, 1957],\n",
      " '2017-03': [893, 2965],\n",
      " '2017-04': [749, 2701],\n",
      " '2017-05': [791, 2707],\n",
      " '2017-06': [648, 2253],\n",
      " '2017-07': [505, 2060],\n",
      " '2017-08': [286, 1547],\n",
      " '2017-09': [415, 1749],\n",
      " '2017-10': [463, 1594],\n",
      " '2017-11': [384, 2029],\n",
      " '2017-12': [402, 1957],\n",
      " '2018-01': [352, 1841],\n",
      " '2018-02': [699, 2866],\n",
      " '2018-03': [904, 3228],\n",
      " '2018-04': [699, 2652],\n",
      " '2018-05': [698, 1756],\n",
      " '2018-06': [966, 1795],\n",
      " '2018-07': [674, 1243],\n",
      " '2018-08': [1240, 2018],\n",
      " '2018-09': [904, 1901],\n",
      " '2018-10': [693, 1836],\n",
      " '2018-11': [783, 2169],\n",
      " '2018-12': [531, 1429],\n",
      " '2019-01': [377, 970]}\n",
      "{'2016-Q1': [106, 1022],\n",
      " '2016-Q2': [458, 2508],\n",
      " '2016-Q3': [1592, 5163],\n",
      " '2016-Q4': [2472, 7365],\n",
      " '2017-Q1': [1934, 6201],\n",
      " '2017-Q2': [2000, 6525],\n",
      " '2017-Q3': [1140, 4713],\n",
      " '2017-Q4': [1153, 4784],\n",
      " '2018-Q1': [1862, 7177],\n",
      " '2018-Q2': [2312, 5750],\n",
      " '2018-Q3': [2777, 4828],\n",
      " '2018-Q4': [1961, 5096],\n",
      " '2019-Q1': [377, 970]}\n",
      "{'2016': [4238, 13858],\n",
      " '2017': [5753, 19041],\n",
      " '2018': [8729, 20905],\n",
      " '2019': [377, 970]}\n"
     ]
    }
   ],
   "source": [
    "pprint(monthly_bins)\n",
    "pprint(quarterly_bins)\n",
    "pprint(yearly_bins)"
   ]
  },
  {
   "cell_type": "markdown",
   "metadata": {},
   "source": [
    "# Visualize"
   ]
  },
  {
   "cell_type": "code",
   "execution_count": 16,
   "metadata": {},
   "outputs": [],
   "source": [
    "# we want mal/comp percentages\n",
    "# Quarterly\n",
    "# Yearly"
   ]
  },
  {
   "cell_type": "code",
   "execution_count": 24,
   "metadata": {},
   "outputs": [],
   "source": [
    "def domainClassifPerc(timebin, title, ylabel, bin_type=\"\", fraction=True):\n",
    "    plt.figure(figsize=(8, 5))\n",
    "    \n",
    "    #############################################################################33\n",
    "    plt.subplot(1, 1, 1)\n",
    "    \n",
    "    # comp, mal\n",
    "    mal_comp = []\n",
    "    time = sorted(timebin.keys())\n",
    "    time = time[:-1]\n",
    "#     if bin_type == \"year\":\n",
    "#         time = time[:-2]\n",
    "#     elif bin_type = \"quarter\":\n",
    "#         time = time[:]\n",
    "    N = len(time)\n",
    "    for t in time:\n",
    "        mal_comp.append(timebin[t])\n",
    "    \n",
    "    if fraction:\n",
    "        mal = [x[0]/(x[0]+x[1]) for x in mal_comp]\n",
    "        comp = [x[1]/(x[0]+x[1]) for x in mal_comp]\n",
    "    else:\n",
    "        mal = [x[0] for x in mal_comp]\n",
    "        comp = [x[1] for x in mal_comp]\n",
    "        \n",
    "    print(time)\n",
    "    print(mal)\n",
    "    print(comp)\n",
    "\n",
    "    ind = np.arange(N)    # the x locations for the groups\n",
    "    width = 0.7       # the width of the bars: can also be len(x) sequence\n",
    "\n",
    "    p1 = plt.bar(ind, comp, width)\n",
    "    p2 = plt.bar(ind, mal, width,\n",
    "                 bottom=comp)\n",
    "    \n",
    "    #print(p1[0])\n",
    "    \n",
    "    plt.ylabel(ylabel)\n",
    "    #plt.title(title)\n",
    "    plt.xticks(ind, time, rotation=50)\n",
    "    #plt.yticks(np.arange(0, 71, 10))\n",
    "    plt.legend((p1[0], p2[0]), ('Compromised', 'Malicious'))\n",
    "    \n",
    "#     plt.subplot(1, 2, 2)\n",
    "#     detectors = (175, 117, 154, 111, 142)\n",
    "\n",
    "#     #ind = np.arange(N)    # the x locations for the groups\n",
    "#     #width = 0.35       # the width of the bars: can also be len(x) sequence\n",
    "\n",
    "#     pall = plt.bar(ind, detectors, width, color='navy', label=\"All concepts\")\n",
    "\n",
    "#     #plt.ylabel('Scores')\n",
    "#     plt.title('Number of detectors')\n",
    "#     plt.xticks(ind, ('ImageNet','Baseline', 'DataAug', 'Curric', 'Curric-DataAug'), rotation=50)\n",
    "#     plt.yticks(np.arange(0, 201, 50))\n",
    "#     plt.legend([\"all concepts\"])\n",
    "    \n",
    "    plt.tight_layout()\n",
    "    plt.show()"
   ]
  },
  {
   "cell_type": "markdown",
   "metadata": {},
   "source": [
    "#### Yearly"
   ]
  },
  {
   "cell_type": "code",
   "execution_count": 25,
   "metadata": {},
   "outputs": [
    {
     "name": "stdout",
     "output_type": "stream",
     "text": [
      "['2016', '2017', '2018']\n",
      "[4238, 5753, 8729]\n",
      "[13858, 19041, 20905]\n"
     ]
    },
    {
     "data": {
      "image/png": "[encoded data removed]",
      "text/plain": [
       "<Figure size 576x360 with 1 Axes>"
      ]
     },
     "metadata": {},
     "output_type": "display_data"
    },
    {
     "name": "stdout",
     "output_type": "stream",
     "text": [
      "['2016', '2017', '2018']\n",
      "[0.23419540229885058, 0.23203194321206744, 0.2945603023554026]\n",
      "[0.7658045977011494, 0.7679680567879326, 0.7054396976445975]\n"
     ]
    },
    {
     "data": {
      "image/png": "[encoded data removed]",
      "text/plain": [
       "<Figure size 576x360 with 1 Axes>"
      ]
     },
     "metadata": {},
     "output_type": "display_data"
    }
   ],
   "source": [
    "domainClassifPerc(yearly_bins, 'Yearly Domain Classification', 'Number of Domains', fraction=False)\n",
    "domainClassifPerc(yearly_bins, 'Yearly Domain Classification', 'Fraction of Domains')"
   ]
  },
  {
   "cell_type": "markdown",
   "metadata": {},
   "source": [
    "#### Quarterly"
   ]
  },
  {
   "cell_type": "code",
   "execution_count": 23,
   "metadata": {},
   "outputs": [
    {
     "data": {
      "image/png": "[encoded data removed]",
      "text/plain": [
       "<Figure size 576x360 with 1 Axes>"
      ]
     },
     "metadata": {},
     "output_type": "display_data"
    },
    {
     "data": {
      "image/png": "[encoded data removed]",
      "text/plain": [
       "<Figure size 576x360 with 1 Axes>"
      ]
     },
     "metadata": {},
     "output_type": "display_data"
    }
   ],
   "source": [
    "domainClassifPerc(quarterly_bins, 'Quarterly Domain Classification', 'Number of Domains', fraction=False)\n",
    "domainClassifPerc(quarterly_bins, 'Quarterly Domain Classification', 'Fraction of Domains')"
   ]
  },
  {
   "cell_type": "code",
   "execution_count": 20,
   "metadata": {},
   "outputs": [
    {
     "data": {
      "image/png": "[encoded data removed]",
      "text/plain": [
       "<Figure size 576x360 with 1 Axes>"
      ]
     },
     "metadata": {},
     "output_type": "display_data"
    },
    {
     "data": {
      "image/png": "[encoded data removed]",
      "text/plain": [
       "<Figure size 576x360 with 1 Axes>"
      ]
     },
     "metadata": {},
     "output_type": "display_data"
    }
   ],
   "source": [
    "domainClassifPerc(monthly_bins, 'Monthly Domain Classification', 'Number of Domains', fraction=False)\n",
    "domainClassifPerc(monthly_bins, 'Monthly Domain Classification', 'Fraction of Domains')"
   ]
  },
  {
   "cell_type": "markdown",
   "metadata": {},
   "source": [
    "# Compromised URLs"
   ]
  },
  {
   "cell_type": "code",
   "execution_count": 31,
   "metadata": {},
   "outputs": [
    {
     "name": "stdout",
     "output_type": "stream",
     "text": [
      "36492\n"
     ]
    }
   ],
   "source": [
    "comp_domains = set([data_db[i]['info'][0] for i, prob in enumerate(ydb_proba[:,1]) if prob > 0.7])\n",
    "print(len(comp_domains))"
   ]
  },
  {
   "cell_type": "code",
   "execution_count": 43,
   "metadata": {},
   "outputs": [],
   "source": [
    "comp_urls = []\n",
    "comp_urls_set = set()\n",
    "with open(\"./data/urlinfo_2019-01-21\", \"r\", encoding='utf-8') as f:\n",
    "    urlinfo = eval(f.read())\n",
    "    \n",
    "    for info in urlinfo:\n",
    "        path_id = info[0]\n",
    "        urls = []\n",
    "        urls.append(info[1])\n",
    "        urls.append(info[2])\n",
    "        timestamp = info[3]\n",
    "        \n",
    "        firstfinal = None\n",
    "        for i, url in enumerate(urls):                \n",
    "            if url:\n",
    "                if not url.endswith('/'):\n",
    "                    url+='/'\n",
    "                ext = tldextract.extract(url)\n",
    "                if ext and ext.domain and ext.suffix:\n",
    "                    domain = '.'.join([ext.domain, ext.suffix])\n",
    "                    if domain in comp_domains:\n",
    "                        if i==0:\n",
    "                            firstfinal = 'first'\n",
    "                        elif i==1:\n",
    "                            if firstfinal:\n",
    "                                firstfinal = 'both'\n",
    "                            else:\n",
    "                                firstfinal = 'final'\n",
    "        \n",
    "        if firstfinal:\n",
    "            comp_urls.append(info+[firstfinal])"
   ]
  },
  {
   "cell_type": "code",
   "execution_count": 44,
   "metadata": {},
   "outputs": [
    {
     "name": "stdout",
     "output_type": "stream",
     "text": [
      "100325\n"
     ]
    }
   ],
   "source": [
    "print(len(comp_urls))"
   ]
  },
  {
   "cell_type": "code",
   "execution_count": 45,
   "metadata": {},
   "outputs": [],
   "source": [
    "with open(\"./data/compurls_2019-01-21\", \"w\", encoding='utf-8') as f:\n",
    "    pprint(comp_urls, f)"
   ]
  },
  {
   "cell_type": "code",
   "execution_count": null,
   "metadata": {},
   "outputs": [],
   "source": []
  }
 ],
 "metadata": {
  "kernelspec": {
   "display_name": "Python 3",
   "language": "python",
   "name": "python3"
  },
  "language_info": {
   "codemirror_mode": {
    "name": "ipython",
    "version": 3
   },
   "file_extension": ".py",
   "mimetype": "text/x-python",
   "name": "python",
   "nbconvert_exporter": "python",
   "pygments_lexer": "ipython3",
   "version": "3.6.4"
  }
 },
 "nbformat": 4,
 "nbformat_minor": 2
}
