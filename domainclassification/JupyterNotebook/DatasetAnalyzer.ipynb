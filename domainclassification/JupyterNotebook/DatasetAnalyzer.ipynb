{
 "cells": [
  {
   "cell_type": "markdown",
   "metadata": {},
   "source": [
    "# Setup"
   ]
  },
  {
   "cell_type": "code",
   "execution_count": 1,
   "metadata": {},
   "outputs": [],
   "source": [
    "import datetime\n",
    "import numpy as np\n",
    "from numpy import nan\n",
    "from pprint import pprint\n",
    "import matplotlib.pyplot as plt\n",
    "import tldextract\n",
    "import csv\n",
    "import os\n",
    "from pprint import pprint"
   ]
  },
  {
   "cell_type": "markdown",
   "metadata": {},
   "source": [
    "# Temp"
   ]
  },
  {
   "cell_type": "code",
   "execution_count": 2,
   "metadata": {},
   "outputs": [
    {
     "name": "stdout",
     "output_type": "stream",
     "text": [
      "2019-01-28 10:01\n",
      "True\n",
      "False\n",
      "True\n"
     ]
    }
   ],
   "source": [
    "ts = 1548670956\n",
    "date = datetime.datetime.utcfromtimestamp(ts).strftime('%Y-%m-%d %H:%m')\n",
    "print(date)\n",
    "date = \"2019-01-31\"\n",
    "print(date >= \"2019-01-31\")\n",
    "print(date >= \"2019-02-01\")\n",
    "print(date <= \"2019-01-31\")"
   ]
  },
  {
   "cell_type": "markdown",
   "metadata": {},
   "source": [
    "# Read data"
   ]
  },
  {
   "cell_type": "code",
   "execution_count": 2,
   "metadata": {},
   "outputs": [],
   "source": [
    "def getSecondLevelDomain(phish):\n",
    "    res = None\n",
    "    ext = tldextract.extract(phish)\n",
    "    if ext and ext.domain and ext.suffix:\n",
    "        res = '.'.join([ext.domain, ext.suffix])\n",
    "        \n",
    "    return res"
   ]
  },
  {
   "cell_type": "code",
   "execution_count": 3,
   "metadata": {},
   "outputs": [],
   "source": [
    "def getSubdomainDomain(phish):\n",
    "    res = None\n",
    "    ext = tldextract.extract(phish)\n",
    "    if ext and ext.subdomain:\n",
    "        res = ext.subdomain\n",
    "        \n",
    "    return res"
   ]
  },
  {
   "cell_type": "code",
   "execution_count": 4,
   "metadata": {},
   "outputs": [
    {
     "data": {
      "text/plain": [
       "53183"
      ]
     },
     "execution_count": 4,
     "metadata": {},
     "output_type": "execute_result"
    }
   ],
   "source": [
    "folders = [\"../groundtruth_data/ecrimex/phish_conf90/\", \"../groundtruth_data/ecrimex/phish_conf100/\"]\n",
    "folder = \"../groundtruth_data/ecrimex/phish/\"\n",
    "\n",
    "phish_domains = dict()\n",
    "for folder in folders:\n",
    "    for file in os.listdir(folder):\n",
    "        file = os.path.join(folder, file)\n",
    "        with open(file, \"r\", encoding='utf-8') as fin:\n",
    "            content = eval(fin.read())\n",
    "            for phish in content:\n",
    "                host = phish['domain']\n",
    "                confidence = phish['confidence_level']\n",
    "                domain = getSecondLevelDomain(host)\n",
    "                subdomain = getSubdomainDomain(host)\n",
    "\n",
    "                if domain:\n",
    "                    date = datetime.datetime.utcfromtimestamp(phish['date_discovered']).strftime('%Y-%m-%d')\n",
    "                    \n",
    "                    # sept - oct\n",
    "                    if date >= '2018-09-01' and date <= '2018-10-31':\n",
    "                        if domain not in phish_domains:\n",
    "                            phish_domains[domain] = dict()\n",
    "                            phish_domains[domain]['dates'] = set()\n",
    "                            phish_domains[domain]['asns'] = set()\n",
    "                            phish_domains[domain]['host'] = set()\n",
    "                            phish_domains[domain]['confidence'] = 0\n",
    "                            phish_domains[domain]['source'] = 'apwg'\n",
    "\n",
    "                        phish_domains[domain]['dates'].add(date)\n",
    "                        phish_domains[domain]['asns'] = phish_domains[domain]['asns'].union(set(phish['asn']))\n",
    "                        if confidence > phish_domains[domain]['confidence']:\n",
    "                            phish_domains[domain]['confidence'] = confidence\n",
    "                        phish_domains[domain]['host'].add(host)\n",
    "            \n",
    "len(phish_domains)"
   ]
  },
  {
   "cell_type": "code",
   "execution_count": 5,
   "metadata": {},
   "outputs": [
    {
     "data": {
      "text/plain": [
       "35356"
      ]
     },
     "execution_count": 5,
     "metadata": {},
     "output_type": "execute_result"
    }
   ],
   "source": [
    "folders = [\"../groundtruth_data/ecrimex/phish_conf90/\", \"../groundtruth_data/ecrimex/phish_conf100/\"]\n",
    "folder = \"../groundtruth_data/ecrimex/phish/\"\n",
    "\n",
    "phish_domains_future = dict()\n",
    "for folder in folders:\n",
    "    for file in os.listdir(folder):\n",
    "        file = os.path.join(folder, file)\n",
    "        with open(file, \"r\", encoding='utf-8') as fin:\n",
    "            content = eval(fin.read())\n",
    "            for phish in content:\n",
    "                host = phish['domain']\n",
    "                confidence = phish['confidence_level']\n",
    "                domain = getSecondLevelDomain(host)\n",
    "                subdomain = getSubdomainDomain(host)\n",
    "\n",
    "                if domain:\n",
    "                    date = datetime.datetime.utcfromtimestamp(phish['date_discovered']).strftime('%Y-%m-%d')\n",
    "                    \n",
    "                    # sept - oct\n",
    "                    if date >= '2018-11-01' and date <= '2018-12-31':\n",
    "                        if domain not in phish_domains_future:\n",
    "                            phish_domains_future[domain] = dict()\n",
    "                            phish_domains_future[domain]['dates'] = set()\n",
    "                            phish_domains_future[domain]['asns'] = set()\n",
    "                            phish_domains_future[domain]['host'] = set()\n",
    "                            phish_domains_future[domain]['confidence'] = 0\n",
    "                            phish_domains_future[domain]['source'] = 'apwg'\n",
    "\n",
    "                        phish_domains_future[domain]['dates'].add(date)\n",
    "                        phish_domains_future[domain]['asns'] = phish_domains_future[domain]['asns'].union(set(phish['asn']))\n",
    "                        if confidence > phish_domains_future[domain]['confidence']:\n",
    "                            phish_domains_future[domain]['confidence'] = confidence\n",
    "                        phish_domains_future[domain]['host'].add(host)\n",
    "            \n",
    "len(phish_domains_future)"
   ]
  },
  {
   "cell_type": "code",
   "execution_count": 6,
   "metadata": {},
   "outputs": [
    {
     "data": {
      "text/plain": [
       "25585"
      ]
     },
     "execution_count": 6,
     "metadata": {},
     "output_type": "execute_result"
    }
   ],
   "source": [
    "folder = \"../groundtruth_data/ecrimex/mal_domain/\"\n",
    "\n",
    "mal_domains = set()\n",
    "for file in os.listdir(folder):\n",
    "    file = os.path.join(folder, file)\n",
    "    with open(file, \"r\", encoding='utf-8') as fin:\n",
    "        content = eval(fin.read())\n",
    "        for phish in content:\n",
    "            host = phish['domain']\n",
    "            domain = getSecondLevelDomain(host)\n",
    "            \n",
    "            mal_domains.add(domain)\n",
    "            \n",
    "len(mal_domains)"
   ]
  },
  {
   "cell_type": "markdown",
   "metadata": {},
   "source": [
    "# ASN analysis"
   ]
  },
  {
   "cell_type": "code",
   "execution_count": 15,
   "metadata": {},
   "outputs": [
    {
     "data": {
      "text/plain": [
       "1632"
      ]
     },
     "execution_count": 15,
     "metadata": {},
     "output_type": "execute_result"
    }
   ],
   "source": [
    "# list of phish asn to domain\n",
    "asn_to_domain = dict()\n",
    "\n",
    "for phish, vals in phish_domains.items():\n",
    "    asns = vals['asns']\n",
    "    for asn in asns:\n",
    "        if asn not in asn_to_domain:\n",
    "            asn_to_domain[asn] = set()\n",
    "        asn_to_domain[asn].add(phish)\n",
    "\n",
    "len(asn_to_domain)"
   ]
  },
  {
   "cell_type": "code",
   "execution_count": 18,
   "metadata": {},
   "outputs": [
    {
     "data": {
      "text/plain": [
       "277"
      ]
     },
     "execution_count": 18,
     "metadata": {},
     "output_type": "execute_result"
    }
   ],
   "source": [
    "# list of hosting provider to asn\n",
    "fnin = \"../features/hostingService/hosting_providers_to_asn\"\n",
    "\n",
    "with open(fnin, 'r', encoding=\"utf-8\") as fin:\n",
    "    domain_to_asn = eval(fin.read())\n",
    "\n",
    "hosting_provider_asn = set([asn for host, asn in domain_to_asn.items()])\n",
    "\n",
    "len(hosting_provider_asn)"
   ]
  },
  {
   "cell_type": "code",
   "execution_count": 23,
   "metadata": {},
   "outputs": [
    {
     "data": {
      "text/plain": [
       "0"
      ]
     },
     "execution_count": 23,
     "metadata": {},
     "output_type": "execute_result"
    }
   ],
   "source": [
    "# intersection of phish asn and hosting provider asn\n",
    "phish_asn = set(asn_to_domain.keys())\n",
    "\n",
    "asn_phish_host = phish_asn.intersection(hosting_provider_asn)\n",
    "\n",
    "len(asn_phish_host)"
   ]
  },
  {
   "cell_type": "code",
   "execution_count": 25,
   "metadata": {},
   "outputs": [
    {
     "data": {
      "text/plain": [
       "0"
      ]
     },
     "execution_count": 25,
     "metadata": {},
     "output_type": "execute_result"
    }
   ],
   "source": [
    "# get phish domains of asn intersection\n",
    "asn_phish_host_domains = set()\n",
    "for asn in asn_phish_host:\n",
    "    asn_phish_host_domains = asn_phish_host_domains.union(asn_to_domain[asn])\n",
    "    \n",
    "len(asn_phish_host_domains)"
   ]
  },
  {
   "cell_type": "code",
   "execution_count": 44,
   "metadata": {},
   "outputs": [
    {
     "name": "stdout",
     "output_type": "stream",
     "text": [
      "{'dates': {'2018-12-12', '2018-12-10', '2018-08-16', '2018-10-02', '2018-12-22', '2018-06-27', '2018-07-21', '2018-08-21', '2018-07-11', '2018-08-05', '2018-11-14', '2018-08-22', '2018-12-25', '2018-11-07', '2018-11-03', '2018-12-07', '2018-12-05', '2018-10-20', '2018-08-02', '2018-12-08', '2018-08-26', '2018-07-05', '2018-09-19', '2018-09-17', '2018-07-12', '2018-11-20', '2018-08-01', '2018-08-13', '2018-09-27', '2018-11-04', '2018-12-13', '2018-09-30', '2018-07-26', '2018-11-18', '2018-09-08', '2018-09-05', '2018-12-24', '2018-07-08', '2018-07-28', '2018-10-03', '2018-11-23', '2018-10-07', '2018-08-17', '2018-09-16', '2018-12-21', '2018-12-03', '2018-12-02', '2018-12-26', '2018-06-19', '2018-08-18', '2018-06-29', '2018-10-12', '2018-11-25', '2018-11-29', '2018-10-06', '2018-12-01', '2018-08-24', '2018-11-27', '2018-09-12', '2018-08-28', '2018-08-20', '2018-08-19', '2018-08-23', '2018-10-10', '2018-11-17', '2018-11-24', '2018-08-11', '2018-07-13', '2018-09-23', '2018-12-27', '2018-11-26', '2018-07-06', '2018-12-09', '2018-11-16', '2018-12-17', '2018-10-21', '2018-11-30', '2018-07-30', '2018-12-20', '2018-10-11', '2018-08-31', '2018-09-22', '2018-11-22'}, 'asns': {0, 15169, 12006, 132742, 32392, 14618, 24940, 12876, 32244, 16276, 393398, 31798, 31034, 29182}, 'subdomains': {'secure1-webapps', 'websecure-cgibin', 'apple-store', 'update-youraccount', 'intlsignppxlogins', 'noreplyupdateinfo', 'paypalit-signin0it', 'manages-idmsweb', 'lockedverifyupdate', 'twentyone', 'servicoplemsaid', 'appleemailsd', 'wizkhalifapanel', 'activityid-update', 'servicemyappleid', 'percobaan-sc', 'banking-postbankde', 'verifiedidmsaa', 'shsthst', 'limited-payments', 'applied-restaccapp', 'paypaldempphome', 's3rv1c3-4cc0unt', 'mau372hfg7egy2r', 'notice-paymentapple', 'slim-ama', 'manageaccountapps', 'account-payment', 'auth-rsonidentity16', 'manage-aplliedsu', 'verifieedmsapl', 'managesrvice-web', 'auth-sersuinvoice', 'signkpnkntlkuy', 'orderstore-cancel', 'bonds', 'invoic3-resval', 'manage-0sauth19', 'suaport-authlogen', 'webapples-jp', 'paypallimitedaccess', 'support-account', 'paypalit-accedia', 'manage-acauthsa87', 'intlppvrifylogins', 'appspaypalchl', 'reffpaypal-argent', 'locksauth-logen', 'payment-cancel', 'applid-applefixed', 'support-notifyid', 'storeorder-cancel', 'verides-authlogen', 'appsecure-login', 'incsupport09', 'reason-authverify51', 'accountservalert', 'nboni', 'idmswebauth-serv', 'serverpaypalargen22', 'securepayment', 'page-paypalreffx', 'reseearch', 'itunestore-app', 'supportmemek', 'updateid-payments', 'manage-0sauth13', 'secureloginsupp', 'authsumer-login1', 'curve99', 'appleidi-iforgot', 'dsggg443g4', 'summary-billing', 'payment-secured', 'inbox123', 'support-app', 'applesysteam', 'deskpaypaleurope', 'service-pay', 'srvicewebaccotss', 'forgotpassword', 'sohapa', 'incarsesionapplesch', 'payment-confirmed', 'secure-youraccount', 'reqpaypaleuro221', 'manage-appleidsho', 'lock3dtoidapps', 'appleaccountlocked', 'incsupport002', 'srverintlppvals', 'appsign-payment'}, 'confidence': 100}\n"
     ]
    }
   ],
   "source": [
    "print(phish_domains['3utilities.com'])"
   ]
  },
  {
   "cell_type": "code",
   "execution_count": 45,
   "metadata": {},
   "outputs": [
    {
     "name": "stdout",
     "output_type": "stream",
     "text": [
      "2512\n"
     ]
    }
   ],
   "source": [
    "mal_phish_domains = mal_domains.intersection(set(phish_domains.keys()))\n",
    "\n",
    "mal_phish_domains_asns = set()\n",
    "for d in mal_phish_domains:\n",
    "    if len(phish_domains[d]['asns']) > 0 or (0 in phish_domains[d]['asns'] and len(phish_domains[d]['asns']) > 1):\n",
    "        mal_phish_domains_asns.add(d)\n",
    "        \n",
    "print(len(mal_phish_domains_asns))"
   ]
  },
  {
   "cell_type": "markdown",
   "metadata": {},
   "source": [
    "# Phish and mal intersection"
   ]
  },
  {
   "cell_type": "code",
   "execution_count": 7,
   "metadata": {},
   "outputs": [
    {
     "data": {
      "text/plain": [
       "498"
      ]
     },
     "execution_count": 7,
     "metadata": {},
     "output_type": "execute_result"
    }
   ],
   "source": [
    "phish_mal_domain = set(phish_domains.keys()).intersection(mal_domains)\n",
    "len(phish_mal_domain)"
   ]
  },
  {
   "cell_type": "code",
   "execution_count": 8,
   "metadata": {},
   "outputs": [
    {
     "data": {
      "text/plain": [
       "335"
      ]
     },
     "execution_count": 8,
     "metadata": {},
     "output_type": "execute_result"
    }
   ],
   "source": [
    "phish_mal_domain_future = set(phish_domains_future.keys()).intersection(mal_domains)\n",
    "len(phish_mal_domain_future)"
   ]
  },
  {
   "cell_type": "markdown",
   "metadata": {},
   "source": [
    "# Timespan analysis"
   ]
  },
  {
   "cell_type": "code",
   "execution_count": 11,
   "metadata": {},
   "outputs": [
    {
     "data": {
      "text/plain": [
       "498"
      ]
     },
     "execution_count": 11,
     "metadata": {},
     "output_type": "execute_result"
    }
   ],
   "source": [
    "mal_domains_info = {key: val for key, val in phish_domains.items() if key in phish_mal_domain}\n",
    "len(mal_domains_info)\n",
    "#mal_domains_info['serveirc.com']"
   ]
  },
  {
   "cell_type": "code",
   "execution_count": 14,
   "metadata": {},
   "outputs": [
    {
     "data": {
      "text/plain": [
       "335"
      ]
     },
     "execution_count": 14,
     "metadata": {},
     "output_type": "execute_result"
    }
   ],
   "source": [
    "mal_domains_info_future = {key: val for key, val in phish_domains_future.items() if key in phish_mal_domain_future}\n",
    "len(mal_domains_info_future)\n",
    "#mal_domains_info['serveirc.com']"
   ]
  },
  {
   "cell_type": "code",
   "execution_count": 31,
   "metadata": {},
   "outputs": [],
   "source": [
    "quarter = {\"01\": 'Q1', \"02\": 'Q1',\"03\": 'Q1', \"04\": 'Q2', \"05\": 'Q2', \"06\": 'Q2', \"07\": 'Q3', \"08\": 'Q3', \"09\": 'Q3', \"10\": 'Q4', \"11\": 'Q4', \"12\": 'Q4'}\n",
    "def processList(phish_list):\n",
    "    data = dict()\n",
    "\n",
    "    for phish in phish_list:\n",
    "        domain = phish[0]\n",
    "        timestamp = phish[1]\n",
    "        \n",
    "        # get year, month\n",
    "        yr, mn = timestamp.split('-')[:2]\n",
    "        \n",
    "        # get month, quarter\n",
    "        yr_qu = '-'.join([yr, quarter[mn]])\n",
    "        \n",
    "        # get year-month\n",
    "        yr_mn = '-'.join(timestamp.split('-')[:2])\n",
    "        \n",
    "        if domain not in data:\n",
    "            data[domain] = dict()\n",
    "            data[domain]['months'] = set()\n",
    "            data[domain]['quarters'] = set()\n",
    "            data[domain]['years'] = set()\n",
    "        data[domain]['months'].add(yr_mn)\n",
    "        data[domain]['quarters'].add(yr_qu)\n",
    "        data[domain]['years'].add(yr)\n",
    "\n",
    "    return data"
   ]
  },
  {
   "cell_type": "code",
   "execution_count": 36,
   "metadata": {},
   "outputs": [
    {
     "name": "stdout",
     "output_type": "stream",
     "text": [
      "4031\n"
     ]
    }
   ],
   "source": [
    "mal_domains_list = []\n",
    "\n",
    "for domain, vals in mal_domains_info.items():\n",
    "    for date in vals['dates']:\n",
    "        mal_domains_list.append([domain, date])\n",
    "\n",
    "print(len(mal_domains_list))"
   ]
  },
  {
   "cell_type": "code",
   "execution_count": 37,
   "metadata": {},
   "outputs": [
    {
     "name": "stdout",
     "output_type": "stream",
     "text": [
      "128868\n"
     ]
    }
   ],
   "source": [
    "phish_domains_list = []\n",
    "\n",
    "for domain, vals in phish_domains.items():\n",
    "    for date in vals['dates']:\n",
    "        phish_domains_list.append([domain, date])\n",
    "\n",
    "print(len(phish_domains_list))"
   ]
  },
  {
   "cell_type": "code",
   "execution_count": 54,
   "metadata": {},
   "outputs": [],
   "source": [
    "def getBins(domains_list, domains):\n",
    "    domain_timestamp = processList(domains_list)\n",
    "    len(domain_timestamp)\n",
    "    \n",
    "    monthly_bins = dict()\n",
    "    quarterly_bins = dict()\n",
    "    yearly_bins = dict()\n",
    "\n",
    "    for domain, vals in domains.items():\n",
    "        target=0\n",
    "        # get timestamp\n",
    "        keys = ['months', 'quarters', 'years']\n",
    "        bins = [monthly_bins, quarterly_bins, yearly_bins]\n",
    "\n",
    "        for i, key in enumerate(keys):\n",
    "            bn = bins[i]\n",
    "            times = domain_timestamp[domain][key]\n",
    "            for time in times:\n",
    "                if time not in bn:\n",
    "                    bn[time] = [0,0]\n",
    "                bn[time][target] += 1\n",
    "                \n",
    "    pprint(monthly_bins)\n",
    "    pprint(quarterly_bins)\n",
    "    pprint(yearly_bins)\n",
    "    \n",
    "    return monthly_bins, quarterly_bins, yearly_bins"
   ]
  },
  {
   "cell_type": "code",
   "execution_count": 44,
   "metadata": {},
   "outputs": [],
   "source": [
    "def domainClassifPerc(timebin, title, ylabel, bin_type=\"\", fraction=True):\n",
    "    plt.figure(figsize=(8, 5))\n",
    "    \n",
    "    #############################################################################33\n",
    "    plt.subplot(1, 1, 1)\n",
    "    \n",
    "    # comp, mal\n",
    "    mal_comp = []\n",
    "    time = sorted(timebin.keys())\n",
    "    #time = time[:-1]\n",
    "\n",
    "    N = len(time)\n",
    "    for t in time:\n",
    "        mal_comp.append(timebin[t])\n",
    "    \n",
    "    if fraction:\n",
    "        mal = [x[0]/(x[0]+x[1]) for x in mal_comp]\n",
    "        comp = [x[1]/(x[0]+x[1]) for x in mal_comp]\n",
    "    else:\n",
    "        mal = [x[0] for x in mal_comp]\n",
    "        comp = [x[1] for x in mal_comp]\n",
    "        \n",
    "    print(time)\n",
    "    print(mal)\n",
    "    print(comp)\n",
    "\n",
    "    ind = np.arange(N)    # the x locations for the groups\n",
    "    width = 0.7       # the width of the bars: can also be len(x) sequence\n",
    "\n",
    "    p1 = plt.bar(ind, comp, width)\n",
    "    p2 = plt.bar(ind, mal, width,\n",
    "                 bottom=comp)\n",
    "    \n",
    "    #print(p1[0])\n",
    "    \n",
    "    plt.ylabel(ylabel)\n",
    "    plt.xticks(ind, time, rotation=50)\n",
    "    plt.legend((p1[0], p2[0]), ('Compromised', 'Malicious'))\n",
    "    \n",
    "    plt.tight_layout()\n",
    "    plt.show()"
   ]
  },
  {
   "cell_type": "markdown",
   "metadata": {},
   "source": [
    "#### Phish"
   ]
  },
  {
   "cell_type": "code",
   "execution_count": 56,
   "metadata": {},
   "outputs": [
    {
     "name": "stdout",
     "output_type": "stream",
     "text": [
      "{'2018-05': [5686, 0],\n",
      " '2018-06': [14994, 0],\n",
      " '2018-07': [14891, 0],\n",
      " '2018-08': [12729, 0],\n",
      " '2018-09': [12657, 0],\n",
      " '2018-10': [14671, 0],\n",
      " '2018-11': [13563, 0],\n",
      " '2018-12': [11796, 0]}\n",
      "{'2018-Q2': [19910, 0], '2018-Q3': [38644, 0], '2018-Q4': [38801, 0]}\n",
      "{'2018': [94249, 0]}\n"
     ]
    }
   ],
   "source": [
    "monthly_bins, quarterly_bins, yearly_bins = getBins(phish_domains_list, phish_domains)"
   ]
  },
  {
   "cell_type": "code",
   "execution_count": 57,
   "metadata": {},
   "outputs": [
    {
     "name": "stdout",
     "output_type": "stream",
     "text": [
      "['2018']\n",
      "[94249]\n",
      "[0]\n"
     ]
    },
    {
     "data": {
      "image/png": "[encoded data removed]",
      "text/plain": [
       "<matplotlib.figure.Figure at 0x7fe4e81fb390>"
      ]
     },
     "metadata": {},
     "output_type": "display_data"
    }
   ],
   "source": [
    "domainClassifPerc(yearly_bins, 'Yearly Domain Classification', 'Number of Domains', fraction=False)"
   ]
  },
  {
   "cell_type": "code",
   "execution_count": 46,
   "metadata": {},
   "outputs": [
    {
     "name": "stdout",
     "output_type": "stream",
     "text": [
      "['2018-Q2', '2018-Q3', '2018-Q4']\n",
      "[19910, 38644, 38801]\n",
      "[0, 0, 0]\n"
     ]
    },
    {
     "data": {
      "image/png": "[encoded data removed]",
      "text/plain": [
       "<matplotlib.figure.Figure at 0x7fe4e81d4390>"
      ]
     },
     "metadata": {},
     "output_type": "display_data"
    }
   ],
   "source": [
    "domainClassifPerc(quarterly_bins, 'Yearly Domain Classification', 'Number of Domains', fraction=False)"
   ]
  },
  {
   "cell_type": "code",
   "execution_count": 47,
   "metadata": {},
   "outputs": [
    {
     "name": "stdout",
     "output_type": "stream",
     "text": [
      "['2018-05', '2018-06', '2018-07', '2018-08', '2018-09', '2018-10', '2018-11', '2018-12']\n",
      "[5686, 14994, 14891, 12729, 12657, 14671, 13563, 11796]\n",
      "[0, 0, 0, 0, 0, 0, 0, 0]\n"
     ]
    },
    {
     "data": {
      "image/png": "[encoded data removed]",
      "text/plain": [
       "<matplotlib.figure.Figure at 0x7fe4e6856f60>"
      ]
     },
     "metadata": {},
     "output_type": "display_data"
    }
   ],
   "source": [
    "domainClassifPerc(monthly_bins, 'Yearly Domain Classification', 'Number of Domains', fraction=False)"
   ]
  },
  {
   "cell_type": "markdown",
   "metadata": {},
   "source": [
    "#### Malicious intersection on phish (phish time)"
   ]
  },
  {
   "cell_type": "code",
   "execution_count": 58,
   "metadata": {},
   "outputs": [
    {
     "name": "stdout",
     "output_type": "stream",
     "text": [
      "{'2018-05': [151, 0],\n",
      " '2018-06': [349, 0],\n",
      " '2018-07': [685, 0],\n",
      " '2018-08': [681, 0],\n",
      " '2018-09': [282, 0],\n",
      " '2018-10': [236, 0],\n",
      " '2018-11': [191, 0],\n",
      " '2018-12': [158, 0]}\n",
      "{'2018-Q2': [481, 0], '2018-Q3': [1597, 0], '2018-Q4': [550, 0]}\n",
      "{'2018': [2518, 0]}\n"
     ]
    }
   ],
   "source": [
    "monthly_bins, quarterly_bins, yearly_bins = getBins(mal_domains_list, mal_domains_info)"
   ]
  },
  {
   "cell_type": "code",
   "execution_count": 59,
   "metadata": {},
   "outputs": [
    {
     "name": "stdout",
     "output_type": "stream",
     "text": [
      "['2018-05', '2018-06', '2018-07', '2018-08', '2018-09', '2018-10', '2018-11', '2018-12']\n",
      "[151, 349, 685, 681, 282, 236, 191, 158]\n",
      "[0, 0, 0, 0, 0, 0, 0, 0]\n"
     ]
    },
    {
     "data": {
      "image/png": "[encoded data removed]",
      "text/plain": [
       "<matplotlib.figure.Figure at 0x7fe4d964df98>"
      ]
     },
     "metadata": {},
     "output_type": "display_data"
    }
   ],
   "source": [
    "domainClassifPerc(monthly_bins, 'Yearly Domain Classification', 'Number of Domains', fraction=False)"
   ]
  },
  {
   "cell_type": "markdown",
   "metadata": {},
   "source": [
    "#### Malicious intersection on phish (malicious time)"
   ]
  },
  {
   "cell_type": "code",
   "execution_count": 92,
   "metadata": {},
   "outputs": [
    {
     "name": "stdout",
     "output_type": "stream",
     "text": [
      "['2018', '2019']\n",
      "[2473, 36]\n",
      "[0, 0]\n"
     ]
    },
    {
     "data": {
      "image/png": "[encoded data removed]",
      "text/plain": [
       "<Figure size 576x360 with 1 Axes>"
      ]
     },
     "metadata": {},
     "output_type": "display_data"
    }
   ],
   "source": [
    "domainClassifPerc(yearly_bins, 'Yearly Domain Classification', 'Number of Domains', fraction=False)"
   ]
  },
  {
   "cell_type": "code",
   "execution_count": 93,
   "metadata": {},
   "outputs": [
    {
     "name": "stdout",
     "output_type": "stream",
     "text": [
      "['2018-Q1', '2018-Q2', '2018-Q3', '2018-Q4', '2019-Q1']\n",
      "[68, 1634, 552, 255, 36]\n",
      "[0, 0, 0, 0, 0]\n"
     ]
    },
    {
     "data": {
      "image/png": "[encoded data removed]",
      "text/plain": [
       "<Figure size 576x360 with 1 Axes>"
      ]
     },
     "metadata": {},
     "output_type": "display_data"
    }
   ],
   "source": [
    "domainClassifPerc(quarterly_bins, 'Yearly Domain Classification', 'Number of Domains', fraction=False)"
   ]
  },
  {
   "cell_type": "code",
   "execution_count": 94,
   "metadata": {},
   "outputs": [
    {
     "name": "stdout",
     "output_type": "stream",
     "text": [
      "['2018-02', '2018-03', '2018-04', '2018-05', '2018-06', '2018-07', '2018-08', '2018-11', '2018-12', '2019-01', '2019-02']\n",
      "[14, 56, 150, 775, 715, 417, 135, 200, 55, 35, 1]\n",
      "[0, 0, 0, 0, 0, 0, 0, 0, 0, 0, 0]\n"
     ]
    },
    {
     "data": {
      "image/png": "[encoded data removed]",
      "text/plain": [
       "<Figure size 576x360 with 1 Axes>"
      ]
     },
     "metadata": {},
     "output_type": "display_data"
    }
   ],
   "source": [
    "domainClassifPerc(monthly_bins, 'Yearly Domain Classification', 'Number of Domains', fraction=False)"
   ]
  },
  {
   "cell_type": "markdown",
   "metadata": {},
   "source": [
    "# Classification analysis"
   ]
  },
  {
   "cell_type": "code",
   "execution_count": 73,
   "metadata": {},
   "outputs": [
    {
     "name": "stdout",
     "output_type": "stream",
     "text": [
      "{'Fake Store': 20765, 'malicious': 23, 'storefront': 6789, '': 669}\n"
     ]
    }
   ],
   "source": [
    "classification = dict()\n",
    "\n",
    "for domain, vals in mal_domains.items():\n",
    "    classifs = vals['classification']\n",
    "    for clif in classifs:\n",
    "        if clif not in classification:\n",
    "            classification[clif] = 0\n",
    "        classification[clif] += 1\n",
    "\n",
    "print(classification)"
   ]
  },
  {
   "cell_type": "markdown",
   "metadata": {},
   "source": [
    "# Confidence analysis"
   ]
  },
  {
   "cell_type": "code",
   "execution_count": 13,
   "metadata": {},
   "outputs": [
    {
     "name": "stdout",
     "output_type": "stream",
     "text": [
      "{100: 2518, 90: 11}\n"
     ]
    }
   ],
   "source": [
    "confidence = dict()\n",
    "\n",
    "for domain, vals in mal_domains_info.items():\n",
    "    conf = vals['confidence']\n",
    "    #for conf in confs:\n",
    "    if conf not in confidence:\n",
    "        confidence[conf] = 0\n",
    "    confidence[conf] += 1\n",
    "\n",
    "print(confidence)"
   ]
  },
  {
   "cell_type": "markdown",
   "metadata": {},
   "source": [
    "# Subdomain analysis"
   ]
  },
  {
   "cell_type": "code",
   "execution_count": 69,
   "metadata": {},
   "outputs": [
    {
     "name": "stdout",
     "output_type": "stream",
     "text": [
      "18\n"
     ]
    }
   ],
   "source": [
    "subdomain_list = []\n",
    "\n",
    "for domain, vals in mal_domains.items():\n",
    "    subdomains = vals['subdomain']\n",
    "    if len(subdomains) > 1:\n",
    "        md = dict()\n",
    "        md[domain] = vals\n",
    "        subdomain_list.append(md)\n",
    "\n",
    "print(len(subdomain_list))"
   ]
  },
  {
   "cell_type": "code",
   "execution_count": 71,
   "metadata": {},
   "outputs": [
    {
     "name": "stdout",
     "output_type": "stream",
     "text": [
      "[{'adtrackr.info': {'confidence': {100},\n",
      "                    'discovered': {'2018-03-20', '2018-03-24'},\n",
      "                    'subdomain': {'itema.adtrackr.info',\n",
      "                                  'itemb.adtrackr.info',\n",
      "                                  'itemc.adtrackr.info',\n",
      "                                  'iteme.adtrackr.info',\n",
      "                                  'itemh.adtrackr.info',\n",
      "                                  'itemi.adtrackr.info',\n",
      "                                  'itemyi.adtrackr.info',\n",
      "                                  'itemzd.adtrackr.info'}}},\n",
      " {'blogspot.com': {'confidence': {100},\n",
      "                   'discovered': {'2019-01-28'},\n",
      "                   'subdomain': {'adresscontentsimplyviews0.blogspot.com',\n",
      "                                 'adresscontentsimplyviews1.blogspot.com',\n",
      "                                 'adresscontentsimplyviews2.blogspot.com',\n",
      "                                 'adresscontentsimplyviews3.blogspot.com',\n",
      "                                 'adresscontentsimplyviews4.blogspot.com',\n",
      "                                 'adresscontentsimplyviews5.blogspot.com',\n",
      "                                 'adresscontentsimplyviews6.blogspot.com',\n",
      "                                 'adresscontentsimplyviews7.blogspot.com',\n",
      "                                 'adresscontentsimplyviews8.blogspot.com',\n",
      "                                 'adresscontentsimplyviews9.blogspot.com',\n",
      "                                 'apple-security-service.blogspot.com',\n",
      "                                 'appsstorepayment.blogspot.com',\n",
      "                                 'dssdsakjshieeelkd004-dkkdddc.blogspot.com',\n",
      "                                 'feedbackunlockverifyunlockservice0.blogspot.com',\n",
      "                                 'feedbackunlockverifyunlockservice1.blogspot.com',\n",
      "                                 'feedbackunlockverifyunlockservice2.blogspot.com',\n",
      "                                 'feedbackunlockverifyunlockservice3.blogspot.com',\n",
      "                                 'feedbackunlockverifyunlockservice4.blogspot.com',\n",
      "                                 'feedbackunlockverifyunlockservice5.blogspot.com',\n",
      "                                 'feedbackunlockverifyunlockservice6.blogspot.com',\n",
      "                                 'feedbackunlockverifyunlockservice7.blogspot.com',\n",
      "                                 'feedbackunlockverifyunlockservice8.blogspot.com',\n",
      "                                 'feedbackunlockverifyunlockservice9.blogspot.com',\n",
      "                                 'verifikasi-payment.blogspot.com'}}},\n",
      " {'canbeauty.date': {'confidence': {100},\n",
      "                     'discovered': {'2018-04-25',\n",
      "                                    '2018-06-13',\n",
      "                                    '2018-06-24',\n",
      "                                    '2018-08-01'},\n",
      "                     'subdomain': {'buybox.canbeauty.date',\n",
      "                                   'buyers.canbeauty.date',\n",
      "                                   'buying.canbeauty.date',\n",
      "                                   'buytop.canbeauty.date',\n",
      "                                   'canbeauty.date',\n",
      "                                   'ebuy.canbeauty.date',\n",
      "                                   'eservice.canbeauty.date',\n",
      "                                   'eshop.canbeauty.date',\n",
      "                                   'hotsale.canbeauty.date',\n",
      "                                   'net.canbeauty.date',\n",
      "                                   'newsale.canbeauty.date',\n",
      "                                   'salego.canbeauty.date',\n",
      "                                   'service.canbeauty.date',\n",
      "                                   'shoping.canbeauty.date',\n",
      "                                   'topsale.canbeauty.date'}}},\n",
      " {'cheapstores.bid': {'confidence': {100},\n",
      "                      'discovered': {'2018-04-25', '2018-05-20', '2018-08-01'},\n",
      "                      'subdomain': {'buybox.cheapstores.bid',\n",
      "                                    'cheapstores.bid',\n",
      "                                    'newsale.cheapstores.bid'}}},\n",
      " {'ddnsking.com': {'confidence': {100},\n",
      "                   'discovered': {'2019-01-28', '2019-01-23'},\n",
      "                   'subdomain': {'apple-lockedaccount.ddnsking.com',\n",
      "                                 'billing-accountsid.ddnsking.com',\n",
      "                                 'updateaccount.ddnsking.com'}}},\n",
      " {'dealcenter.bid': {'confidence': {100},\n",
      "                     'discovered': {'2018-04-07',\n",
      "                                    '2018-06-05',\n",
      "                                    '2018-06-13',\n",
      "                                    '2018-06-24',\n",
      "                                    '2018-08-01'},\n",
      "                     'subdomain': {'buy.dealcenter.bid',\n",
      "                                   'buybox.dealcenter.bid',\n",
      "                                   'buyers.dealcenter.bid',\n",
      "                                   'buying.dealcenter.bid',\n",
      "                                   'buytop.dealcenter.bid',\n",
      "                                   'dealcenter.bid',\n",
      "                                   'ebuy.dealcenter.bid',\n",
      "                                   'eshop.dealcenter.bid',\n",
      "                                   'hotsale.dealcenter.bid',\n",
      "                                   'net.dealcenter.bid',\n",
      "                                   'new.dealcenter.bid',\n",
      "                                   'newsale.dealcenter.bid',\n",
      "                                   'salego.dealcenter.bid',\n",
      "                                   'service.dealcenter.bid',\n",
      "                                   'shoping.dealcenter.bid'}}},\n",
      " {'dynv6.net': {'confidence': {100},\n",
      "                'discovered': {'2019-01-24'},\n",
      "                'subdomain': {'account-alertapple.dynv6.net',\n",
      "                              'vrrvyaccnt451.dynv6.net'}}},\n",
      " {'hotshopbuy.bid': {'confidence': {100},\n",
      "                     'discovered': {'2018-04-28', '2018-04-26'},\n",
      "                     'subdomain': {'hotsale.hotshopbuy.bid',\n",
      "                                   'hotshopbuy.bid'}}},\n",
      " {'kesha.click': {'confidence': {90, 100},\n",
      "                  'discovered': {'2018-11-05'},\n",
      "                  'subdomain': {'mobile.pnc.com.kesha.click', 'kesha.click'}}},\n",
      " {'manytrade.bid': {'confidence': {100},\n",
      "                    'discovered': {'2018-04-08',\n",
      "                                   '2018-06-01',\n",
      "                                   '2018-06-13',\n",
      "                                   '2018-06-24',\n",
      "                                   '2018-08-01'},\n",
      "                    'subdomain': {'buy.manytrade.bid',\n",
      "                                  'buybox.manytrade.bid',\n",
      "                                  'buyers.manytrade.bid',\n",
      "                                  'buying.manytrade.bid',\n",
      "                                  'buytop.manytrade.bid',\n",
      "                                  'eservice.manytrade.bid',\n",
      "                                  'eshop.manytrade.bid',\n",
      "                                  'hotsale.manytrade.bid',\n",
      "                                  'manytrade.bid',\n",
      "                                  'net.manytrade.bid',\n",
      "                                  'new.manytrade.bid',\n",
      "                                  'newsale.manytrade.bid',\n",
      "                                  'salego.manytrade.bid',\n",
      "                                  'service.manytrade.bid',\n",
      "                                  'shoping.manytrade.bid',\n",
      "                                  'topsale.manytrade.bid'}}},\n",
      " {'moneytrading.club': {'confidence': {100},\n",
      "                        'discovered': {'2018-03-03',\n",
      "                                       '2018-03-20',\n",
      "                                       '2018-03-24'},\n",
      "                        'subdomain': {'itemsb.moneytrading.club',\n",
      "                                      'itemsj.moneytrading.club',\n",
      "                                      'itemsn.moneytrading.club',\n",
      "                                      'itemsq.moneytrading.club',\n",
      "                                      'itemst.moneytrading.club',\n",
      "                                      'itemsv.moneytrading.club',\n",
      "                                      'itemsz.moneytrading.club',\n",
      "                                      'itemv.moneytrading.club'}}},\n",
      " {'newvdeals.com': {'confidence': {100},\n",
      "                    'discovered': {'2018-11-14'},\n",
      "                    'subdomain': {'crew.newvdeals.com',\n",
      "                                  'gift.newvdeals.com',\n",
      "                                  'item.newvdeals.com',\n",
      "                                  'love.newvdeals.com'}}},\n",
      " {'salestorer.bid': {'confidence': {100},\n",
      "                     'discovered': {'2018-04-27', '2018-06-05', '2018-08-01'},\n",
      "                     'subdomain': {'buybox.salestorer.bid',\n",
      "                                   'salego.salestorer.bid',\n",
      "                                   'salestorer.bid'}}},\n",
      " {'servehttp.com': {'confidence': {100},\n",
      "                    'discovered': {'2019-01-21', '2019-01-24'},\n",
      "                    'subdomain': {'appleidcasepayment.servehttp.com',\n",
      "                                  'idmswebpayment-apps.servehttp.com',\n",
      "                                  'mailrenewal-authvs.servehttp.com'}}},\n",
      " {'serveirc.com': {'confidence': {100},\n",
      "                   'discovered': {'2019-01-23', '2019-01-21', '2019-01-24'},\n",
      "                   'subdomain': {'appservicio-srtvs.serveirc.com',\n",
      "                                 'appstore-receipt998.serveirc.com',\n",
      "                                 'aptsrvsservicio.serveirc.com',\n",
      "                                 'secur3dverifylimit.serveirc.com',\n",
      "                                 'secure-verifappcs.serveirc.com',\n",
      "                                 'semoga-signappleacc.serveirc.com',\n",
      "                                 'serviviciodeapsrtvs.serveirc.com',\n",
      "                                 'vverivicacion-aptsr.serveirc.com'}}},\n",
      " {'storevys.com': {'confidence': {100},\n",
      "                   'discovered': {'2018-12-10'},\n",
      "                   'subdomain': {'classic.storevys.com',\n",
      "                                 'daily.storevys.com',\n",
      "                                 'hm.storevys.com',\n",
      "                                 'null.storevys.com'}}},\n",
      " {'tradehot.date': {'confidence': {100},\n",
      "                    'discovered': {'2018-06-01', '2018-04-27'},\n",
      "                    'subdomain': {'newsale.tradehot.date', 'tradehot.date'}}},\n",
      " {'ymatix.top': {'confidence': {100},\n",
      "                 'discovered': {'2018-05-22', '2018-05-21', '2018-05-14'},\n",
      "                 'subdomain': {'itempn.ymatix.top',\n",
      "                               'itemps.ymatix.top',\n",
      "                               'itempt.ymatix.top',\n",
      "                               'itempu.ymatix.top',\n",
      "                               'itemqx.ymatix.top'}}}]\n"
     ]
    }
   ],
   "source": [
    "pprint(subdomain_list)"
   ]
  },
  {
   "cell_type": "markdown",
   "metadata": {},
   "source": [
    "# Timespan range"
   ]
  },
  {
   "cell_type": "code",
   "execution_count": 35,
   "metadata": {},
   "outputs": [],
   "source": []
  },
  {
   "cell_type": "code",
   "execution_count": 36,
   "metadata": {},
   "outputs": [
    {
     "name": "stdout",
     "output_type": "stream",
     "text": [
      "498\n",
      "498\n",
      "0\n"
     ]
    }
   ],
   "source": [
    "print(len(domain_target))\n",
    "print(len([d for d, t in domain_target.items() if t[\"target\"] ==-1]))\n",
    "print(len([d for d, t in domain_target.items() if t[\"target\"] ==0]))\n",
    "#print(len([d for d in domain_target if d[1]==-1]))"
   ]
  },
  {
   "cell_type": "markdown",
   "metadata": {},
   "source": [
    "# TLD groupings"
   ]
  },
  {
   "cell_type": "code",
   "execution_count": null,
   "metadata": {},
   "outputs": [],
   "source": [
    "# 2 months prior\n",
    "# features using time: tld, domain edit distance\n",
    "# month 9-10 use tld and domain edit distance\n",
    "# month 11-12 use same tld and domain edit distance?, use 9-10 tld and domain edit distance"
   ]
  },
  {
   "cell_type": "code",
   "execution_count": 40,
   "metadata": {},
   "outputs": [
    {
     "name": "stdout",
     "output_type": "stream",
     "text": [
      "1341\n",
      "491\n",
      "326\n"
     ]
    }
   ],
   "source": [
    "mal_domains_1 = set()\n",
    "mal_domains_2 = set()\n",
    "mal_domains_3 = set()\n",
    "\n",
    "for domain, vals in mal_domains.items():\n",
    "    for date in vals:\n",
    "        #print(date)\n",
    "        if date >= \"2018-07-01\" and date <= \"2018-08-31\":\n",
    "            mal_domains_1.add(domain)\n",
    "        \n",
    "        elif date >= \"2018-09-01\" and date <= \"2018-10-31\":\n",
    "            mal_domains_2.add(domain)\n",
    "        \n",
    "        elif date >= \"2018-11-01\" and date <= \"2018-12-31\":\n",
    "            mal_domains_3.add(domain)\n",
    "\n",
    "print(len(mal_domains_1))\n",
    "print(len(mal_domains_2))\n",
    "print(len(mal_domains_3))"
   ]
  },
  {
   "cell_type": "code",
   "execution_count": 42,
   "metadata": {},
   "outputs": [
    {
     "name": "stdout",
     "output_type": "stream",
     "text": [
      "36\n",
      "19\n"
     ]
    }
   ],
   "source": [
    "print(len(mal_domains_1.intersection(mal_domains_2)))\n",
    "print(len(mal_domains_2.intersection(mal_domains_3)))"
   ]
  },
  {
   "cell_type": "code",
   "execution_count": 43,
   "metadata": {},
   "outputs": [],
   "source": [
    "def getTlds(m_d):\n",
    "    tlds = dict()\n",
    "    for domain in m_d:\n",
    "        ext = tldextract.extract(domain)\n",
    "        tld = ext.suffix\n",
    "        if tld:\n",
    "            if tld not in tlds:\n",
    "                tlds[tld] = 0\n",
    "            tlds[tld] += 1\n",
    "    print(len(tlds))\n",
    "    print(tlds)\n",
    "    total = sum([val for key, val in tlds.items()])\n",
    "    tlds = sorted([[val/total, key] for key, val in tlds.items()])\n",
    "    print(tlds)"
   ]
  },
  {
   "cell_type": "code",
   "execution_count": 44,
   "metadata": {},
   "outputs": [
    {
     "name": "stdout",
     "output_type": "stream",
     "text": [
      "28\n",
      "{'men': 391, 'top': 473, 'bid': 185, 'cf': 29, 'space': 15, 'ml': 31, 'club': 4, 'trade': 31, 'net': 4, 'com': 20, 'site': 22, 'date': 19, 'tk': 3, 'today': 1, 'ga': 33, 'gq': 17, 'win': 22, 'fun': 5, 'loan': 4, 'xyz': 16, 'online': 8, 'org': 1, 'pw': 2, 'life': 1, 'be': 1, 'edu.mx': 1, 'me': 1, 'store': 1}\n",
      "[[0.0007457121551081282, 'be'], [0.0007457121551081282, 'edu.mx'], [0.0007457121551081282, 'life'], [0.0007457121551081282, 'me'], [0.0007457121551081282, 'org'], [0.0007457121551081282, 'store'], [0.0007457121551081282, 'today'], [0.0014914243102162564, 'pw'], [0.0022371364653243847, 'tk'], [0.002982848620432513, 'club'], [0.002982848620432513, 'loan'], [0.002982848620432513, 'net'], [0.0037285607755406414, 'fun'], [0.005965697240865026, 'online'], [0.011185682326621925, 'space'], [0.011931394481730051, 'xyz'], [0.01267710663683818, 'gq'], [0.014168530947054437, 'date'], [0.014914243102162566, 'com'], [0.01640566741237882, 'site'], [0.01640566741237882, 'win'], [0.02162565249813572, 'cf'], [0.023117076808351976, 'ml'], [0.023117076808351976, 'trade'], [0.024608501118568233, 'ga'], [0.13795674869500374, 'bid'], [0.29157345264727813, 'men'], [0.35272184936614465, 'top']]\n"
     ]
    }
   ],
   "source": [
    "getTlds(mal_domains_1)"
   ]
  },
  {
   "cell_type": "code",
   "execution_count": 45,
   "metadata": {},
   "outputs": [
    {
     "name": "stdout",
     "output_type": "stream",
     "text": [
      "24\n",
      "{'men': 50, 'date': 11, 'top': 253, 'bid': 27, 'ml': 23, 'cf': 11, 'site': 15, 'tk': 8, 'gq': 16, 'net': 4, 'pw': 7, 'xyz': 6, 'com': 14, 'ga': 12, 'store': 1, 'win': 5, 'club': 4, 'trade': 5, 'space': 5, 'org': 1, 'fun': 5, 'online': 5, 'website': 2, 'edu.mx': 1}\n",
      "[[0.002036659877800407, 'edu.mx'], [0.002036659877800407, 'org'], [0.002036659877800407, 'store'], [0.004073319755600814, 'website'], [0.008146639511201629, 'club'], [0.008146639511201629, 'net'], [0.010183299389002037, 'fun'], [0.010183299389002037, 'online'], [0.010183299389002037, 'space'], [0.010183299389002037, 'trade'], [0.010183299389002037, 'win'], [0.012219959266802444, 'xyz'], [0.014256619144602852, 'pw'], [0.016293279022403257, 'tk'], [0.02240325865580448, 'cf'], [0.02240325865580448, 'date'], [0.024439918533604887, 'ga'], [0.028513238289205704, 'com'], [0.03054989816700611, 'site'], [0.032586558044806514, 'gq'], [0.04684317718940937, 'ml'], [0.054989816700611, 'bid'], [0.10183299389002037, 'men'], [0.515274949083503, 'top']]\n"
     ]
    }
   ],
   "source": [
    "getTlds(mal_domains_2)"
   ]
  },
  {
   "cell_type": "code",
   "execution_count": 46,
   "metadata": {},
   "outputs": [
    {
     "name": "stdout",
     "output_type": "stream",
     "text": [
      "27\n",
      "{'space': 7, 'top': 119, 'bid': 14, 'xyz': 55, 'com': 19, 'men': 25, 'pw': 6, 'club': 5, 'ink': 3, 'ga': 1, 'edu.mx': 1, 'trade': 7, 'date': 6, 'net': 4, 'ml': 8, 'gq': 5, 'online': 8, 'site': 9, 'life': 6, 'website': 2, 'cf': 6, 'tk': 2, 'today': 4, 'info': 1, 'us': 1, 'fun': 1, 'org': 1}\n",
      "[[0.003067484662576687, 'edu.mx'], [0.003067484662576687, 'fun'], [0.003067484662576687, 'ga'], [0.003067484662576687, 'info'], [0.003067484662576687, 'org'], [0.003067484662576687, 'us'], [0.006134969325153374, 'tk'], [0.006134969325153374, 'website'], [0.009202453987730062, 'ink'], [0.012269938650306749, 'net'], [0.012269938650306749, 'today'], [0.015337423312883436, 'club'], [0.015337423312883436, 'gq'], [0.018404907975460124, 'cf'], [0.018404907975460124, 'date'], [0.018404907975460124, 'life'], [0.018404907975460124, 'pw'], [0.02147239263803681, 'space'], [0.02147239263803681, 'trade'], [0.024539877300613498, 'ml'], [0.024539877300613498, 'online'], [0.027607361963190184, 'site'], [0.04294478527607362, 'bid'], [0.05828220858895705, 'com'], [0.07668711656441718, 'men'], [0.1687116564417178, 'xyz'], [0.36503067484662577, 'top']]\n"
     ]
    }
   ],
   "source": [
    "getTlds(mal_domains_3)"
   ]
  },
  {
   "cell_type": "markdown",
   "metadata": {},
   "source": [
    "# Domain edit distance"
   ]
  },
  {
   "cell_type": "code",
   "execution_count": 49,
   "metadata": {},
   "outputs": [],
   "source": [
    "def getDomains(m_d):\n",
    "    domains = set()\n",
    "    for dm in m_d:\n",
    "        ext = tldextract.extract(dm)\n",
    "        domain = ext.domain\n",
    "        if domain:\n",
    "            domains.add(domain)\n",
    "    print(len(domains))\n",
    "    print(domains)"
   ]
  },
  {
   "cell_type": "code",
   "execution_count": 51,
   "metadata": {},
   "outputs": [
    {
     "name": "stdout",
     "output_type": "stream",
     "text": [
      "1341\n",
      "1317\n",
      "{'high-spirit', 'salegymnasticst', 'wrbfretcnorp', 'ideasryber', 'kimonoshop', 'scarfshop', 'cheap-bikewebshop', 'fishingbuye', 'guarantjab', 'goodmotorcyclestore', 'salestorely', 'salebuildinge', 'unitedstatescenter', 'cheapmotorcyclemarket', 'pisashop', 'softtjxzjz', 'trendyajdr', 'gkvtetnedh', 'phbslmalls', 'new-fhdjzs', 'hotsmotorcycleonline', 'verytoyfactory', 'very-cyclewebmall', 'medicalcares', 'cheap-bikeweboutlet', 'cheap-tyrewebonline', 'goodcaraccessorieswebmall', 'yahooonline', 'carssupplies', 'viplawn-mowerfactory', 'medicalbuy', 'best-bikeweboutlet', 'bestcamerawebonline', 'homemark', 'discountshop', 'salehatbeltr', 'camerasky', 'broadbandposition', 'furnitureput', 'imaginjawc', 'hanako-inc', 'gomotorcycleoutlet', 'racekmalls', 'pscentero', 'special-cycleweboutlet', 'flyautomobile', 'personalpcsr', 'best-tireswebshop', 'culturefgj', 'jewelrybuys', 'wholesaleja', 'computershop', 'diyrebate', 'networksmember', 'beltglasses', 'barsthecare', 'verysalestyre-store', 'drugstoreaverage', 'nursingbuy', 'kojikojimoheji', 'salestorer', 'uprpsspolaf', 'vip-cyclewebfactory', 'appliancesbuy', 'yldrireo2cne', 'rebateautomobile', 'flycurtainsrugt', 'shoppingbuy', 'uniquesryr', 'sportsbuye', 'saleliterarys', 'nicemotorcyclemall', 'tamurayamiso', 'nursinggood', 'daionex', 'fashioncamerawebshop', 'gdpattern', 'specialguitarweboutlet', '3utilities', 'iptrade', 'pqaoc', 'testspeed', 'articlesnurses', 'reasonalon', 'wmylstore', 'literarystore', 'centermodes', 'cheap-bikewebonline', 'salestores', 'gardenplay', 'beddingshop', 'bicyclegoest', 'oelfshop', 'rootraw', 'go-tireswebonline', 'salessupremefactory', 'best-tireswebfactory', 'nice-tireswebonline', 'yunkahin', 'goviptoolsstore', 'lawn-mowermall', 'beautifulw', 'siefsio', 'yovectorfo', 'webmasterplus', 'nipassion', 'biotechincrease', 'jewelrypart', 'ckvwmentaciod', 'yahootoday', 'vip-tireswebmall', 'gosportsshop', 'xymosting', 'goodverytoolsonline', 'heishibafu', 'go-cyclewebmall', 'putcart', '7secstore', 'oawashop', 'fashionsry', 'salesell', 'daytimewqd', 'underweary', 'serveirc', 'motorcyclesly', 'authentich', 'notebookbuys', 'areascootert', 'reasonalil', 'gcdental', 'bagshop', 'daytimejab', 'realajdryi', 'itemlowfees', 'fastfhdjzs', 'appidloginverifications', 'serviceagio', 'espsg', 'vip-bikewebfactory', 'nicegroceriesmall', 'widejawcvr', 'hotsmotorcycleoutlet', 'skperhali', 'japan-life', 'bathingsupplies', 'reasonaljz', 'lastingjaw', 'appliancego', 'hxwnecdq', 'requirewear', 'virtualamazon', 'verykitchen-suppliesonline', 'assistanceenligne-informatique', 'authentics', 'nicecaraccessorieswebshop', 'incrediddf', 'dishesbuy', 'kf-fish', 'updatedjaw', 'mskimonobuy', 'originalki', 'virtualseason', 'materialsbuy', 'mart-jp', 'sales-bikewebshop', 'gardenfurniturer', 'nice-bikewebmarket', 'wholesaleg', 'verycaraccessorieswebmall', 'byhotshoes', 'zdishilmerson', 'awesomeeud', 'botaori', 'canbeauty', 'classicpom', 'sportsbuy', 'idealjabci', 'cheaptoolgo', 'personalwd', 'getallowance', 'kutunchi', 'toolsflowerbuy', 'bathingstore', 'womenshoeint', 'cheapsbuy', 'toniwamuri', 'salecarbuy', 'cheapcarstore', 'jonasnicol', 'dailysuppliesy', 'saleclothing', 'cheapfhdjz', 'vip-bicyclewebfactory', 'gardenfurnitures', 'aglastore', 'ixifgeij', 'phfrshop', 'special-tireswebmall', 'getcarsupplies', 'fashion-cyclewebmall', 'adpbstore', 'openningfg', 'newcar-accessorieswebonline', 'mscoatbuy', 'cheapdiystore', 'funnyfgjs', 'satisfyajd', 'gcunn1973tj9v', 'legendfhdj', 'orderfgtaq', 'nice-bicyclewebmarket', 'hotscaraccessoriesshop', 'legendjzdf', 'sunreading', 'aegsstore', 'poplocal', 'cheapmotorcyclefactory', 'msclothesly', 'trendsajdr', 'newmotorcycleoutlet', 'onsixty', 'kbdrinkingo', 'wyalliceojube', 'oefcshop', 'ddnsking', 'salesmotorcyclemall', 'acappliances', 'pvoestore', 'pencilbuys', 'jewelrybuy', 'dishesget', 'rkkosbrimaw', 'oboashop', 'sellshop', 'furnituresalest', 'impressedg', 'buyappliancest', 'skyvehicle', 'impressedf', 'playcamera', 'buy-bikewebonline', 'infchicajd', 'uniquejsnk', 'webdesignhomepage', 'koji-honpo', 'fashion-golfwebmarket', 'retaileuhm', 'salediyshop', 'verytdfurniture-shop', 'auctionbin', 'sumsannelmy', 'photographyairport', 'flowerplante', 'flowerplantsst', 'fzmqynskir', 'camerago', 'aibsstore', 'albsstore', 'intoseleven', 'byfurnishy', 'sales-tiresweboutlet', 'sthtdoghm', 'new-bikewebshop', 'persbmalls', 'ttfunnyfoms', 'qpou', 'honruika', 'cheap-golfwebmall', 'aipjkaxsn', 'salecomputer', 'updatedfgj', 'buyfurniture', 'thegoodfgj', 'favofo20853r', 'toyget', 'skiclimbing', 'vip-cyclewebshop', 'nbtnod', 'olvxstememerh', 'good-tyrewebmarket', 'hotshandbagwebstore', 'fashioniln', 'ifprseach', 'motoworldt', 'stockmarketwednesday', 'abcnstore', 'salesmotorcycleonline', 'obsastore', 'ytjaw6ltsv', 'visionilnv', 'toykserp', 'bicyclebuy', 'getautomobile', 'getcarstore', 'apps-lckaccntrenw1982', 'buy-bikewebstore', 'cameracounty', 'cosplaybuy', 'kdiwer', 'retailajdr', 'tradehot', 'thecarbart', 'good-cycleshop', 'speciallawn-moweroutlet', 'audioapp', 'dogsuppliesy', 'indiacalendar', 'goodmotorcycleonline', 'go-sportswebmall', 'buyinformation', 'bestmotorcyclestore', 'shyzvoic', 'wirfstore', 'flagshipki', 'londonmarch', 'miltaku', 'ppocshop', 'panelmalls', 'yahoohub', 'buysuprememarket', 'bounceme', 'skiingstore', 'losangelesopportunity', 'kenzaioffonline', 'favorabler', 'conditioning', 'fashionfoodwebshop', 'trafficnothing', 'besthandbagweboutlet', 'buyappliancely', 'gardeningst', 'zpawx', 'buyshops', 'buyapplianceswebwebshop', 'beststorest', 'absoemalls', 'wmbcstore', 'kimonoshops', 'imcreator', 'nicemotorcyclefactory', 'dealcenter', 'eflora', 'shoppingstore', 'oalvnu', 'good-tireswebfactory', 'saleyplus', 'nice-guitarweboutlet', 'yocomfyfom', 'ceimstore', 'fashionbaghaty', 'news-tyleg', 'cork-wf', 'sales-bicyclewebstore', 'jmhfx', 'rebatestore', 'manshoesfunt', 'hots-bikewebmarket', 'itemskitcheny', '16mb', 'sogoods', 'allsalewebsite', 'ubaelements3l', 'easiersryb', 'sportingtools', 'cheapmotorcyclestore', 'go-bikewebstore', 'toolsly', 'psattibut', 'carautomobile', 'preferetga', 'consumables', 'newzealandfurniture', 'mimeadt', 'aieastore', 'veryhandbagwebshop', 'nice-bikewebshop', 'aallstore', 'manuallybuys', 'childfurnituret', 'vehicleneed', 'fastjabcct', 'beddingstores', 'wmshkmalls', 'widejadfhg', 'essam', 'fashion-cyclewebonline', 'manuallytoolsy', 'verycamerawebonline', 'outfurnitures', 'very-sportswebmall', 'vip-tireswebstore', 'xqzih', 'highdiytools', 'demunicar', 'buddhastores', 'canadacentre', 'aitedmalls', 'pcnetwork', 'jp-pop', 'salesdiytoolwebshop', 'specialgroceriesonline', 'skiequipmente', 'dailynecessitiessy', 'affordsryb', 'circuitpanic', 'lesbianinvestment', 'sportswear', 'bejswerkscad', 'qaonfasts', 'menshoesbuy', 'salesbagswebfactory', 'cheapsntyre-factory', 'liqueurstore', 'addtocart', 'agisstore', 'pcsoftwarest', 'progshop', 'jp-life', 'suppliesmotor', 'potstore', 'scarfglovest', 'americavideo', 'xhrnnburn', 'incoolfoms', 'transferja', 'aigoshop', 'outdoorbuys', 'goodcar-accessoriesmarket', 'potutensils', 'kingdepart', 'lightingbuy', 'hotsalebuy', 'special-cyclewebfactory', 'cheapstorebuy', 'saleinstrument', 'akira-products', 'nstestore', 'nicelawn-mowershop', 'bosscontinent', 'arizonause', 'zqgdth', 'matsunoi', 'appliancesty', 'good-bikewebonline', 'hakuhodody-holdings', 'ymatix', 'phoneloss', 'superajdry', 'perfectrdf', 'cheapcaraccessoriesweboutlet', 'buyliterary', 'saleliterary', 'expertiluj', 'uniqueilne', 'funny-fhdj', 'ubitymalls', 'toolsshopping', 'buyhotsale', 'gzzqxpngogn', 'hos-ragby', 'saleshops', 'vehiclecan', 'bvdkpeutt', 'barvehicles', 'intimatefo', 'partydecoration', 'bepvayzshd', 'go-cyclewebmarket', 'aiaipark', 'kishushokusai', 'arlenebrown', 'kimonosale', 'chairget', 'swhildue', 'aaamstore', 'essentialr', 'ohkxourrd', 'vip-guitarwebonline', 'hotsdctyre-factory', 'saledvdbuy', 'patternsaj', 'goodnewgroceriesshop', 'electrictoolsy', 'itwuristav', 'registerincrease', 'computerbuy', 'acmrsmalls', 'dishgrape', 'instrumentstore', 'nicemotorcyclemarket', 'appvehicles', 'networkdvd', 'vqgonbab', 'nicemotorcycleoutlet', 'buyallowance', 'diyinfo', 'salesgroceriesoutlet', 'vehiclepay', 'latejzdfdh', 'appliancesfly', 'best-tyrewebmall', 'fooddrinkget', 'saleballsupplie', 'ao-clinic', 'betraystore', 'firefighting', 'requirepop', 'cheapcomputer', 'anshinpet', 'discountfly', 'yahoocenter', 'accessoriesbuy', 'abianfamil', 'pintomalls', 'manytrade', 'diystorebuy', 'po5got', 'saletoolsty', 'go-dvdweboutlet', 'special-cyclewebstore', 'special-cyclewebonline', 'appliancesget', 'lightingstores', 'salefitnesst', 'qiyeli', 'best-golfweboutlet', 'oclsshop', 'toolsgetting', 'oepiamalls', 'fieldhouses', 'gotvtyre-mall', 'dishesfly', 'vipmotorcyclefactory', 'special-tireswebmarket', 'very-cycleweboutlet', 'phonefuture', 'buydiscounts', 'highajdryi', 'salescaraccessoriesoutlet', 'suitoverallsy', 'diytools', 'lifestylei', 'gomexico', 'shopbuys', 'wibma', 'broadbandreturn', 'cheapshopest', 'carshop', 'fashionbaby-suppliesweboutlet', 'ukmemory', 'sulqdnl', 'very-appliancesoutlet', 'rebatefly', 'motobuy', 'webdec', 'sofabuy', 'goodbesttoolsstore', 'dobest', 'ksw-fc', 'rbarbarapd', 'keyboardmouse', 'takasaki-kankoukyoukai', 'vip-tireswebfactory', 'becoloredf', 'foodstores', 'swimstores', 'special-bikewebstore', 'very-tireswebstore', 'aheastore', 'hperyeryewhar', 'buymotorcycleoutlet', 'verybathroomfactory', 'bvthentic', 'cfrokasecsm', 'goodsneedby', 'gialla', 'nshawmalls', 'diyallowance', 'jxforumscu', 'bulkfgjsdf', 'flowergift', 'zyjschdariocu', 'internettitle', 'getbooks', 'go-tiresweboutlet', 'cheapkidff', 'simplekidf', 'fashionkid', 'infoautomobile', 'sellsale', 'buy-golfwebmall', 'flagship-f', 'xxtwdalborr', 'hatbags', 'soundstores', 'hotsbkbikewebstore', 'verysalestyre-market', 'reallfjsva', 'trendsjadf', 'computerstores', 'disappeargenerous', 'cool-fgjsd', 'buy-tiresweboutlet', 'furnituregetr', 'satisfacti', 'hotsalesy', 'salesdiytoolwebmall', 'nicesale', 'playstores', 'acxsinu', 'funjawcvty', 'destroyform', 'travelincome', 'kitchenstore', 'gocheaptyre-store', 'buylikeshoesmarket', 'recommendo', 'waterfallwhole', 'salemotorcycle', 'go-bikewebshop', 'nicemotorcycleshop', 'yahooguide', 'retailsryb', 'aprefmalls', 'shopgets', 'partymove', 'gotoolse', 'gvrnaniv', 'resautobike', '4mbsstore', 'msshoesbuy', 'iyrousedcas', 'bicyclebuys', 'aglsonsprs', 'raemacaulay', 'carestore', 'gcimar', 'pajamashop', 'cameratvbuy', 'fastajdryo', 'japansakes', 'carstorebuy', 'medicalcare', 'blankjawcv', 'abc39malls', 'salebeauty', 'tryonshoes', 'specialmotorcyclefactory', 'idahocontents', 'groupjadfh', 'anbostore', 'admbstore', 'seattlelet', 'diboomrs', 'daikoku-gr', 'recommendp', 'auauomh', 'special-cyclewebmall', 'golfbuy', 'nicekbtyre-mall', 'artworkkid', 'fashionmotorcycleshop', 'buy-appliancesfactory', 'inwatchtobuy', 'topopportunity', 'new-appliancesshop', 'flagonhwuh', 'wearequire', 'sportgoogle', 'timestore', 'yahoocity', 'kitchenget', 'sellbuy', 'jp-fashions', 'kuroeya', 'downloadsingle', 'ginza-rin', 'special-tireswebstore', 'iovjynut', 'flora-hasuda', 'bashikahen', 'konohana-neuropsychology', 'hotsjntyre-mall', 'goodsneedt', 'aicishop', 'chairbuy', 'sportsweargor', 'good-bikeweboutlet', 'freedomfgr', 'fashionapplianceswebwebfactory', 'acinamalls', 'buytoolst', 'lifestylem', 'wjboxmalls', 'prettyajdr', 'childclothe', 'lastingwta', 'aivdshop', 'hlcry', 'salesmotorcyclestore', 'wlwbshop', 'new-tireswebmall', 'buyjewelry', 'rebates', 'good-bikewebmarket', 'authentica', 'discountbooks', 'very-cyclewebshop', 'special-cyclewebshop', 'jp-hi', 'buymotorcycleonline', 'beddingsalest', 'ocomstore', 'ybhklesauzgup', 'nice-jewelrystore', 'gardeningbuys', 'gpoecticapg', 'prwbstore', 'bybicyclewebmarket', 'bestshopdoings', 'shopcounty', 'lrdiv', 'toyplay', 'walletshops', 'magikunaku', 'funilnebsv', 'good-tireswebshop', 'add2cart', 'best-bikewebonline', 'jporg', 'carpetcurtaine', 'motosupplies', 'irisisabel', 'hotsmotorcyclestore', 'infculture', 'getliterary', 'ffhiraide', 'flowers-617', 'salesdiytoolwebfactory', 'vipmotorcycleshop', 'daisyjewellery', 'towelspoon', 'seattleaward', 'savefomsnp', 'cheap-cyclewebonline', 'mitasukiru', 'flower-berry', 'qtoaoit', 'blogspot', 'suitswgfsp', 'nwicshop', 'jjplefidelx', 'runsupplies', 'hatstore', 'rangeevsar', 'shoesbeautys', 'nicenursingmall', 'verysupremeshop', 'pagekite', 'thingbuys', 'yahoohome', 'uaydyteal', 'offprinter', 'babyproduct', 'european', 'new-cyclewebfactory', 'flowerplantss', 'fashionp', 'indiafoundation', 'publicjawc', 'apple-nya-janda-muda', 'cheapxutyreshop', 'gocameraweboutlet', 'amazingfhd', 'very-golfoutlet', 'yahoocoweb', 'impressedj', 'cuisinehight', 'essentialo', 'adorpmalls', 'cqlacierrea', 'makefgjsdf', 'dealscootere', 'foodshops', 'buy-tireswebmarket', 'kokoronohana-clinic', 'timecredit', 'liqueurgo', 'ariadne-gr', 'buycamera', 'sportsee', 'effectfhdj', 'funnyjabc', 'worldajdry', 'onlinecloudsale', 'popularsag', 'good-cyclewebmall', 'vierstore', 'carappliances', 'appliancesneed', 'rebateplay', 'vipcaraccessoriesweboutlet', 'zpststore', 'cmtbf', 'towelstore', 'apple-nya-memek-muda', 'hots-cycleweboutlet', 'vipcaraccessorieswebstore', 'panyshop', 'gymdoingst', 'srjcisniksiia', 'allowancest', 'yochicfoms', 'hrlookups', 'stylifes', 'agriculturely', 'buyfurnitures', 'hblkaosheb', 'ybhivelearn', 'baseballstory', 'petsuppliesy', 'vip-golfwebonline', 'pastrytools', 'msjewelry', 'authenticm', 'camerazero', 'xngbnphiwwu', 'digitalcamerast', 'babysupplies', 'karin-e', 'discountbags', 'cameraget', 'jewelryshopst', 'buycheap', 'trendysjzd', 'amsterdamjohn', 'argalmalls', 'sellstore', 'funnyonhwu', 'odhashop', 'jewelryfly', 'arasshop', 'outdoorshop', 'wirelessbeing', 'fashion-tireswebonline', 'zumukazei', 'ybrcite', 'fashion-tyrewebmall', 'sales-golfwebstore', 'happyajdry', 'authentijj', 'tablecarpet', 'needvehicle', 'originalil', 'e87', 'cheapbuy', 'vsmbshop', 'storebuy', 'dx0ajeffrs', 'rgphgreag', 'toydiytools', 'discountbuy', 'classicajd', 'abcoshop', 'buddhastore', 'cheapmaterial', 'okasan-online', 'pentstore', 'cheap-tireswebshop', 'recommengg', 'misato-pocket', 'bennetthowells', 'storegetest', 'zoissshop', 'latonlot', 'deafflush', 'arizonalet', 'nicecaraccessorieswebmarket', 'cheapcamera', 'funsryberw', 'eternal-company', 'dailysupplies', 'vehicleapp', 'professioe', 'airlineblack', 'msclothestore', 'racings', 'expressajd', 'cheapstorey', 'aahbstore', 'rehmstore', 'tentstores', 'pbasshop', 'nezusobari', 'makeajdryi', 'akuram', 'orcbinrepairz', 'detegoz', 'fitnessgos', 'scannerbuy', 'stockbrokersafe', 'cheapget', 'veryappliancesfactory', 'fnotechs', 'originalaj', 'cheap-guitarwebmall', 'nicehatwebshop', 'pcsoftwarey', 'hotsaleget', 'macyjsnknb', 'salebuygo', 'usefulapply', 'amazingsry', 'buymotorcycleshop', 'scarfdiscount', 'esslstore', 'hakuhodody-media', 'konaka-jp', 'bansyu-denki', 'toolsobtain', 'estlstore', 'spcltdbartley', 'menshoes', 'getmotofly', 'intersale', 'autobikeres', 'ansostore', 'buy-tireswebonline', 'diyget', 'wibbcmalls', 'buycamerawebmall', 'savekidffa', 'new-tireswebmarket', 'special-tireswebonline', 'ktaulit', 'storegets', 'motorcyclepotential', 'special-appliancesmall', 'recommenaj', 'monitorget', 'adhammalls', 'randhillere', 'qalinings', 'yahoohomepro', 'suitsjzdfd', 'jppop', 'hrextreme', 'dinfresh', 'tgrplshop', 'reasonalty', 'cheapartyre-online', 'ijoodfi', 'sales-bikewebmall', 'allcomputer', 'tableshop', 'nicemotorcycleonline', 'vip-bikewebmall', 'trolleycaser', 'eabishop', 'yahoocasa', 'hqprayab', 'stationeryfly', 'best-appliancesoutlet', 'takeya8', 'dkennel', 'stationeryes', 'medicalcarest', 'bagsfashion', 'zaidan-fukuoka-douai', 'pygedeutbq', 'dailyshops', 'earnajdryi', 'sales-appliancesfactory', 'gettools', 'dynv6', 'pqcncmalls', 'getappliances', 'myvnc', 'jpitajdry', 'drtnanicj', 'abatementcar', 'dailystores', 'cuisinetoolst', 'popfashion', 'yahoospace', 'kitchenwaresy', 'kitchenbuy', 'trucksproperty', 'bedstore', 'allowancebuy', 'playinstrument', 'rebatebuy', 'feel-zhgba', 'wmdpq', 'stockbrokercost', 'special-tireswebshop', 'argentinasuper', 'buyfoodweboutlet', 'fuwafuwa', 'businessbuy', 'jpxyz', 'bestmotorcycleshop', 'very-bikewebonline', 'darewaka', 'salesdiy-toolwebstore', 'ly8gm7758hdzt', 'smartphones', 'pcglass', 'sellget', 'kimonobuy', 'jp-mall', 'agbastore', 'momosaki', 'special-tiresweboutlet', 'popularjp', 'medicalsupplies', 'furnituresfly', 'salebicycle', 'onthewifi', 'newswhjjsf', 'very-tireswebfactory', 'getstore', 'extra-zhgb', 'anbfstore', 'airlinesfollowing', 'jxcab', 'verydiytoolwebmarket', 'szglerverab', 'automobilego', 'nicediscountshop', 'abmtstore', 'dailybuyget', 'salemstopst', 'highcamp', 'saletoy', 'vipsportswebmarket', 'ppwtshop', 'easyjadfhg', 'pharmacyroom', 'jiuryk', 'affordfhdj', 'idea-fhdjz', 'arabstore', 'effectsryb', 'nicevstyre-shop', 'good-sportswebonline', 'curtainget', 'verycaraccessorieswebmarket', 'nice-tireswebstore', 'gqtzgerouy', 'rebateget', 'penstores', 'newgocomputerstore', 'basketballelectronics', 'hpgcnp', 'vip-bikewebshop', 'cqricnz', 'verygolfmall', 'warebyhandbuy', 'scooterareas', 'effectilne', 'ainowa', 'saleplants', 'nrysiov', 'necklacestores', 'cafehisohiso', 'stylishdgh', 'simplefgjs', 'marugame-pointclub', 'ddns', 'canadado', 'hrflashon', 'keycarstuffe', 'dog-diamond', 'newcamerawebshop', 'hakimonoya', 'sportsgos', 'craftsstores', 'gotoymarket', 'cepo-netshop', 'saletently', 'suithonpo', 'ideas-zhgb', 'comfyfhdjz', 'ksstandardsf', 'glcrstore', 'crimsonworldwide', 'wellajdryi', 'oemustore', 'girlsrisk', 'latefomsno', 'durablzddh', 'nationalsale', 'sqhcshop', 'ladyshoetrye', 'teasetsky', 'newmotorcycleshop', 'artbuy', 'oxydshop', 'discountstore', 'allthursday', 'kamo-kurage', 'fashionmotorcyclemall', 'wcmosting', 'personalon', 'camerabuy', 'fujitv-flower', 'cdrecorder', 'funajdryie', 'airlineinfo', 'legendjabc', 'buydiytools', 'best-tireswebmall', 'appleid-apple-verifycationpaymentcancelorder', 'bicycleget', 'hots-sportswebstore', 'literarybuy', 'carmac', 'vivakozawa', 'storebuyest', 'hollanddown', 'clothesget', 'fukuchikai', 'awesomefhd', 'specialkitchen-suppliesmall', 'pittshop', 'vip-bikewebmarket', 'buyguitar-outlet', 'profesorfs', 'adaastore', 'qaunderby', 'diyshopest', 'carstuffkeys', 'rubbishsewage', 'vipbathroomshop', 'bigtrades', 'shoesbuy', 'buymotopartsr', 'menshoesget', 'fashion-tireswebfactory', 'vip-tireswebmarket', 'displayegf', 'projectorbuy', 'oyymcastdid', 'servehalflife', 'fashionbagst', 'babystores', 'abcregister', 'expertzhgb', 'verymotorcyclemarket', 'salespecial', 'jgcbcna', 'cheap-bikewebmarket', 'koyukan', 'discountsget', 'allowanceget', 'wineworks', 'wapfrance', 'pcinput', 'myftp', 'mekku', 'tahakashige', 'hoshel', 'essentfhdj', 'fashioncoate', 'inforebate', 'upgradefhd', 'ideasjabcc', 'db-zenkai', 'verysportsshop', 'incredyiln', 'obrashop', 'goodjabcct', 'aawlstore', 'treatmentsteak', 'coolsryber', 'jpgov', 'qastiring', 'allowancecar', 'toolsshope', 'unitedstatescommittee', 'upgradewry', 'salesportst', 'goodwalletwebshop', 'pascshop', 'groupfhdjz', 'timsstore', 'salescar-accessoriesshop', 'getcheaps', 'vip-dvdwebstore', 'sales-bikewebonline', 'jewelbaglives', 'wnscshop', 'willbennett', 'favorajdry', 'materialfly', 'ttcfco', 'salesourcyclewebonline', 'lightingfo', 'tablestores', 'sales-tireswebshop', 'saucesign', 'wdressbuys', 'nice-appliancesstore', 'qnndlantasm', 'ekxtmpp', 'yahoohometoday', 'payvehicle', 'trucksnames', 'rrydnwildhorf', 'toybuy', '2vuestore', 'needdecorates', 'smilebutudan', 'best-bikewebshop', 'fabulousfg', 'best-cyclewebshop', 'cheapsrybe', 'vip-bedclothingwebshop', 'comfyzhgba', 'yogastores', 'bagstores', 'vectorweep', 'aicsstore', 'goodvipkitchen-suppliesonline', 'modeltoyse', 'nvxehylr', 'discountsbuy', 'officesupplies', 'equipmentbuy', 'pprestore', 'yahooworld', 'materialshop', 'merchantfh', 'ahhastore', 'psmkpmalls', 'describefork', 'bjnoeexchj', 'cluborder', 'effectajdr', 'manualgos', 'fitjabcctb', 'domainnamesfuture', 'hots-sportswebmarket', 'gocaraccessorieswebshop', 'literaryget', 'artstore', 'pnahubtrmuevt', 'go-cyclewebfactory', 'itursulogalvan', 'beauty-zhg', 'salemanuale', 'discountget', 'agmtstore', 'availajdry', 'motherwater', 'hanakotoba', 'cookingtoolsy', 'hotsmotorcyclefactory', 'ballstore', 'go-tireswebmarket', 'diydiscount', 'estostore', 'psvrshop', 'nutritiongetting', 'saleysouth', 'skiingtools', 'glassesscarf', 'alive-rep', 'hotscaraccessorieswebfactory', 'specialcar-accessorieswebmall', 'widejzdfdh', 'goodcar-accessorieswebonline', 'good-appliancesoutlet', 'jp-mart', 'msshoest', 'timediywares', 'shopshouses', 'cheapshoppings', 'cheap-golfwebonline', 'alsostore', 'greatajdry', 'pdgashop', 'tableschairsy', 'eunsinikjai', 'zsmhshop', 'packagebuy', 'diyshopfly', 'qfasp', 'gocar-accessorieswebfactory', 'xdahumotocr', 'japanshopstyle', 'special-cyclewebmarket', 'displayjzd', 'kandanissho', 'qprnshop', 'canvehicle', 'sytes', 'accessoriesget', 'awesomeajd', 'popularajd', 'cheaptoyget', 'vip-cyclewebonline', 'buyrebate', 'automobileget', 'discountcamera', 'worldsale', 'go-cyclewebstore', 'babysuppliey', 'new-bikewebfactory', 'shoesplay', 'arthuremmie', 'factorysale', 'servehttp', 'peershop', 'automobilebuy', 'new-cyclewebshop'}\n"
     ]
    }
   ],
   "source": [
    "print(len(mal_domains_1))\n",
    "getDomains(mal_domains_1)"
   ]
  },
  {
   "cell_type": "markdown",
   "metadata": {},
   "source": [
    "# Train Data (Sept-Oct 2018)"
   ]
  },
  {
   "cell_type": "markdown",
   "metadata": {},
   "source": [
    "- mal domains: apwg\n",
    "- comp domains: phishlabs"
   ]
  },
  {
   "cell_type": "code",
   "execution_count": 26,
   "metadata": {},
   "outputs": [],
   "source": [
    "# train and test and predict domain to target\n",
    "domain_target = dict()"
   ]
  },
  {
   "cell_type": "markdown",
   "metadata": {},
   "source": [
    "### Mal domains apwg (Sept-Oct 2018)"
   ]
  },
  {
   "cell_type": "code",
   "execution_count": 27,
   "metadata": {},
   "outputs": [
    {
     "name": "stdout",
     "output_type": "stream",
     "text": [
      "total: 498\n",
      "unknown: 0\n",
      "mal: 498\n",
      "comp: 0\n",
      "{'dates': {'2018-10-20', '2018-10-23', '2018-10-06', '2018-10-30', '2018-10-08', '2018-09-28', '2018-10-11', '2018-10-05'}, 'asns': {36352, 0, 16276}, 'host': {'limitedacessaccount.servehalflife.com', 'apps-paymentid23.servehalflife.com', 'usrmanagement.servehalflife.com', 'repoortoffbilling.servehalflife.com', 'id-appieidrconfrim.servehalflife.com', 'logsrvcupdhome.servehalflife.com', 'myaccountuser.servehalflife.com'}, 'confidence': 100, 'source': 'apwg', 'target': -1, 'dataset': 'mal-apwg'}\n"
     ]
    }
   ],
   "source": [
    "for domain, val in mal_domains_info.items():\n",
    "    dates = val['dates']\n",
    "    for date in dates:\n",
    "        if date >= '2018-09-01' and date <= '2018-10-31':\n",
    "            domain_target[domain] = val\n",
    "            domain_target[domain][\"target\"] = -1\n",
    "            domain_target[domain][\"dataset\"] = \"mal-apwg\"\n",
    "            break\n",
    "\n",
    "print(\"total:\", len(domain_target))\n",
    "print(\"unknown:\", len([x for x, val in domain_target.items() if val[\"target\"] == 0]))\n",
    "print(\"mal:\", len([x for x, val in domain_target.items() if val[\"target\"] == -1]))\n",
    "print(\"comp:\", len([x for x, val in domain_target.items() if val[\"target\"] == 1]))\n",
    "print(domain_target[\"servehalflife.com\"])"
   ]
  },
  {
   "cell_type": "markdown",
   "metadata": {},
   "source": [
    "### Mal domains apwg (test predictions for next months Nov-Dec 2018)"
   ]
  },
  {
   "cell_type": "code",
   "execution_count": 28,
   "metadata": {},
   "outputs": [
    {
     "name": "stdout",
     "output_type": "stream",
     "text": [
      "total: 812\n",
      "unknown: 0\n",
      "mal: 812\n",
      "comp: 0\n"
     ]
    }
   ],
   "source": [
    "for domain, val in mal_domains_info_future.items():\n",
    "    dates = val['dates']\n",
    "    for date in dates:\n",
    "        if date >= \"2018-11-01\" and date <= \"2018-12-31\":\n",
    "            if domain not in domain_target:\n",
    "                domain_target[domain] = val\n",
    "                domain_target[domain][\"target\"] = -1\n",
    "                domain_target[domain][\"dataset\"] = \"mal-future-apwg\"\n",
    "                break\n",
    "#             inrange = True\n",
    "#             break\n",
    "    \n",
    "#     if inrange:\n",
    "#         if domain in mal_domains_keys:\n",
    "#             if domain not in domain_target:\n",
    "#                 dataset[domain] = val\n",
    "#                 dataset[domain][\"target\"] = -1\n",
    "\n",
    "print(\"total:\", len(domain_target))\n",
    "print(\"unknown:\", len([x for x, val in domain_target.items() if val[\"target\"] == 0]))\n",
    "print(\"mal:\", len([x for x, val in domain_target.items() if val[\"target\"] == -1]))\n",
    "print(\"comp:\", len([x for x, val in domain_target.items() if val[\"target\"] == 1]))\n",
    "#pprint(domain_target)"
   ]
  },
  {
   "cell_type": "markdown",
   "metadata": {},
   "source": [
    "### Comp domains phishlabs (Sept-Oct 2018)"
   ]
  },
  {
   "cell_type": "code",
   "execution_count": 29,
   "metadata": {},
   "outputs": [
    {
     "name": "stdout",
     "output_type": "stream",
     "text": [
      "# mal_list:  10000\n",
      "['2018-05-18 19:31:03', 'fidsiwoqj.com']\n",
      "['2018-10-23 14:21:12', 'applelcid.com.cn']\n",
      "# phishlabs_mal_domain:  9476\n",
      "# url_list:  20000\n",
      "['2018-09-27 11:30:18', 'imagecreatorssalonandspa.com', 'https://www.imagecreatorssalonandspa.com/wp-content/dhl/?email=csommers@gt.com']\n",
      "['2018-10-23 14:31:29', 'gkjx168.com', 'http://www.gkjx168.com/images/?http://us.battle.net/login/http://dyfdzx.com/js?fav.1&amp;fid=1&amp;fid.4.1252899642&amp;randInboxLightaspxn.1774256418&amp;rand.13InboxLight.as&amp;ref=http:/jebvahnus.batt====http://c.cldrec.com/?a553&amp;;c%C3%83%C2%83%C3%82%C2%83%C3%AF%C2%BF%C2%BD%25']\n",
      "myftp.org\n",
      "myftp.org\n",
      "total: 1486\n",
      "unknown: 0\n",
      "mal: 812\n",
      "comp: 674\n",
      "{'host': {'www.lidanhang.com'}, 'target': 1, 'dataset': 'comp-phishlabs', 'source': 'phishlabs'}\n"
     ]
    }
   ],
   "source": [
    "import csv\n",
    "from pprint import pprint\n",
    "\n",
    "with open('/home/sophie/SSRG/domainclassification/groundtruth_data/phishlabs/phishing-data/maliciousdomains.csv', 'r', encoding=\"utf-8\") as f:\n",
    "    reader = csv.reader(f)\n",
    "    mal_list = list(reader)\n",
    "    mal_list = mal_list[1:]\n",
    "\n",
    "print(\"# mal_list: \", len(mal_list))\n",
    "dates_sorted = sorted(mal_list)\n",
    "print(dates_sorted[0])\n",
    "print(dates_sorted[-1])\n",
    "\n",
    "# ensure domains are second level (no subdomains)\n",
    "phishlabs_mal_domain = set()\n",
    "for x in mal_list:\n",
    "    x = x[1]\n",
    "    #print(x)\n",
    "    ext = tldextract.extract(x)\n",
    "    if ext and ext.domain and ext.suffix:\n",
    "        domain = '.'.join([ext.domain, ext.suffix])\n",
    "        phishlabs_mal_domain.add(domain)\n",
    "\n",
    "print(\"# phishlabs_mal_domain: \", len(phishlabs_mal_domain))\n",
    "\n",
    "with open('/home/sophie/SSRG/domainclassification/groundtruth_data/phishlabs/phishing-data/phishing.csv', 'r', encoding=\"utf-8\") as f:\n",
    "    reader = csv.reader(f)\n",
    "    url_list = list(reader)\n",
    "    url_list = url_list[1:]\n",
    "    \n",
    "print(\"# url_list: \", len(url_list))\n",
    "dates_sorted = sorted(url_list)\n",
    "print(dates_sorted[0])\n",
    "print(dates_sorted[-1])\n",
    "\n",
    "# to keep track of\n",
    "domains_added = set()\n",
    "for x in url_list:\n",
    "    date = x[0]\n",
    "    \n",
    "    if date >= \"2018-09-01\" and date <= \"2018-10-31\":\n",
    "        url = x[2]\n",
    "        ext = tldextract.extract(url)\n",
    "        if ext and ext.domain and ext.suffix:\n",
    "            domain = '.'.join([ext.domain, ext.suffix])\n",
    "\n",
    "            if domain not in phishlabs_mal_domain:\n",
    "                if domain in domain_target and domain_target[domain][\"target\"] == -1:\n",
    "                    print(domain)\n",
    "                    continue\n",
    "\n",
    "                if ext.subdomain:\n",
    "                    host = '.'.join([ext.subdomain, ext.domain, ext.suffix])\n",
    "                else:\n",
    "                    host = domain\n",
    "                \n",
    "                if domain not in domain_target:\n",
    "                    domain_target[domain] = dict()\n",
    "                    domain_target[domain][\"host\"] = set()\n",
    "                    domain_target[domain][\"target\"] = 1\n",
    "                    domain_target[domain][\"dataset\"] = \"comp-phishlabs\"\n",
    "                    domain_target[domain][\"source\"] = \"phishlabs\"\n",
    "                    domains_added.add(domain)\n",
    "                    \n",
    "                if domain in domains_added:\n",
    "                    domain_target[domain][\"host\"] = domain_target[domain][\"host\"].union({host})\n",
    "\n",
    "print(\"total:\", len(domain_target))\n",
    "print(\"unknown:\", len([x for x, val in domain_target.items() if val[\"target\"] == 0]))\n",
    "print(\"mal:\", len([x for x, val in domain_target.items() if val[\"target\"] == -1]))\n",
    "print(\"comp:\", len([x for x, val in domain_target.items() if val[\"target\"] == 1]))\n",
    "#print(domain_target[\"rxportalhosting.com\"])\n",
    "print(domain_target[\"lidanhang.com\"])"
   ]
  },
  {
   "cell_type": "markdown",
   "metadata": {},
   "source": [
    "# Testing data"
   ]
  },
  {
   "cell_type": "markdown",
   "metadata": {},
   "source": [
    "- mal domain: phishlabs (sept-oct 2018)\n",
    "- mal domain: apwg (nov-dec 2018)\n",
    "- comp domains: deltaphish (oct 2015-jan 2016)"
   ]
  },
  {
   "cell_type": "markdown",
   "metadata": {},
   "source": [
    "### Mal domains phishlabs (Sept-Oct 2018)"
   ]
  },
  {
   "cell_type": "code",
   "execution_count": 30,
   "metadata": {},
   "outputs": [
    {
     "name": "stdout",
     "output_type": "stream",
     "text": [
      "# mal_list:  10000\n",
      "['2018-05-18 19:31:03', 'fidsiwoqj.com']\n",
      "['2018-10-23 14:21:12', 'applelcid.com.cn']\n",
      "total: 4297\n",
      "unknown: 0\n",
      "mal: 3623\n",
      "comp: 674\n",
      "{'host': {'rampant-trick.000webhostapp.com', 'seguridadboa4.000webhostapp.com', 'ungenerous-thousand.000webhostapp.com', 'welsscheckijgfjgdfdfgdfgasaa.000webhostapp.com', 'lachrymal-commissio.000webhostapp.com', 'protection-walesvigo.000webhostapp.com', 'laciniate-invention.000webhostapp.com', 'hard-nosed-area.000webhostapp.com', 'unbegged-leapers.000webhostapp.com', 'alassanecolburn.000webhostapp.com', 'self-imposed-person.000webhostapp.com', 'patent-screens.000webhostapp.com', 'multiplex-casts.000webhostapp.com', 'wellsfargggdfgdfgdfgdfg.000webhostapp.com', 'wellsfargoactiv.000webhostapp.com', 'carven-ground.000webhostapp.com', 'gallinaceous-counte.000webhostapp.com', 'griseous-funding.000webhostapp.com', 'clerklier-millions.000webhostapp.com', 'monologic-wayside.000webhostapp.com', 'falsetto-craft.000webhostapp.com', 'umbonate-speech.000webhostapp.com', 'djw0-wo2.000webhostapp.com', 'carolinian-threads.000webhostapp.com'}, 'target': -1, 'dataset': 'mal-phishlabs', 'source': 'phishlabs'}\n"
     ]
    }
   ],
   "source": [
    "with open('/home/sophie/SSRG/domainclassification/groundtruth_data/phishlabs/phishing-data/maliciousdomains.csv', 'r', encoding=\"utf-8\") as f:\n",
    "    reader = csv.reader(f)\n",
    "    mal_list = list(reader)\n",
    "    mal_list = mal_list[1:]\n",
    "\n",
    "print(\"# mal_list: \", len(mal_list))\n",
    "dates_sorted = sorted(mal_list)\n",
    "print(dates_sorted[0])\n",
    "print(dates_sorted[-1])\n",
    "\n",
    "# to keep track of\n",
    "domains_added = set()\n",
    "for x in mal_list:\n",
    "    date = x[0]\n",
    "    x = x[1]\n",
    "    #print(x)\n",
    "    if date >= \"2018-09-01\" and date <= \"2018-10-31\":\n",
    "        ext = tldextract.extract(x)\n",
    "        if ext and ext.domain and ext.suffix:\n",
    "            domain = '.'.join([ext.domain, ext.suffix])\n",
    "            \n",
    "            host = domain\n",
    "            if ext.subdomain:\n",
    "                host = '.'.join([ext.subdomain, ext.domain, ext.suffix])               \n",
    "\n",
    "            if domain not in domain_target:\n",
    "                domain_target[domain] = dict()\n",
    "                domain_target[domain][\"host\"] = set()\n",
    "                domain_target[domain][\"target\"] = -1\n",
    "                domain_target[domain][\"dataset\"] = \"mal-phishlabs\"\n",
    "                domain_target[domain][\"source\"] = \"phishlabs\"\n",
    "                domains_added.add(domain)\n",
    "            \n",
    "            if domain in domains_added:\n",
    "                domain_target[domain][\"host\"] = domain_target[domain][\"host\"].union({host})\n",
    "\n",
    "print(\"total:\", len(domain_target))\n",
    "print(\"unknown:\", len([x for x, val in domain_target.items() if val[\"target\"] == 0]))\n",
    "print(\"mal:\", len([x for x, val in domain_target.items() if val[\"target\"] == -1]))\n",
    "print(\"comp:\", len([x for x, val in domain_target.items() if val[\"target\"] == 1]))\n",
    "print(domain_target[\"000webhostapp.com\"])"
   ]
  },
  {
   "cell_type": "markdown",
   "metadata": {},
   "source": [
    "### Comp domains deltaphish (Oct 2015-Jan 2016)"
   ]
  },
  {
   "cell_type": "code",
   "execution_count": 31,
   "metadata": {},
   "outputs": [
    {
     "name": "stdout",
     "output_type": "stream",
     "text": [
      "# comp_list:  719\n",
      "[['Domain', 'Occurrence_in_our_DB'], ['instantautotitleloans.com', '24'], ['fotofuntastic.com', '21'], ['lafirmalegal.com', '16'], ['aaronmaxdesign.com', '15']]\n",
      "4989\n",
      "0\n",
      "3623\n",
      "1366\n",
      "{'host': {'ec2-52-208-77-94.eu-west-1.compute.amazonaws.com'}, 'target': 1, 'dataset': 'comp-phishlabs', 'source': 'phishlabs'}\n"
     ]
    }
   ],
   "source": [
    "with open('/home/sophie/SSRG/domainclassification/groundtruth_data/deltaphish/compromised_domains.csv', 'r', encoding=\"utf-8\") as f:\n",
    "    reader = csv.reader(f)\n",
    "    comp_list = list(reader)\n",
    "\n",
    "print(\"# comp_list: \", len(comp_list))\n",
    "print(comp_list[:5])\n",
    "\n",
    "# to keep track of\n",
    "domains_added = set()\n",
    "for x in comp_list:\n",
    "    x = x[0]\n",
    "    ext = tldextract.extract(x)\n",
    "    if ext and ext.domain and ext.suffix:\n",
    "        domain = '.'.join([ext.domain, ext.suffix])\n",
    "\n",
    "        host = domain\n",
    "        if ext.subdomain:\n",
    "            host = '.'.join([ext.subdomain, ext.domain, ext.suffix])               \n",
    "\n",
    "        if domain not in domain_target:\n",
    "            domain_target[domain] = dict()\n",
    "            domain_target[domain][\"host\"] = set()\n",
    "            domain_target[domain][\"target\"] = 1\n",
    "            domain_target[domain][\"dataset\"] = \"comp-deltaphish\"\n",
    "            domain_target[domain][\"source\"] = \"deltaphish\"\n",
    "            domains_added.add(domain)\n",
    "        \n",
    "        if domain in domains_added:\n",
    "            domain_target[domain][\"host\"] = domain_target[domain][\"host\"].union({host})\n",
    "\n",
    "print(len(domain_target))\n",
    "print(len([x for x, val in domain_target.items() if val[\"target\"] == 0]))\n",
    "print(len([x for x, val in domain_target.items() if val[\"target\"] == -1]))\n",
    "print(len([x for x, val in domain_target.items() if val[\"target\"] == 1]))\n",
    "print(domain_target[\"amazonaws.com\"])"
   ]
  },
  {
   "cell_type": "markdown",
   "metadata": {},
   "source": [
    "# Unknown data"
   ]
  },
  {
   "cell_type": "markdown",
   "metadata": {},
   "source": [
    "### Unknown domains apwg (Sept-Oct 2018)"
   ]
  },
  {
   "cell_type": "code",
   "execution_count": 32,
   "metadata": {},
   "outputs": [
    {
     "name": "stdout",
     "output_type": "stream",
     "text": [
      "55519\n",
      "50530\n",
      "3623\n",
      "1366\n"
     ]
    }
   ],
   "source": [
    "for domain, val in phish_domains.items():\n",
    "    dates = val['dates']\n",
    "    for date in dates:\n",
    "        if date >= '2018-09-01' and date <= '2018-10-31':\n",
    "            if domain not in domain_target:\n",
    "                domain_target[domain] = val\n",
    "                domain_target[domain][\"target\"] = 0\n",
    "                domain_target[domain][\"dataset\"] = \"unlabeled-apwg\"\n",
    "                break\n",
    "                \n",
    "print(len(domain_target))\n",
    "print(len([x for x, val in domain_target.items() if val[\"target\"] == 0]))\n",
    "print(len([x for x, val in domain_target.items() if val[\"target\"] == -1]))\n",
    "print(len([x for x, val in domain_target.items() if val[\"target\"] == 1]))"
   ]
  },
  {
   "cell_type": "markdown",
   "metadata": {},
   "source": [
    "### Write to file"
   ]
  },
  {
   "cell_type": "code",
   "execution_count": 33,
   "metadata": {},
   "outputs": [],
   "source": [
    "with open(\"./data/domain_target\", 'w', encoding=\"utf-8\") as fout:\n",
    "    pprint(domain_target, fout)"
   ]
  }
 ],
 "metadata": {
  "kernelspec": {
   "display_name": "Python 3",
   "language": "python",
   "name": "python3"
  },
  "language_info": {
   "codemirror_mode": {
    "name": "ipython",
    "version": 3
   },
   "file_extension": ".py",
   "mimetype": "text/x-python",
   "name": "python",
   "nbconvert_exporter": "python",
   "pygments_lexer": "ipython3",
   "version": "3.6.4"
  }
 },
 "nbformat": 4,
 "nbformat_minor": 2
}
