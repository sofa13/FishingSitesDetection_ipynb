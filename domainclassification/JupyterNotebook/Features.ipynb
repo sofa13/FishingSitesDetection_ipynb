{
 "cells": [
  {
   "cell_type": "markdown",
   "metadata": {},
   "source": [
    "# Setup"
   ]
  },
  {
   "cell_type": "code",
   "execution_count": 15,
   "metadata": {},
   "outputs": [],
   "source": [
    "import numpy as np\n",
    "from numpy import nan\n",
    "\n",
    "from pprint import pprint\n",
    "\n",
    "import math\n",
    "import random\n",
    "\n",
    "import csv"
   ]
  },
  {
   "cell_type": "markdown",
   "metadata": {},
   "source": [
    "# Read data"
   ]
  },
  {
   "cell_type": "code",
   "execution_count": 4,
   "metadata": {},
   "outputs": [
    {
     "name": "stdout",
     "output_type": "stream",
     "text": [
      "{'comp-deltaphish',\n",
      " 'comp-phishlabs',\n",
      " 'mal-apwg',\n",
      " 'mal-future-apwg',\n",
      " 'mal-phishlabs',\n",
      " 'unlabeled-apwg'}\n"
     ]
    }
   ],
   "source": [
    "with open(\"/home/sophie/SSRG/domainclassification/results/dataset/domain_target_55383\", \"r\", encoding='utf-8') as f:\n",
    "    data = eval(f.read())\n",
    "    \n",
    "datasets = set([d['dataset'] for d in data])\n",
    "pprint(datasets)"
   ]
  },
  {
   "cell_type": "markdown",
   "metadata": {},
   "source": [
    "# Select datasets"
   ]
  },
  {
   "cell_type": "code",
   "execution_count": 6,
   "metadata": {},
   "outputs": [
    {
     "data": {
      "text/plain": [
       "['archived',\n",
       " 'years_active',\n",
       " 'years_inactive',\n",
       " 'num_captures',\n",
       " 'freenom_tld',\n",
       " 'prev_mal_tld',\n",
       " 'wildcard_subdomain',\n",
       " 'reachable',\n",
       " 'redirected',\n",
       " 'blocked',\n",
       " 'alexa_rank',\n",
       " 'ratio_longest_word',\n",
       " 'contain_digit',\n",
       " 'contain_dash',\n",
       " 'name_len',\n",
       " 'brandname_partialratio',\n",
       " 'prev_mal_domain_ed',\n",
       " 'sub_levels',\n",
       " 'num_sub']"
      ]
     },
     "execution_count": 6,
     "metadata": {},
     "output_type": "execute_result"
    }
   ],
   "source": [
    "feat_labels = data[0]['feat_labels']\n",
    "feat_labels"
   ]
  },
  {
   "cell_type": "code",
   "execution_count": 18,
   "metadata": {},
   "outputs": [
    {
     "name": "stdout",
     "output_type": "stream",
     "text": [
      "4971\n"
     ]
    }
   ],
   "source": [
    "dataset_train = {'mal-apwg', 'mal-future-apwg', 'mal-phishlabs', 'comp-phishlabs', 'comp-deltaphish'}\n",
    "\n",
    "rows = [[d['target']] + d['feat'] for d in data if d['dataset'] in dataset_train]\n",
    "print(len(rows))"
   ]
  },
  {
   "cell_type": "code",
   "execution_count": null,
   "metadata": {},
   "outputs": [],
   "source": [
    "header = ['target'] + data[0]['feat_labels']\n",
    "#print(header)\n",
    "csv_data = [header] + rows\n",
    "print(csv_data[:5])"
   ]
  },
  {
   "cell_type": "markdown",
   "metadata": {},
   "source": [
    "# CSV File"
   ]
  },
  {
   "cell_type": "code",
   "execution_count": 16,
   "metadata": {},
   "outputs": [],
   "source": [
    "# csv out\n",
    "with open('./data/featureAnalysis.csv', 'w', newline='\\n') as myfile:\n",
    "    wr = csv.writer(myfile, quoting=csv.QUOTE_ALL)\n",
    "    for line in csv_data:\n",
    "        wr.writerow(line)"
   ]
  },
  {
   "cell_type": "code",
   "execution_count": null,
   "metadata": {},
   "outputs": [],
   "source": []
  }
 ],
 "metadata": {
  "kernelspec": {
   "display_name": "Python 3",
   "language": "python",
   "name": "python3"
  },
  "language_info": {
   "codemirror_mode": {
    "name": "ipython",
    "version": 3
   },
   "file_extension": ".py",
   "mimetype": "text/x-python",
   "name": "python",
   "nbconvert_exporter": "python",
   "pygments_lexer": "ipython3",
   "version": "3.6.4"
  }
 },
 "nbformat": 4,
 "nbformat_minor": 2
}
