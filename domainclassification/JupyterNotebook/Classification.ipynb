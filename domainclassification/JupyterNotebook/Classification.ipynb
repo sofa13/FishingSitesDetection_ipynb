{
 "cells": [
  {
   "cell_type": "markdown",
   "metadata": {},
   "source": [
    "**Problem**: Given a phishing url, classify the domain as compromised (owned) or malicious (hacked).\n",
    "\n",
    "**Objective**: Given labeled data, analyze the best model and features."
   ]
  },
  {
   "cell_type": "code",
   "execution_count": 1,
   "metadata": {},
   "outputs": [
    {
     "name": "stdout",
     "output_type": "stream",
     "text": [
      "0.19.1\n"
     ]
    }
   ],
   "source": [
    "import sklearn\n",
    "print(sklearn.__version__)"
   ]
  },
  {
   "cell_type": "markdown",
   "metadata": {},
   "source": [
    "# Setup"
   ]
  },
  {
   "cell_type": "code",
   "execution_count": 163,
   "metadata": {},
   "outputs": [],
   "source": [
    "from sklearn import preprocessing\n",
    "from sklearn.preprocessing import StandardScaler, Imputer\n",
    "from sklearn.model_selection import cross_val_score, StratifiedKFold\n",
    "from sklearn.utils import shuffle\n",
    "from sklearn.metrics import roc_curve, auc, confusion_matrix, f1_score\n",
    "from sklearn.model_selection import cross_val_predict\n",
    "from sklearn.datasets import make_moons, make_circles, make_classification\n",
    "from sklearn.model_selection import train_test_split\n",
    "from sklearn.metrics import accuracy_score, recall_score\n",
    "\n",
    "from sklearn.linear_model import SGDClassifier\n",
    "from sklearn.linear_model import LogisticRegression\n",
    "from sklearn.neighbors import KNeighborsClassifier\n",
    "from sklearn.neural_network import MLPClassifier\n",
    "from sklearn.svm import SVC\n",
    "from sklearn.ensemble import RandomForestClassifier, GradientBoostingClassifier\n",
    "from sklearn.discriminant_analysis import QuadraticDiscriminantAnalysis\n",
    "from sklearn.naive_bayes import GaussianNB\n",
    "from sklearn.tree import DecisionTreeClassifier\n",
    "from sklearn.dummy import DummyClassifier\n",
    "from sklearn.calibration import CalibratedClassifierCV\n",
    "from sklearn.isotonic import IsotonicRegression\n",
    "\n",
    "#from sklearn.impute import SimpleImputer\n",
    "\n",
    "from sklearn.decomposition import PCA\n",
    "from sklearn.manifold import TSNE\n",
    "\n",
    "#import xgboost as xgb\n",
    "\n",
    "import numpy as np\n",
    "\n",
    "import matplotlib.pyplot as plt\n",
    "from mpl_toolkits.axes_grid1.inset_locator import inset_axes\n",
    "\n",
    "# orange\n",
    "from Orange.classification.rules import CN2Learner\n",
    "from Orange.evaluation import compute_CD, graph_ranks\n",
    "\n",
    "# scipy\n",
    "import scipy\n",
    "from scipy.stats import friedmanchisquare\n",
    "from scipy.stats import rankdata\n",
    "\n",
    "from pprint import pprint\n",
    "\n",
    "import pickle\n",
    "\n",
    "import numpy as np\n",
    "from numpy import nan\n",
    "\n",
    "import random"
   ]
  },
  {
   "cell_type": "markdown",
   "metadata": {},
   "source": [
    "# Data"
   ]
  },
  {
   "cell_type": "code",
   "execution_count": 372,
   "metadata": {},
   "outputs": [],
   "source": [
    "# balanced train and test sets\n",
    "def balance_data(X, y):\n",
    "    X_bal = []\n",
    "    y_bal = []\n",
    "    X_rest = []\n",
    "    y_rest = []\n",
    "    min1 = len([tar for tar in y if tar==1])\n",
    "    min2 = len([tar for tar in y if tar==-1])\n",
    "    mini = min1\n",
    "    if min2 < min1:\n",
    "        mini = min2\n",
    "\n",
    "    cnt_1 = 0\n",
    "    cnt_0 = 0\n",
    "    print(mini)\n",
    "    for i, tar in enumerate(y):\n",
    "        if tar == 1 and cnt_1<mini:\n",
    "            cnt_1+=1\n",
    "            X_bal.append(X[i])\n",
    "            y_bal.append(y[i])\n",
    "        elif tar == -1 and cnt_0<mini:\n",
    "            cnt_0+=1\n",
    "            X_bal.append(X[i])\n",
    "            y_bal.append(y[i])\n",
    "        else:\n",
    "            X_rest.append(X[i])\n",
    "            y_rest.append(y[i])\n",
    "\n",
    "    print(\"# X_bal:\", len(X_bal))\n",
    "    print(\"# y_bal:\", len(y_bal))\n",
    "    print(\"% compromised: \", len([tar for tar in y_bal if tar==1])/len(y_bal))\n",
    "    print(\"% malicious: \", len([tar for tar in y_bal if tar==-1])/len(y_bal))\n",
    "    \n",
    "    print(\"# X_rest:\", len(X_rest))\n",
    "    print(\"# y_rest:\", len(y_rest))\n",
    "    print(\"% compromised: \", len([tar for tar in y_rest if tar==1])/len(y_rest))\n",
    "    print(\"% malicious: \", len([tar for tar in y_rest if tar==-1])/len(y_rest))\n",
    "    \n",
    "    return [X_bal, y_bal, X_rest, y_rest]"
   ]
  },
  {
   "cell_type": "markdown",
   "metadata": {},
   "source": [
    "### Train/Test"
   ]
  },
  {
   "cell_type": "code",
   "execution_count": 373,
   "metadata": {},
   "outputs": [
    {
     "name": "stdout",
     "output_type": "stream",
     "text": [
      "(6409, 19)\n",
      "(6409,)\n",
      "['archived', 'years_active', 'years_inactive', 'num_captures', 'freenom_tld', 'prev_mal_tld', 'wildcard_subdomain', 'reachable', 'redirected', 'blocked', 'alexa_rank', 'ratio_longest_word', 'contain_digit', 'contain_dash', 'name_len', 'brandname_partialratio', 'prev_mal_domain_ed', 'sub_levels', 'num_sub']\n",
      "[{'dataset': 'unlabeled-apwg',\n",
      "  'feat': [1,\n",
      "           3,\n",
      "           0,\n",
      "           19.0,\n",
      "           0,\n",
      "           0,\n",
      "           0,\n",
      "           1,\n",
      "           0,\n",
      "           0,\n",
      "           nan,\n",
      "           0.2857142857142857,\n",
      "           0,\n",
      "           0,\n",
      "           4,\n",
      "           67,\n",
      "           0.25,\n",
      "           0,\n",
      "           1],\n",
      "  'feat_labels': ['archived',\n",
      "                  'years_active',\n",
      "                  'years_inactive',\n",
      "                  'num_captures',\n",
      "                  'freenom_tld',\n",
      "                  'prev_mal_tld',\n",
      "                  'wildcard_subdomain',\n",
      "                  'reachable',\n",
      "                  'redirected',\n",
      "                  'blocked',\n",
      "                  'alexa_rank',\n",
      "                  'ratio_longest_word',\n",
      "                  'contain_digit',\n",
      "                  'contain_dash',\n",
      "                  'name_len',\n",
      "                  'brandname_partialratio',\n",
      "                  'prev_mal_domain_ed',\n",
      "                  'sub_levels',\n",
      "                  'num_sub'],\n",
      "  'info': ['urla.fr', 'f4caa91b5890eccfe812f918ba6929f3'],\n",
      "  'target': 1},\n",
      " {'dataset': 'unlabeled-apwg',\n",
      "  'feat': [1,\n",
      "           11,\n",
      "           1,\n",
      "           82.0,\n",
      "           0,\n",
      "           0,\n",
      "           0,\n",
      "           1,\n",
      "           0,\n",
      "           0,\n",
      "           nan,\n",
      "           0.2222222222222222,\n",
      "           0,\n",
      "           0,\n",
      "           3,\n",
      "           67,\n",
      "           0.3333333333333333,\n",
      "           0,\n",
      "           1],\n",
      "  'feat_labels': ['archived',\n",
      "                  'years_active',\n",
      "                  'years_inactive',\n",
      "                  'num_captures',\n",
      "                  'freenom_tld',\n",
      "                  'prev_mal_tld',\n",
      "                  'wildcard_subdomain',\n",
      "                  'reachable',\n",
      "                  'redirected',\n",
      "                  'blocked',\n",
      "                  'alexa_rank',\n",
      "                  'ratio_longest_word',\n",
      "                  'contain_digit',\n",
      "                  'contain_dash',\n",
      "                  'name_len',\n",
      "                  'brandname_partialratio',\n",
      "                  'prev_mal_domain_ed',\n",
      "                  'sub_levels',\n",
      "                  'num_sub'],\n",
      "  'info': ['gbs.ac.in', 'd4b5a68899dd6bafae21d8c3f77cb917'],\n",
      "  'target': 1},\n",
      " {'dataset': 'unlabeled-apwg',\n",
      "  'feat': [1,\n",
      "           7,\n",
      "           1,\n",
      "           25.0,\n",
      "           0,\n",
      "           0,\n",
      "           0,\n",
      "           1,\n",
      "           0,\n",
      "           0,\n",
      "           nan,\n",
      "           0.3,\n",
      "           0,\n",
      "           0,\n",
      "           6,\n",
      "           67,\n",
      "           0.16666666666666666,\n",
      "           1,\n",
      "           1],\n",
      "  'feat_labels': ['archived',\n",
      "                  'years_active',\n",
      "                  'years_inactive',\n",
      "                  'num_captures',\n",
      "                  'freenom_tld',\n",
      "                  'prev_mal_tld',\n",
      "                  'wildcard_subdomain',\n",
      "                  'reachable',\n",
      "                  'redirected',\n",
      "                  'blocked',\n",
      "                  'alexa_rank',\n",
      "                  'ratio_longest_word',\n",
      "                  'contain_digit',\n",
      "                  'contain_dash',\n",
      "                  'name_len',\n",
      "                  'brandname_partialratio',\n",
      "                  'prev_mal_domain_ed',\n",
      "                  'sub_levels',\n",
      "                  'num_sub'],\n",
      "  'info': ['jomave.com', 'f71bcbb753b031df050dc9b2a03754ae'],\n",
      "  'target': 1},\n",
      " {'dataset': 'unlabeled-apwg',\n",
      "  'feat': [1,\n",
      "           4,\n",
      "           3,\n",
      "           14.0,\n",
      "           0,\n",
      "           0,\n",
      "           0,\n",
      "           1,\n",
      "           0,\n",
      "           1,\n",
      "           nan,\n",
      "           0.5454545454545454,\n",
      "           1,\n",
      "           0,\n",
      "           8,\n",
      "           67,\n",
      "           0.125,\n",
      "           0,\n",
      "           1],\n",
      "  'feat_labels': ['archived',\n",
      "                  'years_active',\n",
      "                  'years_inactive',\n",
      "                  'num_captures',\n",
      "                  'freenom_tld',\n",
      "                  'prev_mal_tld',\n",
      "                  'wildcard_subdomain',\n",
      "                  'reachable',\n",
      "                  'redirected',\n",
      "                  'blocked',\n",
      "                  'alexa_rank',\n",
      "                  'ratio_longest_word',\n",
      "                  'contain_digit',\n",
      "                  'contain_dash',\n",
      "                  'name_len',\n",
      "                  'brandname_partialratio',\n",
      "                  'prev_mal_domain_ed',\n",
      "                  'sub_levels',\n",
      "                  'num_sub'],\n",
      "  'info': ['3dartist.ir', 'e3484178574b33d2a3c3106faa94a883'],\n",
      "  'target': 1},\n",
      " {'dataset': 'unlabeled-apwg',\n",
      "  'feat': [0,\n",
      "           nan,\n",
      "           nan,\n",
      "           nan,\n",
      "           0,\n",
      "           1,\n",
      "           0,\n",
      "           1,\n",
      "           0,\n",
      "           0,\n",
      "           nan,\n",
      "           0.35714285714285715,\n",
      "           0,\n",
      "           0,\n",
      "           10,\n",
      "           67,\n",
      "           0.1,\n",
      "           0,\n",
      "           1],\n",
      "  'feat_labels': ['archived',\n",
      "                  'years_active',\n",
      "                  'years_inactive',\n",
      "                  'num_captures',\n",
      "                  'freenom_tld',\n",
      "                  'prev_mal_tld',\n",
      "                  'wildcard_subdomain',\n",
      "                  'reachable',\n",
      "                  'redirected',\n",
      "                  'blocked',\n",
      "                  'alexa_rank',\n",
      "                  'ratio_longest_word',\n",
      "                  'contain_digit',\n",
      "                  'contain_dash',\n",
      "                  'name_len',\n",
      "                  'brandname_partialratio',\n",
      "                  'prev_mal_domain_ed',\n",
      "                  'sub_levels',\n",
      "                  'num_sub'],\n",
      "  'info': ['cygpwstyle.top', '6ddfe7f60a20500b67a2173a30c740e2'],\n",
      "  'target': -1}]\n",
      "array([[ 1.        ,  3.        ,  0.        , 19.        ,  0.        ,\n",
      "         0.        ,  0.        ,  1.        ,  0.        ,  0.        ,\n",
      "                nan,  0.28571429,  0.        ,  0.        ,  4.        ,\n",
      "        67.        ,  0.25      ,  0.        ,  1.        ],\n",
      "       [ 1.        , 11.        ,  1.        , 82.        ,  0.        ,\n",
      "         0.        ,  0.        ,  1.        ,  0.        ,  0.        ,\n",
      "                nan,  0.22222222,  0.        ,  0.        ,  3.        ,\n",
      "        67.        ,  0.33333333,  0.        ,  1.        ],\n",
      "       [ 1.        ,  7.        ,  1.        , 25.        ,  0.        ,\n",
      "         0.        ,  0.        ,  1.        ,  0.        ,  0.        ,\n",
      "                nan,  0.3       ,  0.        ,  0.        ,  6.        ,\n",
      "        67.        ,  0.16666667,  1.        ,  1.        ],\n",
      "       [ 1.        ,  4.        ,  3.        , 14.        ,  0.        ,\n",
      "         0.        ,  0.        ,  1.        ,  0.        ,  1.        ,\n",
      "                nan,  0.54545455,  1.        ,  0.        ,  8.        ,\n",
      "        67.        ,  0.125     ,  0.        ,  1.        ],\n",
      "       [ 0.        ,         nan,         nan,         nan,  0.        ,\n",
      "         1.        ,  0.        ,  1.        ,  0.        ,  0.        ,\n",
      "                nan,  0.35714286,  0.        ,  0.        , 10.        ,\n",
      "        67.        ,  0.1       ,  0.        ,  1.        ]])\n",
      "array([ 1,  1,  1,  1, -1])\n",
      "# compromised:  4053\n",
      "# malicious:  2356\n",
      "% compromised:  0.6323919488219691\n",
      "% malicious:  0.3676080511780309\n"
     ]
    }
   ],
   "source": [
    "with open(\"data/data_cluster_6409\", \"r\", encoding='utf-8') as f:\n",
    "    data_train = eval(f.read())\n",
    "    \n",
    "random.Random(4).shuffle(data_train)\n",
    "\n",
    "Xtrain = np.array([d['feat'] for d in data_train])\n",
    "ytrain = np.array([d['target'] for d in data_train])\n",
    "feat_labels = data_train[0]['feat_labels']\n",
    "print(Xtrain.shape)\n",
    "print(ytrain.shape)\n",
    "print(feat_labels)\n",
    "pprint(data_train[:5])\n",
    "pprint(Xtrain[:5])\n",
    "pprint(ytrain[:5])\n",
    "print(\"# compromised: \", len([tar for tar in ytrain if tar==1]))\n",
    "print(\"# malicious: \", len([tar for tar in ytrain if tar==-1]))\n",
    "print(\"% compromised: \", len([tar for tar in ytrain if tar==1])/len(ytrain))\n",
    "print(\"% malicious: \", len([tar for tar in ytrain if tar==-1])/len(ytrain))"
   ]
  },
  {
   "cell_type": "code",
   "execution_count": 374,
   "metadata": {},
   "outputs": [
    {
     "name": "stdout",
     "output_type": "stream",
     "text": [
      "2356\n",
      "# X_bal: 4712\n",
      "# y_bal: 4712\n",
      "% compromised:  0.5\n",
      "% malicious:  0.5\n",
      "# X_rest: 1697\n",
      "# y_rest: 1697\n",
      "% compromised:  1.0\n",
      "% malicious:  0.0\n"
     ]
    }
   ],
   "source": [
    "# balance\n",
    "Xtrain, ytrain, Xtest, ytest = balance_data(Xtrain, ytrain)"
   ]
  },
  {
   "cell_type": "markdown",
   "metadata": {},
   "source": [
    "### Predict"
   ]
  },
  {
   "cell_type": "code",
   "execution_count": 375,
   "metadata": {
    "scrolled": true
   },
   "outputs": [
    {
     "name": "stdout",
     "output_type": "stream",
     "text": [
      "{'comp-deltaphish',\n",
      " 'comp-phishlabs',\n",
      " 'mal-apwg',\n",
      " 'mal-future-apwg',\n",
      " 'mal-phishlabs',\n",
      " 'unlabeled-apwg'}\n"
     ]
    }
   ],
   "source": [
    "with open(\"/home/sophie/SSRG/domainclassification/results/dataset/domain_target_55383\", \"r\", encoding='utf-8') as f:\n",
    "    data_predict = eval(f.read())\n",
    "    \n",
    "random.Random(4).shuffle(data_predict)\n",
    "    \n",
    "datasets = set([d['dataset'] for d in data_predict])\n",
    "pprint(datasets)"
   ]
  },
  {
   "cell_type": "markdown",
   "metadata": {},
   "source": [
    "#### Cluster training"
   ]
  },
  {
   "cell_type": "code",
   "execution_count": 376,
   "metadata": {},
   "outputs": [
    {
     "name": "stdout",
     "output_type": "stream",
     "text": [
      "(1164, 19)\n",
      "(1164,)\n",
      "['archived', 'years_active', 'years_inactive', 'num_captures', 'freenom_tld', 'prev_mal_tld', 'wildcard_subdomain', 'reachable', 'redirected', 'blocked', 'alexa_rank', 'ratio_longest_word', 'contain_digit', 'contain_dash', 'name_len', 'brandname_partialratio', 'prev_mal_domain_ed', 'sub_levels', 'num_sub']\n",
      "array([[1.00000000e+00, 1.60000000e+01, 1.00000000e+00, 8.44000000e+02,\n",
      "        0.00000000e+00, 0.00000000e+00, 0.00000000e+00, 1.00000000e+00,\n",
      "        0.00000000e+00, 0.00000000e+00, 2.30597000e+05, 3.15789474e-01,\n",
      "        0.00000000e+00, 0.00000000e+00, 1.50000000e+01, 6.70000000e+01,\n",
      "        6.66666667e-02, 1.00000000e+00, 1.00000000e+00],\n",
      "       [0.00000000e+00,            nan,            nan,            nan,\n",
      "        0.00000000e+00, 1.00000000e+00, 0.00000000e+00, 1.00000000e+00,\n",
      "        1.00000000e+00, 0.00000000e+00,            nan, 3.18181818e-01,\n",
      "        0.00000000e+00, 0.00000000e+00, 1.80000000e+01, 1.00000000e+02,\n",
      "        5.55555556e-02, 0.00000000e+00, 2.00000000e+00],\n",
      "       [0.00000000e+00,            nan,            nan,            nan,\n",
      "        0.00000000e+00, 0.00000000e+00, 0.00000000e+00, 0.00000000e+00,\n",
      "                   nan,            nan,            nan, 1.90476190e-01,\n",
      "        1.00000000e+00, 0.00000000e+00, 1.40000000e+01, 7.50000000e+01,\n",
      "        7.14285714e-02, 0.00000000e+00, 1.00000000e+00],\n",
      "       [0.00000000e+00,            nan,            nan,            nan,\n",
      "        0.00000000e+00, 1.00000000e+00, 0.00000000e+00, 1.00000000e+00,\n",
      "        0.00000000e+00, 0.00000000e+00,            nan, 4.28571429e-01,\n",
      "        0.00000000e+00, 1.00000000e+00, 1.00000000e+01, 6.70000000e+01,\n",
      "        1.00000000e-01, 0.00000000e+00, 1.00000000e+00],\n",
      "       [1.00000000e+00, 9.00000000e+00, 1.00000000e+00, 5.00000000e+01,\n",
      "        0.00000000e+00, 0.00000000e+00, 1.00000000e+00, 1.00000000e+00,\n",
      "        0.00000000e+00, 0.00000000e+00,            nan, 2.85714286e-01,\n",
      "        0.00000000e+00, 0.00000000e+00, 1.00000000e+01, 6.70000000e+01,\n",
      "        1.00000000e-01, 0.00000000e+00, 1.00000000e+00]])\n",
      "array([ 1, -1,  1, -1,  1])\n",
      "# compromised:  669\n",
      "# malicious:  495\n",
      "% compromised:  0.5747422680412371\n",
      "% malicious:  0.4252577319587629\n"
     ]
    }
   ],
   "source": [
    "#data used for cluster training\n",
    "dataset_val = {\"comp-phishlabs\", \"mal-apwg\"}\n",
    "#dataset_val = {\"comp-deltaphish\", \"mal-apwg\"}\n",
    "Xval = np.array([d['feat'] for d in data_predict if d['dataset'] in dataset_val])\n",
    "yval = np.array([d['target'] for d in data_predict if d['dataset'] in dataset_val])\n",
    "feat_labels = data_predict[0]['feat_labels']\n",
    "print(Xval.shape)\n",
    "print(yval.shape)\n",
    "print(feat_labels)\n",
    "pprint(Xval[:5])\n",
    "pprint(yval[:5])\n",
    "print(\"# compromised: \", len([tar for tar in yval if tar==1]))\n",
    "print(\"# malicious: \", len([tar for tar in yval if tar==-1]))\n",
    "print(\"% compromised: \", len([tar for tar in yval if tar==1])/len(yval))\n",
    "print(\"% malicious: \", len([tar for tar in yval if tar==-1])/len(yval))"
   ]
  },
  {
   "cell_type": "code",
   "execution_count": 377,
   "metadata": {},
   "outputs": [
    {
     "name": "stdout",
     "output_type": "stream",
     "text": [
      "495\n",
      "# X_bal: 990\n",
      "# y_bal: 990\n",
      "% compromised:  0.5\n",
      "% malicious:  0.5\n",
      "# X_rest: 174\n",
      "# y_rest: 174\n",
      "% compromised:  1.0\n",
      "% malicious:  0.0\n"
     ]
    }
   ],
   "source": [
    "# balance\n",
    "Xvalb, yvalb, Xvaltestb, yvaltestb = balance_data(Xval, yval)"
   ]
  },
  {
   "cell_type": "markdown",
   "metadata": {},
   "source": [
    "# Normalize and imputer"
   ]
  },
  {
   "cell_type": "code",
   "execution_count": 378,
   "metadata": {},
   "outputs": [
    {
     "name": "stdout",
     "output_type": "stream",
     "text": [
      "[ 1.10175364e+00 -8.56914025e-02  3.83662731e-02 -2.83766469e-01\n",
      " -2.52404028e-02 -8.76037591e-01 -2.81072238e-01  6.27760177e-01\n",
      " -5.20514003e-01 -6.49935977e-01  1.93551622e-13 -1.21020732e-01\n",
      " -1.58868935e-01 -2.23407416e-01 -6.86233999e-01 -2.30436734e-01\n",
      "  3.46893935e-01  9.27303174e-01 -4.76666305e-02]\n"
     ]
    }
   ],
   "source": [
    "imp = Imputer(missing_values=np.nan, strategy='mean')\n",
    "imp.fit(Xtrain)\n",
    "Xtrain = imp.transform(Xtrain)\n",
    "\n",
    "scaler = StandardScaler()\n",
    "scaler.fit(Xtrain)\n",
    "Xtrain = scaler.transform(Xtrain)\n",
    "\n",
    "print(Xtrain[2])"
   ]
  },
  {
   "cell_type": "code",
   "execution_count": 379,
   "metadata": {},
   "outputs": [
    {
     "name": "stdout",
     "output_type": "stream",
     "text": [
      "[-9.08029337e-01  3.41171217e-14  1.96996182e-14  1.58027665e-14\n",
      " -2.52404028e-02 -8.76037591e-01 -2.81072238e-01 -1.59296501e+00\n",
      " -1.58924077e-14 -1.07827558e-14  1.93551622e-13 -1.21114055e+00\n",
      "  6.29449678e+00 -2.23407416e-01  6.80000121e-01  3.33404830e-01\n",
      " -8.25535785e-01 -3.13313679e-01 -4.76666305e-02]\n"
     ]
    }
   ],
   "source": [
    "Xvalb = imp.transform(Xvalb)\n",
    "Xvalb = scaler.transform(Xvalb)\n",
    "print(Xvalb[2])"
   ]
  },
  {
   "cell_type": "markdown",
   "metadata": {},
   "source": [
    "# Feature calibration"
   ]
  },
  {
   "cell_type": "code",
   "execution_count": 380,
   "metadata": {},
   "outputs": [],
   "source": [
    "def sortAscendingFeature(cX, cy):\n",
    "    idx_cX = np.argsort(cX)\n",
    "    cX = np.array(cX)[idx_cX]\n",
    "    cy = np.array(cy)[idx_cX]\n",
    "    return cX, idx_cX, cy"
   ]
  },
  {
   "cell_type": "code",
   "execution_count": 381,
   "metadata": {},
   "outputs": [],
   "source": [
    "def calibratedFeature(cX, cy, iso=None):\n",
    "    cX, idx_cX, _ = sortAscendingFeature(cX, cy)\n",
    "    #print(cX[:-20])\n",
    "    \n",
    "    if iso is None:\n",
    "        iso = IsotonicRegression(out_of_bounds='clip')\n",
    "        iso.fit(cX, cy)\n",
    "        \n",
    "    cX = iso.transform(cX)\n",
    "    #print(cX[:-20])\n",
    "    \n",
    "    # sort back to original indexes\n",
    "    idx_cX_sort = np.sort(idx_cX)\n",
    "    cX = np.array(cX)[idx_cX_sort]\n",
    "    return cX, iso"
   ]
  },
  {
   "cell_type": "code",
   "execution_count": 382,
   "metadata": {},
   "outputs": [],
   "source": [
    "# calibrated features\n",
    "cfeatures = {'years_active', 'years_inactive', 'num_captures', 'alexa_rank', 'sub_levels', 'num_sub'}"
   ]
  },
  {
   "cell_type": "code",
   "execution_count": 383,
   "metadata": {},
   "outputs": [],
   "source": [
    "iso_functions = []\n",
    "for i, feat in enumerate(feat_labels):\n",
    "    if feat in cfeatures:\n",
    "\n",
    "        cX, cy = Xtrain[:,i], ytrain\n",
    "        cX, iso = calibratedFeature(cX, cy)\n",
    "        \n",
    "        Xtrain[:, i] = cX\n",
    "        iso_functions.append(iso)"
   ]
  },
  {
   "cell_type": "code",
   "execution_count": 384,
   "metadata": {},
   "outputs": [
    {
     "name": "stdout",
     "output_type": "stream",
     "text": [
      "6\n"
     ]
    }
   ],
   "source": [
    "print(len(iso_functions))"
   ]
  },
  {
   "cell_type": "code",
   "execution_count": 385,
   "metadata": {},
   "outputs": [],
   "source": [
    "def applyIsoFunction(X, y, iso_functions):\n",
    "    cnt = 0\n",
    "    for i, feat in enumerate(feat_labels):\n",
    "        if feat in cfeatures:\n",
    "            \n",
    "            # select specific feature\n",
    "            cX = X[:,i]\n",
    "            \n",
    "            # get transformed feature with specific iso function\n",
    "            cX, _ = calibratedFeature(cX, y, iso_functions[cnt])\n",
    "            cnt+=1\n",
    "            \n",
    "            # update calibrated feature\n",
    "            X[:, i] = cX\n",
    "    \n",
    "    return X"
   ]
  },
  {
   "cell_type": "code",
   "execution_count": 387,
   "metadata": {},
   "outputs": [],
   "source": [
    "Xvalb_new = applyIsoFunction(Xvalb, yvalb, iso_functions)"
   ]
  },
  {
   "cell_type": "markdown",
   "metadata": {},
   "source": [
    "# Visualize data with t-SNE"
   ]
  },
  {
   "cell_type": "markdown",
   "metadata": {},
   "source": [
    "Takes a high dimensional dataset and reduces to a low dimensional graph that retains a lot of the original information.\n",
    "\n",
    "What t-SNE does is find a way to project data into a low dimensional space so that the clustering in the high dimensional space is preserved.\n",
    "\n",
    "O(n^2) time and memory. "
   ]
  },
  {
   "cell_type": "code",
   "execution_count": 128,
   "metadata": {},
   "outputs": [],
   "source": [
    "def plottsne(data, ax, title=None):\n",
    "    X_embedded = data[0]\n",
    "    y = data[1]\n",
    "    sc = ax.scatter(X_embedded[:, 0], X_embedded[:, 1],\n",
    "                c=y, marker='o', alpha=.3)\n",
    "    #plt.colorbar(sc)\n",
    "    if title:\n",
    "        ax.set_title(title)\n",
    "    return sc"
   ]
  },
  {
   "cell_type": "code",
   "execution_count": 129,
   "metadata": {},
   "outputs": [],
   "source": [
    "def plotsidebyside(tr, te, title1=None, title2=None):\n",
    "    # display images\n",
    "    fig, ax = plt.subplots(1,2)\n",
    "    #fig.set_size_inches(18.5, 10.5)\n",
    "    fig.set_size_inches(15, 7)\n",
    "    \n",
    "    if tr:\n",
    "        sc_tr = plottsne(tr, ax[0], title1)\n",
    "    if te:\n",
    "        sc_te = plottsne(te, ax[1], title2)\n",
    "    \n",
    "    #plt.figure(figsize=(15, 15))\n",
    "    print(\"blue malicious (owned), yellow compromised (hacked)\")"
   ]
  },
  {
   "cell_type": "code",
   "execution_count": 211,
   "metadata": {},
   "outputs": [],
   "source": [
    "Xtrain_embedded = TSNE(n_components=2, perplexity=40, verbose=0).fit_transform(Xtrain)"
   ]
  },
  {
   "cell_type": "code",
   "execution_count": 212,
   "metadata": {},
   "outputs": [
    {
     "name": "stdout",
     "output_type": "stream",
     "text": [
      "blue malicious (owned), yellow compromised (hacked)\n"
     ]
    },
    {
     "data": {
      "image/png": "[encoded data removed]",
      "text/plain": [
       "<matplotlib.figure.Figure at 0x7fc876e7deb8>"
      ]
     },
     "metadata": {},
     "output_type": "display_data"
    }
   ],
   "source": [
    "plotsidebyside([Xtrain_embedded, ytrain], None, title1=\"Train\", title2=\"Test\")"
   ]
  },
  {
   "cell_type": "code",
   "execution_count": 282,
   "metadata": {},
   "outputs": [],
   "source": [
    "Xvalb_embedded = TSNE(n_components=2, perplexity=40, verbose=0).fit_transform(Xvalb_new)"
   ]
  },
  {
   "cell_type": "code",
   "execution_count": 283,
   "metadata": {},
   "outputs": [
    {
     "name": "stdout",
     "output_type": "stream",
     "text": [
      "blue malicious (owned), yellow compromised (hacked)\n"
     ]
    },
    {
     "data": {
      "image/png": "[encoded data removed]",
      "text/plain": [
       "<matplotlib.figure.Figure at 0x7fc7ed918e80>"
      ]
     },
     "metadata": {},
     "output_type": "display_data"
    }
   ],
   "source": [
    "plotsidebyside([Xvalb_embedded, yvalb], None, title1=\"Train\", title2=\"Test\")"
   ]
  },
  {
   "cell_type": "markdown",
   "metadata": {},
   "source": [
    "# Models"
   ]
  },
  {
   "cell_type": "markdown",
   "metadata": {},
   "source": [
    "#### Default"
   ]
  },
  {
   "cell_type": "code",
   "execution_count": 388,
   "metadata": {},
   "outputs": [],
   "source": [
    "names = [\n",
    "         \"KNeighbors\", \n",
    "         #\"SVM\", \n",
    "         \"NeuralNetwork\",\n",
    "         \"DecisionTree\", \n",
    "         #\"CN2Learner\",\n",
    "         \"RandomForest\",\n",
    "         \"Dummy\",\n",
    "        ]\n",
    "\n",
    "classifiers = [\n",
    "    KNeighborsClassifier(),\n",
    "    #SVC(random_state=42, probability=True),\n",
    "    MLPClassifier(random_state=42),\n",
    "    DecisionTreeClassifier(random_state=42),\n",
    "    #CN2Learner(),\n",
    "    #RandomForestClassifier(max_depth=5, n_estimators=100, max_features=1, random_state=42),\n",
    "    RandomForestClassifier(random_state=42),\n",
    "    DummyClassifier(random_state=42),\n",
    "]"
   ]
  },
  {
   "cell_type": "markdown",
   "metadata": {},
   "source": [
    "#### Tunned"
   ]
  },
  {
   "cell_type": "code",
   "execution_count": 389,
   "metadata": {},
   "outputs": [],
   "source": [
    "names = [\n",
    "         \"KNeighbors\", \n",
    "         #\"SVM\", \n",
    "         \"NeuralNetwork\",\n",
    "         \"DecisionTree\", \n",
    "         \"RandomForest\",\n",
    "         \"Dummy\",\n",
    "        ]\n",
    "\n",
    "classifiers = [\n",
    "    KNeighborsClassifier(n_neighbors=11, weights='uniform', p=1),\n",
    "    #SVC(kernel=\"rbf\", random_state=42, probability=True),\n",
    "    MLPClassifier(random_state=42),\n",
    "    DecisionTreeClassifier(criterion='gini', max_depth=4, min_samples_split=2,  max_features=2, random_state=42),\n",
    "    #DecisionTreeClassifier(random_state=42),\n",
    "    #RandomForestClassifier(n_estimators=100, max_depth=4, max_features='auto', random_state=42),\n",
    "    RandomForestClassifier(n_estimators=100, max_depth=1, max_features='auto', random_state=42),\n",
    "    #RandomForestClassifier(n_estimators=100, max_depth=5, max_features=1, random_state=42),\n",
    "    DummyClassifier(random_state=42),\n",
    "]"
   ]
  },
  {
   "cell_type": "markdown",
   "metadata": {},
   "source": [
    "# ROC\n",
    "Compare the performance of each model."
   ]
  },
  {
   "cell_type": "code",
   "execution_count": 148,
   "metadata": {},
   "outputs": [],
   "source": [
    "def plot_roc_curve(fpr, tpr, ax, axins, name, label=None):\n",
    "    #plt.xlim(0, 0.2)\n",
    "    #plt.ylim(0.6, 1)\n",
    "    #ax.plot(fpr, tpr, 'r', linewidth=2, label=label)\n",
    "    ax.plot(fpr, tpr, linewidth=2, label=label)\n",
    "    ax.grid()\n",
    "    if axins and name == 'Random Forest':\n",
    "        axins.plot(fpr, tpr, 'r', linewidth=2)\n",
    "        axins.grid()\n",
    "        axins.set_xticks(ticks=[0,5,10,15,20])\n",
    "        axins.set_yticks(ticks=[60,70,80,90,100])"
   ]
  },
  {
   "cell_type": "code",
   "execution_count": 149,
   "metadata": {},
   "outputs": [],
   "source": [
    "def getRoc(data, title=None):\n",
    "    X, y = data\n",
    "    y = y\n",
    "    fig, ax = plt.subplots(1, 1, figsize=(8, 6))\n",
    "    axins = inset_axes(ax, width=2, height=1.5, loc=10)\n",
    "    #axins = inset_axes(ax)\n",
    "\n",
    "    #plt.figure(figsize=(8, 6))\n",
    "    #ax.plot([0, 1], [0, 1], 'k--')\n",
    "    ax.set_xlabel('False Postive Rate (%)')\n",
    "    ax.set_ylabel('True Positive Rate (%)')\n",
    "    ax.axis([0, 100, 0, 100])\n",
    "    ax.set_xticks(ticks=[0,10,20,30,40,50,60,70,80,90,100])\n",
    "    ax.set_yticks(ticks=[0,10,20,30,40,50,60,70,80,90,100])\n",
    "    \n",
    "    #axins.set_xlim([0, 0.5])\n",
    "    #axins.set_ylim([0.6, 1])\n",
    "    axins.axis([0, 20, 60, 100])\n",
    "    #plt.axis([0, 1, 0, 1])\n",
    "    #plt.xlabel('False Positive Rate', fontsize=16)\n",
    "    #plt.ylabel('True Positive Rate', fontsize=16)\n",
    "\n",
    "    for name, clf in zip(names, classifiers):\n",
    "        y_scores = cross_val_predict(clf, X, y, cv=10, method=\"predict_proba\")\n",
    "        fpr, tpr, thresholds = roc_curve(y, y_scores[:, 1])\n",
    "        fpr, tpr = fpr*100, tpr*100\n",
    "        roc_auc = auc(fpr, tpr)/(100*100)\n",
    "        plot_roc_curve(fpr, tpr, ax, axins, name, label='%s (AUC = %0.3f)' % (name, roc_auc))\n",
    "        clf.fit(X,y)\n",
    "        \n",
    "        # second validation\n",
    "        predicted_proba = clf.predict_proba(Xval)\n",
    "        fpr, tpr, thresholds = roc_curve(yval, predicted_proba[:, 1])\n",
    "        fpr, tpr = fpr*100, tpr*100\n",
    "        roc_auc = auc(fpr, tpr)/(100*100)\n",
    "        print(name)\n",
    "        print(roc_auc)\n",
    "        \n",
    "\n",
    "    ax.legend()\n",
    "    #plt.show()"
   ]
  },
  {
   "cell_type": "code",
   "execution_count": 150,
   "metadata": {},
   "outputs": [
    {
     "name": "stdout",
     "output_type": "stream",
     "text": [
      "KNeighbors\n",
      "0.8757621053585178\n",
      "SVM\n",
      "0.9032522534764686\n",
      "DecisionTree\n",
      "0.8338587670426234\n",
      "RandomForest\n",
      "0.9245157101659345\n",
      "Dummy\n",
      "0.5132219051501563\n"
     ]
    },
    {
     "data": {
      "image/png": "[encoded data removed]",
      "text/plain": [
       "<matplotlib.figure.Figure at 0x7f38a326b208>"
      ]
     },
     "metadata": {},
     "output_type": "display_data"
    }
   ],
   "source": [
    "getRoc([Xtrain, ytrain])"
   ]
  },
  {
   "cell_type": "code",
   "execution_count": 151,
   "metadata": {},
   "outputs": [
    {
     "name": "stdout",
     "output_type": "stream",
     "text": [
      "[[1862    0]\n",
      " [   0    0]]\n",
      "acc:  1.0\n",
      "tpr:  1.0\n",
      "fpr:  nan\n",
      "f1:  1.0\n"
     ]
    }
   ],
   "source": [
    "clf = classifiers[1]\n",
    "name = names[1]\n",
    "model = clf.fit(Xtrain, ytrain)\n",
    "\n",
    "#threshold = 0.67\n",
    "threshold = 0.5\n",
    "#threshold = 0.33\n",
    "\n",
    "predicted = model.predict(Xtest)\n",
    "\n",
    "tn, fp, fn, tp = confusion_matrix(ytest, predicted, labels=[-1,1]).ravel()\n",
    "print(np.array([[tp, fp],[fn, tn]]))\n",
    "print(\"acc: \", accuracy_score(ytest, predicted))\n",
    "print(\"tpr: \", tp/(tp+fn))\n",
    "print(\"fpr: \", fp/(tn+fp))\n",
    "#print(\"f1: \", f1_score(ytrain, predicted, average='micro'))\n",
    "print(\"f1: \", f1_score(ytest, predicted))"
   ]
  },
  {
   "cell_type": "markdown",
   "metadata": {},
   "source": [
    "# Model tuning"
   ]
  },
  {
   "cell_type": "code",
   "execution_count": 297,
   "metadata": {},
   "outputs": [],
   "source": [
    "def trainvalModel(clf):\n",
    "    #clf = CalibratedClassifierCV(clf, cv=10, method='isotonic')\n",
    "    clf.fit(Xtrain, ytrain)\n",
    "\n",
    "    ytrain_pred = clf.predict(Xtrain)\n",
    "    acc_train = accuracy_score(ytrain, ytrain_pred)\n",
    "    #tn, fp, fn, tp = confusion_matrix(ytrain, ytrain_pred, labels=[-1,1]).ravel()\n",
    "    #tnr_train = tn/(tn+fp)\n",
    "\n",
    "    yval_pred = clf.predict(Xvalb_new)\n",
    "    acc_val = accuracy_score(yvalb, yval_pred)\n",
    "    #tn, fp, fn, tp = confusion_matrix(yvalb, yval_pred, labels=[-1,1]).ravel()\n",
    "    #tnr_val = tn/(tn+fp)\n",
    "    \n",
    "    return acc_train, acc_val"
   ]
  },
  {
   "cell_type": "code",
   "execution_count": 298,
   "metadata": {},
   "outputs": [],
   "source": [
    "def tuneModel(name, hyperparams):\n",
    "    res = []\n",
    "    if name == \"KNeighbors\":\n",
    "        for n_n in hyperparams['n_neighbors']:\n",
    "            for w in hyperparams['weights']:\n",
    "                for pnum in hyperparams['p']:\n",
    "                    clf = KNeighborsClassifier(n_neighbors=n_n, weights=w, p=pnum)\n",
    "                    \n",
    "                    acc_train, acc_val = trainvalModel(clf)\n",
    "                    entry = [n_n, w, pnum, acc_train, acc_val]\n",
    "                    \n",
    "                    #print(entry)\n",
    "                    res.append(entry)\n",
    "                    \n",
    "    elif name == \"SVM\":\n",
    "        #for g in hyperparams['gamma']:\n",
    "        for k in hyperparams['kernel']:\n",
    "            for sh in hyperparams['shrinking']:\n",
    "                #for d in hyperparams['degree']:\n",
    "                clf = SVC(kernel=k, shrinking=sh, random_state=42)\n",
    "\n",
    "                acc_train, acc_val = trainvalModel(clf)\n",
    "                entry = [k, sh, acc_train, acc_val]\n",
    "\n",
    "                #print(entry)\n",
    "                res.append(entry)\n",
    "\n",
    "    elif name == \"DecisionTree\":\n",
    "        for c in hyperparams['criterion']:\n",
    "            #for sp in hyperparams['splitter']:\n",
    "            for md in hyperparams['max_depth']:\n",
    "                for ms in hyperparams['min_samples_split']:\n",
    "                    #for ml in hyperparams['min_samples_leaf']:\n",
    "                    for mf in hyperparams['max_features']:\n",
    "                        clf = DecisionTreeClassifier(criterion=c, max_depth=md, min_samples_split=ms, max_features=mf, random_state=42)\n",
    "\n",
    "                        acc_train, acc_val = trainvalModel(clf)\n",
    "                        entry = [c, md, ms, mf, acc_train, acc_val]\n",
    "\n",
    "                        #print(entry)\n",
    "                        res.append(entry)\n",
    "\n",
    "    elif name == \"RandomForest\":\n",
    "        #for c in hyperparams['criterion']:\n",
    "        for ne in hyperparams['n_estimators']:\n",
    "            for md in hyperparams['max_depth']:\n",
    "                #for ms in hyperparams['min_samples_split']:\n",
    "                    #for ml in hyperparams['min_samples_leaf']:\n",
    "                for mf in hyperparams['max_features']:\n",
    "                    clf = RandomForestClassifier(n_estimators=ne, max_depth=md, max_features=mf, random_state=42)\n",
    "\n",
    "                    acc_train, acc_val = trainvalModel(clf)\n",
    "                    entry = [ne, md, mf, acc_train, acc_val]\n",
    "\n",
    "                    #print(entry)\n",
    "                    res.append(entry)\n",
    "    \n",
    "    return res"
   ]
  },
  {
   "cell_type": "markdown",
   "metadata": {},
   "source": [
    "#### KNeighbors"
   ]
  },
  {
   "cell_type": "code",
   "execution_count": 299,
   "metadata": {},
   "outputs": [],
   "source": [
    "hyperparams = dict()\n",
    "hyperparams['n_neighbors'] = list(range(5,15))\n",
    "hyperparams['weights'] = ['uniform', 'distance']\n",
    "hyperparams['p'] = [1, 2]\n",
    "name = \"KNeighbors\"\n",
    "res = tuneModel(name, hyperparams)"
   ]
  },
  {
   "cell_type": "code",
   "execution_count": 300,
   "metadata": {},
   "outputs": [],
   "source": [
    "res_sorted = sorted(res, key=lambda x: x[-1], reverse=True)"
   ]
  },
  {
   "cell_type": "code",
   "execution_count": 301,
   "metadata": {},
   "outputs": [
    {
     "name": "stdout",
     "output_type": "stream",
     "text": [
      "[[11, 'uniform', 1, 0.9985144312393888, 0.8282828282828283],\n",
      " [9, 'uniform', 1, 0.9989388794567062, 0.8242424242424242],\n",
      " [12, 'uniform', 1, 0.9985144312393888, 0.8242424242424242],\n",
      " [11, 'distance', 1, 1.0, 0.8232323232323232],\n",
      " [12, 'distance', 1, 1.0, 0.8232323232323232]]\n"
     ]
    }
   ],
   "source": [
    "pprint(res_sorted[:5])"
   ]
  },
  {
   "cell_type": "markdown",
   "metadata": {},
   "source": [
    "#### SVM"
   ]
  },
  {
   "cell_type": "code",
   "execution_count": 302,
   "metadata": {},
   "outputs": [],
   "source": [
    "hyperparams = dict()\n",
    "hyperparams['kernel'] = ['linear', 'rbf', 'sigmoid']\n",
    "hyperparams['shrinking'] = [True, False]\n",
    "#hyperparams['degree'] = list(range(1,10))\n",
    "name = \"SVM\"\n",
    "res = tuneModel(name, hyperparams)"
   ]
  },
  {
   "cell_type": "code",
   "execution_count": 303,
   "metadata": {},
   "outputs": [],
   "source": [
    "res_sorted = sorted(res, key=lambda x: x[-1], reverse=True)"
   ]
  },
  {
   "cell_type": "code",
   "execution_count": 304,
   "metadata": {},
   "outputs": [
    {
     "name": "stdout",
     "output_type": "stream",
     "text": [
      "[['linear', True, 1.0, 0.8363636363636363],\n",
      " ['linear', False, 1.0, 0.8363636363636363],\n",
      " ['rbf', True, 1.0, 0.793939393939394],\n",
      " ['rbf', False, 1.0, 0.793939393939394],\n",
      " ['sigmoid', True, 0.9796264855687606, 0.7565656565656566],\n",
      " ['sigmoid', False, 0.9796264855687606, 0.7565656565656566]]\n"
     ]
    }
   ],
   "source": [
    "pprint(res_sorted[:20])"
   ]
  },
  {
   "cell_type": "markdown",
   "metadata": {},
   "source": [
    "#### Decision Tree"
   ]
  },
  {
   "cell_type": "code",
   "execution_count": 305,
   "metadata": {},
   "outputs": [],
   "source": [
    "hyperparams = dict()\n",
    "hyperparams['criterion'] = ['gini', 'entropy']\n",
    "#hyperparams['splitter'] = ['best', 'random']\n",
    "hyperparams['max_depth'] = [None] + list(range(1,10))\n",
    "hyperparams['min_samples_split'] = list(range(2,5))\n",
    "#hyperparams['min_samples_leaf'] = list(range(1,10))\n",
    "hyperparams['max_features'] = [None, \"auto\", \"sqrt\", \"log2\"] + list(range(1,10))\n",
    "name = \"DecisionTree\"\n",
    "res = tuneModel(name, hyperparams)"
   ]
  },
  {
   "cell_type": "code",
   "execution_count": 306,
   "metadata": {},
   "outputs": [],
   "source": [
    "res_sorted = sorted(res, key=lambda x: x[-1], reverse=True)"
   ]
  },
  {
   "cell_type": "code",
   "execution_count": 307,
   "metadata": {},
   "outputs": [
    {
     "name": "stdout",
     "output_type": "stream",
     "text": [
      "[['gini', 4, 2, 2, 0.9393039049235993, 0.8484848484848485],\n",
      " ['gini', 4, 3, 2, 0.9393039049235993, 0.8484848484848485],\n",
      " ['gini', 4, 4, 2, 0.9393039049235993, 0.8484848484848485],\n",
      " ['gini', None, 2, 8, 1.0, 0.8404040404040404],\n",
      " ['gini', None, 3, 8, 1.0, 0.8404040404040404],\n",
      " ['gini', None, 4, 8, 1.0, 0.8404040404040404],\n",
      " ['gini', 4, 2, 8, 0.995118845500849, 0.8404040404040404],\n",
      " ['gini', 4, 3, 8, 0.995118845500849, 0.8404040404040404],\n",
      " ['gini', 4, 4, 8, 0.995118845500849, 0.8404040404040404],\n",
      " ['gini', 5, 2, 8, 1.0, 0.8404040404040404],\n",
      " ['gini', 5, 3, 8, 1.0, 0.8404040404040404],\n",
      " ['gini', 5, 4, 8, 1.0, 0.8404040404040404],\n",
      " ['gini', 6, 2, 8, 1.0, 0.8404040404040404],\n",
      " ['gini', 6, 3, 8, 1.0, 0.8404040404040404],\n",
      " ['gini', 6, 4, 8, 1.0, 0.8404040404040404],\n",
      " ['gini', 7, 2, 8, 1.0, 0.8404040404040404],\n",
      " ['gini', 7, 3, 8, 1.0, 0.8404040404040404],\n",
      " ['gini', 7, 4, 8, 1.0, 0.8404040404040404],\n",
      " ['gini', 8, 2, 8, 1.0, 0.8404040404040404],\n",
      " ['gini', 8, 3, 8, 1.0, 0.8404040404040404],\n",
      " ['gini', 8, 4, 8, 1.0, 0.8404040404040404],\n",
      " ['gini', 9, 2, 8, 1.0, 0.8404040404040404],\n",
      " ['gini', 9, 3, 8, 1.0, 0.8404040404040404],\n",
      " ['gini', 9, 4, 8, 1.0, 0.8404040404040404],\n",
      " ['gini', None, 2, None, 1.0, 0.8363636363636363],\n",
      " ['gini', None, 2, 6, 1.0, 0.8363636363636363],\n",
      " ['gini', None, 3, None, 1.0, 0.8363636363636363],\n",
      " ['gini', None, 3, 6, 1.0, 0.8363636363636363],\n",
      " ['gini', None, 4, None, 1.0, 0.8363636363636363],\n",
      " ['gini', None, 4, 6, 1.0, 0.8363636363636363],\n",
      " ['gini', 2, 2, None, 0.9946943972835314, 0.8363636363636363],\n",
      " ['gini', 2, 3, None, 0.9946943972835314, 0.8363636363636363],\n",
      " ['gini', 2, 4, None, 0.9946943972835314, 0.8363636363636363],\n",
      " ['gini', 3, 2, None, 1.0, 0.8363636363636363],\n",
      " ['gini', 3, 2, 6, 0.9946943972835314, 0.8363636363636363],\n",
      " ['gini', 3, 3, None, 1.0, 0.8363636363636363],\n",
      " ['gini', 3, 3, 6, 0.9946943972835314, 0.8363636363636363],\n",
      " ['gini', 3, 4, None, 1.0, 0.8363636363636363],\n",
      " ['gini', 3, 4, 6, 0.9946943972835314, 0.8363636363636363],\n",
      " ['gini', 4, 2, None, 1.0, 0.8363636363636363],\n",
      " ['gini', 4, 2, 6, 1.0, 0.8363636363636363],\n",
      " ['gini', 4, 3, None, 1.0, 0.8363636363636363],\n",
      " ['gini', 4, 3, 6, 1.0, 0.8363636363636363],\n",
      " ['gini', 4, 4, None, 1.0, 0.8363636363636363],\n",
      " ['gini', 4, 4, 6, 1.0, 0.8363636363636363],\n",
      " ['gini', 5, 2, None, 1.0, 0.8363636363636363],\n",
      " ['gini', 5, 2, 6, 1.0, 0.8363636363636363],\n",
      " ['gini', 5, 3, None, 1.0, 0.8363636363636363],\n",
      " ['gini', 5, 3, 6, 1.0, 0.8363636363636363],\n",
      " ['gini', 5, 4, None, 1.0, 0.8363636363636363],\n",
      " ['gini', 5, 4, 6, 1.0, 0.8363636363636363],\n",
      " ['gini', 6, 2, None, 1.0, 0.8363636363636363],\n",
      " ['gini', 6, 2, 6, 1.0, 0.8363636363636363],\n",
      " ['gini', 6, 3, None, 1.0, 0.8363636363636363],\n",
      " ['gini', 6, 3, 6, 1.0, 0.8363636363636363],\n",
      " ['gini', 6, 4, None, 1.0, 0.8363636363636363],\n",
      " ['gini', 6, 4, 6, 1.0, 0.8363636363636363],\n",
      " ['gini', 7, 2, None, 1.0, 0.8363636363636363],\n",
      " ['gini', 7, 2, 6, 1.0, 0.8363636363636363],\n",
      " ['gini', 7, 3, None, 1.0, 0.8363636363636363],\n",
      " ['gini', 7, 3, 6, 1.0, 0.8363636363636363],\n",
      " ['gini', 7, 4, None, 1.0, 0.8363636363636363],\n",
      " ['gini', 7, 4, 6, 1.0, 0.8363636363636363],\n",
      " ['gini', 8, 2, None, 1.0, 0.8363636363636363],\n",
      " ['gini', 8, 2, 6, 1.0, 0.8363636363636363],\n",
      " ['gini', 8, 3, None, 1.0, 0.8363636363636363],\n",
      " ['gini', 8, 3, 6, 1.0, 0.8363636363636363],\n",
      " ['gini', 8, 4, None, 1.0, 0.8363636363636363],\n",
      " ['gini', 8, 4, 6, 1.0, 0.8363636363636363],\n",
      " ['gini', 9, 2, None, 1.0, 0.8363636363636363],\n",
      " ['gini', 9, 2, 6, 1.0, 0.8363636363636363],\n",
      " ['gini', 9, 3, None, 1.0, 0.8363636363636363],\n",
      " ['gini', 9, 3, 6, 1.0, 0.8363636363636363],\n",
      " ['gini', 9, 4, None, 1.0, 0.8363636363636363],\n",
      " ['gini', 9, 4, 6, 1.0, 0.8363636363636363],\n",
      " ['entropy', None, 2, None, 1.0, 0.8363636363636363],\n",
      " ['entropy', None, 2, 6, 1.0, 0.8363636363636363],\n",
      " ['entropy', None, 3, None, 1.0, 0.8363636363636363],\n",
      " ['entropy', None, 3, 6, 1.0, 0.8363636363636363],\n",
      " ['entropy', None, 4, None, 1.0, 0.8363636363636363],\n",
      " ['entropy', None, 4, 6, 1.0, 0.8363636363636363],\n",
      " ['entropy', 2, 2, None, 0.9946943972835314, 0.8363636363636363],\n",
      " ['entropy', 2, 3, None, 0.9946943972835314, 0.8363636363636363],\n",
      " ['entropy', 2, 4, None, 0.9946943972835314, 0.8363636363636363],\n",
      " ['entropy', 3, 2, None, 1.0, 0.8363636363636363],\n",
      " ['entropy', 3, 2, 6, 0.9946943972835314, 0.8363636363636363],\n",
      " ['entropy', 3, 3, None, 1.0, 0.8363636363636363],\n",
      " ['entropy', 3, 3, 6, 0.9946943972835314, 0.8363636363636363],\n",
      " ['entropy', 3, 4, None, 1.0, 0.8363636363636363],\n",
      " ['entropy', 3, 4, 6, 0.9946943972835314, 0.8363636363636363],\n",
      " ['entropy', 4, 2, None, 1.0, 0.8363636363636363],\n",
      " ['entropy', 4, 2, 6, 1.0, 0.8363636363636363],\n",
      " ['entropy', 4, 3, None, 1.0, 0.8363636363636363],\n",
      " ['entropy', 4, 3, 6, 1.0, 0.8363636363636363],\n",
      " ['entropy', 4, 4, None, 1.0, 0.8363636363636363],\n",
      " ['entropy', 4, 4, 6, 1.0, 0.8363636363636363],\n",
      " ['entropy', 5, 2, None, 1.0, 0.8363636363636363],\n",
      " ['entropy', 5, 2, 6, 1.0, 0.8363636363636363],\n",
      " ['entropy', 5, 3, None, 1.0, 0.8363636363636363],\n",
      " ['entropy', 5, 3, 6, 1.0, 0.8363636363636363],\n",
      " ['entropy', 5, 4, None, 1.0, 0.8363636363636363],\n",
      " ['entropy', 5, 4, 6, 1.0, 0.8363636363636363],\n",
      " ['entropy', 6, 2, None, 1.0, 0.8363636363636363],\n",
      " ['entropy', 6, 2, 6, 1.0, 0.8363636363636363],\n",
      " ['entropy', 6, 3, None, 1.0, 0.8363636363636363],\n",
      " ['entropy', 6, 3, 6, 1.0, 0.8363636363636363],\n",
      " ['entropy', 6, 4, None, 1.0, 0.8363636363636363],\n",
      " ['entropy', 6, 4, 6, 1.0, 0.8363636363636363],\n",
      " ['entropy', 7, 2, None, 1.0, 0.8363636363636363],\n",
      " ['entropy', 7, 2, 6, 1.0, 0.8363636363636363],\n",
      " ['entropy', 7, 3, None, 1.0, 0.8363636363636363],\n",
      " ['entropy', 7, 3, 6, 1.0, 0.8363636363636363],\n",
      " ['entropy', 7, 4, None, 1.0, 0.8363636363636363],\n",
      " ['entropy', 7, 4, 6, 1.0, 0.8363636363636363],\n",
      " ['entropy', 8, 2, None, 1.0, 0.8363636363636363],\n",
      " ['entropy', 8, 2, 6, 1.0, 0.8363636363636363],\n",
      " ['entropy', 8, 3, None, 1.0, 0.8363636363636363],\n",
      " ['entropy', 8, 3, 6, 1.0, 0.8363636363636363],\n",
      " ['entropy', 8, 4, None, 1.0, 0.8363636363636363],\n",
      " ['entropy', 8, 4, 6, 1.0, 0.8363636363636363],\n",
      " ['entropy', 9, 2, None, 1.0, 0.8363636363636363],\n",
      " ['entropy', 9, 2, 6, 1.0, 0.8363636363636363],\n",
      " ['entropy', 9, 3, None, 1.0, 0.8363636363636363],\n",
      " ['entropy', 9, 3, 6, 1.0, 0.8363636363636363],\n",
      " ['entropy', 9, 4, None, 1.0, 0.8363636363636363],\n",
      " ['entropy', 9, 4, 6, 1.0, 0.8363636363636363],\n",
      " ['gini', 1, 2, None, 0.9342105263157895, 0.8343434343434344],\n",
      " ['gini', 1, 3, None, 0.9342105263157895, 0.8343434343434344],\n",
      " ['gini', 1, 4, None, 0.9342105263157895, 0.8343434343434344],\n",
      " ['gini', 2, 2, 6, 0.9342105263157895, 0.8343434343434344],\n",
      " ['gini', 2, 3, 6, 0.9342105263157895, 0.8343434343434344],\n",
      " ['gini', 2, 4, 6, 0.9342105263157895, 0.8343434343434344],\n",
      " ['gini', 8, 2, 5, 0.99830220713073, 0.8343434343434344],\n",
      " ['gini', 8, 3, 5, 0.99830220713073, 0.8343434343434344],\n",
      " ['entropy', 1, 2, None, 0.9342105263157895, 0.8343434343434344],\n",
      " ['entropy', 1, 3, None, 0.9342105263157895, 0.8343434343434344],\n",
      " ['entropy', 1, 4, None, 0.9342105263157895, 0.8343434343434344],\n",
      " ['entropy', 2, 2, 6, 0.9342105263157895, 0.8343434343434344],\n",
      " ['entropy', 2, 2, 9, 0.9342105263157895, 0.8343434343434344],\n",
      " ['entropy', 2, 3, 6, 0.9342105263157895, 0.8343434343434344],\n",
      " ['entropy', 2, 3, 9, 0.9342105263157895, 0.8343434343434344],\n",
      " ['entropy', 2, 4, 6, 0.9342105263157895, 0.8343434343434344],\n",
      " ['entropy', 2, 4, 9, 0.9342105263157895, 0.8343434343434344],\n",
      " ['entropy', 9, 2, 5, 0.9987266553480475, 0.8343434343434344],\n",
      " ['entropy', 4, 2, 2, 0.9227504244482173, 0.8333333333333334],\n",
      " ['entropy', 4, 3, 2, 0.9227504244482173, 0.8333333333333334],\n",
      " ['entropy', 4, 4, 2, 0.9227504244482173, 0.8333333333333334],\n",
      " ['entropy', 8, 2, 5, 0.9985144312393888, 0.8333333333333334],\n",
      " ['entropy', 8, 3, 5, 0.9985144312393888, 0.8333333333333334],\n",
      " ['entropy', 9, 3, 5, 0.9985144312393888, 0.8333333333333334],\n",
      " ['gini', 6, 4, 5, 0.9995755517826825, 0.8323232323232324],\n",
      " ['gini', 9, 3, 1, 0.9804753820033956, 0.8323232323232324],\n",
      " ['entropy', None, 2, 5, 1.0, 0.8323232323232324],\n",
      " ['entropy', 6, 4, 5, 0.9995755517826825, 0.8323232323232324],\n",
      " ['entropy', None, 3, 5, 0.9995755517826825, 0.8313131313131313],\n",
      " ['gini', 6, 2, 5, 0.9997877758913413, 0.8303030303030303],\n",
      " ['gini', 6, 3, 5, 0.9997877758913413, 0.8303030303030303],\n",
      " ['gini', None, 4, 5, 0.9997877758913413, 0.8292929292929293],\n",
      " ['gini', 5, 2, 5, 0.9978777589134126, 0.8292929292929293],\n",
      " ['gini', 5, 3, 5, 0.9978777589134126, 0.8292929292929293],\n",
      " ['gini', 5, 4, 5, 0.9978777589134126, 0.8292929292929293],\n",
      " ['gini', 7, 4, 5, 0.9997877758913413, 0.8292929292929293],\n",
      " ['gini', 8, 4, 5, 0.9997877758913413, 0.8292929292929293],\n",
      " ['gini', 9, 4, 5, 0.9997877758913413, 0.8292929292929293],\n",
      " ['gini', 9, 2, 5, 0.9985144312393888, 0.8282828282828283],\n",
      " ['gini', 9, 3, 5, 0.99830220713073, 0.8282828282828283],\n",
      " ['entropy', 6, 2, 5, 0.9991511035653651, 0.8282828282828283],\n",
      " ['entropy', 6, 3, 5, 0.9991511035653651, 0.8282828282828283],\n",
      " ['entropy', None, 4, 5, 0.9997877758913413, 0.8272727272727273],\n",
      " ['entropy', 7, 4, 5, 0.9993633276740238, 0.8272727272727273],\n",
      " ['entropy', 8, 4, 5, 0.9995755517826825, 0.8272727272727273],\n",
      " ['entropy', 9, 4, 5, 0.9997877758913413, 0.8272727272727273],\n",
      " ['gini', None, 2, 9, 1.0, 0.8252525252525252],\n",
      " ['gini', 6, 2, 9, 0.9995755517826825, 0.8252525252525252],\n",
      " ['gini', 6, 3, 9, 0.9995755517826825, 0.8252525252525252],\n",
      " ['gini', 6, 4, 9, 0.9995755517826825, 0.8252525252525252],\n",
      " ['gini', 7, 2, 9, 0.9997877758913413, 0.8252525252525252],\n",
      " ['gini', 8, 2, 9, 1.0, 0.8252525252525252],\n",
      " ['gini', 9, 2, 9, 1.0, 0.8252525252525252],\n",
      " ['gini', 7, 2, 5, 0.9966044142614601, 0.8242424242424242],\n",
      " ['gini', 7, 3, 5, 0.9966044142614601, 0.8242424242424242],\n",
      " ['entropy', 7, 2, 5, 0.9970288624787776, 0.8242424242424242],\n",
      " ['entropy', 7, 3, 5, 0.9970288624787776, 0.8242424242424242],\n",
      " ['entropy', 5, 2, 5, 0.9940577249575552, 0.8222222222222222],\n",
      " ['entropy', 5, 3, 5, 0.9940577249575552, 0.8222222222222222],\n",
      " ['entropy', 5, 4, 5, 0.9940577249575552, 0.8222222222222222],\n",
      " ['gini', None, 2, 5, 1.0, 0.8202020202020202],\n",
      " ['gini', 4, 2, 5, 0.9883276740237691, 0.8191919191919191],\n",
      " ['gini', 4, 3, 5, 0.9883276740237691, 0.8191919191919191],\n",
      " ['gini', 4, 4, 5, 0.9883276740237691, 0.8191919191919191],\n",
      " ['entropy', 4, 2, 5, 0.9883276740237691, 0.8191919191919191],\n",
      " ['entropy', 4, 3, 5, 0.9883276740237691, 0.8191919191919191],\n",
      " ['entropy', 4, 4, 5, 0.9883276740237691, 0.8191919191919191],\n",
      " ['gini', None, 3, 5, 0.9997877758913413, 0.8171717171717172],\n",
      " ['gini', 7, 2, 1, 0.9643463497453311, 0.8171717171717172],\n",
      " ['gini', 7, 3, 1, 0.9643463497453311, 0.8171717171717172],\n",
      " ['entropy', 5, 2, 2, 0.952037351443124, 0.8111111111111111],\n",
      " ['entropy', 5, 3, 2, 0.952037351443124, 0.8111111111111111],\n",
      " ['entropy', 5, 4, 2, 0.952037351443124, 0.8111111111111111],\n",
      " ['entropy', 8, 3, 2, 0.9768675721561969, 0.8111111111111111],\n",
      " ['gini', None, 3, 9, 0.9997877758913413, 0.8090909090909091],\n",
      " ['gini', None, 4, 9, 0.9997877758913413, 0.8090909090909091],\n",
      " ['gini', 7, 3, 9, 0.9997877758913413, 0.8090909090909091],\n",
      " ['gini', 7, 4, 9, 0.9997877758913413, 0.8090909090909091],\n",
      " ['gini', 8, 3, 9, 0.9997877758913413, 0.8090909090909091],\n",
      " ['gini', 8, 4, 9, 0.9997877758913413, 0.8090909090909091],\n",
      " ['gini', 9, 3, 9, 0.9997877758913413, 0.8090909090909091],\n",
      " ['gini', 9, 4, 9, 0.9997877758913413, 0.8090909090909091],\n",
      " ['entropy', 6, 2, 2, 0.9539473684210527, 0.806060606060606],\n",
      " ['entropy', 6, 3, 2, 0.9539473684210527, 0.806060606060606],\n",
      " ['entropy', 6, 4, 2, 0.9539473684210527, 0.806060606060606],\n",
      " ['gini', 9, 2, 2, 0.9949066213921901, 0.803030303030303],\n",
      " ['gini', 9, 3, 2, 0.9946943972835314, 0.803030303030303],\n",
      " ['gini', 9, 4, 2, 0.9946943972835314, 0.803030303030303],\n",
      " ['entropy', 7, 2, 1, 0.9713497453310697, 0.798989898989899],\n",
      " ['entropy', 7, 3, 1, 0.9713497453310697, 0.798989898989899],\n",
      " ['entropy', 7, 4, 1, 0.9713497453310697, 0.798989898989899],\n",
      " ['entropy', 8, 2, 'auto', 0.9966044142614601, 0.7929292929292929],\n",
      " ['entropy', 8, 2, 'sqrt', 0.9966044142614601, 0.7929292929292929],\n",
      " ['entropy', 8, 2, 'log2', 0.9966044142614601, 0.7929292929292929],\n",
      " ['entropy', 8, 2, 4, 0.9966044142614601, 0.7929292929292929],\n",
      " ['entropy', 8, 3, 'auto', 0.9966044142614601, 0.7929292929292929],\n",
      " ['entropy', 8, 3, 'sqrt', 0.9966044142614601, 0.7929292929292929],\n",
      " ['entropy', 8, 3, 'log2', 0.9966044142614601, 0.7929292929292929],\n",
      " ['entropy', 8, 3, 4, 0.9966044142614601, 0.7929292929292929],\n",
      " ['entropy', 8, 4, 'auto', 0.9966044142614601, 0.7929292929292929],\n",
      " ['entropy', 8, 4, 'sqrt', 0.9966044142614601, 0.7929292929292929],\n",
      " ['entropy', 8, 4, 'log2', 0.9966044142614601, 0.7929292929292929],\n",
      " ['entropy', 8, 4, 4, 0.9966044142614601, 0.7929292929292929],\n",
      " ['gini', 7, 4, 2, 0.9647707979626485, 0.7919191919191919],\n",
      " ['gini', 7, 2, 2, 0.965195246179966, 0.7909090909090909],\n",
      " ['gini', 7, 3, 2, 0.965195246179966, 0.7909090909090909],\n",
      " ['gini', 8, 2, 'auto', 0.9966044142614601, 0.7848484848484848],\n",
      " ['gini', 8, 2, 'sqrt', 0.9966044142614601, 0.7848484848484848],\n",
      " ['gini', 8, 2, 'log2', 0.9966044142614601, 0.7848484848484848],\n",
      " ['gini', 8, 2, 4, 0.9966044142614601, 0.7848484848484848],\n",
      " ['gini', 8, 3, 'auto', 0.9966044142614601, 0.7848484848484848],\n",
      " ['gini', 8, 3, 'sqrt', 0.9966044142614601, 0.7848484848484848],\n",
      " ['gini', 8, 3, 'log2', 0.9966044142614601, 0.7848484848484848],\n",
      " ['gini', 8, 3, 4, 0.9966044142614601, 0.7848484848484848],\n",
      " ['gini', 8, 4, 'auto', 0.9966044142614601, 0.7848484848484848],\n",
      " ['gini', 8, 4, 'sqrt', 0.9966044142614601, 0.7848484848484848],\n",
      " ['gini', 8, 4, 'log2', 0.9966044142614601, 0.7848484848484848],\n",
      " ['gini', 8, 4, 4, 0.9966044142614601, 0.7848484848484848],\n",
      " ['entropy', None, 4, 1, 0.9985144312393888, 0.7848484848484848],\n",
      " ['entropy', 8, 4, 2, 0.9787775891341256, 0.7787878787878788],\n",
      " ['gini', 6, 2, 2, 0.9715619694397284, 0.7777777777777778],\n",
      " ['gini', 6, 3, 2, 0.9715619694397284, 0.7777777777777778],\n",
      " ['gini', 6, 4, 2, 0.9715619694397284, 0.7777777777777778],\n",
      " ['entropy', 4, 2, 1, 0.9732597623089984, 0.7767676767676768],\n",
      " ['entropy', 4, 3, 1, 0.9732597623089984, 0.7767676767676768],\n",
      " ['entropy', 4, 4, 1, 0.9732597623089984, 0.7767676767676768],\n",
      " ['gini', 9, 2, 1, 0.9946943972835314, 0.7747474747474747],\n",
      " ['entropy', None, 2, 'auto', 1.0, 0.7747474747474747],\n",
      " ['entropy', None, 2, 'sqrt', 1.0, 0.7747474747474747],\n",
      " ['entropy', None, 2, 'log2', 1.0, 0.7747474747474747],\n",
      " ['entropy', None, 2, 4, 1.0, 0.7747474747474747],\n",
      " ['entropy', None, 3, 1, 0.9989388794567062, 0.7737373737373737],\n",
      " ['gini', None, 3, 'auto', 0.9997877758913413, 0.7727272727272727],\n",
      " ['gini', None, 3, 'sqrt', 0.9997877758913413, 0.7727272727272727],\n",
      " ['gini', None, 3, 'log2', 0.9997877758913413, 0.7727272727272727],\n",
      " ['gini', None, 3, 1, 0.9976655348047538, 0.7727272727272727],\n",
      " ['gini', None, 3, 4, 0.9997877758913413, 0.7727272727272727],\n",
      " ['gini', 5, 2, 9, 0.9949066213921901, 0.7727272727272727],\n",
      " ['gini', 5, 3, 9, 0.9949066213921901, 0.7727272727272727],\n",
      " ['gini', 5, 4, 9, 0.9949066213921901, 0.7727272727272727],\n",
      " ['gini', 3, 2, 8, 0.991723259762309, 0.7717171717171717],\n",
      " ['gini', 3, 3, 8, 0.991723259762309, 0.7717171717171717],\n",
      " ['gini', 3, 4, 8, 0.991723259762309, 0.7717171717171717],\n",
      " ['gini', 2, 2, 8, 0.9853565365025467, 0.7707070707070707],\n",
      " ['gini', 2, 3, 8, 0.9853565365025467, 0.7707070707070707],\n",
      " ['gini', 2, 4, 8, 0.9853565365025467, 0.7707070707070707],\n",
      " ['gini', 3, 2, 9, 0.9915110356536503, 0.7696969696969697],\n",
      " ['gini', 3, 3, 9, 0.9915110356536503, 0.7696969696969697],\n",
      " ['gini', 3, 4, 9, 0.9915110356536503, 0.7696969696969697],\n",
      " ['gini', 4, 2, 9, 0.9919354838709677, 0.7696969696969697],\n",
      " ['gini', 4, 3, 9, 0.9919354838709677, 0.7696969696969697],\n",
      " ['gini', 4, 4, 9, 0.9919354838709677, 0.7696969696969697],\n",
      " ['gini', 4, 2, 1, 0.9626485568760611, 0.7676767676767676],\n",
      " ['gini', 4, 3, 1, 0.9626485568760611, 0.7676767676767676],\n",
      " ['gini', 4, 4, 1, 0.9626485568760611, 0.7676767676767676],\n",
      " ['entropy', 3, 2, 5, 0.9015280135823429, 0.7666666666666667],\n",
      " ['entropy', 3, 3, 5, 0.9015280135823429, 0.7666666666666667],\n",
      " ['entropy', 3, 4, 5, 0.9015280135823429, 0.7666666666666667],\n",
      " ['gini', 3, 2, 5, 0.8970713073005093, 0.7656565656565657],\n",
      " ['gini', 3, 3, 5, 0.8970713073005093, 0.7656565656565657],\n",
      " ['gini', 3, 4, 5, 0.8970713073005093, 0.7656565656565657],\n",
      " ['entropy', None, 4, 'auto', 0.9995755517826825, 0.7565656565656566],\n",
      " ['entropy', None, 4, 'sqrt', 0.9995755517826825, 0.7565656565656566],\n",
      " ['entropy', None, 4, 'log2', 0.9995755517826825, 0.7565656565656566],\n",
      " ['entropy', None, 4, 4, 0.9995755517826825, 0.7565656565656566],\n",
      " ['gini', 8, 4, 1, 0.9424872665534805, 0.7555555555555555],\n",
      " ['gini', 8, 2, 1, 0.9426994906621392, 0.7535353535353535],\n",
      " ['gini', 8, 3, 1, 0.9426994906621392, 0.7535353535353535],\n",
      " ['gini', 6, 2, 'auto', 0.9968166383701188, 0.7515151515151515],\n",
      " ['gini', 6, 2, 'sqrt', 0.9968166383701188, 0.7515151515151515],\n",
      " ['gini', 6, 2, 'log2', 0.9968166383701188, 0.7515151515151515],\n",
      " ['gini', 6, 2, 4, 0.9968166383701188, 0.7515151515151515],\n",
      " ['gini', 6, 3, 'auto', 0.9968166383701188, 0.7515151515151515],\n",
      " ['gini', 6, 3, 'sqrt', 0.9968166383701188, 0.7515151515151515],\n",
      " ['gini', 6, 3, 'log2', 0.9968166383701188, 0.7515151515151515],\n",
      " ['gini', 6, 3, 4, 0.9968166383701188, 0.7515151515151515],\n",
      " ['gini', 6, 4, 'auto', 0.9968166383701188, 0.7515151515151515],\n",
      " ['gini', 6, 4, 'sqrt', 0.9968166383701188, 0.7515151515151515],\n",
      " ['gini', 6, 4, 'log2', 0.9968166383701188, 0.7515151515151515],\n",
      " ['gini', 6, 4, 4, 0.9968166383701188, 0.7515151515151515],\n",
      " ['entropy', 6, 2, 'auto', 0.9968166383701188, 0.7515151515151515],\n",
      " ['entropy', 6, 2, 'sqrt', 0.9968166383701188, 0.7515151515151515],\n",
      " ['entropy', 6, 2, 'log2', 0.9968166383701188, 0.7515151515151515],\n",
      " ['entropy', 6, 2, 4, 0.9968166383701188, 0.7515151515151515],\n",
      " ['entropy', 6, 3, 'auto', 0.9968166383701188, 0.7515151515151515],\n",
      " ['entropy', 6, 3, 'sqrt', 0.9968166383701188, 0.7515151515151515],\n",
      " ['entropy', 6, 3, 'log2', 0.9968166383701188, 0.7515151515151515],\n",
      " ['entropy', 6, 3, 4, 0.9968166383701188, 0.7515151515151515],\n",
      " ['entropy', 6, 4, 'auto', 0.9968166383701188, 0.7515151515151515],\n",
      " ['entropy', 6, 4, 'sqrt', 0.9968166383701188, 0.7515151515151515],\n",
      " ['entropy', 6, 4, 'log2', 0.9968166383701188, 0.7515151515151515],\n",
      " ['entropy', 6, 4, 4, 0.9968166383701188, 0.7515151515151515],\n",
      " ['entropy', 5, 2, 1, 0.9299660441426146, 0.7444444444444445],\n",
      " ['entropy', 5, 3, 1, 0.9299660441426146, 0.7444444444444445],\n",
      " ['entropy', 5, 4, 1, 0.9299660441426146, 0.7444444444444445],\n",
      " ['gini', 3, 2, 'auto', 0.7828947368421053, 0.7353535353535353],\n",
      " ['gini', 3, 2, 'sqrt', 0.7828947368421053, 0.7353535353535353],\n",
      " ['gini', 3, 2, 'log2', 0.7828947368421053, 0.7353535353535353],\n",
      " ['gini', 3, 2, 4, 0.7828947368421053, 0.7353535353535353],\n",
      " ['gini', 3, 3, 'auto', 0.7828947368421053, 0.7353535353535353],\n",
      " ['gini', 3, 3, 'sqrt', 0.7828947368421053, 0.7353535353535353],\n",
      " ['gini', 3, 3, 'log2', 0.7828947368421053, 0.7353535353535353],\n",
      " ['gini', 3, 3, 4, 0.7828947368421053, 0.7353535353535353],\n",
      " ['gini', 3, 4, 'auto', 0.7828947368421053, 0.7353535353535353],\n",
      " ['gini', 3, 4, 'sqrt', 0.7828947368421053, 0.7353535353535353],\n",
      " ['gini', 3, 4, 'log2', 0.7828947368421053, 0.7353535353535353],\n",
      " ['gini', 3, 4, 4, 0.7828947368421053, 0.7353535353535353],\n",
      " ['entropy', 3, 2, 'auto', 0.7828947368421053, 0.7353535353535353],\n",
      " ['entropy', 3, 2, 'sqrt', 0.7828947368421053, 0.7353535353535353],\n",
      " ['entropy', 3, 2, 'log2', 0.7828947368421053, 0.7353535353535353],\n",
      " ['entropy', 3, 2, 4, 0.7828947368421053, 0.7353535353535353],\n",
      " ['entropy', 3, 3, 'auto', 0.7828947368421053, 0.7353535353535353],\n",
      " ['entropy', 3, 3, 'sqrt', 0.7828947368421053, 0.7353535353535353],\n",
      " ['entropy', 3, 3, 'log2', 0.7828947368421053, 0.7353535353535353],\n",
      " ['entropy', 3, 3, 4, 0.7828947368421053, 0.7353535353535353],\n",
      " ['entropy', 3, 4, 'auto', 0.7828947368421053, 0.7353535353535353],\n",
      " ['entropy', 3, 4, 'sqrt', 0.7828947368421053, 0.7353535353535353],\n",
      " ['entropy', 3, 4, 'log2', 0.7828947368421053, 0.7353535353535353],\n",
      " ['entropy', 3, 4, 4, 0.7828947368421053, 0.7353535353535353],\n",
      " ['entropy', 7, 2, 'auto', 0.9963921901528013, 0.7343434343434343],\n",
      " ['entropy', 7, 2, 'sqrt', 0.9963921901528013, 0.7343434343434343],\n",
      " ['entropy', 7, 2, 'log2', 0.9963921901528013, 0.7343434343434343],\n",
      " ['entropy', 7, 2, 4, 0.9963921901528013, 0.7343434343434343],\n",
      " ['entropy', 7, 3, 'auto', 0.9963921901528013, 0.7343434343434343],\n",
      " ['entropy', 7, 3, 'sqrt', 0.9963921901528013, 0.7343434343434343],\n",
      " ['entropy', 7, 3, 'log2', 0.9963921901528013, 0.7343434343434343],\n",
      " ['entropy', 7, 3, 4, 0.9963921901528013, 0.7343434343434343],\n",
      " ['entropy', 7, 4, 'auto', 0.9963921901528013, 0.7343434343434343],\n",
      " ['entropy', 7, 4, 'sqrt', 0.9963921901528013, 0.7343434343434343],\n",
      " ['entropy', 7, 4, 'log2', 0.9963921901528013, 0.7343434343434343],\n",
      " ['entropy', 7, 4, 4, 0.9963921901528013, 0.7343434343434343],\n",
      " ['gini', 7, 2, 'auto', 0.9970288624787776, 0.7323232323232324],\n",
      " ['gini', 7, 2, 'sqrt', 0.9970288624787776, 0.7323232323232324],\n",
      " ['gini', 7, 2, 'log2', 0.9970288624787776, 0.7323232323232324],\n",
      " ['gini', 7, 2, 4, 0.9970288624787776, 0.7323232323232324],\n",
      " ['gini', 7, 3, 'auto', 0.9970288624787776, 0.7323232323232324],\n",
      " ['gini', 7, 3, 'sqrt', 0.9970288624787776, 0.7323232323232324],\n",
      " ['gini', 7, 3, 'log2', 0.9970288624787776, 0.7323232323232324],\n",
      " ['gini', 7, 3, 4, 0.9970288624787776, 0.7323232323232324],\n",
      " ['gini', 7, 4, 'auto', 0.9970288624787776, 0.7323232323232324],\n",
      " ['gini', 7, 4, 'sqrt', 0.9970288624787776, 0.7323232323232324],\n",
      " ['gini', 7, 4, 'log2', 0.9970288624787776, 0.7323232323232324],\n",
      " ['gini', 7, 4, 4, 0.9970288624787776, 0.7323232323232324],\n",
      " ['gini', 5, 2, 'auto', 0.8805178268251274, 0.7222222222222222],\n",
      " ['gini', 5, 2, 'sqrt', 0.8805178268251274, 0.7222222222222222],\n",
      " ['gini', 5, 2, 'log2', 0.8805178268251274, 0.7222222222222222],\n",
      " ['gini', 5, 2, 4, 0.8805178268251274, 0.7222222222222222],\n",
      " ['gini', 5, 3, 'auto', 0.8805178268251274, 0.7222222222222222],\n",
      " ['gini', 5, 3, 'sqrt', 0.8805178268251274, 0.7222222222222222],\n",
      " ['gini', 5, 3, 'log2', 0.8805178268251274, 0.7222222222222222],\n",
      " ['gini', 5, 3, 4, 0.8805178268251274, 0.7222222222222222],\n",
      " ['gini', 5, 4, 'auto', 0.8805178268251274, 0.7222222222222222],\n",
      " ['gini', 5, 4, 'sqrt', 0.8805178268251274, 0.7222222222222222],\n",
      " ['gini', 5, 4, 'log2', 0.8805178268251274, 0.7222222222222222],\n",
      " ['gini', 5, 4, 4, 0.8805178268251274, 0.7222222222222222],\n",
      " ['entropy', 6, 2, 1, 0.9199915110356537, 0.7222222222222222],\n",
      " ['entropy', 6, 3, 1, 0.9199915110356537, 0.7222222222222222],\n",
      " ['entropy', 6, 4, 1, 0.9199915110356537, 0.7222222222222222],\n",
      " ['entropy', 5, 2, 'auto', 0.8826400679117148, 0.7202020202020202],\n",
      " ['entropy', 5, 2, 'sqrt', 0.8826400679117148, 0.7202020202020202],\n",
      " ['entropy', 5, 2, 'log2', 0.8826400679117148, 0.7202020202020202],\n",
      " ['entropy', 5, 2, 4, 0.8826400679117148, 0.7202020202020202],\n",
      " ['entropy', 5, 3, 'auto', 0.8826400679117148, 0.7202020202020202],\n",
      " ['entropy', 5, 3, 'sqrt', 0.8826400679117148, 0.7202020202020202],\n",
      " ['entropy', 5, 3, 'log2', 0.8826400679117148, 0.7202020202020202],\n",
      " ['entropy', 5, 3, 4, 0.8826400679117148, 0.7202020202020202],\n",
      " ['entropy', 5, 4, 'auto', 0.8826400679117148, 0.7202020202020202],\n",
      " ['entropy', 5, 4, 'sqrt', 0.8826400679117148, 0.7202020202020202],\n",
      " ['entropy', 5, 4, 'log2', 0.8826400679117148, 0.7202020202020202],\n",
      " ['entropy', 5, 4, 4, 0.8826400679117148, 0.7202020202020202],\n",
      " ['gini', None, 4, 'auto', 0.9989388794567062, 0.7191919191919192],\n",
      " ['gini', None, 4, 'sqrt', 0.9989388794567062, 0.7191919191919192],\n",
      " ['gini', None, 4, 'log2', 0.9989388794567062, 0.7191919191919192],\n",
      " ['gini', None, 4, 4, 0.9989388794567062, 0.7191919191919192],\n",
      " ['gini', 9, 4, 'auto', 0.9987266553480475, 0.702020202020202],\n",
      " ['gini', 9, 4, 'sqrt', 0.9987266553480475, 0.702020202020202],\n",
      " ['gini', 9, 4, 'log2', 0.9987266553480475, 0.702020202020202],\n",
      " ['gini', 9, 4, 4, 0.9987266553480475, 0.702020202020202],\n",
      " ['gini', 9, 2, 'auto', 0.99830220713073, 0.695959595959596],\n",
      " ['gini', 9, 2, 'sqrt', 0.99830220713073, 0.695959595959596],\n",
      " ['gini', 9, 2, 'log2', 0.99830220713073, 0.695959595959596],\n",
      " ['gini', 9, 2, 4, 0.99830220713073, 0.695959595959596],\n",
      " ['entropy', 9, 3, 1, 0.995118845500849, 0.6919191919191919],\n",
      " ['entropy', 9, 4, 1, 0.995118845500849, 0.6919191919191919],\n",
      " ['entropy', 9, 2, 1, 0.9953310696095077, 0.6898989898989899],\n",
      " ['entropy', None, 3, 2, 0.9993633276740238, 0.6838383838383838],\n",
      " ['gini', None, 2, 3, 1.0, 0.6818181818181818],\n",
      " ['entropy', None, 2, 1, 1.0, 0.6808080808080809],\n",
      " ['gini', 9, 3, 3, 0.9944821731748726, 0.6767676767676768],\n",
      " ['entropy', 8, 2, 3, 0.9991511035653651, 0.6737373737373737],\n",
      " ['entropy', 8, 3, 3, 0.9991511035653651, 0.6737373737373737],\n",
      " ['entropy', 8, 4, 3, 0.9989388794567062, 0.6737373737373737],\n",
      " ['entropy', 8, 2, 1, 0.9280560271646859, 0.6727272727272727],\n",
      " ['entropy', None, 3, 'auto', 0.9993633276740238, 0.6686868686868687],\n",
      " ['entropy', None, 3, 'sqrt', 0.9993633276740238, 0.6686868686868687],\n",
      " ['entropy', None, 3, 'log2', 0.9993633276740238, 0.6686868686868687],\n",
      " ['entropy', None, 3, 4, 0.9993633276740238, 0.6686868686868687],\n",
      " ['gini', 9, 4, 3, 0.9976655348047538, 0.6676767676767676],\n",
      " ['entropy', None, 4, 2, 0.9991511035653651, 0.6666666666666666],\n",
      " ['entropy', 8, 3, 1, 0.9272071307300509, 0.6666666666666666],\n",
      " ['entropy', 8, 4, 1, 0.9272071307300509, 0.6666666666666666],\n",
      " ['gini', 6, 4, 7, 0.9987266553480475, 0.6646464646464646],\n",
      " ['gini', None, 4, 1, 0.9970288624787776, 0.6616161616161617],\n",
      " ['entropy', 8, 2, 2, 0.9785653650254669, 0.6606060606060606],\n",
      " ['gini', None, 3, 2, 0.9991511035653651, 0.6555555555555556],\n",
      " ['gini', 9, 2, 3, 0.9985144312393888, 0.6555555555555556],\n",
      " ['entropy', None, 2, 9, 1.0, 0.6555555555555556],\n",
      " ['entropy', None, 3, 9, 1.0, 0.6555555555555556],\n",
      " ['entropy', None, 4, 9, 1.0, 0.6555555555555556],\n",
      " ['entropy', 3, 2, 9, 1.0, 0.6555555555555556],\n",
      " ['entropy', 3, 3, 9, 1.0, 0.6555555555555556],\n",
      " ['entropy', 3, 4, 9, 1.0, 0.6555555555555556],\n",
      " ['entropy', 4, 2, 9, 1.0, 0.6555555555555556],\n",
      " ['entropy', 4, 3, 9, 1.0, 0.6555555555555556],\n",
      " ['entropy', 4, 4, 9, 1.0, 0.6555555555555556],\n",
      " ['entropy', 5, 2, 9, 1.0, 0.6555555555555556],\n",
      " ['entropy', 5, 3, 9, 1.0, 0.6555555555555556],\n",
      " ['entropy', 5, 4, 9, 1.0, 0.6555555555555556],\n",
      " ['entropy', 6, 2, 9, 1.0, 0.6555555555555556],\n",
      " ['entropy', 6, 3, 9, 1.0, 0.6555555555555556],\n",
      " ['entropy', 6, 4, 9, 1.0, 0.6555555555555556],\n",
      " ['entropy', 7, 2, 3, 0.9755942275042445, 0.6555555555555556],\n",
      " ['entropy', 7, 2, 9, 1.0, 0.6555555555555556],\n",
      " ['entropy', 7, 3, 9, 1.0, 0.6555555555555556],\n",
      " ['entropy', 7, 4, 9, 1.0, 0.6555555555555556],\n",
      " ['entropy', 8, 2, 9, 1.0, 0.6555555555555556],\n",
      " ['entropy', 8, 3, 9, 1.0, 0.6555555555555556],\n",
      " ['entropy', 8, 4, 9, 1.0, 0.6555555555555556],\n",
      " ['entropy', 9, 2, 9, 1.0, 0.6555555555555556],\n",
      " ['entropy', 9, 3, 9, 1.0, 0.6555555555555556],\n",
      " ['entropy', 9, 4, 9, 1.0, 0.6555555555555556],\n",
      " ['gini', 4, 2, 'auto', 0.9639219015280136, 0.6525252525252525],\n",
      " ['gini', 4, 2, 'sqrt', 0.9639219015280136, 0.6525252525252525],\n",
      " ['gini', 4, 2, 'log2', 0.9639219015280136, 0.6525252525252525],\n",
      " ['gini', 4, 2, 4, 0.9639219015280136, 0.6525252525252525],\n",
      " ['gini', 4, 3, 'auto', 0.9639219015280136, 0.6525252525252525],\n",
      " ['gini', 4, 3, 'sqrt', 0.9639219015280136, 0.6525252525252525],\n",
      " ['gini', 4, 3, 'log2', 0.9639219015280136, 0.6525252525252525],\n",
      " ['gini', 4, 3, 4, 0.9639219015280136, 0.6525252525252525],\n",
      " ['gini', 4, 4, 'auto', 0.9639219015280136, 0.6525252525252525],\n",
      " ['gini', 4, 4, 'sqrt', 0.9639219015280136, 0.6525252525252525],\n",
      " ['gini', 4, 4, 'log2', 0.9639219015280136, 0.6525252525252525],\n",
      " ['gini', 4, 4, 4, 0.9639219015280136, 0.6525252525252525],\n",
      " ['gini', 8, 2, 3, 0.9963921901528013, 0.6515151515151515],\n",
      " ['gini', 8, 3, 3, 0.9961799660441426, 0.6515151515151515],\n",
      " ['gini', 8, 4, 3, 0.9961799660441426, 0.6515151515151515],\n",
      " ['entropy', 9, 4, 3, 0.9968166383701188, 0.6444444444444445],\n",
      " ['gini', None, 3, 3, 0.9997877758913413, 0.6414141414141414],\n",
      " ['gini', None, 4, 3, 0.9995755517826825, 0.6414141414141414],\n",
      " ['gini', 9, 3, 'auto', 0.9970288624787776, 0.6404040404040404],\n",
      " ['gini', 9, 3, 'sqrt', 0.9970288624787776, 0.6404040404040404],\n",
      " ['gini', 9, 3, 'log2', 0.9970288624787776, 0.6404040404040404],\n",
      " ['gini', 9, 3, 4, 0.9970288624787776, 0.6404040404040404],\n",
      " ['entropy', None, 2, 2, 1.0, 0.6363636363636364],\n",
      " ['entropy', None, 3, 3, 0.9995755517826825, 0.6363636363636364],\n",
      " ['entropy', 9, 2, 3, 0.9966044142614601, 0.6353535353535353],\n",
      " ['entropy', 9, 3, 3, 0.9961799660441426, 0.6353535353535353],\n",
      " ['entropy', 9, 2, 'auto', 0.9993633276740238, 0.6313131313131313],\n",
      " ['entropy', 9, 2, 'sqrt', 0.9993633276740238, 0.6313131313131313],\n",
      " ['entropy', 9, 2, 'log2', 0.9993633276740238, 0.6313131313131313],\n",
      " ['entropy', 9, 2, 4, 0.9993633276740238, 0.6313131313131313],\n",
      " ['entropy', 9, 3, 'auto', 0.9993633276740238, 0.6313131313131313],\n",
      " ['entropy', 9, 3, 'sqrt', 0.9993633276740238, 0.6313131313131313],\n",
      " ['entropy', 9, 3, 'log2', 0.9993633276740238, 0.6313131313131313],\n",
      " ['entropy', 9, 3, 4, 0.9993633276740238, 0.6313131313131313],\n",
      " ['entropy', 9, 4, 'auto', 0.9993633276740238, 0.6313131313131313],\n",
      " ['entropy', 9, 4, 'sqrt', 0.9993633276740238, 0.6313131313131313],\n",
      " ['entropy', 9, 4, 'log2', 0.9993633276740238, 0.6313131313131313],\n",
      " ['entropy', 9, 4, 4, 0.9993633276740238, 0.6313131313131313],\n",
      " ['gini', 6, 2, 1, 0.9698641765704584, 0.6303030303030303],\n",
      " ['gini', 6, 3, 1, 0.9698641765704584, 0.6303030303030303],\n",
      " ['gini', 6, 4, 1, 0.9698641765704584, 0.6303030303030303],\n",
      " ['gini', 7, 4, 1, 0.9847198641765704, 0.6303030303030303],\n",
      " ['entropy', 7, 3, 3, 0.9753820033955858, 0.6303030303030303],\n",
      " ['entropy', 7, 4, 3, 0.9753820033955858, 0.6303030303030303],\n",
      " ['gini', 9, 4, 1, 0.9724108658743633, 0.6222222222222222],\n",
      " ['entropy', None, 2, 3, 1.0, 0.6202020202020202],\n",
      " ['entropy', 4, 2, 'auto', 0.9541595925297114, 0.6202020202020202],\n",
      " ['entropy', 4, 2, 'sqrt', 0.9541595925297114, 0.6202020202020202],\n",
      " ['entropy', 4, 2, 'log2', 0.9541595925297114, 0.6202020202020202],\n",
      " ['entropy', 4, 2, 4, 0.9541595925297114, 0.6202020202020202],\n",
      " ['entropy', 4, 3, 'auto', 0.9541595925297114, 0.6202020202020202],\n",
      " ['entropy', 4, 3, 'sqrt', 0.9541595925297114, 0.6202020202020202],\n",
      " ['entropy', 4, 3, 'log2', 0.9541595925297114, 0.6202020202020202],\n",
      " ['entropy', 4, 3, 4, 0.9541595925297114, 0.6202020202020202],\n",
      " ['entropy', 4, 4, 'auto', 0.9541595925297114, 0.6202020202020202],\n",
      " ['entropy', 4, 4, 'sqrt', 0.9541595925297114, 0.6202020202020202],\n",
      " ['entropy', 4, 4, 'log2', 0.9541595925297114, 0.6202020202020202],\n",
      " ['entropy', 4, 4, 4, 0.9541595925297114, 0.6202020202020202],\n",
      " ['entropy', 6, 2, 3, 0.9855687606112055, 0.6191919191919192],\n",
      " ['entropy', 6, 3, 3, 0.9855687606112055, 0.6191919191919192],\n",
      " ['entropy', 6, 4, 3, 0.9855687606112055, 0.6191919191919192],\n",
      " ['gini', 7, 2, 3, 0.9925721561969439, 0.6181818181818182],\n",
      " ['gini', 7, 3, 3, 0.9925721561969439, 0.6181818181818182],\n",
      " ['gini', 7, 4, 3, 0.9923599320882852, 0.6181818181818182],\n",
      " ['entropy', None, 4, 3, 0.9989388794567062, 0.6161616161616161],\n",
      " ['gini', 5, 2, 3, 0.9792020373514432, 0.6131313131313131],\n",
      " ['gini', 5, 3, 3, 0.9792020373514432, 0.6131313131313131],\n",
      " ['gini', 5, 4, 3, 0.9792020373514432, 0.6131313131313131],\n",
      " ['entropy', None, 2, 8, 1.0, 0.6131313131313131],\n",
      " ['entropy', None, 3, 8, 1.0, 0.6131313131313131],\n",
      " ['entropy', None, 4, 8, 1.0, 0.6131313131313131],\n",
      " ['entropy', 5, 2, 3, 0.9792020373514432, 0.6131313131313131],\n",
      " ['entropy', 5, 2, 8, 1.0, 0.6131313131313131],\n",
      " ['entropy', 5, 3, 3, 0.9792020373514432, 0.6131313131313131],\n",
      " ['entropy', 5, 3, 8, 1.0, 0.6131313131313131],\n",
      " ['entropy', 5, 4, 3, 0.9792020373514432, 0.6131313131313131],\n",
      " ['entropy', 5, 4, 8, 1.0, 0.6131313131313131],\n",
      " ['entropy', 6, 2, 8, 1.0, 0.6131313131313131],\n",
      " ['entropy', 6, 3, 8, 1.0, 0.6131313131313131],\n",
      " ['entropy', 6, 4, 8, 1.0, 0.6131313131313131],\n",
      " ['entropy', 7, 2, 8, 1.0, 0.6131313131313131],\n",
      " ['entropy', 7, 3, 8, 1.0, 0.6131313131313131],\n",
      " ['entropy', 7, 4, 8, 1.0, 0.6131313131313131],\n",
      " ['entropy', 8, 2, 8, 1.0, 0.6131313131313131],\n",
      " ['entropy', 8, 3, 8, 1.0, 0.6131313131313131],\n",
      " ['entropy', 8, 4, 8, 1.0, 0.6131313131313131],\n",
      " ['entropy', 9, 2, 8, 1.0, 0.6131313131313131],\n",
      " ['entropy', 9, 3, 8, 1.0, 0.6131313131313131],\n",
      " ['entropy', 9, 4, 8, 1.0, 0.6131313131313131],\n",
      " ['entropy', 3, 2, 8, 0.9993633276740238, 0.6121212121212121],\n",
      " ['entropy', 3, 3, 8, 0.9993633276740238, 0.6121212121212121],\n",
      " ['entropy', 3, 4, 8, 0.9993633276740238, 0.6121212121212121],\n",
      " ['gini', None, 4, 2, 0.9976655348047538, 0.6111111111111112],\n",
      " ['entropy', 4, 2, 7, 0.9997877758913413, 0.6111111111111112],\n",
      " ['entropy', 4, 3, 7, 0.9997877758913413, 0.6111111111111112],\n",
      " ['entropy', 4, 4, 7, 0.9997877758913413, 0.6111111111111112],\n",
      " ['gini', None, 2, 'auto', 1.0, 0.6101010101010101],\n",
      " ['gini', None, 2, 'sqrt', 1.0, 0.6101010101010101],\n",
      " ['gini', None, 2, 'log2', 1.0, 0.6101010101010101],\n",
      " ['gini', None, 2, 4, 1.0, 0.6101010101010101],\n",
      " ['gini', None, 2, 7, 1.0, 0.6101010101010101],\n",
      " ['gini', None, 3, 7, 1.0, 0.6101010101010101],\n",
      " ['gini', 6, 2, 7, 1.0, 0.6101010101010101],\n",
      " ['gini', 6, 3, 7, 1.0, 0.6101010101010101],\n",
      " ['gini', 7, 2, 7, 1.0, 0.6101010101010101],\n",
      " ['gini', 7, 3, 7, 1.0, 0.6101010101010101],\n",
      " ['gini', 8, 2, 7, 1.0, 0.6101010101010101],\n",
      " ['gini', 8, 3, 7, 1.0, 0.6101010101010101],\n",
      " ['gini', 9, 2, 7, 1.0, 0.6101010101010101],\n",
      " ['gini', 9, 3, 7, 1.0, 0.6101010101010101],\n",
      " ['entropy', 6, 2, 7, 0.9936332767402377, 0.6101010101010101],\n",
      " ['entropy', 6, 3, 7, 0.9936332767402377, 0.6101010101010101],\n",
      " ['entropy', 6, 4, 7, 0.9936332767402377, 0.6101010101010101],\n",
      " ['entropy', 7, 2, 7, 0.9966044142614601, 0.6090909090909091],\n",
      " ['entropy', 7, 3, 7, 0.9966044142614601, 0.6090909090909091],\n",
      " ['entropy', 7, 4, 7, 0.9966044142614601, 0.6090909090909091],\n",
      " ['gini', None, 4, 7, 0.9995755517826825, 0.6080808080808081],\n",
      " ['gini', 4, 2, 3, 0.8387096774193549, 0.6080808080808081],\n",
      " ['gini', 4, 3, 3, 0.8387096774193549, 0.6080808080808081],\n",
      " ['gini', 4, 4, 3, 0.8387096774193549, 0.6080808080808081],\n",
      " ['gini', 7, 4, 7, 0.9995755517826825, 0.6080808080808081],\n",
      " ['gini', 8, 4, 7, 0.9995755517826825, 0.6080808080808081],\n",
      " ['gini', 9, 4, 7, 0.9995755517826825, 0.6080808080808081],\n",
      " ['entropy', 4, 2, 3, 0.8387096774193549, 0.6080808080808081],\n",
      " ['entropy', 4, 3, 3, 0.8387096774193549, 0.6080808080808081],\n",
      " ['entropy', 4, 4, 3, 0.8387096774193549, 0.6080808080808081],\n",
      " ['entropy', 9, 3, 2, 0.9959677419354839, 0.6080808080808081],\n",
      " ['entropy', 9, 4, 2, 0.9959677419354839, 0.6080808080808081],\n",
      " ['entropy', 2, 2, 7, 0.9681663837011885, 0.6070707070707071],\n",
      " ['entropy', 2, 2, 8, 0.9681663837011885, 0.6070707070707071],\n",
      " ['entropy', 2, 3, 7, 0.9681663837011885, 0.6070707070707071],\n",
      " ['entropy', 2, 3, 8, 0.9681663837011885, 0.6070707070707071],\n",
      " ['entropy', 2, 4, 7, 0.9681663837011885, 0.6070707070707071],\n",
      " ['entropy', 2, 4, 8, 0.9681663837011885, 0.6070707070707071],\n",
      " ['entropy', 3, 2, 7, 0.9681663837011885, 0.6070707070707071],\n",
      " ['entropy', 3, 3, 7, 0.9681663837011885, 0.6070707070707071],\n",
      " ['entropy', 3, 4, 7, 0.9681663837011885, 0.6070707070707071],\n",
      " ['entropy', 8, 2, 7, 0.9966044142614601, 0.6070707070707071],\n",
      " ['entropy', 8, 3, 7, 0.9966044142614601, 0.6070707070707071],\n",
      " ['entropy', 8, 4, 7, 0.9966044142614601, 0.6070707070707071],\n",
      " ['gini', 5, 2, 1, 0.8446519524617997, 0.6060606060606061],\n",
      " ['gini', 5, 3, 1, 0.8446519524617997, 0.6060606060606061],\n",
      " ['gini', 5, 4, 1, 0.8446519524617997, 0.6060606060606061],\n",
      " ['gini', 6, 4, 3, 0.9885398981324278, 0.6050505050505051],\n",
      " ['entropy', 4, 2, 8, 0.9688030560271647, 0.6050505050505051],\n",
      " ['entropy', 4, 3, 8, 0.9688030560271647, 0.6050505050505051],\n",
      " ['entropy', 4, 4, 8, 0.9688030560271647, 0.6050505050505051],\n",
      " ['entropy', None, 2, 7, 1.0, 0.604040404040404],\n",
      " ['entropy', None, 3, 7, 1.0, 0.604040404040404],\n",
      " ['entropy', None, 4, 7, 1.0, 0.604040404040404],\n",
      " ['entropy', 9, 2, 7, 1.0, 0.604040404040404],\n",
      " ['entropy', 9, 3, 7, 1.0, 0.604040404040404],\n",
      " ['entropy', 9, 4, 7, 1.0, 0.604040404040404],\n",
      " ['gini', 6, 2, 3, 0.9889643463497453, 0.603030303030303],\n",
      " ['gini', 6, 3, 3, 0.9889643463497453, 0.603030303030303],\n",
      " ['gini', None, 2, 1, 1.0, 0.602020202020202],\n",
      " ['entropy', 5, 2, 7, 0.9904499151103565, 0.601010101010101],\n",
      " ['entropy', 5, 3, 7, 0.9904499151103565, 0.601010101010101],\n",
      " ['entropy', 5, 4, 7, 0.9904499151103565, 0.601010101010101],\n",
      " ['entropy', 7, 2, 2, 0.9912988115449916, 0.6],\n",
      " ['entropy', 7, 3, 2, 0.9912988115449916, 0.6],\n",
      " ['entropy', 7, 4, 2, 0.9912988115449916, 0.6],\n",
      " ['gini', None, 2, 2, 1.0, 0.5959595959595959],\n",
      " ['gini', 5, 2, 2, 0.8673599320882852, 0.5909090909090909],\n",
      " ['gini', 5, 3, 2, 0.8673599320882852, 0.5909090909090909],\n",
      " ['gini', 5, 4, 2, 0.8673599320882852, 0.5909090909090909],\n",
      " ['gini', 3, 2, 2, 0.8297962648556876, 0.5888888888888889],\n",
      " ['gini', 3, 3, 2, 0.8297962648556876, 0.5888888888888889],\n",
      " ['gini', 3, 4, 2, 0.8297962648556876, 0.5888888888888889],\n",
      " ['gini', 3, 2, 3, 0.8505942275042445, 0.5868686868686869],\n",
      " ['gini', 3, 3, 3, 0.8505942275042445, 0.5868686868686869],\n",
      " ['gini', 3, 4, 3, 0.8505942275042445, 0.5868686868686869],\n",
      " ['entropy', 3, 2, 3, 0.8505942275042445, 0.5868686868686869],\n",
      " ['entropy', 3, 3, 3, 0.8505942275042445, 0.5868686868686869],\n",
      " ['entropy', 3, 4, 3, 0.8505942275042445, 0.5868686868686869],\n",
      " ['gini', 5, 2, 7, 0.99830220713073, 0.5858585858585859],\n",
      " ['gini', 5, 3, 7, 0.99830220713073, 0.5858585858585859],\n",
      " ['gini', 5, 4, 7, 0.99830220713073, 0.5858585858585859],\n",
      " ['gini', 4, 2, 7, 0.9738964346349746, 0.5818181818181818],\n",
      " ['gini', 4, 3, 7, 0.9738964346349746, 0.5818181818181818],\n",
      " ['gini', 4, 4, 7, 0.9738964346349746, 0.5818181818181818],\n",
      " ['gini', 3, 2, 1, 0.8338285229202037, 0.5808080808080808],\n",
      " ['gini', 3, 3, 1, 0.8338285229202037, 0.5808080808080808],\n",
      " ['gini', 3, 4, 1, 0.8338285229202037, 0.5808080808080808],\n",
      " ['gini', 8, 2, 2, 0.995118845500849, 0.5808080808080808],\n",
      " ['gini', 8, 3, 2, 0.995118845500849, 0.5808080808080808],\n",
      " ['gini', 8, 4, 2, 0.995118845500849, 0.5808080808080808],\n",
      " ['gini', 2, 2, 7, 0.9709252971137521, 0.5797979797979798],\n",
      " ['gini', 2, 3, 7, 0.9709252971137521, 0.5797979797979798],\n",
      " ['gini', 2, 4, 7, 0.9709252971137521, 0.5797979797979798],\n",
      " ['gini', 3, 2, 7, 0.9709252971137521, 0.5797979797979798],\n",
      " ['gini', 3, 3, 7, 0.9709252971137521, 0.5797979797979798],\n",
      " ['gini', 3, 4, 7, 0.9709252971137521, 0.5797979797979798],\n",
      " ['gini', 2, 2, 1, 0.8359507640067911, 0.5707070707070707],\n",
      " ['gini', 2, 2, 2, 0.8359507640067911, 0.5707070707070707],\n",
      " ['gini', 2, 3, 1, 0.8359507640067911, 0.5707070707070707],\n",
      " ['gini', 2, 3, 2, 0.8359507640067911, 0.5707070707070707],\n",
      " ['gini', 2, 4, 1, 0.8359507640067911, 0.5707070707070707],\n",
      " ['gini', 2, 4, 2, 0.8359507640067911, 0.5707070707070707],\n",
      " ['gini', 1, 2, 8, 0.7406621392190152, 0.5646464646464646],\n",
      " ['gini', 1, 2, 9, 0.7406621392190152, 0.5646464646464646],\n",
      " ['gini', 1, 3, 8, 0.7406621392190152, 0.5646464646464646],\n",
      " ['gini', 1, 3, 9, 0.7406621392190152, 0.5646464646464646],\n",
      " ['gini', 1, 4, 8, 0.7406621392190152, 0.5646464646464646],\n",
      " ['gini', 1, 4, 9, 0.7406621392190152, 0.5646464646464646],\n",
      " ['gini', 2, 2, 9, 0.8393463497453311, 0.5646464646464646],\n",
      " ['gini', 2, 3, 9, 0.8393463497453311, 0.5646464646464646],\n",
      " ['gini', 2, 4, 9, 0.8393463497453311, 0.5646464646464646],\n",
      " ['entropy', 3, 2, 2, 0.8225806451612904, 0.5626262626262626],\n",
      " ['entropy', 3, 3, 2, 0.8225806451612904, 0.5626262626262626],\n",
      " ['entropy', 3, 4, 2, 0.8225806451612904, 0.5626262626262626],\n",
      " ['entropy', 3, 2, 1, 0.8266129032258065, 0.5545454545454546],\n",
      " ['entropy', 3, 3, 1, 0.8266129032258065, 0.5545454545454546],\n",
      " ['entropy', 3, 4, 1, 0.8266129032258065, 0.5545454545454546],\n",
      " ['gini', 1, 2, 'auto', 0.6071731748726655, 0.5515151515151515],\n",
      " ['gini', 1, 2, 'sqrt', 0.6071731748726655, 0.5515151515151515],\n",
      " ['gini', 1, 2, 'log2', 0.6071731748726655, 0.5515151515151515],\n",
      " ['gini', 1, 2, 4, 0.6071731748726655, 0.5515151515151515],\n",
      " ['gini', 1, 3, 'auto', 0.6071731748726655, 0.5515151515151515],\n",
      " ['gini', 1, 3, 'sqrt', 0.6071731748726655, 0.5515151515151515],\n",
      " ['gini', 1, 3, 'log2', 0.6071731748726655, 0.5515151515151515],\n",
      " ['gini', 1, 3, 4, 0.6071731748726655, 0.5515151515151515],\n",
      " ['gini', 1, 4, 'auto', 0.6071731748726655, 0.5515151515151515],\n",
      " ['gini', 1, 4, 'sqrt', 0.6071731748726655, 0.5515151515151515],\n",
      " ['gini', 1, 4, 'log2', 0.6071731748726655, 0.5515151515151515],\n",
      " ['gini', 1, 4, 4, 0.6071731748726655, 0.5515151515151515],\n",
      " ['entropy', 1, 2, 'auto', 0.6071731748726655, 0.5515151515151515],\n",
      " ['entropy', 1, 2, 'sqrt', 0.6071731748726655, 0.5515151515151515],\n",
      " ['entropy', 1, 2, 'log2', 0.6071731748726655, 0.5515151515151515],\n",
      " ['entropy', 1, 2, 4, 0.6071731748726655, 0.5515151515151515],\n",
      " ['entropy', 1, 3, 'auto', 0.6071731748726655, 0.5515151515151515],\n",
      " ['entropy', 1, 3, 'sqrt', 0.6071731748726655, 0.5515151515151515],\n",
      " ['entropy', 1, 3, 'log2', 0.6071731748726655, 0.5515151515151515],\n",
      " ['entropy', 1, 3, 4, 0.6071731748726655, 0.5515151515151515],\n",
      " ['entropy', 1, 4, 'auto', 0.6071731748726655, 0.5515151515151515],\n",
      " ['entropy', 1, 4, 'sqrt', 0.6071731748726655, 0.5515151515151515],\n",
      " ['entropy', 1, 4, 'log2', 0.6071731748726655, 0.5515151515151515],\n",
      " ['entropy', 1, 4, 4, 0.6071731748726655, 0.5515151515151515],\n",
      " ['entropy', 2, 2, 1, 0.8287351443123939, 0.5444444444444444],\n",
      " ['entropy', 2, 2, 2, 0.8287351443123939, 0.5444444444444444],\n",
      " ['entropy', 2, 3, 1, 0.8287351443123939, 0.5444444444444444],\n",
      " ['entropy', 2, 3, 2, 0.8287351443123939, 0.5444444444444444],\n",
      " ['entropy', 2, 4, 1, 0.8287351443123939, 0.5444444444444444],\n",
      " ['entropy', 2, 4, 2, 0.8287351443123939, 0.5444444444444444],\n",
      " ['entropy', 9, 2, 2, 0.9955432937181664, 0.5434343434343434],\n",
      " ['gini', 2, 2, 'auto', 0.6175721561969439, 0.5424242424242425],\n",
      " ['gini', 2, 2, 'sqrt', 0.6175721561969439, 0.5424242424242425],\n",
      " ['gini', 2, 2, 'log2', 0.6175721561969439, 0.5424242424242425],\n",
      " ['gini', 2, 2, 4, 0.6175721561969439, 0.5424242424242425],\n",
      " ['gini', 2, 3, 'auto', 0.6175721561969439, 0.5424242424242425],\n",
      " ['gini', 2, 3, 'sqrt', 0.6175721561969439, 0.5424242424242425],\n",
      " ['gini', 2, 3, 'log2', 0.6175721561969439, 0.5424242424242425],\n",
      " ['gini', 2, 3, 4, 0.6175721561969439, 0.5424242424242425],\n",
      " ['gini', 2, 4, 'auto', 0.6175721561969439, 0.5424242424242425],\n",
      " ['gini', 2, 4, 'sqrt', 0.6175721561969439, 0.5424242424242425],\n",
      " ['gini', 2, 4, 'log2', 0.6175721561969439, 0.5424242424242425],\n",
      " ['gini', 2, 4, 4, 0.6175721561969439, 0.5424242424242425],\n",
      " ['entropy', 2, 2, 'auto', 0.6175721561969439, 0.5424242424242425],\n",
      " ['entropy', 2, 2, 'sqrt', 0.6175721561969439, 0.5424242424242425],\n",
      " ['entropy', 2, 2, 'log2', 0.6175721561969439, 0.5424242424242425],\n",
      " ['entropy', 2, 2, 4, 0.6175721561969439, 0.5424242424242425],\n",
      " ['entropy', 2, 3, 'auto', 0.6175721561969439, 0.5424242424242425],\n",
      " ['entropy', 2, 3, 'sqrt', 0.6175721561969439, 0.5424242424242425],\n",
      " ['entropy', 2, 3, 'log2', 0.6175721561969439, 0.5424242424242425],\n",
      " ['entropy', 2, 3, 4, 0.6175721561969439, 0.5424242424242425],\n",
      " ['entropy', 2, 4, 'auto', 0.6175721561969439, 0.5424242424242425],\n",
      " ['entropy', 2, 4, 'sqrt', 0.6175721561969439, 0.5424242424242425],\n",
      " ['entropy', 2, 4, 'log2', 0.6175721561969439, 0.5424242424242425],\n",
      " ['entropy', 2, 4, 4, 0.6175721561969439, 0.5424242424242425],\n",
      " ['gini', 1, 2, 5, 0.6345500848896435, 0.5404040404040404],\n",
      " ['gini', 1, 2, 6, 0.6345500848896435, 0.5404040404040404],\n",
      " ['gini', 1, 3, 5, 0.6345500848896435, 0.5404040404040404],\n",
      " ['gini', 1, 3, 6, 0.6345500848896435, 0.5404040404040404],\n",
      " ['gini', 1, 4, 5, 0.6345500848896435, 0.5404040404040404],\n",
      " ['gini', 1, 4, 6, 0.6345500848896435, 0.5404040404040404],\n",
      " ['entropy', 1, 2, 5, 0.6345500848896435, 0.5404040404040404],\n",
      " ['entropy', 1, 2, 6, 0.6345500848896435, 0.5404040404040404],\n",
      " ['entropy', 1, 3, 5, 0.6345500848896435, 0.5404040404040404],\n",
      " ['entropy', 1, 3, 6, 0.6345500848896435, 0.5404040404040404],\n",
      " ['entropy', 1, 4, 5, 0.6345500848896435, 0.5404040404040404],\n",
      " ['entropy', 1, 4, 6, 0.6345500848896435, 0.5404040404040404],\n",
      " ['gini', 1, 2, 7, 0.6668081494057725, 0.5323232323232323],\n",
      " ['gini', 1, 3, 7, 0.6668081494057725, 0.5323232323232323],\n",
      " ['gini', 1, 4, 7, 0.6668081494057725, 0.5323232323232323],\n",
      " ['entropy', 1, 2, 7, 0.6668081494057725, 0.5323232323232323],\n",
      " ['entropy', 1, 2, 8, 0.6668081494057725, 0.5323232323232323],\n",
      " ['entropy', 1, 2, 9, 0.6668081494057725, 0.5323232323232323],\n",
      " ['entropy', 1, 3, 7, 0.6668081494057725, 0.5323232323232323],\n",
      " ['entropy', 1, 3, 8, 0.6668081494057725, 0.5323232323232323],\n",
      " ['entropy', 1, 3, 9, 0.6668081494057725, 0.5323232323232323],\n",
      " ['entropy', 1, 4, 7, 0.6668081494057725, 0.5323232323232323],\n",
      " ['entropy', 1, 4, 8, 0.6668081494057725, 0.5323232323232323],\n",
      " ['entropy', 1, 4, 9, 0.6668081494057725, 0.5323232323232323],\n",
      " ['gini', 2, 2, 5, 0.6982173174872666, 0.5292929292929293],\n",
      " ['gini', 2, 3, 5, 0.6982173174872666, 0.5292929292929293],\n",
      " ['gini', 2, 4, 5, 0.6982173174872666, 0.5292929292929293],\n",
      " ['entropy', 2, 2, 5, 0.6980050933786078, 0.5292929292929293],\n",
      " ['entropy', 2, 3, 5, 0.6980050933786078, 0.5292929292929293],\n",
      " ['entropy', 2, 4, 5, 0.6980050933786078, 0.5292929292929293],\n",
      " ['gini', 2, 2, 3, 0.5335314091680815, 0.5242424242424243],\n",
      " ['gini', 2, 3, 3, 0.5335314091680815, 0.5242424242424243],\n",
      " ['gini', 2, 4, 3, 0.5335314091680815, 0.5242424242424243],\n",
      " ['entropy', 2, 2, 3, 0.5335314091680815, 0.5242424242424243],\n",
      " ['entropy', 2, 3, 3, 0.5335314091680815, 0.5242424242424243],\n",
      " ['entropy', 2, 4, 3, 0.5335314091680815, 0.5242424242424243],\n",
      " ['gini', 1, 2, 1, 0.5042444821731749, 0.4797979797979798],\n",
      " ['gini', 1, 2, 2, 0.5042444821731749, 0.4797979797979798],\n",
      " ['gini', 1, 2, 3, 0.5042444821731749, 0.4797979797979798],\n",
      " ['gini', 1, 3, 1, 0.5042444821731749, 0.4797979797979798],\n",
      " ['gini', 1, 3, 2, 0.5042444821731749, 0.4797979797979798],\n",
      " ['gini', 1, 3, 3, 0.5042444821731749, 0.4797979797979798],\n",
      " ['gini', 1, 4, 1, 0.5042444821731749, 0.4797979797979798],\n",
      " ['gini', 1, 4, 2, 0.5042444821731749, 0.4797979797979798],\n",
      " ['gini', 1, 4, 3, 0.5042444821731749, 0.4797979797979798],\n",
      " ['entropy', 1, 2, 1, 0.5042444821731749, 0.4797979797979798],\n",
      " ['entropy', 1, 2, 2, 0.5042444821731749, 0.4797979797979798],\n",
      " ['entropy', 1, 2, 3, 0.5042444821731749, 0.4797979797979798],\n",
      " ['entropy', 1, 3, 1, 0.5042444821731749, 0.4797979797979798],\n",
      " ['entropy', 1, 3, 2, 0.5042444821731749, 0.4797979797979798],\n",
      " ['entropy', 1, 3, 3, 0.5042444821731749, 0.4797979797979798],\n",
      " ['entropy', 1, 4, 1, 0.5042444821731749, 0.4797979797979798],\n",
      " ['entropy', 1, 4, 2, 0.5042444821731749, 0.4797979797979798],\n",
      " ['entropy', 1, 4, 3, 0.5042444821731749, 0.4797979797979798]]\n"
     ]
    }
   ],
   "source": [
    "pprint(res_sorted[:1000])"
   ]
  },
  {
   "cell_type": "markdown",
   "metadata": {},
   "source": [
    "#### RandomForest"
   ]
  },
  {
   "cell_type": "code",
   "execution_count": 18,
   "metadata": {},
   "outputs": [],
   "source": [
    "#RandomForestClassifier(max_depth=5, n_estimators=100, max_features=1, random_state=42),"
   ]
  },
  {
   "cell_type": "code",
   "execution_count": 308,
   "metadata": {},
   "outputs": [],
   "source": [
    "hyperparams = dict()\n",
    "#hyperparams['criterion'] = ['mse', 'mae']\n",
    "hyperparams['n_estimators'] = [10, 50, 100]\n",
    "hyperparams['max_depth'] = [None] + list(range(1,10))\n",
    "#hyperparams['min_samples_split'] = list(range(2,6))\n",
    "#hyperparams['min_samples_leaf'] = list(range(1,10))\n",
    "hyperparams['max_features'] = [None, \"auto\", \"sqrt\", \"log2\"] + list(range(1,5))\n",
    "name = \"RandomForest\"\n",
    "res = tuneModel(name, hyperparams)"
   ]
  },
  {
   "cell_type": "code",
   "execution_count": 311,
   "metadata": {},
   "outputs": [],
   "source": [
    "res_sorted = sorted(res, key=lambda x: x[-1], reverse=True)"
   ]
  },
  {
   "cell_type": "code",
   "execution_count": 312,
   "metadata": {},
   "outputs": [
    {
     "name": "stdout",
     "output_type": "stream",
     "text": [
      "[[50, 3, 'auto', 0.9993633276740238, 0.8595959595959596],\n",
      " [50, 3, 'sqrt', 0.9993633276740238, 0.8595959595959596],\n",
      " [50, 3, 'log2', 0.9993633276740238, 0.8595959595959596],\n",
      " [50, 3, 4, 0.9993633276740238, 0.8595959595959596],\n",
      " [100, 1, 'auto', 0.9724108658743633, 0.8595959595959596],\n",
      " [100, 1, 'sqrt', 0.9724108658743633, 0.8595959595959596],\n",
      " [100, 1, 'log2', 0.9724108658743633, 0.8595959595959596],\n",
      " [100, 1, 4, 0.9724108658743633, 0.8595959595959596],\n",
      " [10, 4, 3, 1.0, 0.8585858585858586],\n",
      " [100, 3, 'auto', 0.9993633276740238, 0.8585858585858586],\n",
      " [100, 3, 'sqrt', 0.9993633276740238, 0.8585858585858586],\n",
      " [100, 3, 'log2', 0.9993633276740238, 0.8585858585858586],\n",
      " [100, 3, 4, 0.9993633276740238, 0.8585858585858586],\n",
      " [50, None, 2, 1.0, 0.8575757575757575],\n",
      " [50, 1, 'auto', 0.9592529711375212, 0.8575757575757575],\n",
      " [50, 1, 'sqrt', 0.9592529711375212, 0.8575757575757575],\n",
      " [50, 1, 'log2', 0.9592529711375212, 0.8575757575757575],\n",
      " [50, 1, 4, 0.9592529711375212, 0.8575757575757575],\n",
      " [50, 9, 2, 1.0, 0.8575757575757575],\n",
      " [100, 1, 3, 0.9626485568760611, 0.8575757575757575]]\n"
     ]
    }
   ],
   "source": [
    "pprint(res_sorted[:20])"
   ]
  },
  {
   "cell_type": "markdown",
   "metadata": {},
   "source": [
    "# Features"
   ]
  },
  {
   "cell_type": "code",
   "execution_count": 319,
   "metadata": {},
   "outputs": [],
   "source": [
    "def getAUC(X, y, feat=\"\"):\n",
    "    y_scores = cross_val_predict(clf, X, y, cv=5, method=\"predict_proba\")\n",
    "    fpr, tpr, thresholds = roc_curve(y, y_scores[:, 1])\n",
    "    roc_auc = auc(fpr, tpr)\n",
    "    #print(\"%s: AUC %s\" % (feat, roc_auc))\n",
    "    #print()\n",
    "    return roc_auc, feat"
   ]
  },
  {
   "cell_type": "markdown",
   "metadata": {},
   "source": [
    "#### Individual"
   ]
  },
  {
   "cell_type": "code",
   "execution_count": 322,
   "metadata": {},
   "outputs": [
    {
     "name": "stdout",
     "output_type": "stream",
     "text": [
      "['archived', 'years_active', 'years_inactive', 'num_captures', 'freenom_tld', 'prev_mal_tld', 'wildcard_subdomain', 'reachable', 'redirected', 'blocked', 'alexa_rank', 'ratio_longest_word', 'contain_digit', 'contain_dash', 'name_len', 'brandname_partialratio', 'prev_mal_domain_ed', 'sub_levels', 'num_sub']\n",
      "[(0.48429541595925296, 'archived'),\n",
      " (0.48429541595925296, 'years_active'),\n",
      " (0.48429541595925296, 'years_inactive'),\n",
      " (0.48429541595925296, 'num_captures'),\n",
      " (0.48429541595925296, 'freenom_tld'),\n",
      " (0.48429541595925296, 'prev_mal_tld'),\n",
      " (0.48429541595925296, 'wildcard_subdomain'),\n",
      " (0.48429541595925296, 'reachable'),\n",
      " (0.48429541595925296, 'redirected'),\n",
      " (0.48429541595925296, 'blocked'),\n",
      " (0.48429541595925296, 'alexa_rank'),\n",
      " (0.48429541595925296, 'ratio_longest_word'),\n",
      " (0.48429541595925296, 'contain_digit'),\n",
      " (0.48429541595925296, 'contain_dash'),\n",
      " (0.48429541595925296, 'name_len'),\n",
      " (0.48429541595925296, 'brandname_partialratio'),\n",
      " (0.48429541595925296, 'prev_mal_domain_ed'),\n",
      " (0.48429541595925296, 'sub_levels'),\n",
      " (0.48429541595925296, 'num_sub')]\n"
     ]
    }
   ],
   "source": [
    "auc_feat_list = []\n",
    "print(feat_labels)\n",
    "paper_feat_labels = feat_labels\n",
    "#paper_feat_labels = [\"Archived\", \"Years active\", \"Years inactive\", \"Number of captures\", \"Archive redirected\", \"Freenom TLD\", \"Wildcard subdomain\", \"Reachable\", \"Blocked\", \"Alexa rank\", \"Ratio of longest word\", \"Contain digits\", \"Contain hyphen\", \"Name length\", \"Match brand name\"]\n",
    "for i, feat in enumerate(paper_feat_labels):\n",
    "    X = Xtrain[:,i].reshape(-1, 1)\n",
    "    auc_feat_list.append(getAUC(X, ytrain, feat))\n",
    "\n",
    "# ftld = auc_feat_list[5]\n",
    "# auc_feat_list[5] = auc_feat_list[7]\n",
    "\n",
    "# wcsd = auc_feat_list[6]\n",
    "# auc_feat_list[6] = auc_feat_list[8]\n",
    "\n",
    "# auc_feat_list[7] = wcsd\n",
    "# auc_feat_list[8] = auc_feat_list[9]\n",
    "# auc_feat_list[9] = ftld\n",
    "pprint(auc_feat_list)"
   ]
  },
  {
   "cell_type": "code",
   "execution_count": 321,
   "metadata": {},
   "outputs": [
    {
     "data": {
      "image/png": "[encoded data removed]",
      "text/plain": [
       "<matplotlib.figure.Figure at 0x7fc7e4d69550>"
      ]
     },
     "metadata": {},
     "output_type": "display_data"
    },
    {
     "data": {
      "text/plain": [
       "<matplotlib.figure.Figure at 0x7fc7eb936f60>"
      ]
     },
     "metadata": {},
     "output_type": "display_data"
    }
   ],
   "source": [
    "aucs = [x[0] for x in auc_feat_list]\n",
    "feats = [x[1] for x in auc_feat_list]\n",
    "\n",
    "fig, ax = plt.subplots()\n",
    "plt.figure(figsize=(15,10))\n",
    "\n",
    "# Example data\n",
    "y_pos = np.arange(len(feats))\n",
    "\n",
    "ax.barh(y_pos, aucs, align='center')\n",
    "ax.set_yticks(y_pos)\n",
    "ax.set_yticklabels(feats)\n",
    "ax.invert_yaxis()  # labels read top-to-bottom\n",
    "ax.set_xlabel('Area under the curve (AUC)')\n",
    "ax.set_xlim([0,1])\n",
    "#ax.set_title('How fast do you want to go today?')\n",
    "\n",
    "plt.show()"
   ]
  },
  {
   "cell_type": "markdown",
   "metadata": {},
   "source": [
    "# Predict"
   ]
  },
  {
   "cell_type": "code",
   "execution_count": 390,
   "metadata": {},
   "outputs": [
    {
     "name": "stdout",
     "output_type": "stream",
     "text": [
      "{'mal-future-apwg', 'comp-deltaphish', 'comp-phishlabs', 'mal-apwg', 'mal-phishlabs', 'unlabeled-apwg'}\n",
      "KNeighbors-comp-deltaphish\n",
      "NeuralNetwork-comp-deltaphish\n",
      "DecisionTree-comp-deltaphish\n",
      "RandomForest-comp-deltaphish\n",
      "Dummy-comp-deltaphish\n",
      "KNeighbors-mal-future-apwg\n",
      "NeuralNetwork-mal-future-apwg\n",
      "DecisionTree-mal-future-apwg\n",
      "RandomForest-mal-future-apwg\n",
      "Dummy-mal-future-apwg\n",
      "KNeighbors-mal-phishlabs\n",
      "NeuralNetwork-mal-phishlabs\n",
      "DecisionTree-mal-phishlabs\n",
      "RandomForest-mal-phishlabs\n",
      "Dummy-mal-phishlabs\n",
      "KNeighbors-train_rest\n",
      "NeuralNetwork-train_rest\n",
      "DecisionTree-train_rest\n",
      "RandomForest-train_rest\n",
      "Dummy-train_rest\n",
      "KNeighbors-val_rest\n",
      "NeuralNetwork-val_rest\n",
      "DecisionTree-val_rest\n",
      "RandomForest-val_rest\n",
      "Dummy-val_rest\n"
     ]
    }
   ],
   "source": [
    "datasets = set([d['dataset'] for d in data_predict])\n",
    "print(datasets)\n",
    "dataset_predict = ['comp-deltaphish','mal-future-apwg','mal-phishlabs', 'train_rest', 'val_rest']\n",
    "compare_datasets=dict()\n",
    "compare_datasets['acc'] = []\n",
    "compare_datasets['err'] = []\n",
    "compare_names = []\n",
    "for dataset in dataset_predict:\n",
    "    clf_datasets_acc = []\n",
    "    clf_datasets_err = []\n",
    "    clf_names = []\n",
    "    for name, clf in zip(names, classifiers):\n",
    "        clf.fit(Xtrain, ytrain)\n",
    "        \n",
    "        # get X and y for specific datasets\n",
    "        if dataset == 'train_rest':\n",
    "            Xpredict = Xtest\n",
    "            ypredict = ytest\n",
    "        elif dataset == 'val_rest':\n",
    "            Xpredict = Xvaltestb\n",
    "            ypredict = yvaltestb\n",
    "        else:\n",
    "            Xpredict = np.array([d['feat'] for d in data_predict if d['dataset'] in dataset])\n",
    "            ypredict = np.array([d['target'] for d in data_predict if d['dataset'] in dataset])\n",
    "        \n",
    "        # transform (handle nan and normalize)\n",
    "        Xpredict = imp.transform(Xpredict)\n",
    "        Xpredict = scaler.transform(Xpredict)\n",
    "        \n",
    "        # calibrate\n",
    "        Xpredict = applyIsoFunction(Xpredict, ypredict, iso_functions)\n",
    "        \n",
    "        # predict\n",
    "        ypredict_pred = clf.predict(Xpredict)\n",
    "        #tn, fp, fn, tp = confusion_matrix(ypredict, Xpredict_pred, labels=[-1,1]).ravel()\n",
    "        \n",
    "        # evaluation criteria\n",
    "        acc = accuracy_score(ypredict, ypredict_pred)\n",
    "        err = 1-acc\n",
    "        #avg_acc = (tp+tn)/2\n",
    "        \n",
    "        # add avg_acc and corresponding name label\n",
    "        clf_datasets_acc.append(acc)\n",
    "        clf_datasets_err.append(err)\n",
    "        clf_name = '-'.join([name, dataset])\n",
    "        print(clf_name)\n",
    "        clf_names.append(clf_name)\n",
    "    \n",
    "    # add dataset results for specific clf\n",
    "    compare_datasets['acc'].append(clf_datasets_acc)\n",
    "    compare_datasets['err'].append(clf_datasets_err)\n",
    "    compare_names.append(clf_names)"
   ]
  },
  {
   "cell_type": "code",
   "execution_count": 391,
   "metadata": {},
   "outputs": [
    {
     "name": "stdout",
     "output_type": "stream",
     "text": [
      "[[0.7416545718432511,\n",
      "  0.737300435413643,\n",
      "  0.9201741654571843,\n",
      "  0.9361393323657474,\n",
      "  0.4934687953555878],\n",
      " [0.8471337579617835,\n",
      "  0.7579617834394905,\n",
      "  0.9171974522292994,\n",
      "  0.9235668789808917,\n",
      "  0.5222929936305732],\n",
      " [0.8302425106990015,\n",
      "  0.7835235378031383,\n",
      "  0.8248930099857347,\n",
      "  0.8088445078459344,\n",
      "  0.5035663338088445],\n",
      " [1.0, 1.0, 0.9493223335297584, 0.9723040659988215, 0.493223335297584],\n",
      " [0.7471264367816092,\n",
      "  0.7126436781609196,\n",
      "  0.7931034482758621,\n",
      "  0.7988505747126436,\n",
      "  0.5287356321839081]]\n"
     ]
    }
   ],
   "source": [
    "pprint(compare_datasets['acc'])"
   ]
  },
  {
   "cell_type": "markdown",
   "metadata": {},
   "source": [
    "# Friedman test and Nemenyi CD"
   ]
  },
  {
   "cell_type": "code",
   "execution_count": 395,
   "metadata": {},
   "outputs": [
    {
     "name": "stdout",
     "output_type": "stream",
     "text": [
      "Statistics=5.600, p=0.231\n",
      "Same distributions (fail to reject H0)\n"
     ]
    }
   ],
   "source": [
    "# compare samples\n",
    "stat, p = friedmanchisquare(compare_datasets['acc'][0], compare_datasets['acc'][1], compare_datasets['acc'][2], compare_datasets['acc'][3], compare_datasets['acc'][4])\n",
    "#stat, p = friedmanchisquare(compare_datasets[0], compare_datasets[2], compare_datasets[4])\n",
    "\n",
    "print('Statistics=%.3f, p=%.3f' % (stat, p))\n",
    "# interpret\n",
    "alpha = 0.05\n",
    "if p > alpha:\n",
    "    print('Same distributions (fail to reject H0)')\n",
    "else:\n",
    "    print('Different distributions (reject H0)')"
   ]
  },
  {
   "cell_type": "code",
   "execution_count": 139,
   "metadata": {},
   "outputs": [
    {
     "name": "stdout",
     "output_type": "stream",
     "text": [
      "Statistics=9.360, p=0.009\n",
      "Different distributions (reject H0)\n"
     ]
    }
   ],
   "source": [
    "from numpy.random import seed\n",
    "from numpy.random import randn\n",
    "# seed the random number generator\n",
    "seed(1)\n",
    "# generate three independent samples\n",
    "data1 = 5 * randn(100) + 50\n",
    "data2 = 5 * randn(100) + 50\n",
    "data3 = 5 * randn(100) + 52\n",
    "# compare samples\n",
    "stat, p = friedmanchisquare(data1, data2, data3)\n",
    "print('Statistics=%.3f, p=%.3f' % (stat, p))\n",
    "# interpret\n",
    "alpha = 0.05\n",
    "if p > alpha:\n",
    "\tprint('Same distributions (fail to reject H0)')\n",
    "else:\n",
    "\tprint('Different distributions (reject H0)')"
   ]
  },
  {
   "cell_type": "code",
   "execution_count": 393,
   "metadata": {},
   "outputs": [
    {
     "name": "stdout",
     "output_type": "stream",
     "text": [
      "[array([3., 4., 2., 1., 5.]), array([3., 4., 2., 1., 5.]), array([1., 4., 2., 3., 5.]), array([1.5, 1.5, 4. , 3. , 5. ]), array([3., 4., 2., 1., 5.])]\n",
      "[2.3 3.5 2.4 1.8 5. ]\n"
     ]
    }
   ],
   "source": [
    "ranks = []\n",
    "for comp in compare_datasets['err']:\n",
    "    rank = rankdata(comp)\n",
    "    ranks.append(rank)\n",
    "print(ranks)\n",
    "avranks = np.mean(ranks, axis=0)\n",
    "print(avranks)"
   ]
  },
  {
   "cell_type": "code",
   "execution_count": 394,
   "metadata": {},
   "outputs": [
    {
     "name": "stdout",
     "output_type": "stream",
     "text": [
      "5\n"
     ]
    },
    {
     "data": {
      "image/png": "[encoded data removed]",
      "text/plain": [
       "<matplotlib.figure.Figure at 0x7fc86dde89e8>"
      ]
     },
     "metadata": {},
     "output_type": "display_data"
    }
   ],
   "source": [
    "#names = [\"first\", \"third\", \"second\", \"fourth\" ]\n",
    "#avranks =  [1.9, 3.2, 2.8, 3.3 ]\n",
    "num_datasets = len(dataset_predict)\n",
    "print(num_datasets)\n",
    "cd = compute_CD(avranks, num_datasets)\n",
    "graph_ranks(avranks, names, cd=cd, width=6, textspace=1.5)\n",
    "plt.show()"
   ]
  },
  {
   "cell_type": "markdown",
   "metadata": {},
   "source": [
    "# Model persistence"
   ]
  },
  {
   "cell_type": "code",
   "execution_count": 17,
   "metadata": {},
   "outputs": [
    {
     "data": {
      "text/plain": [
       "['finalized_scaler.joblib']"
      ]
     },
     "execution_count": 17,
     "metadata": {},
     "output_type": "execute_result"
    }
   ],
   "source": [
    "from joblib import dump, load\n",
    "modelname = 'apwg'\n",
    "filename = './model/'+modelname+'_scaler.joblib'\n",
    "dump(scaler, filename)"
   ]
  },
  {
   "cell_type": "code",
   "execution_count": 21,
   "metadata": {},
   "outputs": [
    {
     "data": {
      "text/plain": [
       "['finalized_imputer.joblib']"
      ]
     },
     "execution_count": 21,
     "metadata": {},
     "output_type": "execute_result"
    }
   ],
   "source": [
    "filename = './model/'+modelname+'_imputer.joblib'\n",
    "dump(imp, filename)"
   ]
  },
  {
   "cell_type": "code",
   "execution_count": 14,
   "metadata": {},
   "outputs": [
    {
     "data": {
      "text/plain": [
       "RandomForestClassifier(bootstrap=True, class_weight=None, criterion='gini',\n",
       "            max_depth=5, max_features=1, max_leaf_nodes=None,\n",
       "            min_impurity_decrease=0.0, min_impurity_split=None,\n",
       "            min_samples_leaf=1, min_samples_split=2,\n",
       "            min_weight_fraction_leaf=0.0, n_estimators=100, n_jobs=None,\n",
       "            oob_score=False, random_state=42, verbose=0, warm_start=False)"
      ]
     },
     "execution_count": 14,
     "metadata": {},
     "output_type": "execute_result"
    }
   ],
   "source": [
    "clf = classifiers[3]\n",
    "clf.fit(Xtrain, ytrain)"
   ]
  },
  {
   "cell_type": "code",
   "execution_count": 20,
   "metadata": {},
   "outputs": [
    {
     "data": {
      "text/plain": [
       "['finalized_model.joblib']"
      ]
     },
     "execution_count": 20,
     "metadata": {},
     "output_type": "execute_result"
    }
   ],
   "source": [
    "#from joblib import dump, load\n",
    "filename = './model/'+modelname+'_model.joblib'\n",
    "dump(clf, filename)\n",
    "#pickle.dump(clf, 'mlp.joblib') "
   ]
  }
 ],
 "metadata": {
  "kernelspec": {
   "display_name": "Python 3",
   "language": "python",
   "name": "python3"
  },
  "language_info": {
   "codemirror_mode": {
    "name": "ipython",
    "version": 3
   },
   "file_extension": ".py",
   "mimetype": "text/x-python",
   "name": "python",
   "nbconvert_exporter": "python",
   "pygments_lexer": "ipython3",
   "version": "3.6.4"
  }
 },
 "nbformat": 4,
 "nbformat_minor": 1
}
