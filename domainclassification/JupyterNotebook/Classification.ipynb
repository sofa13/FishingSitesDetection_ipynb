{
 "cells": [
  {
   "cell_type": "markdown",
   "metadata": {},
   "source": [
    "**Problem**: Given a phishing url, classify the domain as compromised (owned) or malicious (hacked).\n",
    "\n",
    "**Objective**: Given labeled data, analyze the best model and features."
   ]
  },
  {
   "cell_type": "code",
   "execution_count": 4,
   "metadata": {},
   "outputs": [
    {
     "name": "stdout",
     "output_type": "stream",
     "text": [
      "0.19.1\n"
     ]
    }
   ],
   "source": [
    "import sklearn\n",
    "print(sklearn.__version__)"
   ]
  },
  {
   "cell_type": "markdown",
   "metadata": {},
   "source": [
    "# Setup"
   ]
  },
  {
   "cell_type": "code",
   "execution_count": 68,
   "metadata": {},
   "outputs": [],
   "source": [
    "from sklearn import preprocessing\n",
    "from sklearn.preprocessing import StandardScaler, Imputer\n",
    "from sklearn.model_selection import cross_val_score\n",
    "from sklearn.metrics import roc_curve, auc, confusion_matrix, f1_score\n",
    "from sklearn.model_selection import cross_val_predict\n",
    "from sklearn.datasets import make_moons, make_circles, make_classification\n",
    "from sklearn.model_selection import train_test_split\n",
    "from sklearn.metrics import accuracy_score\n",
    "\n",
    "from sklearn.linear_model import SGDClassifier\n",
    "from sklearn.linear_model import LogisticRegression\n",
    "from sklearn.neighbors import KNeighborsClassifier\n",
    "from sklearn.neural_network import MLPClassifier\n",
    "from sklearn.svm import SVC\n",
    "from sklearn.ensemble import RandomForestClassifier, GradientBoostingClassifier\n",
    "from sklearn.discriminant_analysis import QuadraticDiscriminantAnalysis\n",
    "from sklearn.naive_bayes import GaussianNB\n",
    "from sklearn.tree import DecisionTreeClassifier\n",
    "from sklearn.dummy import DummyClassifier\n",
    "\n",
    "#from sklearn.impute import SimpleImputer\n",
    "\n",
    "from sklearn.decomposition import PCA\n",
    "from sklearn.manifold import TSNE\n",
    "\n",
    "#import xgboost as xgb\n",
    "\n",
    "import numpy as np\n",
    "\n",
    "import matplotlib.pyplot as plt\n",
    "from mpl_toolkits.axes_grid1.inset_locator import inset_axes\n",
    "\n",
    "# orange\n",
    "from Orange.classification.rules import CN2Learner\n",
    "from Orange.evaluation import compute_CD, graph_ranks\n",
    "\n",
    "# scipy\n",
    "import scipy\n",
    "from scipy.stats import friedmanchisquare\n",
    "from scipy.stats import rankdata\n",
    "\n",
    "from pprint import pprint\n",
    "\n",
    "import pickle\n",
    "\n",
    "import numpy as np\n",
    "from numpy import nan\n",
    "\n",
    "import random"
   ]
  },
  {
   "cell_type": "markdown",
   "metadata": {},
   "source": [
    "# Data"
   ]
  },
  {
   "cell_type": "code",
   "execution_count": 89,
   "metadata": {},
   "outputs": [],
   "source": [
    "# balanced train and test sets\n",
    "def balance_data(X, y):\n",
    "    X_bal = []\n",
    "    y_bal = []\n",
    "    X_rest = []\n",
    "    y_rest = []\n",
    "    min1 = len([tar for tar in y if tar==1])\n",
    "    min2 = len([tar for tar in y if tar==-1])\n",
    "    mini = min1\n",
    "    if min2 < min1:\n",
    "        mini = min2\n",
    "\n",
    "    cnt_1 = 0\n",
    "    cnt_0 = 0\n",
    "    print(mini)\n",
    "    for i, tar in enumerate(y):\n",
    "        if tar == 1 and cnt_1<mini:\n",
    "            cnt_1+=1\n",
    "            X_bal.append(X[i])\n",
    "            y_bal.append(y[i])\n",
    "        elif tar == -1 and cnt_0<mini:\n",
    "            cnt_0+=1\n",
    "            X_bal.append(X[i])\n",
    "            y_bal.append(y[i])\n",
    "        else:\n",
    "            X_rest.append(X[i])\n",
    "            y_rest.append(y[i])\n",
    "\n",
    "    print(\"# X_bal:\", len(X_bal))\n",
    "    print(\"# y_bal:\", len(y_bal))\n",
    "    print(\"% compromised: \", len([tar for tar in y_bal if tar==1])/len(y_bal))\n",
    "    print(\"% malicious: \", len([tar for tar in y_bal if tar==-1])/len(y_bal))\n",
    "    \n",
    "    print(\"# X_rest:\", len(X_rest))\n",
    "    print(\"# y_rest:\", len(y_rest))\n",
    "    print(\"% compromised: \", len([tar for tar in y_rest if tar==1])/len(y_rest))\n",
    "    print(\"% malicious: \", len([tar for tar in y_rest if tar==-1])/len(y_rest))\n",
    "    \n",
    "    return [X_bal, y_bal, X_rest, y_rest]"
   ]
  },
  {
   "cell_type": "markdown",
   "metadata": {},
   "source": [
    "### Train/Test"
   ]
  },
  {
   "cell_type": "code",
   "execution_count": 90,
   "metadata": {},
   "outputs": [
    {
     "name": "stdout",
     "output_type": "stream",
     "text": [
      "(5952, 19)\n",
      "(5952,)\n",
      "['archived', 'years_active', 'years_inactive', 'num_captures', 'freenom_tld', 'prev_mal_tld', 'wildcard_subdomain', 'reachable', 'redirected', 'blocked', 'alexa_rank', 'ratio_longest_word', 'contain_digit', 'contain_dash', 'name_len', 'brandname_partialratio', 'prev_mal_domain_ed', 'sub_levels', 'num_sub']\n",
      "[{'dataset': 'unlabeled-apwg',\n",
      "  'feat': [1,\n",
      "           9,\n",
      "           0,\n",
      "           18.0,\n",
      "           0,\n",
      "           0,\n",
      "           0,\n",
      "           1,\n",
      "           0,\n",
      "           1,\n",
      "           nan,\n",
      "           0.4166666666666667,\n",
      "           0,\n",
      "           0,\n",
      "           9,\n",
      "           67,\n",
      "           0.1111111111111111,\n",
      "           0,\n",
      "           1],\n",
      "  'feat_labels': ['archived',\n",
      "                  'years_active',\n",
      "                  'years_inactive',\n",
      "                  'num_captures',\n",
      "                  'freenom_tld',\n",
      "                  'prev_mal_tld',\n",
      "                  'wildcard_subdomain',\n",
      "                  'reachable',\n",
      "                  'redirected',\n",
      "                  'blocked',\n",
      "                  'alexa_rank',\n",
      "                  'ratio_longest_word',\n",
      "                  'contain_digit',\n",
      "                  'contain_dash',\n",
      "                  'name_len',\n",
      "                  'brandname_partialratio',\n",
      "                  'prev_mal_domain_ed',\n",
      "                  'sub_levels',\n",
      "                  'num_sub'],\n",
      "  'info': ['goodsteel.vn', '807929aa97c562ec1fade88afc4e8874'],\n",
      "  'target': 1},\n",
      " {'dataset': 'unlabeled-apwg',\n",
      "  'feat': [1,\n",
      "           17,\n",
      "           1,\n",
      "           1392.0,\n",
      "           0,\n",
      "           0,\n",
      "           0,\n",
      "           1,\n",
      "           0,\n",
      "           0,\n",
      "           87912,\n",
      "           0.25,\n",
      "           0,\n",
      "           0,\n",
      "           8,\n",
      "           100,\n",
      "           0.125,\n",
      "           1,\n",
      "           1],\n",
      "  'feat_labels': ['archived',\n",
      "                  'years_active',\n",
      "                  'years_inactive',\n",
      "                  'num_captures',\n",
      "                  'freenom_tld',\n",
      "                  'prev_mal_tld',\n",
      "                  'wildcard_subdomain',\n",
      "                  'reachable',\n",
      "                  'redirected',\n",
      "                  'blocked',\n",
      "                  'alexa_rank',\n",
      "                  'ratio_longest_word',\n",
      "                  'contain_digit',\n",
      "                  'contain_dash',\n",
      "                  'name_len',\n",
      "                  'brandname_partialratio',\n",
      "                  'prev_mal_domain_ed',\n",
      "                  'sub_levels',\n",
      "                  'num_sub'],\n",
      "  'info': ['netdania.com', 'c5d75044331c12c692c9e3aeee6e838d'],\n",
      "  'target': 1},\n",
      " {'dataset': 'unlabeled-apwg',\n",
      "  'feat': [0,\n",
      "           nan,\n",
      "           nan,\n",
      "           nan,\n",
      "           0,\n",
      "           0,\n",
      "           0,\n",
      "           1,\n",
      "           0,\n",
      "           1,\n",
      "           nan,\n",
      "           0.25,\n",
      "           0,\n",
      "           0,\n",
      "           10,\n",
      "           67,\n",
      "           0.1,\n",
      "           2,\n",
      "           2],\n",
      "  'feat_labels': ['archived',\n",
      "                  'years_active',\n",
      "                  'years_inactive',\n",
      "                  'num_captures',\n",
      "                  'freenom_tld',\n",
      "                  'prev_mal_tld',\n",
      "                  'wildcard_subdomain',\n",
      "                  'reachable',\n",
      "                  'redirected',\n",
      "                  'blocked',\n",
      "                  'alexa_rank',\n",
      "                  'ratio_longest_word',\n",
      "                  'contain_digit',\n",
      "                  'contain_dash',\n",
      "                  'name_len',\n",
      "                  'brandname_partialratio',\n",
      "                  'prev_mal_domain_ed',\n",
      "                  'sub_levels',\n",
      "                  'num_sub'],\n",
      "  'info': ['gunjaycell.co.id', '706aa105b0f6a97b28602fc364114852'],\n",
      "  'target': 1},\n",
      " {'dataset': 'unlabeled-apwg',\n",
      "  'feat': [0,\n",
      "           nan,\n",
      "           nan,\n",
      "           nan,\n",
      "           0,\n",
      "           1,\n",
      "           0,\n",
      "           1,\n",
      "           0,\n",
      "           0,\n",
      "           nan,\n",
      "           0.26666666666666666,\n",
      "           0,\n",
      "           0,\n",
      "           11,\n",
      "           100,\n",
      "           0.09090909090909091,\n",
      "           0,\n",
      "           1],\n",
      "  'feat_labels': ['archived',\n",
      "                  'years_active',\n",
      "                  'years_inactive',\n",
      "                  'num_captures',\n",
      "                  'freenom_tld',\n",
      "                  'prev_mal_tld',\n",
      "                  'wildcard_subdomain',\n",
      "                  'reachable',\n",
      "                  'redirected',\n",
      "                  'blocked',\n",
      "                  'alexa_rank',\n",
      "                  'ratio_longest_word',\n",
      "                  'contain_digit',\n",
      "                  'contain_dash',\n",
      "                  'name_len',\n",
      "                  'brandname_partialratio',\n",
      "                  'prev_mal_domain_ed',\n",
      "                  'sub_levels',\n",
      "                  'num_sub'],\n",
      "  'info': ['sbitobuying.top', '23ec1ade0613236b2c433b111294f6b0'],\n",
      "  'target': -1},\n",
      " {'dataset': 'unlabeled-apwg',\n",
      "  'feat': [1,\n",
      "           11,\n",
      "           1,\n",
      "           50.0,\n",
      "           0,\n",
      "           0,\n",
      "           0,\n",
      "           1,\n",
      "           0,\n",
      "           1,\n",
      "           nan,\n",
      "           0.35714285714285715,\n",
      "           0,\n",
      "           0,\n",
      "           10,\n",
      "           75,\n",
      "           0.1,\n",
      "           0,\n",
      "           1],\n",
      "  'feat_labels': ['archived',\n",
      "                  'years_active',\n",
      "                  'years_inactive',\n",
      "                  'num_captures',\n",
      "                  'freenom_tld',\n",
      "                  'prev_mal_tld',\n",
      "                  'wildcard_subdomain',\n",
      "                  'reachable',\n",
      "                  'redirected',\n",
      "                  'blocked',\n",
      "                  'alexa_rank',\n",
      "                  'ratio_longest_word',\n",
      "                  'contain_digit',\n",
      "                  'contain_dash',\n",
      "                  'name_len',\n",
      "                  'brandname_partialratio',\n",
      "                  'prev_mal_domain_ed',\n",
      "                  'sub_levels',\n",
      "                  'num_sub'],\n",
      "  'info': ['localxites.com', 'd222bfb3aea09ac52b4b94d04197203a'],\n",
      "  'target': 1}]\n",
      "array([[1.00000000e+00, 9.00000000e+00, 0.00000000e+00, 1.80000000e+01,\n",
      "        0.00000000e+00, 0.00000000e+00, 0.00000000e+00, 1.00000000e+00,\n",
      "        0.00000000e+00, 1.00000000e+00,            nan, 4.16666667e-01,\n",
      "        0.00000000e+00, 0.00000000e+00, 9.00000000e+00, 6.70000000e+01,\n",
      "        1.11111111e-01, 0.00000000e+00, 1.00000000e+00],\n",
      "       [1.00000000e+00, 1.70000000e+01, 1.00000000e+00, 1.39200000e+03,\n",
      "        0.00000000e+00, 0.00000000e+00, 0.00000000e+00, 1.00000000e+00,\n",
      "        0.00000000e+00, 0.00000000e+00, 8.79120000e+04, 2.50000000e-01,\n",
      "        0.00000000e+00, 0.00000000e+00, 8.00000000e+00, 1.00000000e+02,\n",
      "        1.25000000e-01, 1.00000000e+00, 1.00000000e+00],\n",
      "       [0.00000000e+00,            nan,            nan,            nan,\n",
      "        0.00000000e+00, 0.00000000e+00, 0.00000000e+00, 1.00000000e+00,\n",
      "        0.00000000e+00, 1.00000000e+00,            nan, 2.50000000e-01,\n",
      "        0.00000000e+00, 0.00000000e+00, 1.00000000e+01, 6.70000000e+01,\n",
      "        1.00000000e-01, 2.00000000e+00, 2.00000000e+00],\n",
      "       [0.00000000e+00,            nan,            nan,            nan,\n",
      "        0.00000000e+00, 1.00000000e+00, 0.00000000e+00, 1.00000000e+00,\n",
      "        0.00000000e+00, 0.00000000e+00,            nan, 2.66666667e-01,\n",
      "        0.00000000e+00, 0.00000000e+00, 1.10000000e+01, 1.00000000e+02,\n",
      "        9.09090909e-02, 0.00000000e+00, 1.00000000e+00],\n",
      "       [1.00000000e+00, 1.10000000e+01, 1.00000000e+00, 5.00000000e+01,\n",
      "        0.00000000e+00, 0.00000000e+00, 0.00000000e+00, 1.00000000e+00,\n",
      "        0.00000000e+00, 1.00000000e+00,            nan, 3.57142857e-01,\n",
      "        0.00000000e+00, 0.00000000e+00, 1.00000000e+01, 7.50000000e+01,\n",
      "        1.00000000e-01, 0.00000000e+00, 1.00000000e+00]])\n",
      "array([ 1,  1,  1, -1,  1])\n",
      "# compromised:  3907\n",
      "# malicious:  2045\n",
      "% compromised:  0.6564180107526881\n",
      "% malicious:  0.3435819892473118\n"
     ]
    }
   ],
   "source": [
    "with open(\"data/data_cluster_5952\", \"r\", encoding='utf-8') as f:\n",
    "    data_train = eval(f.read())\n",
    "    \n",
    "random.Random(4).shuffle(data_train)\n",
    "\n",
    "Xtrain = np.array([d['feat'] for d in data_train])\n",
    "ytrain = np.array([d['target'] for d in data_train])\n",
    "feat_labels = data_train[0]['feat_labels']\n",
    "print(Xtrain.shape)\n",
    "print(ytrain.shape)\n",
    "print(feat_labels)\n",
    "pprint(data_train[:5])\n",
    "pprint(Xtrain[:5])\n",
    "pprint(ytrain[:5])\n",
    "print(\"# compromised: \", len([tar for tar in ytrain if tar==1]))\n",
    "print(\"# malicious: \", len([tar for tar in ytrain if tar==-1]))\n",
    "print(\"% compromised: \", len([tar for tar in ytrain if tar==1])/len(ytrain))\n",
    "print(\"% malicious: \", len([tar for tar in ytrain if tar==-1])/len(ytrain))"
   ]
  },
  {
   "cell_type": "code",
   "execution_count": 91,
   "metadata": {},
   "outputs": [
    {
     "name": "stdout",
     "output_type": "stream",
     "text": [
      "2045\n",
      "# X_bal: 4090\n",
      "# y_bal: 4090\n",
      "% compromised:  0.5\n",
      "% malicious:  0.5\n",
      "# X_rest: 1862\n",
      "# y_rest: 1862\n",
      "% compromised:  1.0\n",
      "% malicious:  0.0\n"
     ]
    }
   ],
   "source": [
    "# balance\n",
    "Xtrain, ytrain, Xtest, ytest = balance_data(Xtrain, ytrain)"
   ]
  },
  {
   "cell_type": "markdown",
   "metadata": {},
   "source": [
    "### Predict"
   ]
  },
  {
   "cell_type": "code",
   "execution_count": 86,
   "metadata": {
    "scrolled": true
   },
   "outputs": [
    {
     "name": "stdout",
     "output_type": "stream",
     "text": [
      "{'comp-deltaphish',\n",
      " 'comp-phishlabs',\n",
      " 'mal-apwg',\n",
      " 'mal-future-apwg',\n",
      " 'mal-phishlabs',\n",
      " 'unlabeled-apwg'}\n"
     ]
    }
   ],
   "source": [
    "with open(\"/home/sophie/SSRG/domainclassification/results/dataset/domain_target_55383\", \"r\", encoding='utf-8') as f:\n",
    "    data_predict = eval(f.read())\n",
    "    \n",
    "datasets = set([d['dataset'] for d in data_predict])\n",
    "pprint(datasets)"
   ]
  },
  {
   "cell_type": "markdown",
   "metadata": {},
   "source": [
    "#### Cluster training"
   ]
  },
  {
   "cell_type": "code",
   "execution_count": 88,
   "metadata": {},
   "outputs": [
    {
     "name": "stdout",
     "output_type": "stream",
     "text": [
      "(1164, 19)\n",
      "(1164,)\n",
      "['archived', 'years_active', 'years_inactive', 'num_captures', 'freenom_tld', 'prev_mal_tld', 'wildcard_subdomain', 'reachable', 'redirected', 'blocked', 'alexa_rank', 'ratio_longest_word', 'contain_digit', 'contain_dash', 'name_len', 'brandname_partialratio', 'prev_mal_domain_ed', 'sub_levels', 'num_sub']\n",
      "array([[0.00000000e+00,            nan,            nan,            nan,\n",
      "        0.00000000e+00, 0.00000000e+00, 0.00000000e+00, 1.00000000e+00,\n",
      "        0.00000000e+00, 0.00000000e+00,            nan, 2.00000000e-01,\n",
      "        1.00000000e+00, 0.00000000e+00, 6.00000000e+00, 0.00000000e+00,\n",
      "        1.66666667e-01, 0.00000000e+00, 1.00000000e+00],\n",
      "       [0.00000000e+00,            nan,            nan,            nan,\n",
      "        0.00000000e+00, 0.00000000e+00, 0.00000000e+00, 1.00000000e+00,\n",
      "        0.00000000e+00, 0.00000000e+00,            nan, 2.00000000e-01,\n",
      "        1.00000000e+00, 0.00000000e+00, 6.00000000e+00, 0.00000000e+00,\n",
      "        1.66666667e-01, 0.00000000e+00, 1.00000000e+00],\n",
      "       [1.00000000e+00, 7.00000000e+00, 0.00000000e+00, 9.30000000e+01,\n",
      "        0.00000000e+00, 0.00000000e+00, 0.00000000e+00, 1.00000000e+00,\n",
      "        0.00000000e+00, 0.00000000e+00,            nan, 3.57142857e-01,\n",
      "        1.00000000e+00, 1.00000000e+00, 1.10000000e+01, 6.70000000e+01,\n",
      "        9.09090909e-02, 0.00000000e+00, 1.00000000e+00],\n",
      "       [1.00000000e+00, 7.00000000e+00, 1.00000000e+00, 5.70000000e+01,\n",
      "        0.00000000e+00, 0.00000000e+00, 0.00000000e+00, 1.00000000e+00,\n",
      "        0.00000000e+00, 0.00000000e+00,            nan, 5.29411765e-01,\n",
      "        1.00000000e+00, 0.00000000e+00, 1.30000000e+01, 7.50000000e+01,\n",
      "        7.69230769e-02, 0.00000000e+00, 1.00000000e+00],\n",
      "       [0.00000000e+00,            nan,            nan,            nan,\n",
      "        0.00000000e+00, 0.00000000e+00, 0.00000000e+00, 1.00000000e+00,\n",
      "        0.00000000e+00, 0.00000000e+00,            nan, 1.66666667e-01,\n",
      "        1.00000000e+00, 0.00000000e+00, 1.90000000e+01, 7.50000000e+01,\n",
      "        5.26315789e-02, 0.00000000e+00, 1.00000000e+00]])\n",
      "array([ 1,  1,  1,  1, -1])\n",
      "# compromised:  669\n",
      "# malicious:  495\n",
      "% compromised:  0.5747422680412371\n",
      "% malicious:  0.4252577319587629\n"
     ]
    }
   ],
   "source": [
    "#data used for cluster training\n",
    "dataset_val = {\"comp-phishlabs\", \"mal-apwg\"}\n",
    "Xval = np.array([d['feat'] for d in data_predict if d['dataset'] in dataset_val])\n",
    "yval = np.array([d['target'] for d in data_predict if d['dataset'] in dataset_val])\n",
    "feat_labels = data_predict[0]['feat_labels']\n",
    "print(Xval.shape)\n",
    "print(yval.shape)\n",
    "print(feat_labels)\n",
    "pprint(Xval[:5])\n",
    "pprint(yval[:5])\n",
    "print(\"# compromised: \", len([tar for tar in yval if tar==1]))\n",
    "print(\"# malicious: \", len([tar for tar in yval if tar==-1]))\n",
    "print(\"% compromised: \", len([tar for tar in yval if tar==1])/len(yval))\n",
    "print(\"% malicious: \", len([tar for tar in yval if tar==-1])/len(yval))"
   ]
  },
  {
   "cell_type": "markdown",
   "metadata": {},
   "source": [
    "#### Comp"
   ]
  },
  {
   "cell_type": "code",
   "execution_count": 10,
   "metadata": {},
   "outputs": [
    {
     "name": "stdout",
     "output_type": "stream",
     "text": [
      "(689, 19)\n",
      "(689,)\n",
      "['archived', 'years_active', 'years_inactive', 'num_captures', 'freenom_tld', 'prev_mal_tld', 'wildcard_subdomain', 'reachable', 'redirected', 'blocked', 'alexa_rank', 'ratio_longest_word', 'contain_digit', 'contain_dash', 'name_len', 'brandname_partialratio', 'prev_mal_domain_ed', 'sub_levels', 'num_sub']\n",
      "array([[1.00000000e+00, 6.00000000e+00, 0.00000000e+00, 7.40000000e+01,\n",
      "        0.00000000e+00, 0.00000000e+00, 0.00000000e+00, 1.00000000e+00,\n",
      "        0.00000000e+00, 0.00000000e+00,            nan, 3.33333333e-01,\n",
      "        1.00000000e+00, 0.00000000e+00, 5.00000000e+00, 6.70000000e+01,\n",
      "        2.00000000e-01, 0.00000000e+00, 1.00000000e+00],\n",
      "       [1.00000000e+00, 8.00000000e+00, 1.00000000e+00, 9.50000000e+01,\n",
      "        0.00000000e+00, 0.00000000e+00, 0.00000000e+00, 1.00000000e+00,\n",
      "        0.00000000e+00, 0.00000000e+00,            nan, 6.66666667e-01,\n",
      "        1.00000000e+00, 0.00000000e+00, 9.00000000e+00, 8.00000000e+01,\n",
      "        1.11111111e-01, 1.00000000e+00, 1.00000000e+00],\n",
      "       [1.00000000e+00, 1.00000000e+00, 1.00000000e+00, 9.00000000e+00,\n",
      "        0.00000000e+00, 0.00000000e+00, 0.00000000e+00, 1.00000000e+00,\n",
      "        0.00000000e+00, 1.00000000e+00,            nan, 4.16666667e-01,\n",
      "        1.00000000e+00, 0.00000000e+00, 1.70000000e+01, 1.00000000e+02,\n",
      "        5.88235294e-02, 0.00000000e+00, 1.00000000e+00],\n",
      "       [1.00000000e+00, 9.00000000e+00, 0.00000000e+00, 6.30000000e+01,\n",
      "        0.00000000e+00, 0.00000000e+00, 0.00000000e+00, 1.00000000e+00,\n",
      "        0.00000000e+00, 0.00000000e+00,            nan, 2.35294118e-01,\n",
      "        1.00000000e+00, 0.00000000e+00, 1.40000000e+01, 6.70000000e+01,\n",
      "        7.14285714e-02, 0.00000000e+00, 1.00000000e+00],\n",
      "       [1.00000000e+00, 1.60000000e+01, 1.00000000e+00, 1.36000000e+02,\n",
      "        0.00000000e+00, 0.00000000e+00, 1.00000000e+00, 1.00000000e+00,\n",
      "        0.00000000e+00, 0.00000000e+00,            nan, 1.11111111e-01,\n",
      "        1.00000000e+00, 0.00000000e+00, 3.00000000e+00, 5.00000000e+01,\n",
      "        3.33333333e-01, 0.00000000e+00, 1.00000000e+00]])\n",
      "array([1, 1, 1, 1, 1])\n",
      "# compromised:  689\n",
      "# malicious:  0\n",
      "% compromised:  1.0\n",
      "% malicious:  0.0\n"
     ]
    }
   ],
   "source": [
    "#deltaphish\n",
    "Xpredict = np.array([d['feat'] for d in data_predict if d['dataset'] == \"comp-deltaphish\"])\n",
    "ypredict = np.array([d['target'] for d in data_predict if d['dataset'] == \"comp-deltaphish\"])\n",
    "feat_labels = data_predict[0]['feat_labels']\n",
    "print(Xpredict.shape)\n",
    "print(ypredict.shape)\n",
    "print(feat_labels)\n",
    "pprint(Xpredict[:5])\n",
    "pprint(ypredict[:5])\n",
    "print(\"# compromised: \", len([tar for tar in ypredict if tar==1]))\n",
    "print(\"# malicious: \", len([tar for tar in ypredict if tar==-1]))\n",
    "print(\"% compromised: \", len([tar for tar in ypredict if tar==1])/len(ypredict))\n",
    "print(\"% malicious: \", len([tar for tar in ypredict if tar==-1])/len(ypredict))"
   ]
  },
  {
   "cell_type": "markdown",
   "metadata": {},
   "source": [
    "#### Mal"
   ]
  },
  {
   "cell_type": "code",
   "execution_count": 21,
   "metadata": {},
   "outputs": [
    {
     "name": "stdout",
     "output_type": "stream",
     "text": [
      "(2804, 19)\n",
      "(2804,)\n",
      "['archived', 'years_active', 'years_inactive', 'num_captures', 'freenom_tld', 'prev_mal_tld', 'wildcard_subdomain', 'reachable', 'redirected', 'blocked', 'alexa_rank', 'ratio_longest_word', 'contain_digit', 'contain_dash', 'name_len', 'brandname_partialratio', 'prev_mal_domain_ed', 'sub_levels', 'num_sub']\n",
      "array([[0.00000000e+00,            nan,            nan,            nan,\n",
      "        1.00000000e+00, 0.00000000e+00, 0.00000000e+00, 0.00000000e+00,\n",
      "                   nan,            nan,            nan, 1.00000000e-01,\n",
      "        1.00000000e+00, 0.00000000e+00, 7.00000000e+00, 0.00000000e+00,\n",
      "        1.42857143e-01, 0.00000000e+00, 1.00000000e+00],\n",
      "       [0.00000000e+00,            nan,            nan,            nan,\n",
      "        1.00000000e+00, 0.00000000e+00, 0.00000000e+00, 0.00000000e+00,\n",
      "                   nan,            nan,            nan, 6.25000000e-02,\n",
      "        1.00000000e+00, 0.00000000e+00, 1.30000000e+01, 1.00000000e+01,\n",
      "        7.69230769e-02, 5.00000000e+00, 1.00000000e+00],\n",
      "       [0.00000000e+00,            nan,            nan,            nan,\n",
      "        0.00000000e+00, 0.00000000e+00, 0.00000000e+00, 0.00000000e+00,\n",
      "                   nan,            nan,            nan, 2.35294118e-01,\n",
      "        1.00000000e+00, 1.00000000e+00, 1.30000000e+01, 5.00000000e+01,\n",
      "        7.69230769e-02, 0.00000000e+00, 2.00000000e+00],\n",
      "       [0.00000000e+00,            nan,            nan,            nan,\n",
      "        0.00000000e+00, 0.00000000e+00, 0.00000000e+00, 0.00000000e+00,\n",
      "                   nan,            nan,            nan, 1.81818182e-01,\n",
      "        1.00000000e+00, 0.00000000e+00, 7.00000000e+00, 6.70000000e+01,\n",
      "        1.42857143e-01, 0.00000000e+00, 1.00000000e+00],\n",
      "       [0.00000000e+00,            nan,            nan,            nan,\n",
      "        0.00000000e+00, 0.00000000e+00, 0.00000000e+00, 0.00000000e+00,\n",
      "                   nan,            nan,            nan, 2.69230769e-01,\n",
      "        1.00000000e+00, 1.00000000e+00, 2.20000000e+01, 6.00000000e+01,\n",
      "        4.54545455e-02, 0.00000000e+00, 1.00000000e+00]])\n",
      "array([-1, -1, -1, -1, -1])\n",
      "# compromised:  0\n",
      "# malicious:  2804\n",
      "% compromised:  0.0\n",
      "% malicious:  1.0\n"
     ]
    }
   ],
   "source": [
    "# phishlabs\n",
    "Xpredict = np.array([d['feat'] for d in data_predict if d['dataset'] == \"mal-phishlabs\"])\n",
    "ypredict = np.array([d['target'] for d in data_predict if d['dataset'] == \"mal-phishlabs\"])\n",
    "feat_labels = data_predict[0]['feat_labels']\n",
    "print(Xpredict.shape)\n",
    "print(ypredict.shape)\n",
    "print(feat_labels)\n",
    "pprint(Xpredict[:5])\n",
    "pprint(ypredict[:5])\n",
    "print(\"# compromised: \", len([tar for tar in ypredict if tar==1]))\n",
    "print(\"# malicious: \", len([tar for tar in ypredict if tar==-1]))\n",
    "print(\"% compromised: \", len([tar for tar in ypredict if tar==1])/len(ypredict))\n",
    "print(\"% malicious: \", len([tar for tar in ypredict if tar==-1])/len(ypredict))"
   ]
  },
  {
   "cell_type": "code",
   "execution_count": 25,
   "metadata": {},
   "outputs": [
    {
     "name": "stdout",
     "output_type": "stream",
     "text": [
      "(314, 19)\n",
      "(314,)\n",
      "['archived', 'years_active', 'years_inactive', 'num_captures', 'freenom_tld', 'prev_mal_tld', 'wildcard_subdomain', 'reachable', 'redirected', 'blocked', 'alexa_rank', 'ratio_longest_word', 'contain_digit', 'contain_dash', 'name_len', 'brandname_partialratio', 'prev_mal_domain_ed', 'sub_levels', 'num_sub']\n",
      "array([[  0.        ,          nan,          nan,          nan,\n",
      "          0.        ,   1.        ,   1.        ,   0.        ,\n",
      "                 nan,          nan,          nan,   0.35714286,\n",
      "          0.        ,   0.        ,  10.        ,  80.        ,\n",
      "          0.1       ,   0.        ,   1.        ],\n",
      "       [  1.        ,   1.        ,   1.        ,  58.        ,\n",
      "          0.        ,   0.        ,   0.        ,   1.        ,\n",
      "          1.        ,   0.        ,          nan,   0.5       ,\n",
      "          0.        ,   0.        ,   6.        ,  67.        ,\n",
      "          0.16666667,   0.        ,   1.        ],\n",
      "       [  0.        ,          nan,          nan,          nan,\n",
      "          0.        ,   0.        ,   0.        ,   1.        ,\n",
      "          0.        ,   1.        ,          nan,   0.35714286,\n",
      "          0.        ,   0.        ,  10.        ,  74.        ,\n",
      "          0.1       ,   0.        ,   1.        ],\n",
      "       [  0.        ,          nan,          nan,          nan,\n",
      "          0.        ,   1.        ,   0.        ,   1.        ,\n",
      "          0.        ,   0.        ,          nan,   0.5       ,\n",
      "          0.        ,   0.        ,  10.        , 100.        ,\n",
      "          0.        ,   0.        ,   1.        ],\n",
      "       [  1.        ,   0.        ,   0.        ,   1.        ,\n",
      "          0.        ,   1.        ,   0.        ,   0.        ,\n",
      "                 nan,          nan,          nan,   0.5       ,\n",
      "          0.        ,   0.        ,  10.        , 100.        ,\n",
      "          0.1       ,   0.        ,   1.        ]])\n",
      "array([-1, -1, -1, -1, -1])\n",
      "# compromised:  0\n",
      "# malicious:  314\n",
      "% compromised:  0.0\n",
      "% malicious:  1.0\n"
     ]
    }
   ],
   "source": [
    "# next apwg mal\n",
    "Xpredict = np.array([d['feat'] for d in data_predict if d['dataset'] == \"mal-future-apwg\"])\n",
    "ypredict = np.array([d['target'] for d in data_predict if d['dataset'] == \"mal-future-apwg\"])\n",
    "feat_labels = data_predict[0]['feat_labels']\n",
    "print(Xpredict.shape)\n",
    "print(ypredict.shape)\n",
    "print(feat_labels)\n",
    "pprint(Xpredict[:5])\n",
    "pprint(ypredict[:5])\n",
    "print(\"# compromised: \", len([tar for tar in ypredict if tar==1]))\n",
    "print(\"# malicious: \", len([tar for tar in ypredict if tar==-1]))\n",
    "print(\"% compromised: \", len([tar for tar in ypredict if tar==1])/len(ypredict))\n",
    "print(\"% malicious: \", len([tar for tar in ypredict if tar==-1])/len(ypredict))"
   ]
  },
  {
   "cell_type": "markdown",
   "metadata": {},
   "source": [
    "# Normalize and imputer"
   ]
  },
  {
   "cell_type": "code",
   "execution_count": 92,
   "metadata": {},
   "outputs": [
    {
     "name": "stdout",
     "output_type": "stream",
     "text": [
      "[-9.57130780e-01 -2.94212290e-14 -4.53960112e-14 -4.82649436e-15\n",
      " -2.70930756e-02 -1.00097847e+00 -3.34690007e-01  6.31102684e-01\n",
      " -3.63865393e-01  2.09054962e+00  7.79082913e-14 -8.15833928e-01\n",
      " -2.05032233e-01 -2.19500388e-01  1.06720098e-01 -1.23356697e-01\n",
      " -4.01085238e-01  1.79553492e+00  2.64907042e-02]\n",
      "[ 1.04530045e+00 -1.97585348e+00  6.88527646e-01 -1.67463169e-01\n",
      " -2.70930756e-02 -1.00097847e+00 -3.34690007e-01  6.31102684e-01\n",
      " -3.63865393e-01  2.09054962e+00  7.79082913e-14 -1.01955218e-01\n",
      " -2.05032233e-01 -2.19500388e-01  3.62509299e+00  1.08052036e-01\n",
      " -9.39025178e-01 -3.55215650e-01 -6.71540497e-02]\n"
     ]
    }
   ],
   "source": [
    "imp = Imputer(missing_values=np.nan, strategy='mean')\n",
    "imp.fit(Xtrain)\n",
    "Xtrain = imp.transform(Xtrain)\n",
    "Xtest = imp.transform(Xtest)\n",
    "\n",
    "scaler = StandardScaler()\n",
    "scaler.fit(Xtrain)\n",
    "Xtrain = scaler.transform(Xtrain)\n",
    "Xtest = scaler.transform(Xtest)\n",
    "print(Xtrain[2])\n",
    "print(Xtest[2])"
   ]
  },
  {
   "cell_type": "code",
   "execution_count": 93,
   "metadata": {},
   "outputs": [
    {
     "name": "stdout",
     "output_type": "stream",
     "text": [
      "[[-9.57130780e-01 -2.94212290e-14 -4.53960112e-14 -4.82649436e-15\n",
      "  -2.70930756e-02 -1.00097847e+00 -3.34690007e-01  6.31102684e-01\n",
      "  -3.63865393e-01 -6.68862670e-01  7.79082913e-14 -1.30761704e+00\n",
      "   4.87728191e+00 -2.19500388e-01 -7.21132346e-01 -3.99945298e+00\n",
      "   1.68498229e-01 -3.55215650e-01 -6.71540497e-02]\n",
      " [-9.57130780e-01 -2.94212290e-14 -4.53960112e-14 -4.82649436e-15\n",
      "  -2.70930756e-02 -1.00097847e+00 -3.34690007e-01  6.31102684e-01\n",
      "  -3.63865393e-01 -6.68862670e-01  7.79082913e-14 -1.30761704e+00\n",
      "   4.87728191e+00 -2.19500388e-01 -7.21132346e-01 -3.99945298e+00\n",
      "   1.68498229e-01 -3.55215650e-01 -6.71540497e-02]]\n"
     ]
    }
   ],
   "source": [
    "Xval = imp.transform(Xval)\n",
    "Xval = scaler.transform(Xval)\n",
    "print(Xval[:2])"
   ]
  },
  {
   "cell_type": "markdown",
   "metadata": {},
   "source": [
    "# Visualize data with t-SNE"
   ]
  },
  {
   "cell_type": "markdown",
   "metadata": {},
   "source": [
    "Takes a high dimensional dataset and reduces to a low dimensional graph that retains a lot of the original information.\n",
    "\n",
    "What t-SNE does is find a way to project data into a low dimensional space so that the clustering in the high dimensional space is preserved.\n",
    "\n",
    "O(n^2) time and memory. "
   ]
  },
  {
   "cell_type": "code",
   "execution_count": 22,
   "metadata": {},
   "outputs": [],
   "source": [
    "def plottsne(data, ax, title=None):\n",
    "    X_embedded = data[0]\n",
    "    y = data[1]\n",
    "    sc = ax.scatter(X_embedded[:, 0], X_embedded[:, 1],\n",
    "                c=y, marker='o', alpha=.3)\n",
    "    #plt.colorbar(sc)\n",
    "    if title:\n",
    "        ax.set_title(title)\n",
    "    return sc"
   ]
  },
  {
   "cell_type": "code",
   "execution_count": 23,
   "metadata": {},
   "outputs": [],
   "source": [
    "def plotsidebyside(tr, te, title1=None, title2=None):\n",
    "    # display images\n",
    "    fig, ax = plt.subplots(1,2)\n",
    "    #fig.set_size_inches(18.5, 10.5)\n",
    "    fig.set_size_inches(15, 7)\n",
    "    \n",
    "    if tr:\n",
    "        sc_tr = plottsne(tr, ax[0], title1)\n",
    "    if te:\n",
    "        sc_te = plottsne(te, ax[1], title2)\n",
    "    \n",
    "    #plt.figure(figsize=(15, 15))\n",
    "    print(\"blue malicious (owned), yellow compromised (hacked)\")"
   ]
  },
  {
   "cell_type": "code",
   "execution_count": 24,
   "metadata": {},
   "outputs": [],
   "source": [
    "Xtrain_embedded = TSNE(n_components=2, perplexity=40, verbose=0).fit_transform(Xtrain)"
   ]
  },
  {
   "cell_type": "code",
   "execution_count": 25,
   "metadata": {},
   "outputs": [
    {
     "name": "stdout",
     "output_type": "stream",
     "text": [
      "blue malicious (owned), yellow compromised (hacked)\n"
     ]
    },
    {
     "data": {
      "image/png": "[encoded data removed]",
      "text/plain": [
       "<matplotlib.figure.Figure at 0x7f6569f01710>"
      ]
     },
     "metadata": {},
     "output_type": "display_data"
    }
   ],
   "source": [
    "plotsidebyside([Xtrain_embedded, ytrain], None, title1=\"Train\", title2=\"Test\")"
   ]
  },
  {
   "cell_type": "markdown",
   "metadata": {},
   "source": [
    "# ROC\n",
    "Compare the performance of each model."
   ]
  },
  {
   "cell_type": "code",
   "execution_count": 102,
   "metadata": {},
   "outputs": [],
   "source": [
    "names = [\n",
    "         \"KNeighbors\", \n",
    "         \"RBF-SVM\", \n",
    "         \"Decision-Tree\", \n",
    "         #\"CN2Learner\",\n",
    "         \"Random-Forest\",\n",
    "         \"Dummy\",\n",
    "        ]\n",
    "\n",
    "classifiers = [\n",
    "    KNeighborsClassifier(),\n",
    "    SVC(kernel=\"rbf\", probability=True),\n",
    "    DecisionTreeClassifier(),\n",
    "    #CN2Learner(),\n",
    "    RandomForestClassifier(max_depth=5, n_estimators=100, max_features=1, random_state=42),\n",
    "    DummyClassifier(),\n",
    "]"
   ]
  },
  {
   "cell_type": "code",
   "execution_count": 103,
   "metadata": {},
   "outputs": [],
   "source": [
    "def plot_roc_curve(fpr, tpr, ax, axins, name, label=None):\n",
    "    #plt.xlim(0, 0.2)\n",
    "    #plt.ylim(0.6, 1)\n",
    "    #ax.plot(fpr, tpr, 'r', linewidth=2, label=label)\n",
    "    ax.plot(fpr, tpr, linewidth=2, label=label)\n",
    "    ax.grid()\n",
    "    if axins and name == 'Random Forest':\n",
    "        axins.plot(fpr, tpr, 'r', linewidth=2)\n",
    "        axins.grid()\n",
    "        axins.set_xticks(ticks=[0,5,10,15,20])\n",
    "        axins.set_yticks(ticks=[60,70,80,90,100])"
   ]
  },
  {
   "cell_type": "code",
   "execution_count": 104,
   "metadata": {},
   "outputs": [],
   "source": [
    "def getRoc(data, title=None):\n",
    "    X, y = data\n",
    "    y = y\n",
    "    fig, ax = plt.subplots(1, 1, figsize=(8, 6))\n",
    "    axins = inset_axes(ax, width=2, height=1.5, loc=10)\n",
    "    #axins = inset_axes(ax)\n",
    "\n",
    "    #plt.figure(figsize=(8, 6))\n",
    "    #ax.plot([0, 1], [0, 1], 'k--')\n",
    "    ax.set_xlabel('False Postive Rate (%)')\n",
    "    ax.set_ylabel('True Positive Rate (%)')\n",
    "    ax.axis([0, 100, 0, 100])\n",
    "    ax.set_xticks(ticks=[0,10,20,30,40,50,60,70,80,90,100])\n",
    "    ax.set_yticks(ticks=[0,10,20,30,40,50,60,70,80,90,100])\n",
    "    \n",
    "    #axins.set_xlim([0, 0.5])\n",
    "    #axins.set_ylim([0.6, 1])\n",
    "    axins.axis([0, 20, 60, 100])\n",
    "    #plt.axis([0, 1, 0, 1])\n",
    "    #plt.xlabel('False Positive Rate', fontsize=16)\n",
    "    #plt.ylabel('True Positive Rate', fontsize=16)\n",
    "\n",
    "    for name, clf in zip(names, classifiers):\n",
    "        y_scores = cross_val_predict(clf, X, y, cv=10, method=\"predict_proba\")\n",
    "        fpr, tpr, thresholds = roc_curve(y, y_scores[:, 1])\n",
    "        fpr, tpr = fpr*100, tpr*100\n",
    "        roc_auc = auc(fpr, tpr)/(100*100)\n",
    "        plot_roc_curve(fpr, tpr, ax, axins, name, label='%s (AUC = %0.3f)' % (name, roc_auc))\n",
    "        clf.fit(X,y)\n",
    "        \n",
    "        # second validation\n",
    "        predicted_proba = clf.predict_proba(Xval)\n",
    "        fpr, tpr, thresholds = roc_curve(yval, predicted_proba[:, 1])\n",
    "        fpr, tpr = fpr*100, tpr*100\n",
    "        roc_auc = auc(fpr, tpr)/(100*100)\n",
    "        print(name)\n",
    "        print(roc_auc)\n",
    "        \n",
    "\n",
    "    ax.legend()\n",
    "    #plt.show()"
   ]
  },
  {
   "cell_type": "code",
   "execution_count": 105,
   "metadata": {},
   "outputs": [
    {
     "name": "stdout",
     "output_type": "stream",
     "text": [
      "KNeighbors\n",
      "0.8288641270704051\n",
      "RBF-SVM\n",
      "0.8521613745828992\n",
      "Decision-Tree\n",
      "0.8338587670426234\n",
      "Random-Forest\n",
      "0.9245157101659345\n",
      "Dummy\n",
      "0.48251574036327394\n"
     ]
    },
    {
     "data": {
      "image/png": "[encoded data removed]",
      "text/plain": [
       "<matplotlib.figure.Figure at 0x7f53795cd9e8>"
      ]
     },
     "metadata": {},
     "output_type": "display_data"
    }
   ],
   "source": [
    "getRoc([Xtrain, ytrain])"
   ]
  },
  {
   "cell_type": "code",
   "execution_count": 17,
   "metadata": {},
   "outputs": [
    {
     "name": "stdout",
     "output_type": "stream",
     "text": [
      "[[1861    0]\n",
      " [   1    0]]\n",
      "acc:  0.9994629430719656\n",
      "tpr:  0.9994629430719656\n",
      "fpr:  nan\n",
      "f1:  0.9997313994090786\n"
     ]
    },
    {
     "name": "stderr",
     "output_type": "stream",
     "text": [
      "/home/sophie/anaconda3/lib/python3.6/site-packages/ipykernel_launcher.py:15: RuntimeWarning: invalid value encountered in long_scalars\n",
      "  from ipykernel import kernelapp as app\n"
     ]
    }
   ],
   "source": [
    "clf = classifiers[1]\n",
    "name = names[1]\n",
    "model = clf.fit(Xtrain, ytrain)\n",
    "\n",
    "#threshold = 0.67\n",
    "threshold = 0.5\n",
    "#threshold = 0.33\n",
    "\n",
    "predicted = model.predict(Xtest)\n",
    "\n",
    "tn, fp, fn, tp = confusion_matrix(ytest, predicted, labels=[-1,1]).ravel()\n",
    "print(np.array([[tp, fp],[fn, tn]]))\n",
    "print(\"acc: \", accuracy_score(ytest, predicted))\n",
    "print(\"tpr: \", tp/(tp+fn))\n",
    "print(\"fpr: \", fp/(tn+fp))\n",
    "#print(\"f1: \", f1_score(ytrain, predicted, average='micro'))\n",
    "print(\"f1: \", f1_score(ytest, predicted))"
   ]
  },
  {
   "cell_type": "markdown",
   "metadata": {},
   "source": [
    "# Features"
   ]
  },
  {
   "cell_type": "code",
   "execution_count": 32,
   "metadata": {},
   "outputs": [],
   "source": [
    "def getAUC(X, y, feat=\"\"):\n",
    "    y_scores = cross_val_predict(clf, X, y, cv=5, method=\"predict_proba\")\n",
    "    fpr, tpr, thresholds = roc_curve(y, y_scores[:, 1])\n",
    "    roc_auc = auc(fpr, tpr)\n",
    "    #print(\"%s: AUC %s\" % (feat, roc_auc))\n",
    "    #print()\n",
    "    return roc_auc, feat"
   ]
  },
  {
   "cell_type": "markdown",
   "metadata": {},
   "source": [
    "#### Individual"
   ]
  },
  {
   "cell_type": "code",
   "execution_count": 33,
   "metadata": {},
   "outputs": [
    {
     "name": "stdout",
     "output_type": "stream",
     "text": [
      "['archived', 'years_active', 'years_inactive', 'num_captures', 'freenom_tld', 'prev_mal_tld', 'wildcard_subdomain', 'reachable', 'redirected', 'blocked', 'alexa_rank', 'ratio_longest_word', 'contain_digit', 'contain_dash', 'name_len', 'brandname_partialratio', 'prev_mal_domain_ed', 'sub_levels', 'num_sub']\n",
      "[(0.8954117921341934, 'archived'),\n",
      " (0.929989060323647, 'years_active'),\n",
      " (0.9103898231120091, 'years_inactive'),\n",
      " (0.9311929029596906, 'num_captures'),\n",
      " (0.5009290953545232, 'freenom_tld'),\n",
      " (0.6737408312958436, 'reachable'),\n",
      " (0.7225191145437917, 'redirected'),\n",
      " (0.5516860850903569, 'wildcard_subdomain'),\n",
      " (0.7762653260083333, 'blocked'),\n",
      " (0.9995599022004891, 'prev_mal_tld'),\n",
      " (0.6095843520782397, 'alexa_rank'),\n",
      " (0.7365008578380091, 'ratio_longest_word'),\n",
      " (0.4933424596935695, 'contain_digit'),\n",
      " (0.48565120964126235, 'contain_dash'),\n",
      " (0.8410435136088377, 'name_len'),\n",
      " (0.6767391395316862, 'brandname_partialratio'),\n",
      " (0.843001058099844, 'prev_mal_domain_ed'),\n",
      " (0.6748224843227862, 'sub_levels'),\n",
      " (0.5443747945074455, 'num_sub')]\n"
     ]
    }
   ],
   "source": [
    "auc_feat_list = []\n",
    "print(feat_labels)\n",
    "paper_feat_labels = feat_labels\n",
    "#paper_feat_labels = [\"Archived\", \"Years active\", \"Years inactive\", \"Number of captures\", \"Archive redirected\", \"Freenom TLD\", \"Wildcard subdomain\", \"Reachable\", \"Blocked\", \"Alexa rank\", \"Ratio of longest word\", \"Contain digits\", \"Contain hyphen\", \"Name length\", \"Match brand name\"]\n",
    "for i, feat in enumerate(paper_feat_labels):\n",
    "    if 'excluded' in feat:\n",
    "        continue\n",
    "    X = Xtrain[:,i].reshape(-1, 1)\n",
    "    auc_feat_list.append(getAUC(X, ytrain, feat))\n",
    "\n",
    "ftld = auc_feat_list[5]\n",
    "auc_feat_list[5] = auc_feat_list[7]\n",
    "\n",
    "wcsd = auc_feat_list[6]\n",
    "auc_feat_list[6] = auc_feat_list[8]\n",
    "\n",
    "auc_feat_list[7] = wcsd\n",
    "auc_feat_list[8] = auc_feat_list[9]\n",
    "auc_feat_list[9] = ftld\n",
    "pprint(auc_feat_list)"
   ]
  },
  {
   "cell_type": "code",
   "execution_count": 34,
   "metadata": {},
   "outputs": [
    {
     "data": {
      "image/png": "[encoded data removed]",
      "text/plain": [
       "<matplotlib.figure.Figure at 0x7f6569c99b00>"
      ]
     },
     "metadata": {},
     "output_type": "display_data"
    },
    {
     "data": {
      "text/plain": [
       "<matplotlib.figure.Figure at 0x7f6569c994a8>"
      ]
     },
     "metadata": {},
     "output_type": "display_data"
    }
   ],
   "source": [
    "aucs = [x[0] for x in auc_feat_list]\n",
    "feats = [x[1] for x in auc_feat_list]\n",
    "\n",
    "fig, ax = plt.subplots()\n",
    "plt.figure(figsize=(15,10))\n",
    "\n",
    "# Example data\n",
    "y_pos = np.arange(len(feats))\n",
    "\n",
    "ax.barh(y_pos, aucs, align='center')\n",
    "ax.set_yticks(y_pos)\n",
    "ax.set_yticklabels(feats)\n",
    "ax.invert_yaxis()  # labels read top-to-bottom\n",
    "ax.set_xlabel('Area under the curve (AUC)')\n",
    "ax.set_xlim([0,1])\n",
    "#ax.set_title('How fast do you want to go today?')\n",
    "\n",
    "plt.show()"
   ]
  },
  {
   "cell_type": "markdown",
   "metadata": {},
   "source": [
    "# Predict"
   ]
  },
  {
   "cell_type": "code",
   "execution_count": 106,
   "metadata": {},
   "outputs": [
    {
     "name": "stdout",
     "output_type": "stream",
     "text": [
      "{'mal-future-apwg', 'unlabeled-apwg', 'mal-apwg', 'mal-phishlabs', 'comp-phishlabs', 'comp-deltaphish'}\n",
      "KNeighbors-comp-deltaphish\n",
      "RBF-SVM-comp-deltaphish\n",
      "Decision-Tree-comp-deltaphish\n",
      "Random-Forest-comp-deltaphish\n",
      "Dummy-comp-deltaphish\n",
      "KNeighbors-mal-future-apwg\n",
      "RBF-SVM-mal-future-apwg\n",
      "Decision-Tree-mal-future-apwg\n",
      "Random-Forest-mal-future-apwg\n",
      "Dummy-mal-future-apwg\n",
      "KNeighbors-mal-phishlabs\n",
      "RBF-SVM-mal-phishlabs\n",
      "Decision-Tree-mal-phishlabs\n",
      "Random-Forest-mal-phishlabs\n",
      "Dummy-mal-phishlabs\n"
     ]
    }
   ],
   "source": [
    "datasets = set([d['dataset'] for d in data_predict])\n",
    "print(datasets)\n",
    "dataset_predict = {'comp-deltaphish','mal-future-apwg','mal-phishlabs'}\n",
    "compare_datasets = []\n",
    "compare_names = []\n",
    "for dataset in dataset_predict:\n",
    "    clf_datasets = []\n",
    "    clf_names = []\n",
    "    for name, clf in zip(names, classifiers):\n",
    "        clf.fit(Xtrain, ytrain)\n",
    "        \n",
    "        # get X and y for specific datasets\n",
    "        Xpredict = np.array([d['feat'] for d in data_predict if d['dataset'] in dataset])\n",
    "        ypredict = np.array([d['target'] for d in data_predict if d['dataset'] in dataset])\n",
    "        \n",
    "        # transform (handle nan and normalize)\n",
    "        Xpredict = imp.transform(Xpredict)\n",
    "        Xpredict = scaler.transform(Xpredict)\n",
    "        \n",
    "        # predict\n",
    "        Xpredict_pred = clf.predict(Xpredict)\n",
    "        #tn, fp, fn, tp = confusion_matrix(ypredict, Xpredict_pred, labels=[-1,1]).ravel()\n",
    "        \n",
    "        # evaluation criteria\n",
    "        acc = accuracy_score(ypredict, Xpredict_pred)\n",
    "        err = 1-acc\n",
    "        #avg_acc = (tp+tn)/2\n",
    "        \n",
    "        # add avg_acc and corresponding name label\n",
    "        clf_datasets.append(err)\n",
    "        clf_name = '-'.join([name, dataset])\n",
    "        print(clf_name)\n",
    "        clf_names.append(clf_name)\n",
    "    \n",
    "    # add dataset results for specific clf\n",
    "    compare_datasets.append(clf_datasets)\n",
    "    compare_names.append(clf_names)"
   ]
  },
  {
   "cell_type": "code",
   "execution_count": 107,
   "metadata": {},
   "outputs": [
    {
     "name": "stdout",
     "output_type": "stream",
     "text": [
      "[[0.23512336719883886, 0.010159651669085612, 0.0, 0.09288824383164007, 0.5021770682148041], [0.2261146496815286, 0.4426751592356688, 0.5031847133757962, 0.08917197452229297, 0.5382165605095541], [0.24607703281027105, 0.6569186875891584, 0.9935805991440799, 0.13302425106990012, 0.5099857346647646]]\n"
     ]
    }
   ],
   "source": [
    "print(compare_datasets)"
   ]
  },
  {
   "cell_type": "markdown",
   "metadata": {},
   "source": [
    "# Friedman test and Nemenyi CD"
   ]
  },
  {
   "cell_type": "code",
   "execution_count": 108,
   "metadata": {},
   "outputs": [
    {
     "name": "stdout",
     "output_type": "stream",
     "text": [
      "Statistics=5.200, p=0.074\n",
      "Same distributions (fail to reject H0)\n"
     ]
    }
   ],
   "source": [
    "# compare samples\n",
    "stat, p = friedmanchisquare(compare_datasets[0], compare_datasets[1], compare_datasets[2])\n",
    "#stat, p = friedmanchisquare(compare_datasets[0], compare_datasets[2], compare_datasets[4])\n",
    "\n",
    "print('Statistics=%.3f, p=%.3f' % (stat, p))\n",
    "# interpret\n",
    "alpha = 0.05\n",
    "if p > alpha:\n",
    "    print('Same distributions (fail to reject H0)')\n",
    "else:\n",
    "    print('Different distributions (reject H0)')"
   ]
  },
  {
   "cell_type": "code",
   "execution_count": 28,
   "metadata": {},
   "outputs": [
    {
     "name": "stdout",
     "output_type": "stream",
     "text": [
      "Statistics=9.360, p=0.009\n",
      "Different distributions (reject H0)\n"
     ]
    }
   ],
   "source": [
    "from numpy.random import seed\n",
    "from numpy.random import randn\n",
    "# seed the random number generator\n",
    "seed(1)\n",
    "# generate three independent samples\n",
    "data1 = 5 * randn(100) + 50\n",
    "data2 = 5 * randn(100) + 50\n",
    "data3 = 5 * randn(100) + 52\n",
    "# compare samples\n",
    "stat, p = friedmanchisquare(data1, data2, data3)\n",
    "print('Statistics=%.3f, p=%.3f' % (stat, p))\n",
    "# interpret\n",
    "alpha = 0.05\n",
    "if p > alpha:\n",
    "\tprint('Same distributions (fail to reject H0)')\n",
    "else:\n",
    "\tprint('Different distributions (reject H0)')"
   ]
  },
  {
   "cell_type": "code",
   "execution_count": 109,
   "metadata": {},
   "outputs": [
    {
     "name": "stdout",
     "output_type": "stream",
     "text": [
      "[array([4., 2., 1., 3., 5.]), array([2., 3., 4., 1., 5.]), array([2., 4., 5., 1., 3.])]\n",
      "[2.66666667 3.         3.33333333 1.66666667 4.33333333]\n"
     ]
    }
   ],
   "source": [
    "ranks = []\n",
    "for comp in compare_datasets:\n",
    "    rank = rankdata(comp)\n",
    "    ranks.append(rank)\n",
    "print(ranks)\n",
    "avranks = np.mean(ranks, axis=0)\n",
    "print(avranks)"
   ]
  },
  {
   "cell_type": "code",
   "execution_count": 110,
   "metadata": {},
   "outputs": [
    {
     "data": {
      "image/png": "[encoded data removed]",
      "text/plain": [
       "<matplotlib.figure.Figure at 0x7f5378942d68>"
      ]
     },
     "metadata": {},
     "output_type": "display_data"
    }
   ],
   "source": [
    "#names = [\"first\", \"third\", \"second\", \"fourth\" ]\n",
    "#avranks =  [1.9, 3.2, 2.8, 3.3 ]\n",
    "num_datasets = len(dataset_predict)\n",
    "cd = compute_CD(avranks, num_datasets)\n",
    "graph_ranks(avranks, names, cd=cd, width=6, textspace=1.5)\n",
    "plt.show()"
   ]
  },
  {
   "cell_type": "markdown",
   "metadata": {},
   "source": [
    "# Model persistence"
   ]
  },
  {
   "cell_type": "code",
   "execution_count": 17,
   "metadata": {},
   "outputs": [
    {
     "data": {
      "text/plain": [
       "['finalized_scaler.joblib']"
      ]
     },
     "execution_count": 17,
     "metadata": {},
     "output_type": "execute_result"
    }
   ],
   "source": [
    "from joblib import dump, load\n",
    "modelname = 'apwg'\n",
    "filename = './model/'+modelname+'_scaler.joblib'\n",
    "dump(scaler, filename)"
   ]
  },
  {
   "cell_type": "code",
   "execution_count": 21,
   "metadata": {},
   "outputs": [
    {
     "data": {
      "text/plain": [
       "['finalized_imputer.joblib']"
      ]
     },
     "execution_count": 21,
     "metadata": {},
     "output_type": "execute_result"
    }
   ],
   "source": [
    "filename = './model/'+modelname+'_imputer.joblib'\n",
    "dump(imp, filename)"
   ]
  },
  {
   "cell_type": "code",
   "execution_count": 14,
   "metadata": {},
   "outputs": [
    {
     "data": {
      "text/plain": [
       "RandomForestClassifier(bootstrap=True, class_weight=None, criterion='gini',\n",
       "            max_depth=5, max_features=1, max_leaf_nodes=None,\n",
       "            min_impurity_decrease=0.0, min_impurity_split=None,\n",
       "            min_samples_leaf=1, min_samples_split=2,\n",
       "            min_weight_fraction_leaf=0.0, n_estimators=100, n_jobs=None,\n",
       "            oob_score=False, random_state=42, verbose=0, warm_start=False)"
      ]
     },
     "execution_count": 14,
     "metadata": {},
     "output_type": "execute_result"
    }
   ],
   "source": [
    "clf = classifiers[3]\n",
    "clf.fit(Xtrain, ytrain)"
   ]
  },
  {
   "cell_type": "code",
   "execution_count": 20,
   "metadata": {},
   "outputs": [
    {
     "data": {
      "text/plain": [
       "['finalized_model.joblib']"
      ]
     },
     "execution_count": 20,
     "metadata": {},
     "output_type": "execute_result"
    }
   ],
   "source": [
    "#from joblib import dump, load\n",
    "filename = './model/'+modelname+'_model.joblib'\n",
    "dump(clf, filename)\n",
    "#pickle.dump(clf, 'mlp.joblib') "
   ]
  }
 ],
 "metadata": {
  "kernelspec": {
   "display_name": "Python 3",
   "language": "python",
   "name": "python3"
  },
  "language_info": {
   "codemirror_mode": {
    "name": "ipython",
    "version": 3
   },
   "file_extension": ".py",
   "mimetype": "text/x-python",
   "name": "python",
   "nbconvert_exporter": "python",
   "pygments_lexer": "ipython3",
   "version": "3.6.4"
  }
 },
 "nbformat": 4,
 "nbformat_minor": 1
}
