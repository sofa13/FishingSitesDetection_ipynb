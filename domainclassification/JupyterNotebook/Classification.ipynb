{
 "cells": [
  {
   "cell_type": "markdown",
   "metadata": {},
   "source": [
    "**Problem**: Given a phishing url, classify the domain as compromised (owned) or malicious (hacked).\n",
    "\n",
    "**Objective**: Given labeled data, analyze the best model and features."
   ]
  },
  {
   "cell_type": "code",
   "execution_count": 1,
   "metadata": {},
   "outputs": [
    {
     "name": "stdout",
     "output_type": "stream",
     "text": [
      "0.19.1\n"
     ]
    }
   ],
   "source": [
    "import sklearn\n",
    "print(sklearn.__version__)"
   ]
  },
  {
   "cell_type": "markdown",
   "metadata": {},
   "source": [
    "# Setup"
   ]
  },
  {
   "cell_type": "code",
   "execution_count": 2,
   "metadata": {},
   "outputs": [
    {
     "name": "stderr",
     "output_type": "stream",
     "text": [
      "/home/sophie/anaconda3/lib/python3.6/site-packages/h5py/__init__.py:36: FutureWarning: Conversion of the second argument of issubdtype from `float` to `np.floating` is deprecated. In future, it will be treated as `np.float64 == np.dtype(float).type`.\n",
      "  from ._conv import register_converters as _register_converters\n"
     ]
    }
   ],
   "source": [
    "from sklearn import preprocessing\n",
    "from sklearn.preprocessing import StandardScaler, Imputer\n",
    "from sklearn.model_selection import cross_val_score, StratifiedKFold\n",
    "from sklearn.utils import shuffle\n",
    "from sklearn.metrics import roc_curve, auc, confusion_matrix, f1_score\n",
    "from sklearn.model_selection import cross_val_predict\n",
    "from sklearn.datasets import make_moons, make_circles, make_classification\n",
    "from sklearn.model_selection import train_test_split\n",
    "from sklearn.metrics import accuracy_score, recall_score\n",
    "\n",
    "from sklearn.linear_model import SGDClassifier\n",
    "from sklearn.linear_model import LogisticRegression\n",
    "from sklearn.neighbors import KNeighborsClassifier\n",
    "from sklearn.neural_network import MLPClassifier\n",
    "from sklearn.svm import SVC\n",
    "from sklearn.ensemble import RandomForestClassifier, GradientBoostingClassifier\n",
    "from sklearn.discriminant_analysis import QuadraticDiscriminantAnalysis\n",
    "from sklearn.naive_bayes import GaussianNB\n",
    "from sklearn.tree import DecisionTreeClassifier\n",
    "from sklearn.dummy import DummyClassifier\n",
    "from sklearn.calibration import CalibratedClassifierCV\n",
    "from sklearn.isotonic import IsotonicRegression\n",
    "\n",
    "#from sklearn.impute import SimpleImputer\n",
    "\n",
    "from sklearn.decomposition import PCA\n",
    "from sklearn.manifold import TSNE\n",
    "\n",
    "#import xgboost as xgb\n",
    "\n",
    "import numpy as np\n",
    "\n",
    "import matplotlib.pyplot as plt\n",
    "from mpl_toolkits.axes_grid1.inset_locator import inset_axes\n",
    "\n",
    "# orange\n",
    "from Orange.classification.rules import CN2Learner\n",
    "from Orange.evaluation import compute_CD, graph_ranks\n",
    "\n",
    "# scipy\n",
    "import scipy\n",
    "from scipy.stats import friedmanchisquare\n",
    "from scipy.stats import rankdata\n",
    "\n",
    "from pprint import pprint\n",
    "\n",
    "import pickle\n",
    "\n",
    "import numpy as np\n",
    "from numpy import nan\n",
    "\n",
    "import random"
   ]
  },
  {
   "cell_type": "markdown",
   "metadata": {},
   "source": [
    "# Data"
   ]
  },
  {
   "cell_type": "code",
   "execution_count": 3,
   "metadata": {},
   "outputs": [],
   "source": [
    "# balanced train and test sets\n",
    "def balance_data(X, y):\n",
    "    X_bal = []\n",
    "    y_bal = []\n",
    "    X_rest = []\n",
    "    y_rest = []\n",
    "    min1 = len([tar for tar in y if tar==1])\n",
    "    min2 = len([tar for tar in y if tar==-1])\n",
    "    mini = min1\n",
    "    if min2 < min1:\n",
    "        mini = min2\n",
    "\n",
    "    cnt_1 = 0\n",
    "    cnt_0 = 0\n",
    "    print(mini)\n",
    "    for i, tar in enumerate(y):\n",
    "        if tar == 1 and cnt_1<mini:\n",
    "            cnt_1+=1\n",
    "            X_bal.append(X[i])\n",
    "            y_bal.append(y[i])\n",
    "        elif tar == -1 and cnt_0<mini:\n",
    "            cnt_0+=1\n",
    "            X_bal.append(X[i])\n",
    "            y_bal.append(y[i])\n",
    "        else:\n",
    "            X_rest.append(X[i])\n",
    "            y_rest.append(y[i])\n",
    "\n",
    "    print(\"# X_bal:\", len(X_bal))\n",
    "    print(\"# y_bal:\", len(y_bal))\n",
    "    print(\"% compromised: \", len([tar for tar in y_bal if tar==1])/len(y_bal))\n",
    "    print(\"% malicious: \", len([tar for tar in y_bal if tar==-1])/len(y_bal))\n",
    "    \n",
    "    print(\"# X_rest:\", len(X_rest))\n",
    "    print(\"# y_rest:\", len(y_rest))\n",
    "    print(\"% compromised: \", len([tar for tar in y_rest if tar==1])/len(y_rest))\n",
    "    print(\"% malicious: \", len([tar for tar in y_rest if tar==-1])/len(y_rest))\n",
    "    \n",
    "    return [X_bal, y_bal, X_rest, y_rest]"
   ]
  },
  {
   "cell_type": "markdown",
   "metadata": {},
   "source": [
    "### Train/Test"
   ]
  },
  {
   "cell_type": "code",
   "execution_count": 4,
   "metadata": {},
   "outputs": [
    {
     "name": "stdout",
     "output_type": "stream",
     "text": [
      "(5744, 19)\n",
      "(5744,)\n",
      "['archived', 'years_active', 'years_inactive', 'num_captures', 'freenom_tld', 'prev_mal_tld', 'wildcard_subdomain', 'reachable', 'redirected', 'blocked', 'alexa_rank', 'ratio_longest_word', 'contain_digit', 'contain_dash', 'name_len', 'brandname_partialratio', 'prev_mal_domain_ed', 'sub_levels', 'num_sub']\n",
      "[{'dataset': 'unlabeled-apwg',\n",
      "  'feat': [1,\n",
      "           8,\n",
      "           0,\n",
      "           56.0,\n",
      "           0,\n",
      "           0,\n",
      "           1,\n",
      "           1,\n",
      "           0,\n",
      "           0,\n",
      "           nan,\n",
      "           0.3333333333333333,\n",
      "           0,\n",
      "           0,\n",
      "           6,\n",
      "           80,\n",
      "           0.16666666666666666,\n",
      "           0,\n",
      "           1],\n",
      "  'feat_labels': ['archived',\n",
      "                  'years_active',\n",
      "                  'years_inactive',\n",
      "                  'num_captures',\n",
      "                  'freenom_tld',\n",
      "                  'prev_mal_tld',\n",
      "                  'wildcard_subdomain',\n",
      "                  'reachable',\n",
      "                  'redirected',\n",
      "                  'blocked',\n",
      "                  'alexa_rank',\n",
      "                  'ratio_longest_word',\n",
      "                  'contain_digit',\n",
      "                  'contain_dash',\n",
      "                  'name_len',\n",
      "                  'brandname_partialratio',\n",
      "                  'prev_mal_domain_ed',\n",
      "                  'sub_levels',\n",
      "                  'num_sub'],\n",
      "  'info': ['lembas.pl', '3bc116cd55363cdb4ed56fcada4af9bd'],\n",
      "  'target': 1},\n",
      " {'dataset': 'unlabeled-apwg',\n",
      "  'feat': [0,\n",
      "           nan,\n",
      "           nan,\n",
      "           nan,\n",
      "           0,\n",
      "           1,\n",
      "           0,\n",
      "           1,\n",
      "           1,\n",
      "           0,\n",
      "           nan,\n",
      "           0.2857142857142857,\n",
      "           0,\n",
      "           0,\n",
      "           17,\n",
      "           67,\n",
      "           0.058823529411764705,\n",
      "           0,\n",
      "           2],\n",
      "  'feat_labels': ['archived',\n",
      "                  'years_active',\n",
      "                  'years_inactive',\n",
      "                  'num_captures',\n",
      "                  'freenom_tld',\n",
      "                  'prev_mal_tld',\n",
      "                  'wildcard_subdomain',\n",
      "                  'reachable',\n",
      "                  'redirected',\n",
      "                  'blocked',\n",
      "                  'alexa_rank',\n",
      "                  'ratio_longest_word',\n",
      "                  'contain_digit',\n",
      "                  'contain_dash',\n",
      "                  'name_len',\n",
      "                  'brandname_partialratio',\n",
      "                  'prev_mal_domain_ed',\n",
      "                  'sub_levels',\n",
      "                  'num_sub'],\n",
      "  'info': ['nicetoolweboutlet.men', '1e98376b5ea15f30ca35e7024b2ce115'],\n",
      "  'target': -1},\n",
      " {'dataset': 'unlabeled-apwg',\n",
      "  'feat': [0,\n",
      "           nan,\n",
      "           nan,\n",
      "           nan,\n",
      "           0,\n",
      "           1,\n",
      "           0,\n",
      "           0,\n",
      "           nan,\n",
      "           nan,\n",
      "           nan,\n",
      "           0.4444444444444444,\n",
      "           0,\n",
      "           0,\n",
      "           5,\n",
      "           67,\n",
      "           0.2,\n",
      "           0,\n",
      "           1],\n",
      "  'feat_labels': ['archived',\n",
      "                  'years_active',\n",
      "                  'years_inactive',\n",
      "                  'num_captures',\n",
      "                  'freenom_tld',\n",
      "                  'prev_mal_tld',\n",
      "                  'wildcard_subdomain',\n",
      "                  'reachable',\n",
      "                  'redirected',\n",
      "                  'blocked',\n",
      "                  'alexa_rank',\n",
      "                  'ratio_longest_word',\n",
      "                  'contain_digit',\n",
      "                  'contain_dash',\n",
      "                  'name_len',\n",
      "                  'brandname_partialratio',\n",
      "                  'prev_mal_domain_ed',\n",
      "                  'sub_levels',\n",
      "                  'num_sub'],\n",
      "  'info': ['bagok.top', 'f1637c07069905851946080aa8779727'],\n",
      "  'target': -1},\n",
      " {'dataset': 'unlabeled-apwg',\n",
      "  'feat': [1, 9, 0, 49.0, 0, 0, 1, 1, 0, 0, nan, 0.625, 0, 0, 5, 86, 0.2, 1, 1],\n",
      "  'feat_labels': ['archived',\n",
      "                  'years_active',\n",
      "                  'years_inactive',\n",
      "                  'num_captures',\n",
      "                  'freenom_tld',\n",
      "                  'prev_mal_tld',\n",
      "                  'wildcard_subdomain',\n",
      "                  'reachable',\n",
      "                  'redirected',\n",
      "                  'blocked',\n",
      "                  'alexa_rank',\n",
      "                  'ratio_longest_word',\n",
      "                  'contain_digit',\n",
      "                  'contain_dash',\n",
      "                  'name_len',\n",
      "                  'brandname_partialratio',\n",
      "                  'prev_mal_domain_ed',\n",
      "                  'sub_levels',\n",
      "                  'num_sub'],\n",
      "  'info': ['guide.lc', 'b116961bc8486a6f178589043ca47d4e'],\n",
      "  'target': 1},\n",
      " {'dataset': 'unlabeled-apwg',\n",
      "  'feat': [0,\n",
      "           nan,\n",
      "           nan,\n",
      "           nan,\n",
      "           0,\n",
      "           1,\n",
      "           0,\n",
      "           0,\n",
      "           nan,\n",
      "           nan,\n",
      "           nan,\n",
      "           0.2,\n",
      "           0,\n",
      "           0,\n",
      "           11,\n",
      "           100,\n",
      "           0.09090909090909091,\n",
      "           0,\n",
      "           1],\n",
      "  'feat_labels': ['archived',\n",
      "                  'years_active',\n",
      "                  'years_inactive',\n",
      "                  'num_captures',\n",
      "                  'freenom_tld',\n",
      "                  'prev_mal_tld',\n",
      "                  'wildcard_subdomain',\n",
      "                  'reachable',\n",
      "                  'redirected',\n",
      "                  'blocked',\n",
      "                  'alexa_rank',\n",
      "                  'ratio_longest_word',\n",
      "                  'contain_digit',\n",
      "                  'contain_dash',\n",
      "                  'name_len',\n",
      "                  'brandname_partialratio',\n",
      "                  'prev_mal_domain_ed',\n",
      "                  'sub_levels',\n",
      "                  'num_sub'],\n",
      "  'info': ['ofonlbuying.top', '5236dd76d69105585efe2b1f7a83ce76'],\n",
      "  'target': -1}]\n",
      "array([[1.00000000e+00, 8.00000000e+00, 0.00000000e+00, 5.60000000e+01,\n",
      "        0.00000000e+00, 0.00000000e+00, 1.00000000e+00, 1.00000000e+00,\n",
      "        0.00000000e+00, 0.00000000e+00,            nan, 3.33333333e-01,\n",
      "        0.00000000e+00, 0.00000000e+00, 6.00000000e+00, 8.00000000e+01,\n",
      "        1.66666667e-01, 0.00000000e+00, 1.00000000e+00],\n",
      "       [0.00000000e+00,            nan,            nan,            nan,\n",
      "        0.00000000e+00, 1.00000000e+00, 0.00000000e+00, 1.00000000e+00,\n",
      "        1.00000000e+00, 0.00000000e+00,            nan, 2.85714286e-01,\n",
      "        0.00000000e+00, 0.00000000e+00, 1.70000000e+01, 6.70000000e+01,\n",
      "        5.88235294e-02, 0.00000000e+00, 2.00000000e+00],\n",
      "       [0.00000000e+00,            nan,            nan,            nan,\n",
      "        0.00000000e+00, 1.00000000e+00, 0.00000000e+00, 0.00000000e+00,\n",
      "                   nan,            nan,            nan, 4.44444444e-01,\n",
      "        0.00000000e+00, 0.00000000e+00, 5.00000000e+00, 6.70000000e+01,\n",
      "        2.00000000e-01, 0.00000000e+00, 1.00000000e+00],\n",
      "       [1.00000000e+00, 9.00000000e+00, 0.00000000e+00, 4.90000000e+01,\n",
      "        0.00000000e+00, 0.00000000e+00, 1.00000000e+00, 1.00000000e+00,\n",
      "        0.00000000e+00, 0.00000000e+00,            nan, 6.25000000e-01,\n",
      "        0.00000000e+00, 0.00000000e+00, 5.00000000e+00, 8.60000000e+01,\n",
      "        2.00000000e-01, 1.00000000e+00, 1.00000000e+00],\n",
      "       [0.00000000e+00,            nan,            nan,            nan,\n",
      "        0.00000000e+00, 1.00000000e+00, 0.00000000e+00, 0.00000000e+00,\n",
      "                   nan,            nan,            nan, 2.00000000e-01,\n",
      "        0.00000000e+00, 0.00000000e+00, 1.10000000e+01, 1.00000000e+02,\n",
      "        9.09090909e-02, 0.00000000e+00, 1.00000000e+00]])\n",
      "array([ 1, -1, -1,  1, -1])\n",
      "# compromised:  3702\n",
      "# malicious:  2042\n",
      "% compromised:  0.6444986072423399\n",
      "% malicious:  0.3555013927576602\n"
     ]
    }
   ],
   "source": [
    "with open(\"data/data_cluster_5744\", \"r\", encoding='utf-8') as f:\n",
    "    data_train = eval(f.read())\n",
    "    \n",
    "random.Random(4).shuffle(data_train)\n",
    "\n",
    "Xtrain = np.array([d['feat'] for d in data_train])\n",
    "ytrain = np.array([d['target'] for d in data_train])\n",
    "feat_labels = data_train[0]['feat_labels']\n",
    "print(Xtrain.shape)\n",
    "print(ytrain.shape)\n",
    "print(feat_labels)\n",
    "pprint(data_train[:5])\n",
    "pprint(Xtrain[:5])\n",
    "pprint(ytrain[:5])\n",
    "print(\"# compromised: \", len([tar for tar in ytrain if tar==1]))\n",
    "print(\"# malicious: \", len([tar for tar in ytrain if tar==-1]))\n",
    "print(\"% compromised: \", len([tar for tar in ytrain if tar==1])/len(ytrain))\n",
    "print(\"% malicious: \", len([tar for tar in ytrain if tar==-1])/len(ytrain))"
   ]
  },
  {
   "cell_type": "code",
   "execution_count": 5,
   "metadata": {},
   "outputs": [
    {
     "name": "stdout",
     "output_type": "stream",
     "text": [
      "2042\n",
      "# X_bal: 4084\n",
      "# y_bal: 4084\n",
      "% compromised:  0.5\n",
      "% malicious:  0.5\n",
      "# X_rest: 1660\n",
      "# y_rest: 1660\n",
      "% compromised:  1.0\n",
      "% malicious:  0.0\n"
     ]
    }
   ],
   "source": [
    "# balance\n",
    "Xtrain, ytrain, Xtest, ytest = balance_data(Xtrain, ytrain)"
   ]
  },
  {
   "cell_type": "markdown",
   "metadata": {},
   "source": [
    "### Predict"
   ]
  },
  {
   "cell_type": "code",
   "execution_count": 6,
   "metadata": {
    "scrolled": true
   },
   "outputs": [
    {
     "name": "stdout",
     "output_type": "stream",
     "text": [
      "{'comp-deltaphish',\n",
      " 'comp-phishlabs',\n",
      " 'mal-apwg',\n",
      " 'mal-future-apwg',\n",
      " 'mal-phishlabs',\n",
      " 'unlabeled-apwg'}\n"
     ]
    }
   ],
   "source": [
    "with open(\"/home/sophie/SSRG/domainclassification/results/dataset/domain_target_55383\", \"r\", encoding='utf-8') as f:\n",
    "    data_predict = eval(f.read())\n",
    "    \n",
    "random.Random(4).shuffle(data_predict)\n",
    "    \n",
    "datasets = set([d['dataset'] for d in data_predict])\n",
    "pprint(datasets)"
   ]
  },
  {
   "cell_type": "markdown",
   "metadata": {},
   "source": [
    "#### Length of each dataset"
   ]
  },
  {
   "cell_type": "code",
   "execution_count": 14,
   "metadata": {},
   "outputs": [
    {
     "name": "stdout",
     "output_type": "stream",
     "text": [
      "comp-deltaphish: 689\n",
      "comp-phishlabs: 669\n",
      "mal-future-apwg: 314\n",
      "mal-apwg: 495\n",
      "unlabeled-apwg: 50412\n",
      "mal-phishlabs: 2804\n"
     ]
    }
   ],
   "source": [
    "for dn in datasets:\n",
    "    x = [d for d in data_predict if d['dataset'] == dn]\n",
    "    print(\"%s: %s\" % (dn, str(len(x))))"
   ]
  },
  {
   "cell_type": "markdown",
   "metadata": {},
   "source": [
    "#### Cluster training"
   ]
  },
  {
   "cell_type": "code",
   "execution_count": 7,
   "metadata": {},
   "outputs": [
    {
     "name": "stdout",
     "output_type": "stream",
     "text": [
      "(1164, 19)\n",
      "(1164,)\n",
      "['archived', 'years_active', 'years_inactive', 'num_captures', 'freenom_tld', 'prev_mal_tld', 'wildcard_subdomain', 'reachable', 'redirected', 'blocked', 'alexa_rank', 'ratio_longest_word', 'contain_digit', 'contain_dash', 'name_len', 'brandname_partialratio', 'prev_mal_domain_ed', 'sub_levels', 'num_sub']\n",
      "array([[1.00000000e+00, 1.60000000e+01, 1.00000000e+00, 8.44000000e+02,\n",
      "        0.00000000e+00, 0.00000000e+00, 0.00000000e+00, 1.00000000e+00,\n",
      "        0.00000000e+00, 0.00000000e+00, 2.30597000e+05, 3.15789474e-01,\n",
      "        0.00000000e+00, 0.00000000e+00, 1.50000000e+01, 6.70000000e+01,\n",
      "        6.66666667e-02, 1.00000000e+00, 1.00000000e+00],\n",
      "       [0.00000000e+00,            nan,            nan,            nan,\n",
      "        0.00000000e+00, 1.00000000e+00, 0.00000000e+00, 1.00000000e+00,\n",
      "        1.00000000e+00, 0.00000000e+00,            nan, 3.18181818e-01,\n",
      "        0.00000000e+00, 0.00000000e+00, 1.80000000e+01, 1.00000000e+02,\n",
      "        5.55555556e-02, 0.00000000e+00, 2.00000000e+00],\n",
      "       [0.00000000e+00,            nan,            nan,            nan,\n",
      "        0.00000000e+00, 0.00000000e+00, 0.00000000e+00, 0.00000000e+00,\n",
      "                   nan,            nan,            nan, 1.90476190e-01,\n",
      "        1.00000000e+00, 0.00000000e+00, 1.40000000e+01, 7.50000000e+01,\n",
      "        7.14285714e-02, 0.00000000e+00, 1.00000000e+00],\n",
      "       [0.00000000e+00,            nan,            nan,            nan,\n",
      "        0.00000000e+00, 1.00000000e+00, 0.00000000e+00, 1.00000000e+00,\n",
      "        0.00000000e+00, 0.00000000e+00,            nan, 4.28571429e-01,\n",
      "        0.00000000e+00, 1.00000000e+00, 1.00000000e+01, 6.70000000e+01,\n",
      "        1.00000000e-01, 0.00000000e+00, 1.00000000e+00],\n",
      "       [1.00000000e+00, 9.00000000e+00, 1.00000000e+00, 5.00000000e+01,\n",
      "        0.00000000e+00, 0.00000000e+00, 1.00000000e+00, 1.00000000e+00,\n",
      "        0.00000000e+00, 0.00000000e+00,            nan, 2.85714286e-01,\n",
      "        0.00000000e+00, 0.00000000e+00, 1.00000000e+01, 6.70000000e+01,\n",
      "        1.00000000e-01, 0.00000000e+00, 1.00000000e+00]])\n",
      "array([ 1, -1,  1, -1,  1])\n",
      "# compromised:  669\n",
      "# malicious:  495\n",
      "% compromised:  0.5747422680412371\n",
      "% malicious:  0.4252577319587629\n"
     ]
    }
   ],
   "source": [
    "#data used for cluster training\n",
    "dataset_val = {\"comp-phishlabs\", \"mal-apwg\"}\n",
    "#dataset_val = {\"comp-deltaphish\", \"mal-apwg\"}\n",
    "Xval = np.array([d['feat'] for d in data_predict if d['dataset'] in dataset_val])\n",
    "yval = np.array([d['target'] for d in data_predict if d['dataset'] in dataset_val])\n",
    "feat_labels = data_predict[0]['feat_labels']\n",
    "print(Xval.shape)\n",
    "print(yval.shape)\n",
    "print(feat_labels)\n",
    "pprint(Xval[:5])\n",
    "pprint(yval[:5])\n",
    "print(\"# compromised: \", len([tar for tar in yval if tar==1]))\n",
    "print(\"# malicious: \", len([tar for tar in yval if tar==-1]))\n",
    "print(\"% compromised: \", len([tar for tar in yval if tar==1])/len(yval))\n",
    "print(\"% malicious: \", len([tar for tar in yval if tar==-1])/len(yval))"
   ]
  },
  {
   "cell_type": "code",
   "execution_count": 8,
   "metadata": {},
   "outputs": [
    {
     "name": "stdout",
     "output_type": "stream",
     "text": [
      "495\n",
      "# X_bal: 990\n",
      "# y_bal: 990\n",
      "% compromised:  0.5\n",
      "% malicious:  0.5\n",
      "# X_rest: 174\n",
      "# y_rest: 174\n",
      "% compromised:  1.0\n",
      "% malicious:  0.0\n"
     ]
    }
   ],
   "source": [
    "# balance\n",
    "Xvalb, yvalb, Xvaltestb, yvaltestb = balance_data(Xval, yval)"
   ]
  },
  {
   "cell_type": "markdown",
   "metadata": {},
   "source": [
    "# Normalize and imputer"
   ]
  },
  {
   "cell_type": "code",
   "execution_count": 9,
   "metadata": {},
   "outputs": [],
   "source": [
    "# imp = Imputer(missing_values=np.nan, strategy='mean')\n",
    "# imp.fit(Xtrain)\n",
    "# Xtrain = imp.transform(Xtrain)\n",
    "# print(Xtrain[:2])\n",
    "\n",
    "Xtrain = np.where(np.isnan(Xtrain), -1, Xtrain)"
   ]
  },
  {
   "cell_type": "code",
   "execution_count": 10,
   "metadata": {},
   "outputs": [
    {
     "name": "stdout",
     "output_type": "stream",
     "text": [
      "[[ 0.92722435  0.81833029  0.0065093  -0.02239467 -0.01564985 -1.\n",
      "   0.95497907  0.56075952  0.28806702  0.52184356 -0.12365408 -0.1166644\n",
      "  -0.21031931 -0.28610191 -1.27603584  0.45512287  1.78179319 -0.42247349\n",
      "  -0.16238174]\n",
      " [-1.07848764 -0.68529639 -0.97808278 -0.0425758  -0.01564985  1.\n",
      "  -1.04714337  0.56075952  2.12342695  0.52184356 -0.12365408 -0.60571251\n",
      "  -0.21031931 -0.28610191  1.28848052 -0.6150478  -1.05640703 -0.42247349\n",
      "   0.49617539]]\n"
     ]
    }
   ],
   "source": [
    "scaler = StandardScaler()\n",
    "scaler.fit(Xtrain)\n",
    "Xtrain = scaler.transform(Xtrain)\n",
    "\n",
    "print(Xtrain[:2])"
   ]
  },
  {
   "cell_type": "code",
   "execution_count": 11,
   "metadata": {},
   "outputs": [
    {
     "name": "stdout",
     "output_type": "stream",
     "text": [
      "[[ 0.92722435  2.15488733  0.99110138  0.25660064 -0.01564985 -1.\n",
      "  -1.04714337  0.56075952  0.28806702  0.52184356  9.5687551  -0.29684002\n",
      "  -0.21031931 -0.28610191  0.82220482 -0.6150478  -0.84999247  1.53818755\n",
      "  -0.16238174]\n",
      " [-1.07848764 -0.68529639 -0.97808278 -0.0425758  -0.01564985  1.\n",
      "  -1.04714337  0.56075952  2.12342695  0.52184356 -0.12365408 -0.27227061\n",
      "  -0.21031931 -0.28610191  1.52161837  2.10153929 -1.1424131  -0.42247349\n",
      "   0.49617539]]\n"
     ]
    }
   ],
   "source": [
    "#Xvalb = imp.transform(Xvalb)\n",
    "Xvalb = np.where(np.isnan(Xvalb), -1, Xvalb)\n",
    "Xvalb = scaler.transform(Xvalb)\n",
    "print(Xvalb[:2])"
   ]
  },
  {
   "cell_type": "markdown",
   "metadata": {},
   "source": [
    "# Feature calibration"
   ]
  },
  {
   "cell_type": "code",
   "execution_count": 15,
   "metadata": {},
   "outputs": [],
   "source": [
    "def sortAscendingFeature(cX, cy):\n",
    "    idx_cX = np.argsort(cX)\n",
    "    cX = np.array(cX)[idx_cX]\n",
    "    cy = np.array(cy)[idx_cX]\n",
    "    return cX, idx_cX, cy"
   ]
  },
  {
   "cell_type": "code",
   "execution_count": 16,
   "metadata": {},
   "outputs": [
    {
     "name": "stdout",
     "output_type": "stream",
     "text": [
      "(array([1, 2, 3, 4, 5]), array([3, 4, 0, 1, 2]), array([0, 0, 1, 1, 1]))\n",
      "[2 3 4 0 1]\n",
      "[3 4 5 1 2]\n"
     ]
    }
   ],
   "source": [
    "# test\n",
    "cX = [3,4,5,1,2]\n",
    "cy = [1,1,1,0,0]\n",
    "x = sortAscendingFeature(cX,cy)\n",
    "print(x)\n",
    "cX, idx_cX, cy = x\n",
    "idx_cX_sort = np.argsort(idx_cX)\n",
    "cX = np.array(cX)[idx_cX_sort]\n",
    "print(idx_cX_sort)\n",
    "print(cX)"
   ]
  },
  {
   "cell_type": "code",
   "execution_count": 17,
   "metadata": {},
   "outputs": [],
   "source": [
    "def calibratedFeature(cX, cy, iso=None):\n",
    "    cX, idx_cX, cy = sortAscendingFeature(cX, cy)\n",
    "    #print(cX[:-20])\n",
    "    \n",
    "    if iso is None:\n",
    "        #iso = IsotonicRegression()\n",
    "        iso = IsotonicRegression(out_of_bounds='clip')\n",
    "        iso.fit(cX, cy)\n",
    "        \n",
    "    cX = iso.transform(cX)\n",
    "    #print(cX[:-20])\n",
    "    \n",
    "    # sort back to original indexes\n",
    "    idx_cX_sort = np.argsort(idx_cX)\n",
    "    cX = np.array(cX)[idx_cX_sort]\n",
    "    return cX, iso"
   ]
  },
  {
   "cell_type": "code",
   "execution_count": 18,
   "metadata": {},
   "outputs": [
    {
     "name": "stdout",
     "output_type": "stream",
     "text": [
      "8\n"
     ]
    }
   ],
   "source": [
    "# calibrated features\n",
    "cfeatures = {'years_active', 'years_inactive', 'num_captures', 'alexa_rank', 'sub_levels', 'num_sub', 'brandname_partialratio', 'name_len'}\n",
    "\n",
    "iso_functions = []\n",
    "Xtrain_new = np.copy(Xtrain)\n",
    "for i, feat in enumerate(feat_labels):\n",
    "    if feat in cfeatures:\n",
    "\n",
    "        cX, cy = Xtrain_new[:,i], ytrain\n",
    "        cX, iso = calibratedFeature(cX, cy)\n",
    "        \n",
    "        Xtrain_new[:, i] = cX\n",
    "        iso_functions.append(iso)\n",
    "        \n",
    "print(len(iso_functions))"
   ]
  },
  {
   "cell_type": "markdown",
   "metadata": {},
   "source": [
    "#### Visualize calibrated features"
   ]
  },
  {
   "cell_type": "code",
   "execution_count": 19,
   "metadata": {},
   "outputs": [],
   "source": [
    "def plotFractionalGraph(x, y=None, xlabel=\"\", xmin=0, xmax=4000):\n",
    "    #print(y)\n",
    "    #print(x)\n",
    "\n",
    "    ax = plt.subplot()\n",
    "    ax.plot(x)\n",
    "\n",
    "    #plt.xlabel(xlabel)\n",
    "    #plt.ylabel(\"Fraction of Unique URLs\")\n",
    "    #plt.axis([xmin, xmax, 0, 1])\n",
    "    plt.grid(True, linestyle='dotted')\n",
    "\n",
    "    plt.show()"
   ]
  },
  {
   "cell_type": "code",
   "execution_count": 20,
   "metadata": {},
   "outputs": [
    {
     "name": "stdout",
     "output_type": "stream",
     "text": [
      "years_active\n"
     ]
    },
    {
     "data": {
      "image/png": "[encoded data removed]",
      "text/plain": [
       "<matplotlib.figure.Figure at 0x7f657b2e3128>"
      ]
     },
     "metadata": {},
     "output_type": "display_data"
    },
    {
     "data": {
      "image/png": "[encoded data removed]",
      "text/plain": [
       "<matplotlib.figure.Figure at 0x7f657af1dfd0>"
      ]
     },
     "metadata": {},
     "output_type": "display_data"
    },
    {
     "name": "stdout",
     "output_type": "stream",
     "text": [
      "years_inactive\n"
     ]
    },
    {
     "data": {
      "image/png": "[encoded data removed]",
      "text/plain": [
       "<matplotlib.figure.Figure at 0x7f657afbc400>"
      ]
     },
     "metadata": {},
     "output_type": "display_data"
    },
    {
     "data": {
      "image/png": "[encoded data removed]",
      "text/plain": [
       "<matplotlib.figure.Figure at 0x7f657ac4ca20>"
      ]
     },
     "metadata": {},
     "output_type": "display_data"
    },
    {
     "name": "stdout",
     "output_type": "stream",
     "text": [
      "num_captures\n"
     ]
    },
    {
     "data": {
      "image/png": "[encoded data removed]",
      "text/plain": [
       "<matplotlib.figure.Figure at 0x7f657aba3908>"
      ]
     },
     "metadata": {},
     "output_type": "display_data"
    },
    {
     "data": {
      "image/png": "[encoded data removed]",
      "text/plain": [
       "<matplotlib.figure.Figure at 0x7f658697e4a8>"
      ]
     },
     "metadata": {},
     "output_type": "display_data"
    },
    {
     "name": "stdout",
     "output_type": "stream",
     "text": [
      "alexa_rank\n"
     ]
    },
    {
     "data": {
      "image/png": "[encoded data removed]",
      "text/plain": [
       "<matplotlib.figure.Figure at 0x7f657aba3470>"
      ]
     },
     "metadata": {},
     "output_type": "display_data"
    },
    {
     "data": {
      "image/png": "[encoded data removed]",
      "text/plain": [
       "<matplotlib.figure.Figure at 0x7f65868a6cc0>"
      ]
     },
     "metadata": {},
     "output_type": "display_data"
    },
    {
     "name": "stdout",
     "output_type": "stream",
     "text": [
      "name_len\n"
     ]
    },
    {
     "data": {
      "image/png": "[encoded data removed]",
      "text/plain": [
       "<matplotlib.figure.Figure at 0x7f6586942c88>"
      ]
     },
     "metadata": {},
     "output_type": "display_data"
    },
    {
     "data": {
      "image/png": "[encoded data removed]",
      "text/plain": [
       "<matplotlib.figure.Figure at 0x7f6586770dd8>"
      ]
     },
     "metadata": {},
     "output_type": "display_data"
    },
    {
     "name": "stdout",
     "output_type": "stream",
     "text": [
      "brandname_partialratio\n"
     ]
    },
    {
     "data": {
      "image/png": "[encoded data removed]",
      "text/plain": [
       "<matplotlib.figure.Figure at 0x7f65866a7e80>"
      ]
     },
     "metadata": {},
     "output_type": "display_data"
    },
    {
     "data": {
      "image/png": "[encoded data removed]",
      "text/plain": [
       "<matplotlib.figure.Figure at 0x7f65866f8e48>"
      ]
     },
     "metadata": {},
     "output_type": "display_data"
    },
    {
     "name": "stdout",
     "output_type": "stream",
     "text": [
      "sub_levels\n"
     ]
    },
    {
     "data": {
      "image/png": "[encoded data removed]",
      "text/plain": [
       "<matplotlib.figure.Figure at 0x7f65868a49b0>"
      ]
     },
     "metadata": {},
     "output_type": "display_data"
    },
    {
     "data": {
      "image/png": "[encoded data removed]",
      "text/plain": [
       "<matplotlib.figure.Figure at 0x7f65862ee4a8>"
      ]
     },
     "metadata": {},
     "output_type": "display_data"
    },
    {
     "name": "stdout",
     "output_type": "stream",
     "text": [
      "num_sub\n"
     ]
    },
    {
     "data": {
      "image/png": "[encoded data removed]",
      "text/plain": [
       "<matplotlib.figure.Figure at 0x7f658614af60>"
      ]
     },
     "metadata": {},
     "output_type": "display_data"
    },
    {
     "data": {
      "image/png": "[encoded data removed]",
      "text/plain": [
       "<matplotlib.figure.Figure at 0x7f658614a860>"
      ]
     },
     "metadata": {},
     "output_type": "display_data"
    }
   ],
   "source": [
    "for i, feat in enumerate(feat_labels):\n",
    "    if feat in cfeatures:\n",
    "        print(feat)\n",
    "        # get feat before and after\n",
    "        feat_before = Xtrain[:,i]\n",
    "        feat_after = Xtrain_new[:,i]\n",
    "        \n",
    "        # sort feats\n",
    "        feat_before = np.sort(np.array(feat_before))\n",
    "        feat_after = np.sort(np.array(feat_after))\n",
    "        \n",
    "        plotFractionalGraph(feat_before)\n",
    "        plotFractionalGraph(feat_after)\n",
    "        #plt.plot(feat_before)"
   ]
  },
  {
   "cell_type": "code",
   "execution_count": 21,
   "metadata": {},
   "outputs": [],
   "source": [
    "Xtrain = Xtrain_new"
   ]
  },
  {
   "cell_type": "markdown",
   "metadata": {},
   "source": [
    "#### Apply calibrated features"
   ]
  },
  {
   "cell_type": "code",
   "execution_count": 22,
   "metadata": {},
   "outputs": [],
   "source": [
    "def applyIsoFunction(X, y, iso_functions):\n",
    "    cnt = 0\n",
    "    for i, feat in enumerate(feat_labels):\n",
    "        if feat in cfeatures:\n",
    "            \n",
    "            # select specific feature\n",
    "            cX = X[:,i]\n",
    "            \n",
    "            # get transformed feature with specific iso function\n",
    "            cX, _ = calibratedFeature(cX, y, iso_functions[cnt])\n",
    "            cnt+=1\n",
    "            \n",
    "            # update calibrated feature\n",
    "            X[:, i] = cX\n",
    "    \n",
    "    return X"
   ]
  },
  {
   "cell_type": "code",
   "execution_count": 23,
   "metadata": {},
   "outputs": [],
   "source": [
    "Xvalb_new = np.copy(Xvalb)\n",
    "Xvalb_new = applyIsoFunction(Xvalb_new, yvalb, iso_functions)"
   ]
  },
  {
   "cell_type": "code",
   "execution_count": 24,
   "metadata": {},
   "outputs": [
    {
     "name": "stdout",
     "output_type": "stream",
     "text": [
      "years_active\n"
     ]
    },
    {
     "data": {
      "image/png": "[encoded data removed]",
      "text/plain": [
       "<matplotlib.figure.Figure at 0x7f657b1c4e80>"
      ]
     },
     "metadata": {},
     "output_type": "display_data"
    },
    {
     "data": {
      "image/png": "[encoded data removed]",
      "text/plain": [
       "<matplotlib.figure.Figure at 0x7f658614ac50>"
      ]
     },
     "metadata": {},
     "output_type": "display_data"
    },
    {
     "name": "stdout",
     "output_type": "stream",
     "text": [
      "years_inactive\n"
     ]
    },
    {
     "data": {
      "image/png": "[encoded data removed]",
      "text/plain": [
       "<matplotlib.figure.Figure at 0x7f6585957860>"
      ]
     },
     "metadata": {},
     "output_type": "display_data"
    },
    {
     "data": {
      "image/png": "[encoded data removed]",
      "text/plain": [
       "<matplotlib.figure.Figure at 0x7f65857f8f98>"
      ]
     },
     "metadata": {},
     "output_type": "display_data"
    },
    {
     "name": "stdout",
     "output_type": "stream",
     "text": [
      "num_captures\n"
     ]
    },
    {
     "data": {
      "image/png": "[encoded data removed]",
      "text/plain": [
       "<matplotlib.figure.Figure at 0x7f658571eb38>"
      ]
     },
     "metadata": {},
     "output_type": "display_data"
    },
    {
     "data": {
      "image/png": "[encoded data removed]",
      "text/plain": [
       "<matplotlib.figure.Figure at 0x7f65855e4438>"
      ]
     },
     "metadata": {},
     "output_type": "display_data"
    },
    {
     "name": "stdout",
     "output_type": "stream",
     "text": [
      "alexa_rank\n"
     ]
    },
    {
     "data": {
      "image/png": "[encoded data removed]",
      "text/plain": [
       "<matplotlib.figure.Figure at 0x7f65856a9438>"
      ]
     },
     "metadata": {},
     "output_type": "display_data"
    },
    {
     "data": {
      "image/png": "[encoded data removed]",
      "text/plain": [
       "<matplotlib.figure.Figure at 0x7f65858084e0>"
      ]
     },
     "metadata": {},
     "output_type": "display_data"
    },
    {
     "name": "stdout",
     "output_type": "stream",
     "text": [
      "name_len\n"
     ]
    },
    {
     "data": {
      "image/png": "[encoded data removed]",
      "text/plain": [
       "<matplotlib.figure.Figure at 0x7f6584d26400>"
      ]
     },
     "metadata": {},
     "output_type": "display_data"
    },
    {
     "data": {
      "image/png": "[encoded data removed]",
      "text/plain": [
       "<matplotlib.figure.Figure at 0x7f6584c460b8>"
      ]
     },
     "metadata": {},
     "output_type": "display_data"
    },
    {
     "name": "stdout",
     "output_type": "stream",
     "text": [
      "brandname_partialratio\n"
     ]
    },
    {
     "data": {
      "image/png": "[encoded data removed]",
      "text/plain": [
       "<matplotlib.figure.Figure at 0x7f6584a71c50>"
      ]
     },
     "metadata": {},
     "output_type": "display_data"
    },
    {
     "data": {
      "image/png": "[encoded data removed]",
      "text/plain": [
       "<matplotlib.figure.Figure at 0x7f65852aa9b0>"
      ]
     },
     "metadata": {},
     "output_type": "display_data"
    },
    {
     "name": "stdout",
     "output_type": "stream",
     "text": [
      "sub_levels\n"
     ]
    },
    {
     "data": {
      "image/png": "[encoded data removed]",
      "text/plain": [
       "<matplotlib.figure.Figure at 0x7f6585168c88>"
      ]
     },
     "metadata": {},
     "output_type": "display_data"
    },
    {
     "data": {
      "image/png": "[encoded data removed]",
      "text/plain": [
       "<matplotlib.figure.Figure at 0x7f6585066390>"
      ]
     },
     "metadata": {},
     "output_type": "display_data"
    },
    {
     "name": "stdout",
     "output_type": "stream",
     "text": [
      "num_sub\n"
     ]
    },
    {
     "data": {
      "image/png": "[encoded data removed]",
      "text/plain": [
       "<matplotlib.figure.Figure at 0x7f6584ea2a90>"
      ]
     },
     "metadata": {},
     "output_type": "display_data"
    },
    {
     "data": {
      "image/png": "[encoded data removed]",
      "text/plain": [
       "<matplotlib.figure.Figure at 0x7f6584e1d5c0>"
      ]
     },
     "metadata": {},
     "output_type": "display_data"
    }
   ],
   "source": [
    "for i, feat in enumerate(feat_labels):\n",
    "    if feat in cfeatures:\n",
    "        print(feat)\n",
    "        # get feat before and after\n",
    "        feat_before = Xvalb[:,i]\n",
    "        feat_after = Xvalb_new[:,i]\n",
    "        \n",
    "        # sort feats\n",
    "        feat_before = np.sort(np.array(feat_before))\n",
    "        feat_after = np.sort(np.array(feat_after))\n",
    "        \n",
    "        plotFractionalGraph(feat_before)\n",
    "        plotFractionalGraph(feat_after)\n",
    "        #plt.plot(feat_before)"
   ]
  },
  {
   "cell_type": "code",
   "execution_count": 25,
   "metadata": {},
   "outputs": [],
   "source": [
    "Xvalb = Xvalb_new"
   ]
  },
  {
   "cell_type": "markdown",
   "metadata": {},
   "source": [
    "# Visualize data with t-SNE"
   ]
  },
  {
   "cell_type": "markdown",
   "metadata": {},
   "source": [
    "Takes a high dimensional dataset and reduces to a low dimensional graph that retains a lot of the original information.\n",
    "\n",
    "What t-SNE does is find a way to project data into a low dimensional space so that the clustering in the high dimensional space is preserved.\n",
    "\n",
    "O(n^2) time and memory. "
   ]
  },
  {
   "cell_type": "code",
   "execution_count": 128,
   "metadata": {},
   "outputs": [],
   "source": [
    "def plottsne(data, ax, title=None):\n",
    "    X_embedded = data[0]\n",
    "    y = data[1]\n",
    "    sc = ax.scatter(X_embedded[:, 0], X_embedded[:, 1],\n",
    "                c=y, marker='o', alpha=.3)\n",
    "    #plt.colorbar(sc)\n",
    "    if title:\n",
    "        ax.set_title(title)\n",
    "    return sc"
   ]
  },
  {
   "cell_type": "code",
   "execution_count": 129,
   "metadata": {},
   "outputs": [],
   "source": [
    "def plotsidebyside(tr, te, title1=None, title2=None):\n",
    "    # display images\n",
    "    fig, ax = plt.subplots(1,2)\n",
    "    #fig.set_size_inches(18.5, 10.5)\n",
    "    fig.set_size_inches(15, 7)\n",
    "    \n",
    "    if tr:\n",
    "        sc_tr = plottsne(tr, ax[0], title1)\n",
    "    if te:\n",
    "        sc_te = plottsne(te, ax[1], title2)\n",
    "    \n",
    "    #plt.figure(figsize=(15, 15))\n",
    "    print(\"blue malicious (owned), yellow compromised (hacked)\")"
   ]
  },
  {
   "cell_type": "code",
   "execution_count": 211,
   "metadata": {},
   "outputs": [],
   "source": [
    "Xtrain_embedded = TSNE(n_components=2, perplexity=40, verbose=0).fit_transform(Xtrain)"
   ]
  },
  {
   "cell_type": "code",
   "execution_count": 212,
   "metadata": {},
   "outputs": [
    {
     "name": "stdout",
     "output_type": "stream",
     "text": [
      "blue malicious (owned), yellow compromised (hacked)\n"
     ]
    },
    {
     "data": {
      "image/png": "[encoded data removed]",
      "text/plain": [
       "<matplotlib.figure.Figure at 0x7fc876e7deb8>"
      ]
     },
     "metadata": {},
     "output_type": "display_data"
    }
   ],
   "source": [
    "plotsidebyside([Xtrain_embedded, ytrain], None, title1=\"Train\", title2=\"Test\")"
   ]
  },
  {
   "cell_type": "code",
   "execution_count": 282,
   "metadata": {},
   "outputs": [],
   "source": [
    "Xvalb_embedded = TSNE(n_components=2, perplexity=40, verbose=0).fit_transform(Xvalb_new)"
   ]
  },
  {
   "cell_type": "code",
   "execution_count": 283,
   "metadata": {},
   "outputs": [
    {
     "name": "stdout",
     "output_type": "stream",
     "text": [
      "blue malicious (owned), yellow compromised (hacked)\n"
     ]
    },
    {
     "data": {
      "image/png": "[encoded data removed]",
      "text/plain": [
       "<matplotlib.figure.Figure at 0x7fc7ed918e80>"
      ]
     },
     "metadata": {},
     "output_type": "display_data"
    }
   ],
   "source": [
    "plotsidebyside([Xvalb_embedded, yvalb], None, title1=\"Train\", title2=\"Test\")"
   ]
  },
  {
   "cell_type": "markdown",
   "metadata": {},
   "source": [
    "# ROC\n",
    "Compare the performance of each model."
   ]
  },
  {
   "cell_type": "code",
   "execution_count": 148,
   "metadata": {},
   "outputs": [],
   "source": [
    "def plot_roc_curve(fpr, tpr, ax, axins, name, label=None):\n",
    "    #plt.xlim(0, 0.2)\n",
    "    #plt.ylim(0.6, 1)\n",
    "    #ax.plot(fpr, tpr, 'r', linewidth=2, label=label)\n",
    "    ax.plot(fpr, tpr, linewidth=2, label=label)\n",
    "    ax.grid()\n",
    "    if axins and name == 'Random Forest':\n",
    "        axins.plot(fpr, tpr, 'r', linewidth=2)\n",
    "        axins.grid()\n",
    "        axins.set_xticks(ticks=[0,5,10,15,20])\n",
    "        axins.set_yticks(ticks=[60,70,80,90,100])"
   ]
  },
  {
   "cell_type": "code",
   "execution_count": 149,
   "metadata": {},
   "outputs": [],
   "source": [
    "def getRoc(data, title=None):\n",
    "    X, y = data\n",
    "    y = y\n",
    "    fig, ax = plt.subplots(1, 1, figsize=(8, 6))\n",
    "    axins = inset_axes(ax, width=2, height=1.5, loc=10)\n",
    "    #axins = inset_axes(ax)\n",
    "\n",
    "    #plt.figure(figsize=(8, 6))\n",
    "    #ax.plot([0, 1], [0, 1], 'k--')\n",
    "    ax.set_xlabel('False Postive Rate (%)')\n",
    "    ax.set_ylabel('True Positive Rate (%)')\n",
    "    ax.axis([0, 100, 0, 100])\n",
    "    ax.set_xticks(ticks=[0,10,20,30,40,50,60,70,80,90,100])\n",
    "    ax.set_yticks(ticks=[0,10,20,30,40,50,60,70,80,90,100])\n",
    "    \n",
    "    #axins.set_xlim([0, 0.5])\n",
    "    #axins.set_ylim([0.6, 1])\n",
    "    axins.axis([0, 20, 60, 100])\n",
    "    #plt.axis([0, 1, 0, 1])\n",
    "    #plt.xlabel('False Positive Rate', fontsize=16)\n",
    "    #plt.ylabel('True Positive Rate', fontsize=16)\n",
    "\n",
    "    for name, clf in zip(names, classifiers):\n",
    "        y_scores = cross_val_predict(clf, X, y, cv=10, method=\"predict_proba\")\n",
    "        fpr, tpr, thresholds = roc_curve(y, y_scores[:, 1])\n",
    "        fpr, tpr = fpr*100, tpr*100\n",
    "        roc_auc = auc(fpr, tpr)/(100*100)\n",
    "        plot_roc_curve(fpr, tpr, ax, axins, name, label='%s (AUC = %0.3f)' % (name, roc_auc))\n",
    "        clf.fit(X,y)\n",
    "        \n",
    "        # second validation\n",
    "        predicted_proba = clf.predict_proba(Xval)\n",
    "        fpr, tpr, thresholds = roc_curve(yval, predicted_proba[:, 1])\n",
    "        fpr, tpr = fpr*100, tpr*100\n",
    "        roc_auc = auc(fpr, tpr)/(100*100)\n",
    "        print(name)\n",
    "        print(roc_auc)\n",
    "        \n",
    "\n",
    "    ax.legend()\n",
    "    #plt.show()"
   ]
  },
  {
   "cell_type": "code",
   "execution_count": 150,
   "metadata": {},
   "outputs": [
    {
     "name": "stdout",
     "output_type": "stream",
     "text": [
      "KNeighbors\n",
      "0.8757621053585178\n",
      "SVM\n",
      "0.9032522534764686\n",
      "DecisionTree\n",
      "0.8338587670426234\n",
      "RandomForest\n",
      "0.9245157101659345\n",
      "Dummy\n",
      "0.5132219051501563\n"
     ]
    },
    {
     "data": {
      "image/png": "[encoded data removed]",
      "text/plain": [
       "<matplotlib.figure.Figure at 0x7f38a326b208>"
      ]
     },
     "metadata": {},
     "output_type": "display_data"
    }
   ],
   "source": [
    "getRoc([Xtrain, ytrain])"
   ]
  },
  {
   "cell_type": "code",
   "execution_count": 151,
   "metadata": {},
   "outputs": [
    {
     "name": "stdout",
     "output_type": "stream",
     "text": [
      "[[1862    0]\n",
      " [   0    0]]\n",
      "acc:  1.0\n",
      "tpr:  1.0\n",
      "fpr:  nan\n",
      "f1:  1.0\n"
     ]
    }
   ],
   "source": [
    "clf = classifiers[1]\n",
    "name = names[1]\n",
    "model = clf.fit(Xtrain, ytrain)\n",
    "\n",
    "#threshold = 0.67\n",
    "threshold = 0.5\n",
    "#threshold = 0.33\n",
    "\n",
    "predicted = model.predict(Xtest)\n",
    "\n",
    "tn, fp, fn, tp = confusion_matrix(ytest, predicted, labels=[-1,1]).ravel()\n",
    "print(np.array([[tp, fp],[fn, tn]]))\n",
    "print(\"acc: \", accuracy_score(ytest, predicted))\n",
    "print(\"tpr: \", tp/(tp+fn))\n",
    "print(\"fpr: \", fp/(tn+fp))\n",
    "#print(\"f1: \", f1_score(ytrain, predicted, average='micro'))\n",
    "print(\"f1: \", f1_score(ytest, predicted))"
   ]
  },
  {
   "cell_type": "markdown",
   "metadata": {},
   "source": [
    "# Models"
   ]
  },
  {
   "cell_type": "markdown",
   "metadata": {},
   "source": [
    "#### Default"
   ]
  },
  {
   "cell_type": "code",
   "execution_count": 36,
   "metadata": {},
   "outputs": [],
   "source": [
    "names = [\n",
    "         \"KNeighbors\", \n",
    "         #\"SVM\", \n",
    "         \"NeuralNetwork\",\n",
    "         \"DecisionTree\", \n",
    "         #\"CN2Learner\",\n",
    "         \"RandomForest\",\n",
    "         \"Dummy\",\n",
    "        ]\n",
    "\n",
    "classifiers = [\n",
    "    KNeighborsClassifier(),\n",
    "    #SVC(random_state=42, probability=True),\n",
    "    MLPClassifier(random_state=42),\n",
    "    DecisionTreeClassifier(random_state=42),\n",
    "    #CN2Learner(),\n",
    "    #RandomForestClassifier(max_depth=5, n_estimators=100, max_features=1, random_state=42),\n",
    "    RandomForestClassifier(random_state=42),\n",
    "    DummyClassifier(random_state=42),\n",
    "]"
   ]
  },
  {
   "cell_type": "markdown",
   "metadata": {},
   "source": [
    "#### Tunned"
   ]
  },
  {
   "cell_type": "code",
   "execution_count": 81,
   "metadata": {},
   "outputs": [],
   "source": [
    "names = [\n",
    "         \"KNeighbors\", \n",
    "         #\"SVM\", \n",
    "         \"NeuralNetwork\",\n",
    "         \"DecisionTree\", \n",
    "         \"RandomForest\",\n",
    "         \"Dummy\",\n",
    "        ]\n",
    "\n",
    "#[200, 'identity', 'sgd', 500, 0.001, 0.9911851126346719, 0.8626262626262626]\n",
    "classifiers = [\n",
    "    KNeighborsClassifier(n_neighbors=14, weights='distance', p=2),\n",
    "    #SVC(kernel=\"rbf\", random_state=42, probability=True),\n",
    "    MLPClassifier(hidden_layer_sizes=200, activation='identity', solver='sgd', batch_size=100, learning_rate_init=0.0001, random_state=42),\n",
    "    DecisionTreeClassifier(criterion='gini', max_depth=4, min_samples_split=2,  max_features='auto', random_state=42),\n",
    "    #DecisionTreeClassifier(random_state=42),\n",
    "    #RandomForestClassifier(n_estimators=100, max_depth=4, max_features='auto', random_state=42),\n",
    "    RandomForestClassifier(n_estimators=100, max_depth=1, max_features='auto', random_state=42),\n",
    "    #RandomForestClassifier(n_estimators=100, max_depth=5, max_features=1, random_state=42),\n",
    "    DummyClassifier(random_state=42),\n",
    "]"
   ]
  },
  {
   "cell_type": "markdown",
   "metadata": {},
   "source": [
    "# Model tuning"
   ]
  },
  {
   "cell_type": "code",
   "execution_count": 26,
   "metadata": {},
   "outputs": [],
   "source": [
    "def trainvalModel(clf):\n",
    "    #clf = CalibratedClassifierCV(clf, cv=10, method='isotonic')\n",
    "    clf.fit(Xtrain, ytrain)\n",
    "\n",
    "    ytrain_pred = clf.predict(Xtrain)\n",
    "    acc_train = accuracy_score(ytrain, ytrain_pred)\n",
    "    #tn, fp, fn, tp = confusion_matrix(ytrain, ytrain_pred, labels=[-1,1]).ravel()\n",
    "    #tnr_train = tn/(tn+fp)\n",
    "\n",
    "    yval_pred = clf.predict(Xvalb)\n",
    "    acc_val = accuracy_score(yvalb, yval_pred)\n",
    "    #tn, fp, fn, tp = confusion_matrix(yvalb, yval_pred, labels=[-1,1]).ravel()\n",
    "    #tnr_val = tn/(tn+fp)\n",
    "    \n",
    "    return acc_train, acc_val"
   ]
  },
  {
   "cell_type": "code",
   "execution_count": 27,
   "metadata": {},
   "outputs": [],
   "source": [
    "def tuneModel(name, hyperparams):\n",
    "    res = []\n",
    "    if name == \"KNeighbors\":\n",
    "        for n_n in hyperparams['n_neighbors']:\n",
    "            for w in hyperparams['weights']:\n",
    "                for pnum in hyperparams['p']:\n",
    "                    clf = KNeighborsClassifier(n_neighbors=n_n, weights=w, p=pnum)\n",
    "                    \n",
    "                    acc_train, acc_val = trainvalModel(clf)\n",
    "                    entry = [n_n, w, pnum, acc_train, acc_val]\n",
    "                    \n",
    "                    #print(entry)\n",
    "                    res.append(entry)\n",
    "                    \n",
    "    elif name == \"SVM\":\n",
    "        #for g in hyperparams['gamma']:\n",
    "        for k in hyperparams['kernel']:\n",
    "            for sh in hyperparams['shrinking']:\n",
    "                #for d in hyperparams['degree']:\n",
    "                clf = SVC(kernel=k, shrinking=sh, random_state=42)\n",
    "\n",
    "                acc_train, acc_val = trainvalModel(clf)\n",
    "                entry = [k, sh, acc_train, acc_val]\n",
    "\n",
    "                #print(entry)\n",
    "                res.append(entry)\n",
    "\n",
    "    elif name == \"DecisionTree\":\n",
    "        for c in hyperparams['criterion']:\n",
    "            #for sp in hyperparams['splitter']:\n",
    "            for md in hyperparams['max_depth']:\n",
    "                for ms in hyperparams['min_samples_split']:\n",
    "                    #for ml in hyperparams['min_samples_leaf']:\n",
    "                    for mf in hyperparams['max_features']:\n",
    "                        clf = DecisionTreeClassifier(criterion=c, max_depth=md, min_samples_split=ms, max_features=mf, random_state=42)\n",
    "\n",
    "                        acc_train, acc_val = trainvalModel(clf)\n",
    "                        entry = [c, md, ms, mf, acc_train, acc_val]\n",
    "\n",
    "                        #print(entry)\n",
    "                        res.append(entry)\n",
    "\n",
    "    elif name == \"RandomForest\":\n",
    "        #for c in hyperparams['criterion']:\n",
    "        for ne in hyperparams['n_estimators']:\n",
    "            for md in hyperparams['max_depth']:\n",
    "                #for ms in hyperparams['min_samples_split']:\n",
    "                    #for ml in hyperparams['min_samples_leaf']:\n",
    "                for mf in hyperparams['max_features']:\n",
    "                    clf = RandomForestClassifier(n_estimators=ne, max_depth=md, max_features=mf, random_state=42)\n",
    "\n",
    "                    acc_train, acc_val = trainvalModel(clf)\n",
    "                    entry = [ne, md, mf, acc_train, acc_val]\n",
    "\n",
    "                    #print(entry)\n",
    "                    res.append(entry)\n",
    "\n",
    "    elif name == \"NeuralNetwork\":\n",
    "        for hl in hyperparams['hidden_layer_sizes']:\n",
    "            for ac in hyperparams['activation']:\n",
    "                for sol in hyperparams['solver']:\n",
    "                    for bs in hyperparams['batch_size']:\n",
    "                        for lr in hyperparams['learning_rate_init']:\n",
    "                            clf = MLPClassifier(hidden_layer_sizes=hl, activation=ac, solver=sol, batch_size=bs, learning_rate_init=lr, random_state=42)\n",
    "\n",
    "                            acc_train, acc_val = trainvalModel(clf)\n",
    "                            entry = [hl, ac, sol, bs, lr, acc_train, acc_val]\n",
    "\n",
    "                            #print(entry)\n",
    "                            res.append(entry)\n",
    "    \n",
    "    return res"
   ]
  },
  {
   "cell_type": "markdown",
   "metadata": {},
   "source": [
    "#### KNeighbors"
   ]
  },
  {
   "cell_type": "code",
   "execution_count": 28,
   "metadata": {},
   "outputs": [],
   "source": [
    "hyperparams = dict()\n",
    "hyperparams['n_neighbors'] = list(range(5,15))\n",
    "hyperparams['weights'] = ['uniform', 'distance']\n",
    "hyperparams['p'] = [1, 2]\n",
    "name = \"KNeighbors\"\n",
    "res = tuneModel(name, hyperparams)"
   ]
  },
  {
   "cell_type": "code",
   "execution_count": 29,
   "metadata": {},
   "outputs": [],
   "source": [
    "res_sorted = sorted(res, key=lambda x: x[-1], reverse=True)"
   ]
  },
  {
   "cell_type": "code",
   "execution_count": 30,
   "metadata": {},
   "outputs": [
    {
     "name": "stdout",
     "output_type": "stream",
     "text": [
      "[[14, 'distance', 2, 1.0, 0.8252525252525252],\n",
      " [13, 'uniform', 2, 0.9970617042115573, 0.8232323232323232],\n",
      " [13, 'distance', 2, 1.0, 0.8232323232323232],\n",
      " [14, 'uniform', 2, 0.9970617042115573, 0.8232323232323232],\n",
      " [7, 'uniform', 2, 0.9985308521057786, 0.8222222222222222]]\n"
     ]
    }
   ],
   "source": [
    "pprint(res_sorted[:5])"
   ]
  },
  {
   "cell_type": "markdown",
   "metadata": {},
   "source": [
    "#### Neural Network"
   ]
  },
  {
   "cell_type": "code",
   "execution_count": 48,
   "metadata": {},
   "outputs": [
    {
     "name": "stderr",
     "output_type": "stream",
     "text": [
      "/home/sophie/anaconda3/lib/python3.6/site-packages/sklearn/neural_network/multilayer_perceptron.py:564: ConvergenceWarning: Stochastic Optimizer: Maximum iterations (200) reached and the optimization hasn't converged yet.\n",
      "  % self.max_iter, ConvergenceWarning)\n"
     ]
    }
   ],
   "source": [
    "hyperparams = dict()\n",
    "hyperparams['hidden_layer_sizes'] = [50, 100, 200]\n",
    "hyperparams['activation'] = ['identity', 'logistic', 'tanh', 'relu']\n",
    "hyperparams['solver'] = ['lbfgs', 'sgd', 'adam']\n",
    "hyperparams['batch_size'] = [100, 200, 500]\n",
    "hyperparams['learning_rate_init'] = [0.01, 0.001, 0.0001]\n",
    "#hyperparams['degree'] = list(range(1,10))\n",
    "name = \"NeuralNetwork\"\n",
    "res = tuneModel(name, hyperparams)"
   ]
  },
  {
   "cell_type": "code",
   "execution_count": 49,
   "metadata": {},
   "outputs": [],
   "source": [
    "res_sorted = sorted(res, key=lambda x: x[-1], reverse=True)"
   ]
  },
  {
   "cell_type": "code",
   "execution_count": 50,
   "metadata": {},
   "outputs": [
    {
     "name": "stdout",
     "output_type": "stream",
     "text": [
      "[[200, 'identity', 'sgd', 100, 0.0001, 0.9904505386875612, 0.8575757575757575],\n",
      " [50, 'identity', 'sgd', 100, 0.0001, 0.9906953966699314, 0.8565656565656565],\n",
      " [200, 'identity', 'sgd', 500, 0.001, 0.9911851126346719, 0.8565656565656565],\n",
      " [200, 'tanh', 'sgd', 100, 0.0001, 0.990205680705191, 0.8555555555555555],\n",
      " [50, 'identity', 'sgd', 500, 0.001, 0.9911851126346719, 0.8545454545454545],\n",
      " [200, 'identity', 'sgd', 200, 0.0001, 0.9889813907933399, 0.8535353535353535],\n",
      " [200, 'tanh', 'sgd', 500, 0.001, 0.9911851126346719, 0.8535353535353535],\n",
      " [50, 'identity', 'sgd', 200, 0.0001, 0.9889813907933399, 0.8525252525252526],\n",
      " [50, 'tanh', 'sgd', 100, 0.0001, 0.990205680705191, 0.8525252525252526],\n",
      " [200, 'tanh', 'sgd', 200, 0.0001, 0.9877571008814887, 0.8525252525252526],\n",
      " [50, 'logistic', 'sgd', 100, 0.0001, 0.9870225269343781, 0.8515151515151516],\n",
      " [50, 'tanh', 'sgd', 500, 0.0001, 0.9853085210577864, 0.8515151515151516],\n",
      " [200, 'identity', 'sgd', 500, 0.0001, 0.9872673849167483, 0.8515151515151516],\n",
      " [50, 'relu', 'sgd', 100, 0.01, 1.0, 0.8505050505050505],\n",
      " [200, 'tanh', 'sgd', 500, 0.0001, 0.9867776689520078, 0.8505050505050505],\n",
      " [50, 'logistic', 'sgd', 200, 0.0001, 0.9870225269343781, 0.8494949494949495],\n",
      " [50, 'logistic', 'sgd', 500, 0.001, 0.9872673849167483, 0.8494949494949495],\n",
      " [50, 'tanh', 'sgd', 200, 0.0001, 0.9870225269343781, 0.8494949494949495],\n",
      " [200, 'logistic', 'sgd', 100, 0.0001, 0.9867776689520078, 0.8494949494949495],\n",
      " [200, 'logistic', 'sgd', 500, 0.001, 0.9882468168462292, 0.8494949494949495]]\n"
     ]
    }
   ],
   "source": [
    "pprint(res_sorted[:20])"
   ]
  },
  {
   "cell_type": "code",
   "execution_count": 257,
   "metadata": {},
   "outputs": [
    {
     "name": "stdout",
     "output_type": "stream",
     "text": [
      "[[200, 'identity', 'sgd', 500, 0.001, 0.9911851126346719, 0.8626262626262626],\n",
      " [50, 'identity', 'sgd', 500, 0.001, 0.9916748285994124, 0.8595959595959596],\n",
      " [200, 'tanh', 'sgd', 500, 0.001, 0.9911851126346719, 0.8595959595959596],\n",
      " [200, 'identity', 'sgd', 100, 0.0001, 0.9904505386875612, 0.8585858585858586],\n",
      " [200, 'identity', 'sgd', 200, 0.0001, 0.9899608227228207, 0.8575757575757575],\n",
      " [200, 'tanh', 'sgd', 100, 0.0001, 0.990205680705191, 0.8575757575757575],\n",
      " [50, 'identity', 'sgd', 100, 0.0001, 0.9906953966699314, 0.8565656565656565],\n",
      " [50, 'tanh', 'sgd', 100, 0.0001, 0.990205680705191, 0.8545454545454545],\n",
      " [200, 'logistic', 'sgd', 500, 0.001, 0.9884916748285995, 0.8535353535353535],\n",
      " [200, 'tanh', 'sgd', 500, 0.0001, 0.9867776689520078, 0.8535353535353535],\n",
      " [200, 'identity', 'sgd', 500, 0.0001, 0.9870225269343781, 0.8515151515151516],\n",
      " [200, 'logistic', 'sgd', 100, 0.0001, 0.9867776689520078, 0.8515151515151516],\n",
      " [200, 'logistic', 'sgd', 200, 0.0001, 0.9867776689520078, 0.8515151515151516],\n",
      " [200, 'tanh', 'sgd', 200, 0.0001, 0.9877571008814887, 0.8515151515151516],\n",
      " [50, 'identity', 'sgd', 200, 0.0001, 0.988001958863859, 0.8505050505050505],\n",
      " [50, 'logistic', 'sgd', 500, 0.001, 0.9870225269343781, 0.8505050505050505],\n",
      " [50, 'tanh', 'sgd', 500, 0.001, 0.9909402546523016, 0.8505050505050505],\n",
      " [50, 'tanh', 'sgd', 500, 0.0001, 0.9850636630754163, 0.8505050505050505],\n",
      " [50, 'relu', 'sgd', 100, 0.01, 1.0, 0.8505050505050505],\n",
      " [50, 'logistic', 'sgd', 100, 0.0001, 0.9870225269343781, 0.8494949494949495]]\n"
     ]
    }
   ],
   "source": [
    "pprint(res_sorted[:20])"
   ]
  },
  {
   "cell_type": "markdown",
   "metadata": {},
   "source": [
    "#### SVM"
   ]
  },
  {
   "cell_type": "code",
   "execution_count": 302,
   "metadata": {},
   "outputs": [],
   "source": [
    "hyperparams = dict()\n",
    "hyperparams['kernel'] = ['linear', 'rbf', 'sigmoid']\n",
    "hyperparams['shrinking'] = [True, False]\n",
    "#hyperparams['degree'] = list(range(1,10))\n",
    "name = \"SVM\"\n",
    "res = tuneModel(name, hyperparams)"
   ]
  },
  {
   "cell_type": "code",
   "execution_count": 303,
   "metadata": {},
   "outputs": [],
   "source": [
    "res_sorted = sorted(res, key=lambda x: x[-1], reverse=True)"
   ]
  },
  {
   "cell_type": "code",
   "execution_count": 304,
   "metadata": {},
   "outputs": [
    {
     "name": "stdout",
     "output_type": "stream",
     "text": [
      "[['linear', True, 1.0, 0.8363636363636363],\n",
      " ['linear', False, 1.0, 0.8363636363636363],\n",
      " ['rbf', True, 1.0, 0.793939393939394],\n",
      " ['rbf', False, 1.0, 0.793939393939394],\n",
      " ['sigmoid', True, 0.9796264855687606, 0.7565656565656566],\n",
      " ['sigmoid', False, 0.9796264855687606, 0.7565656565656566]]\n"
     ]
    }
   ],
   "source": [
    "pprint(res_sorted[:20])"
   ]
  },
  {
   "cell_type": "markdown",
   "metadata": {},
   "source": [
    "#### Decision Tree"
   ]
  },
  {
   "cell_type": "code",
   "execution_count": 41,
   "metadata": {},
   "outputs": [],
   "source": [
    "hyperparams = dict()\n",
    "hyperparams['criterion'] = ['gini', 'entropy']\n",
    "#hyperparams['splitter'] = ['best', 'random']\n",
    "hyperparams['max_depth'] = [None] + list(range(1,10))\n",
    "hyperparams['min_samples_split'] = list(range(2,5))\n",
    "#hyperparams['min_samples_leaf'] = list(range(1,10))\n",
    "hyperparams['max_features'] = [None, \"auto\", \"sqrt\", \"log2\"] + list(range(1,10))\n",
    "name = \"DecisionTree\"\n",
    "res = tuneModel(name, hyperparams)"
   ]
  },
  {
   "cell_type": "code",
   "execution_count": 42,
   "metadata": {},
   "outputs": [],
   "source": [
    "res_sorted = sorted(res, key=lambda x: x[-1], reverse=True)"
   ]
  },
  {
   "cell_type": "code",
   "execution_count": 43,
   "metadata": {},
   "outputs": [
    {
     "name": "stdout",
     "output_type": "stream",
     "text": [
      "[['gini', None, 2, 'auto', 1.0, 0.8626262626262626],\n",
      " ['gini', None, 2, 'sqrt', 1.0, 0.8626262626262626],\n",
      " ['gini', None, 2, 'log2', 1.0, 0.8626262626262626],\n",
      " ['gini', None, 2, 3, 1.0, 0.8626262626262626],\n",
      " ['gini', None, 2, 4, 1.0, 0.8626262626262626],\n",
      " ['gini', None, 3, 'auto', 1.0, 0.8626262626262626],\n",
      " ['gini', None, 3, 'sqrt', 1.0, 0.8626262626262626],\n",
      " ['gini', None, 3, 'log2', 1.0, 0.8626262626262626],\n",
      " ['gini', None, 3, 3, 1.0, 0.8626262626262626],\n",
      " ['gini', None, 3, 4, 1.0, 0.8626262626262626],\n",
      " ['gini', None, 4, 'auto', 1.0, 0.8626262626262626],\n",
      " ['gini', None, 4, 'sqrt', 1.0, 0.8626262626262626],\n",
      " ['gini', None, 4, 'log2', 1.0, 0.8626262626262626],\n",
      " ['gini', None, 4, 3, 1.0, 0.8626262626262626],\n",
      " ['gini', None, 4, 4, 1.0, 0.8626262626262626],\n",
      " ['gini', 2, 2, 'auto', 1.0, 0.8626262626262626],\n",
      " ['gini', 2, 2, 'sqrt', 1.0, 0.8626262626262626],\n",
      " ['gini', 2, 2, 'log2', 1.0, 0.8626262626262626],\n",
      " ['gini', 2, 2, 3, 1.0, 0.8626262626262626],\n",
      " ['gini', 2, 2, 4, 1.0, 0.8626262626262626],\n",
      " ['gini', 2, 3, 'auto', 1.0, 0.8626262626262626],\n",
      " ['gini', 2, 3, 'sqrt', 1.0, 0.8626262626262626],\n",
      " ['gini', 2, 3, 'log2', 1.0, 0.8626262626262626],\n",
      " ['gini', 2, 3, 3, 1.0, 0.8626262626262626],\n",
      " ['gini', 2, 3, 4, 1.0, 0.8626262626262626],\n",
      " ['gini', 2, 4, 'auto', 1.0, 0.8626262626262626],\n",
      " ['gini', 2, 4, 'sqrt', 1.0, 0.8626262626262626],\n",
      " ['gini', 2, 4, 'log2', 1.0, 0.8626262626262626],\n",
      " ['gini', 2, 4, 3, 1.0, 0.8626262626262626],\n",
      " ['gini', 2, 4, 4, 1.0, 0.8626262626262626],\n",
      " ['gini', 3, 2, 'auto', 1.0, 0.8626262626262626],\n",
      " ['gini', 3, 2, 'sqrt', 1.0, 0.8626262626262626],\n",
      " ['gini', 3, 2, 'log2', 1.0, 0.8626262626262626],\n",
      " ['gini', 3, 2, 3, 1.0, 0.8626262626262626],\n",
      " ['gini', 3, 2, 4, 1.0, 0.8626262626262626],\n",
      " ['gini', 3, 3, 'auto', 1.0, 0.8626262626262626],\n",
      " ['gini', 3, 3, 'sqrt', 1.0, 0.8626262626262626],\n",
      " ['gini', 3, 3, 'log2', 1.0, 0.8626262626262626],\n",
      " ['gini', 3, 3, 3, 1.0, 0.8626262626262626],\n",
      " ['gini', 3, 3, 4, 1.0, 0.8626262626262626],\n",
      " ['gini', 3, 4, 'auto', 1.0, 0.8626262626262626],\n",
      " ['gini', 3, 4, 'sqrt', 1.0, 0.8626262626262626],\n",
      " ['gini', 3, 4, 'log2', 1.0, 0.8626262626262626],\n",
      " ['gini', 3, 4, 3, 1.0, 0.8626262626262626],\n",
      " ['gini', 3, 4, 4, 1.0, 0.8626262626262626],\n",
      " ['gini', 4, 2, 'auto', 1.0, 0.8626262626262626],\n",
      " ['gini', 4, 2, 'sqrt', 1.0, 0.8626262626262626],\n",
      " ['gini', 4, 2, 'log2', 1.0, 0.8626262626262626],\n",
      " ['gini', 4, 2, 3, 1.0, 0.8626262626262626],\n",
      " ['gini', 4, 2, 4, 1.0, 0.8626262626262626],\n",
      " ['gini', 4, 3, 'auto', 1.0, 0.8626262626262626],\n",
      " ['gini', 4, 3, 'sqrt', 1.0, 0.8626262626262626],\n",
      " ['gini', 4, 3, 'log2', 1.0, 0.8626262626262626],\n",
      " ['gini', 4, 3, 3, 1.0, 0.8626262626262626],\n",
      " ['gini', 4, 3, 4, 1.0, 0.8626262626262626],\n",
      " ['gini', 4, 4, 'auto', 1.0, 0.8626262626262626],\n",
      " ['gini', 4, 4, 'sqrt', 1.0, 0.8626262626262626],\n",
      " ['gini', 4, 4, 'log2', 1.0, 0.8626262626262626],\n",
      " ['gini', 4, 4, 3, 1.0, 0.8626262626262626],\n",
      " ['gini', 4, 4, 4, 1.0, 0.8626262626262626],\n",
      " ['gini', 5, 2, 'auto', 1.0, 0.8626262626262626],\n",
      " ['gini', 5, 2, 'sqrt', 1.0, 0.8626262626262626],\n",
      " ['gini', 5, 2, 'log2', 1.0, 0.8626262626262626],\n",
      " ['gini', 5, 2, 3, 1.0, 0.8626262626262626],\n",
      " ['gini', 5, 2, 4, 1.0, 0.8626262626262626],\n",
      " ['gini', 5, 3, 'auto', 1.0, 0.8626262626262626],\n",
      " ['gini', 5, 3, 'sqrt', 1.0, 0.8626262626262626],\n",
      " ['gini', 5, 3, 'log2', 1.0, 0.8626262626262626],\n",
      " ['gini', 5, 3, 3, 1.0, 0.8626262626262626],\n",
      " ['gini', 5, 3, 4, 1.0, 0.8626262626262626],\n",
      " ['gini', 5, 4, 'auto', 1.0, 0.8626262626262626],\n",
      " ['gini', 5, 4, 'sqrt', 1.0, 0.8626262626262626],\n",
      " ['gini', 5, 4, 'log2', 1.0, 0.8626262626262626],\n",
      " ['gini', 5, 4, 3, 1.0, 0.8626262626262626],\n",
      " ['gini', 5, 4, 4, 1.0, 0.8626262626262626],\n",
      " ['gini', 6, 2, 'auto', 1.0, 0.8626262626262626],\n",
      " ['gini', 6, 2, 'sqrt', 1.0, 0.8626262626262626],\n",
      " ['gini', 6, 2, 'log2', 1.0, 0.8626262626262626],\n",
      " ['gini', 6, 2, 3, 1.0, 0.8626262626262626],\n",
      " ['gini', 6, 2, 4, 1.0, 0.8626262626262626],\n",
      " ['gini', 6, 3, 'auto', 1.0, 0.8626262626262626],\n",
      " ['gini', 6, 3, 'sqrt', 1.0, 0.8626262626262626],\n",
      " ['gini', 6, 3, 'log2', 1.0, 0.8626262626262626],\n",
      " ['gini', 6, 3, 3, 1.0, 0.8626262626262626],\n",
      " ['gini', 6, 3, 4, 1.0, 0.8626262626262626],\n",
      " ['gini', 6, 4, 'auto', 1.0, 0.8626262626262626],\n",
      " ['gini', 6, 4, 'sqrt', 1.0, 0.8626262626262626],\n",
      " ['gini', 6, 4, 'log2', 1.0, 0.8626262626262626],\n",
      " ['gini', 6, 4, 3, 1.0, 0.8626262626262626],\n",
      " ['gini', 6, 4, 4, 1.0, 0.8626262626262626],\n",
      " ['gini', 7, 2, 'auto', 1.0, 0.8626262626262626],\n",
      " ['gini', 7, 2, 'sqrt', 1.0, 0.8626262626262626],\n",
      " ['gini', 7, 2, 'log2', 1.0, 0.8626262626262626],\n",
      " ['gini', 7, 2, 3, 1.0, 0.8626262626262626],\n",
      " ['gini', 7, 2, 4, 1.0, 0.8626262626262626],\n",
      " ['gini', 7, 3, 'auto', 1.0, 0.8626262626262626],\n",
      " ['gini', 7, 3, 'sqrt', 1.0, 0.8626262626262626],\n",
      " ['gini', 7, 3, 'log2', 1.0, 0.8626262626262626],\n",
      " ['gini', 7, 3, 3, 1.0, 0.8626262626262626],\n",
      " ['gini', 7, 3, 4, 1.0, 0.8626262626262626],\n",
      " ['gini', 7, 4, 'auto', 1.0, 0.8626262626262626],\n",
      " ['gini', 7, 4, 'sqrt', 1.0, 0.8626262626262626],\n",
      " ['gini', 7, 4, 'log2', 1.0, 0.8626262626262626],\n",
      " ['gini', 7, 4, 3, 1.0, 0.8626262626262626],\n",
      " ['gini', 7, 4, 4, 1.0, 0.8626262626262626],\n",
      " ['gini', 8, 2, 'auto', 1.0, 0.8626262626262626],\n",
      " ['gini', 8, 2, 'sqrt', 1.0, 0.8626262626262626],\n",
      " ['gini', 8, 2, 'log2', 1.0, 0.8626262626262626],\n",
      " ['gini', 8, 2, 3, 1.0, 0.8626262626262626],\n",
      " ['gini', 8, 2, 4, 1.0, 0.8626262626262626],\n",
      " ['gini', 8, 3, 'auto', 1.0, 0.8626262626262626],\n",
      " ['gini', 8, 3, 'sqrt', 1.0, 0.8626262626262626],\n",
      " ['gini', 8, 3, 'log2', 1.0, 0.8626262626262626],\n",
      " ['gini', 8, 3, 3, 1.0, 0.8626262626262626],\n",
      " ['gini', 8, 3, 4, 1.0, 0.8626262626262626],\n",
      " ['gini', 8, 4, 'auto', 1.0, 0.8626262626262626],\n",
      " ['gini', 8, 4, 'sqrt', 1.0, 0.8626262626262626],\n",
      " ['gini', 8, 4, 'log2', 1.0, 0.8626262626262626],\n",
      " ['gini', 8, 4, 3, 1.0, 0.8626262626262626],\n",
      " ['gini', 8, 4, 4, 1.0, 0.8626262626262626],\n",
      " ['gini', 9, 2, 'auto', 1.0, 0.8626262626262626],\n",
      " ['gini', 9, 2, 'sqrt', 1.0, 0.8626262626262626],\n",
      " ['gini', 9, 2, 'log2', 1.0, 0.8626262626262626],\n",
      " ['gini', 9, 2, 3, 1.0, 0.8626262626262626],\n",
      " ['gini', 9, 2, 4, 1.0, 0.8626262626262626],\n",
      " ['gini', 9, 3, 'auto', 1.0, 0.8626262626262626],\n",
      " ['gini', 9, 3, 'sqrt', 1.0, 0.8626262626262626],\n",
      " ['gini', 9, 3, 'log2', 1.0, 0.8626262626262626],\n",
      " ['gini', 9, 3, 3, 1.0, 0.8626262626262626],\n",
      " ['gini', 9, 3, 4, 1.0, 0.8626262626262626],\n",
      " ['gini', 9, 4, 'auto', 1.0, 0.8626262626262626],\n",
      " ['gini', 9, 4, 'sqrt', 1.0, 0.8626262626262626],\n",
      " ['gini', 9, 4, 'log2', 1.0, 0.8626262626262626],\n",
      " ['gini', 9, 4, 3, 1.0, 0.8626262626262626],\n",
      " ['gini', 9, 4, 4, 1.0, 0.8626262626262626],\n",
      " ['entropy', None, 2, 'auto', 1.0, 0.8626262626262626],\n",
      " ['entropy', None, 2, 'sqrt', 1.0, 0.8626262626262626],\n",
      " ['entropy', None, 2, 'log2', 1.0, 0.8626262626262626],\n",
      " ['entropy', None, 2, 3, 1.0, 0.8626262626262626],\n",
      " ['entropy', None, 2, 4, 1.0, 0.8626262626262626],\n",
      " ['entropy', None, 3, 'auto', 1.0, 0.8626262626262626],\n",
      " ['entropy', None, 3, 'sqrt', 1.0, 0.8626262626262626],\n",
      " ['entropy', None, 3, 'log2', 1.0, 0.8626262626262626],\n",
      " ['entropy', None, 3, 3, 1.0, 0.8626262626262626],\n",
      " ['entropy', None, 3, 4, 1.0, 0.8626262626262626],\n",
      " ['entropy', None, 4, 'auto', 1.0, 0.8626262626262626],\n",
      " ['entropy', None, 4, 'sqrt', 1.0, 0.8626262626262626],\n",
      " ['entropy', None, 4, 'log2', 1.0, 0.8626262626262626],\n",
      " ['entropy', None, 4, 3, 1.0, 0.8626262626262626],\n",
      " ['entropy', None, 4, 4, 1.0, 0.8626262626262626],\n",
      " ['entropy', 2, 2, 'auto', 1.0, 0.8626262626262626],\n",
      " ['entropy', 2, 2, 'sqrt', 1.0, 0.8626262626262626],\n",
      " ['entropy', 2, 2, 'log2', 1.0, 0.8626262626262626],\n",
      " ['entropy', 2, 2, 3, 1.0, 0.8626262626262626],\n",
      " ['entropy', 2, 2, 4, 1.0, 0.8626262626262626],\n",
      " ['entropy', 2, 3, 'auto', 1.0, 0.8626262626262626],\n",
      " ['entropy', 2, 3, 'sqrt', 1.0, 0.8626262626262626],\n",
      " ['entropy', 2, 3, 'log2', 1.0, 0.8626262626262626],\n",
      " ['entropy', 2, 3, 3, 1.0, 0.8626262626262626],\n",
      " ['entropy', 2, 3, 4, 1.0, 0.8626262626262626],\n",
      " ['entropy', 2, 4, 'auto', 1.0, 0.8626262626262626],\n",
      " ['entropy', 2, 4, 'sqrt', 1.0, 0.8626262626262626],\n",
      " ['entropy', 2, 4, 'log2', 1.0, 0.8626262626262626],\n",
      " ['entropy', 2, 4, 3, 1.0, 0.8626262626262626],\n",
      " ['entropy', 2, 4, 4, 1.0, 0.8626262626262626],\n",
      " ['entropy', 3, 2, 'auto', 1.0, 0.8626262626262626],\n",
      " ['entropy', 3, 2, 'sqrt', 1.0, 0.8626262626262626],\n",
      " ['entropy', 3, 2, 'log2', 1.0, 0.8626262626262626],\n",
      " ['entropy', 3, 2, 3, 1.0, 0.8626262626262626],\n",
      " ['entropy', 3, 2, 4, 1.0, 0.8626262626262626],\n",
      " ['entropy', 3, 3, 'auto', 1.0, 0.8626262626262626],\n",
      " ['entropy', 3, 3, 'sqrt', 1.0, 0.8626262626262626],\n",
      " ['entropy', 3, 3, 'log2', 1.0, 0.8626262626262626],\n",
      " ['entropy', 3, 3, 3, 1.0, 0.8626262626262626],\n",
      " ['entropy', 3, 3, 4, 1.0, 0.8626262626262626],\n",
      " ['entropy', 3, 4, 'auto', 1.0, 0.8626262626262626],\n",
      " ['entropy', 3, 4, 'sqrt', 1.0, 0.8626262626262626],\n",
      " ['entropy', 3, 4, 'log2', 1.0, 0.8626262626262626],\n",
      " ['entropy', 3, 4, 3, 1.0, 0.8626262626262626],\n",
      " ['entropy', 3, 4, 4, 1.0, 0.8626262626262626],\n",
      " ['entropy', 4, 2, 'auto', 1.0, 0.8626262626262626],\n",
      " ['entropy', 4, 2, 'sqrt', 1.0, 0.8626262626262626],\n",
      " ['entropy', 4, 2, 'log2', 1.0, 0.8626262626262626],\n",
      " ['entropy', 4, 2, 3, 1.0, 0.8626262626262626],\n",
      " ['entropy', 4, 2, 4, 1.0, 0.8626262626262626],\n",
      " ['entropy', 4, 3, 'auto', 1.0, 0.8626262626262626],\n",
      " ['entropy', 4, 3, 'sqrt', 1.0, 0.8626262626262626],\n",
      " ['entropy', 4, 3, 'log2', 1.0, 0.8626262626262626],\n",
      " ['entropy', 4, 3, 3, 1.0, 0.8626262626262626],\n",
      " ['entropy', 4, 3, 4, 1.0, 0.8626262626262626],\n",
      " ['entropy', 4, 4, 'auto', 1.0, 0.8626262626262626],\n",
      " ['entropy', 4, 4, 'sqrt', 1.0, 0.8626262626262626],\n",
      " ['entropy', 4, 4, 'log2', 1.0, 0.8626262626262626],\n",
      " ['entropy', 4, 4, 3, 1.0, 0.8626262626262626],\n",
      " ['entropy', 4, 4, 4, 1.0, 0.8626262626262626],\n",
      " ['entropy', 5, 2, 'auto', 1.0, 0.8626262626262626],\n",
      " ['entropy', 5, 2, 'sqrt', 1.0, 0.8626262626262626],\n",
      " ['entropy', 5, 2, 'log2', 1.0, 0.8626262626262626],\n",
      " ['entropy', 5, 2, 3, 1.0, 0.8626262626262626],\n",
      " ['entropy', 5, 2, 4, 1.0, 0.8626262626262626],\n",
      " ['entropy', 5, 3, 'auto', 1.0, 0.8626262626262626],\n",
      " ['entropy', 5, 3, 'sqrt', 1.0, 0.8626262626262626],\n",
      " ['entropy', 5, 3, 'log2', 1.0, 0.8626262626262626],\n",
      " ['entropy', 5, 3, 3, 1.0, 0.8626262626262626],\n",
      " ['entropy', 5, 3, 4, 1.0, 0.8626262626262626],\n",
      " ['entropy', 5, 4, 'auto', 1.0, 0.8626262626262626],\n",
      " ['entropy', 5, 4, 'sqrt', 1.0, 0.8626262626262626],\n",
      " ['entropy', 5, 4, 'log2', 1.0, 0.8626262626262626],\n",
      " ['entropy', 5, 4, 3, 1.0, 0.8626262626262626],\n",
      " ['entropy', 5, 4, 4, 1.0, 0.8626262626262626],\n",
      " ['entropy', 6, 2, 'auto', 1.0, 0.8626262626262626],\n",
      " ['entropy', 6, 2, 'sqrt', 1.0, 0.8626262626262626],\n",
      " ['entropy', 6, 2, 'log2', 1.0, 0.8626262626262626],\n",
      " ['entropy', 6, 2, 3, 1.0, 0.8626262626262626],\n",
      " ['entropy', 6, 2, 4, 1.0, 0.8626262626262626],\n",
      " ['entropy', 6, 3, 'auto', 1.0, 0.8626262626262626],\n",
      " ['entropy', 6, 3, 'sqrt', 1.0, 0.8626262626262626],\n",
      " ['entropy', 6, 3, 'log2', 1.0, 0.8626262626262626],\n",
      " ['entropy', 6, 3, 3, 1.0, 0.8626262626262626],\n",
      " ['entropy', 6, 3, 4, 1.0, 0.8626262626262626],\n",
      " ['entropy', 6, 4, 'auto', 1.0, 0.8626262626262626],\n",
      " ['entropy', 6, 4, 'sqrt', 1.0, 0.8626262626262626],\n",
      " ['entropy', 6, 4, 'log2', 1.0, 0.8626262626262626],\n",
      " ['entropy', 6, 4, 3, 1.0, 0.8626262626262626],\n",
      " ['entropy', 6, 4, 4, 1.0, 0.8626262626262626],\n",
      " ['entropy', 7, 2, 'auto', 1.0, 0.8626262626262626],\n",
      " ['entropy', 7, 2, 'sqrt', 1.0, 0.8626262626262626],\n",
      " ['entropy', 7, 2, 'log2', 1.0, 0.8626262626262626],\n",
      " ['entropy', 7, 2, 3, 1.0, 0.8626262626262626],\n",
      " ['entropy', 7, 2, 4, 1.0, 0.8626262626262626],\n",
      " ['entropy', 7, 3, 'auto', 1.0, 0.8626262626262626],\n",
      " ['entropy', 7, 3, 'sqrt', 1.0, 0.8626262626262626],\n",
      " ['entropy', 7, 3, 'log2', 1.0, 0.8626262626262626],\n",
      " ['entropy', 7, 3, 3, 1.0, 0.8626262626262626],\n",
      " ['entropy', 7, 3, 4, 1.0, 0.8626262626262626],\n",
      " ['entropy', 7, 4, 'auto', 1.0, 0.8626262626262626],\n",
      " ['entropy', 7, 4, 'sqrt', 1.0, 0.8626262626262626],\n",
      " ['entropy', 7, 4, 'log2', 1.0, 0.8626262626262626],\n",
      " ['entropy', 7, 4, 3, 1.0, 0.8626262626262626],\n",
      " ['entropy', 7, 4, 4, 1.0, 0.8626262626262626],\n",
      " ['entropy', 8, 2, 'auto', 1.0, 0.8626262626262626],\n",
      " ['entropy', 8, 2, 'sqrt', 1.0, 0.8626262626262626],\n",
      " ['entropy', 8, 2, 'log2', 1.0, 0.8626262626262626],\n",
      " ['entropy', 8, 2, 3, 1.0, 0.8626262626262626],\n",
      " ['entropy', 8, 2, 4, 1.0, 0.8626262626262626],\n",
      " ['entropy', 8, 3, 'auto', 1.0, 0.8626262626262626],\n",
      " ['entropy', 8, 3, 'sqrt', 1.0, 0.8626262626262626],\n",
      " ['entropy', 8, 3, 'log2', 1.0, 0.8626262626262626],\n",
      " ['entropy', 8, 3, 3, 1.0, 0.8626262626262626],\n",
      " ['entropy', 8, 3, 4, 1.0, 0.8626262626262626],\n",
      " ['entropy', 8, 4, 'auto', 1.0, 0.8626262626262626],\n",
      " ['entropy', 8, 4, 'sqrt', 1.0, 0.8626262626262626],\n",
      " ['entropy', 8, 4, 'log2', 1.0, 0.8626262626262626],\n",
      " ['entropy', 8, 4, 3, 1.0, 0.8626262626262626],\n",
      " ['entropy', 8, 4, 4, 1.0, 0.8626262626262626],\n",
      " ['entropy', 9, 2, 'auto', 1.0, 0.8626262626262626],\n",
      " ['entropy', 9, 2, 'sqrt', 1.0, 0.8626262626262626],\n",
      " ['entropy', 9, 2, 'log2', 1.0, 0.8626262626262626],\n",
      " ['entropy', 9, 2, 3, 1.0, 0.8626262626262626],\n",
      " ['entropy', 9, 2, 4, 1.0, 0.8626262626262626],\n",
      " ['entropy', 9, 3, 'auto', 1.0, 0.8626262626262626],\n",
      " ['entropy', 9, 3, 'sqrt', 1.0, 0.8626262626262626],\n",
      " ['entropy', 9, 3, 'log2', 1.0, 0.8626262626262626],\n",
      " ['entropy', 9, 3, 3, 1.0, 0.8626262626262626],\n",
      " ['entropy', 9, 3, 4, 1.0, 0.8626262626262626],\n",
      " ['entropy', 9, 4, 'auto', 1.0, 0.8626262626262626],\n",
      " ['entropy', 9, 4, 'sqrt', 1.0, 0.8626262626262626],\n",
      " ['entropy', 9, 4, 'log2', 1.0, 0.8626262626262626],\n",
      " ['entropy', 9, 4, 3, 1.0, 0.8626262626262626],\n",
      " ['entropy', 9, 4, 4, 1.0, 0.8626262626262626],\n",
      " ['gini', 1, 2, 'auto', 0.9622918707149853, 0.8363636363636363],\n",
      " ['gini', 1, 2, 'sqrt', 0.9622918707149853, 0.8363636363636363],\n",
      " ['gini', 1, 2, 'log2', 0.9622918707149853, 0.8363636363636363],\n",
      " ['gini', 1, 2, 3, 0.9622918707149853, 0.8363636363636363],\n",
      " ['gini', 1, 2, 4, 0.9622918707149853, 0.8363636363636363],\n",
      " ['gini', 1, 3, 'auto', 0.9622918707149853, 0.8363636363636363],\n",
      " ['gini', 1, 3, 'sqrt', 0.9622918707149853, 0.8363636363636363],\n",
      " ['gini', 1, 3, 'log2', 0.9622918707149853, 0.8363636363636363],\n",
      " ['gini', 1, 3, 3, 0.9622918707149853, 0.8363636363636363],\n",
      " ['gini', 1, 3, 4, 0.9622918707149853, 0.8363636363636363],\n",
      " ['gini', 1, 4, 'auto', 0.9622918707149853, 0.8363636363636363],\n",
      " ['gini', 1, 4, 'sqrt', 0.9622918707149853, 0.8363636363636363],\n",
      " ['gini', 1, 4, 'log2', 0.9622918707149853, 0.8363636363636363],\n",
      " ['gini', 1, 4, 3, 0.9622918707149853, 0.8363636363636363],\n",
      " ['gini', 1, 4, 4, 0.9622918707149853, 0.8363636363636363],\n",
      " ['entropy', 1, 2, 'auto', 0.9622918707149853, 0.8363636363636363],\n",
      " ['entropy', 1, 2, 'sqrt', 0.9622918707149853, 0.8363636363636363],\n",
      " ['entropy', 1, 2, 'log2', 0.9622918707149853, 0.8363636363636363],\n",
      " ['entropy', 1, 2, 3, 0.9622918707149853, 0.8363636363636363],\n",
      " ['entropy', 1, 2, 4, 0.9622918707149853, 0.8363636363636363],\n",
      " ['entropy', 1, 3, 'auto', 0.9622918707149853, 0.8363636363636363],\n",
      " ['entropy', 1, 3, 'sqrt', 0.9622918707149853, 0.8363636363636363],\n",
      " ['entropy', 1, 3, 'log2', 0.9622918707149853, 0.8363636363636363],\n",
      " ['entropy', 1, 3, 3, 0.9622918707149853, 0.8363636363636363],\n",
      " ['entropy', 1, 3, 4, 0.9622918707149853, 0.8363636363636363],\n",
      " ['entropy', 1, 4, 'auto', 0.9622918707149853, 0.8363636363636363],\n",
      " ['entropy', 1, 4, 'sqrt', 0.9622918707149853, 0.8363636363636363],\n",
      " ['entropy', 1, 4, 'log2', 0.9622918707149853, 0.8363636363636363],\n",
      " ['entropy', 1, 4, 3, 0.9622918707149853, 0.8363636363636363],\n",
      " ['entropy', 1, 4, 4, 0.9622918707149853, 0.8363636363636363],\n",
      " ['gini', 2, 2, 1, 0.9622918707149853, 0.8353535353535354],\n",
      " ['gini', 2, 3, 1, 0.9622918707149853, 0.8353535353535354],\n",
      " ['gini', 2, 4, 1, 0.9622918707149853, 0.8353535353535354],\n",
      " ['gini', 3, 2, 1, 0.9622918707149853, 0.8353535353535354],\n",
      " ['gini', 3, 3, 1, 0.9622918707149853, 0.8353535353535354],\n",
      " ['gini', 3, 4, 1, 0.9622918707149853, 0.8353535353535354],\n",
      " ['entropy', 2, 2, 1, 0.9622918707149853, 0.8353535353535354],\n",
      " ['entropy', 2, 3, 1, 0.9622918707149853, 0.8353535353535354],\n",
      " ['entropy', 2, 4, 1, 0.9622918707149853, 0.8353535353535354],\n",
      " ['entropy', 3, 2, 1, 0.9622918707149853, 0.8353535353535354],\n",
      " ['entropy', 3, 3, 1, 0.9622918707149853, 0.8353535353535354],\n",
      " ['entropy', 3, 4, 1, 0.9622918707149853, 0.8353535353535354],\n",
      " ['gini', None, 2, None, 1.0, 0.8343434343434344],\n",
      " ['gini', None, 2, 5, 1.0, 0.8343434343434344],\n",
      " ['gini', None, 2, 6, 1.0, 0.8343434343434344],\n",
      " ['gini', None, 2, 7, 1.0, 0.8343434343434344],\n",
      " ['gini', None, 2, 8, 1.0, 0.8343434343434344],\n",
      " ['gini', None, 2, 9, 1.0, 0.8343434343434344],\n",
      " ['gini', None, 3, None, 1.0, 0.8343434343434344],\n",
      " ['gini', None, 3, 5, 1.0, 0.8343434343434344],\n",
      " ['gini', None, 3, 6, 1.0, 0.8343434343434344],\n",
      " ['gini', None, 3, 7, 1.0, 0.8343434343434344],\n",
      " ['gini', None, 3, 8, 1.0, 0.8343434343434344],\n",
      " ['gini', None, 3, 9, 1.0, 0.8343434343434344],\n",
      " ['gini', None, 4, None, 1.0, 0.8343434343434344],\n",
      " ['gini', None, 4, 5, 1.0, 0.8343434343434344],\n",
      " ['gini', None, 4, 6, 1.0, 0.8343434343434344],\n",
      " ['gini', None, 4, 7, 1.0, 0.8343434343434344],\n",
      " ['gini', None, 4, 8, 1.0, 0.8343434343434344],\n",
      " ['gini', None, 4, 9, 1.0, 0.8343434343434344],\n",
      " ['gini', 1, 2, None, 1.0, 0.8343434343434344],\n",
      " ['gini', 1, 2, 5, 1.0, 0.8343434343434344],\n",
      " ['gini', 1, 2, 6, 1.0, 0.8343434343434344],\n",
      " ['gini', 1, 2, 7, 1.0, 0.8343434343434344],\n",
      " ['gini', 1, 2, 8, 1.0, 0.8343434343434344],\n",
      " ['gini', 1, 2, 9, 1.0, 0.8343434343434344],\n",
      " ['gini', 1, 3, None, 1.0, 0.8343434343434344],\n",
      " ['gini', 1, 3, 5, 1.0, 0.8343434343434344],\n",
      " ['gini', 1, 3, 6, 1.0, 0.8343434343434344],\n",
      " ['gini', 1, 3, 7, 1.0, 0.8343434343434344],\n",
      " ['gini', 1, 3, 8, 1.0, 0.8343434343434344],\n",
      " ['gini', 1, 3, 9, 1.0, 0.8343434343434344],\n",
      " ['gini', 1, 4, None, 1.0, 0.8343434343434344],\n",
      " ['gini', 1, 4, 5, 1.0, 0.8343434343434344],\n",
      " ['gini', 1, 4, 6, 1.0, 0.8343434343434344],\n",
      " ['gini', 1, 4, 7, 1.0, 0.8343434343434344],\n",
      " ['gini', 1, 4, 8, 1.0, 0.8343434343434344],\n",
      " ['gini', 1, 4, 9, 1.0, 0.8343434343434344],\n",
      " ['gini', 2, 2, None, 1.0, 0.8343434343434344],\n",
      " ['gini', 2, 2, 5, 1.0, 0.8343434343434344],\n",
      " ['gini', 2, 2, 6, 1.0, 0.8343434343434344],\n",
      " ['gini', 2, 2, 7, 1.0, 0.8343434343434344],\n",
      " ['gini', 2, 2, 8, 1.0, 0.8343434343434344],\n",
      " ['gini', 2, 2, 9, 1.0, 0.8343434343434344],\n",
      " ['gini', 2, 3, None, 1.0, 0.8343434343434344],\n",
      " ['gini', 2, 3, 5, 1.0, 0.8343434343434344],\n",
      " ['gini', 2, 3, 6, 1.0, 0.8343434343434344],\n",
      " ['gini', 2, 3, 7, 1.0, 0.8343434343434344],\n",
      " ['gini', 2, 3, 8, 1.0, 0.8343434343434344],\n",
      " ['gini', 2, 3, 9, 1.0, 0.8343434343434344],\n",
      " ['gini', 2, 4, None, 1.0, 0.8343434343434344],\n",
      " ['gini', 2, 4, 5, 1.0, 0.8343434343434344],\n",
      " ['gini', 2, 4, 6, 1.0, 0.8343434343434344],\n",
      " ['gini', 2, 4, 7, 1.0, 0.8343434343434344],\n",
      " ['gini', 2, 4, 8, 1.0, 0.8343434343434344],\n",
      " ['gini', 2, 4, 9, 1.0, 0.8343434343434344],\n",
      " ['gini', 3, 2, None, 1.0, 0.8343434343434344],\n",
      " ['gini', 3, 2, 5, 1.0, 0.8343434343434344],\n",
      " ['gini', 3, 2, 6, 1.0, 0.8343434343434344],\n",
      " ['gini', 3, 2, 7, 1.0, 0.8343434343434344],\n",
      " ['gini', 3, 2, 8, 1.0, 0.8343434343434344],\n",
      " ['gini', 3, 2, 9, 1.0, 0.8343434343434344],\n",
      " ['gini', 3, 3, None, 1.0, 0.8343434343434344],\n",
      " ['gini', 3, 3, 5, 1.0, 0.8343434343434344],\n",
      " ['gini', 3, 3, 6, 1.0, 0.8343434343434344],\n",
      " ['gini', 3, 3, 7, 1.0, 0.8343434343434344],\n",
      " ['gini', 3, 3, 8, 1.0, 0.8343434343434344],\n",
      " ['gini', 3, 3, 9, 1.0, 0.8343434343434344],\n",
      " ['gini', 3, 4, None, 1.0, 0.8343434343434344],\n",
      " ['gini', 3, 4, 5, 1.0, 0.8343434343434344],\n",
      " ['gini', 3, 4, 6, 1.0, 0.8343434343434344],\n",
      " ['gini', 3, 4, 7, 1.0, 0.8343434343434344],\n",
      " ['gini', 3, 4, 8, 1.0, 0.8343434343434344],\n",
      " ['gini', 3, 4, 9, 1.0, 0.8343434343434344],\n",
      " ['gini', 4, 2, None, 1.0, 0.8343434343434344],\n",
      " ['gini', 4, 2, 5, 1.0, 0.8343434343434344],\n",
      " ['gini', 4, 2, 6, 1.0, 0.8343434343434344],\n",
      " ['gini', 4, 2, 7, 1.0, 0.8343434343434344],\n",
      " ['gini', 4, 2, 8, 1.0, 0.8343434343434344],\n",
      " ['gini', 4, 2, 9, 1.0, 0.8343434343434344],\n",
      " ['gini', 4, 3, None, 1.0, 0.8343434343434344],\n",
      " ['gini', 4, 3, 5, 1.0, 0.8343434343434344],\n",
      " ['gini', 4, 3, 6, 1.0, 0.8343434343434344],\n",
      " ['gini', 4, 3, 7, 1.0, 0.8343434343434344],\n",
      " ['gini', 4, 3, 8, 1.0, 0.8343434343434344],\n",
      " ['gini', 4, 3, 9, 1.0, 0.8343434343434344],\n",
      " ['gini', 4, 4, None, 1.0, 0.8343434343434344],\n",
      " ['gini', 4, 4, 5, 1.0, 0.8343434343434344],\n",
      " ['gini', 4, 4, 6, 1.0, 0.8343434343434344],\n",
      " ['gini', 4, 4, 7, 1.0, 0.8343434343434344],\n",
      " ['gini', 4, 4, 8, 1.0, 0.8343434343434344],\n",
      " ['gini', 4, 4, 9, 1.0, 0.8343434343434344],\n",
      " ['gini', 5, 2, None, 1.0, 0.8343434343434344],\n",
      " ['gini', 5, 2, 5, 1.0, 0.8343434343434344],\n",
      " ['gini', 5, 2, 6, 1.0, 0.8343434343434344],\n",
      " ['gini', 5, 2, 7, 1.0, 0.8343434343434344],\n",
      " ['gini', 5, 2, 8, 1.0, 0.8343434343434344],\n",
      " ['gini', 5, 2, 9, 1.0, 0.8343434343434344],\n",
      " ['gini', 5, 3, None, 1.0, 0.8343434343434344],\n",
      " ['gini', 5, 3, 5, 1.0, 0.8343434343434344],\n",
      " ['gini', 5, 3, 6, 1.0, 0.8343434343434344],\n",
      " ['gini', 5, 3, 7, 1.0, 0.8343434343434344],\n",
      " ['gini', 5, 3, 8, 1.0, 0.8343434343434344],\n",
      " ['gini', 5, 3, 9, 1.0, 0.8343434343434344],\n",
      " ['gini', 5, 4, None, 1.0, 0.8343434343434344],\n",
      " ['gini', 5, 4, 5, 1.0, 0.8343434343434344],\n",
      " ['gini', 5, 4, 6, 1.0, 0.8343434343434344],\n",
      " ['gini', 5, 4, 7, 1.0, 0.8343434343434344],\n",
      " ['gini', 5, 4, 8, 1.0, 0.8343434343434344],\n",
      " ['gini', 5, 4, 9, 1.0, 0.8343434343434344],\n",
      " ['gini', 6, 2, None, 1.0, 0.8343434343434344],\n",
      " ['gini', 6, 2, 5, 1.0, 0.8343434343434344],\n",
      " ['gini', 6, 2, 6, 1.0, 0.8343434343434344],\n",
      " ['gini', 6, 2, 7, 1.0, 0.8343434343434344],\n",
      " ['gini', 6, 2, 8, 1.0, 0.8343434343434344],\n",
      " ['gini', 6, 2, 9, 1.0, 0.8343434343434344],\n",
      " ['gini', 6, 3, None, 1.0, 0.8343434343434344],\n",
      " ['gini', 6, 3, 5, 1.0, 0.8343434343434344],\n",
      " ['gini', 6, 3, 6, 1.0, 0.8343434343434344],\n",
      " ['gini', 6, 3, 7, 1.0, 0.8343434343434344],\n",
      " ['gini', 6, 3, 8, 1.0, 0.8343434343434344],\n",
      " ['gini', 6, 3, 9, 1.0, 0.8343434343434344],\n",
      " ['gini', 6, 4, None, 1.0, 0.8343434343434344],\n",
      " ['gini', 6, 4, 5, 1.0, 0.8343434343434344],\n",
      " ['gini', 6, 4, 6, 1.0, 0.8343434343434344],\n",
      " ['gini', 6, 4, 7, 1.0, 0.8343434343434344],\n",
      " ['gini', 6, 4, 8, 1.0, 0.8343434343434344],\n",
      " ['gini', 6, 4, 9, 1.0, 0.8343434343434344],\n",
      " ['gini', 7, 2, None, 1.0, 0.8343434343434344],\n",
      " ['gini', 7, 2, 5, 1.0, 0.8343434343434344],\n",
      " ['gini', 7, 2, 6, 1.0, 0.8343434343434344],\n",
      " ['gini', 7, 2, 7, 1.0, 0.8343434343434344],\n",
      " ['gini', 7, 2, 8, 1.0, 0.8343434343434344],\n",
      " ['gini', 7, 2, 9, 1.0, 0.8343434343434344],\n",
      " ['gini', 7, 3, None, 1.0, 0.8343434343434344],\n",
      " ['gini', 7, 3, 5, 1.0, 0.8343434343434344],\n",
      " ['gini', 7, 3, 6, 1.0, 0.8343434343434344],\n",
      " ['gini', 7, 3, 7, 1.0, 0.8343434343434344],\n",
      " ['gini', 7, 3, 8, 1.0, 0.8343434343434344],\n",
      " ['gini', 7, 3, 9, 1.0, 0.8343434343434344],\n",
      " ['gini', 7, 4, None, 1.0, 0.8343434343434344],\n",
      " ['gini', 7, 4, 5, 1.0, 0.8343434343434344],\n",
      " ['gini', 7, 4, 6, 1.0, 0.8343434343434344],\n",
      " ['gini', 7, 4, 7, 1.0, 0.8343434343434344],\n",
      " ['gini', 7, 4, 8, 1.0, 0.8343434343434344],\n",
      " ['gini', 7, 4, 9, 1.0, 0.8343434343434344],\n",
      " ['gini', 8, 2, None, 1.0, 0.8343434343434344],\n",
      " ['gini', 8, 2, 5, 1.0, 0.8343434343434344],\n",
      " ['gini', 8, 2, 6, 1.0, 0.8343434343434344],\n",
      " ['gini', 8, 2, 7, 1.0, 0.8343434343434344],\n",
      " ['gini', 8, 2, 8, 1.0, 0.8343434343434344],\n",
      " ['gini', 8, 2, 9, 1.0, 0.8343434343434344],\n",
      " ['gini', 8, 3, None, 1.0, 0.8343434343434344],\n",
      " ['gini', 8, 3, 5, 1.0, 0.8343434343434344],\n",
      " ['gini', 8, 3, 6, 1.0, 0.8343434343434344],\n",
      " ['gini', 8, 3, 7, 1.0, 0.8343434343434344],\n",
      " ['gini', 8, 3, 8, 1.0, 0.8343434343434344],\n",
      " ['gini', 8, 3, 9, 1.0, 0.8343434343434344],\n",
      " ['gini', 8, 4, None, 1.0, 0.8343434343434344],\n",
      " ['gini', 8, 4, 5, 1.0, 0.8343434343434344],\n",
      " ['gini', 8, 4, 6, 1.0, 0.8343434343434344],\n",
      " ['gini', 8, 4, 7, 1.0, 0.8343434343434344],\n",
      " ['gini', 8, 4, 8, 1.0, 0.8343434343434344],\n",
      " ['gini', 8, 4, 9, 1.0, 0.8343434343434344],\n",
      " ['gini', 9, 2, None, 1.0, 0.8343434343434344],\n",
      " ['gini', 9, 2, 5, 1.0, 0.8343434343434344],\n",
      " ['gini', 9, 2, 6, 1.0, 0.8343434343434344],\n",
      " ['gini', 9, 2, 7, 1.0, 0.8343434343434344],\n",
      " ['gini', 9, 2, 8, 1.0, 0.8343434343434344],\n",
      " ['gini', 9, 2, 9, 1.0, 0.8343434343434344],\n",
      " ['gini', 9, 3, None, 1.0, 0.8343434343434344],\n",
      " ['gini', 9, 3, 5, 1.0, 0.8343434343434344],\n",
      " ['gini', 9, 3, 6, 1.0, 0.8343434343434344],\n",
      " ['gini', 9, 3, 7, 1.0, 0.8343434343434344],\n",
      " ['gini', 9, 3, 8, 1.0, 0.8343434343434344],\n",
      " ['gini', 9, 3, 9, 1.0, 0.8343434343434344],\n",
      " ['gini', 9, 4, None, 1.0, 0.8343434343434344],\n",
      " ['gini', 9, 4, 5, 1.0, 0.8343434343434344],\n",
      " ['gini', 9, 4, 6, 1.0, 0.8343434343434344],\n",
      " ['gini', 9, 4, 7, 1.0, 0.8343434343434344],\n",
      " ['gini', 9, 4, 8, 1.0, 0.8343434343434344],\n",
      " ['gini', 9, 4, 9, 1.0, 0.8343434343434344],\n",
      " ['entropy', None, 2, None, 1.0, 0.8343434343434344],\n",
      " ['entropy', None, 2, 5, 1.0, 0.8343434343434344],\n",
      " ['entropy', None, 2, 6, 1.0, 0.8343434343434344],\n",
      " ['entropy', None, 2, 7, 1.0, 0.8343434343434344],\n",
      " ['entropy', None, 2, 8, 1.0, 0.8343434343434344],\n",
      " ['entropy', None, 2, 9, 1.0, 0.8343434343434344],\n",
      " ['entropy', None, 3, None, 1.0, 0.8343434343434344],\n",
      " ['entropy', None, 3, 5, 1.0, 0.8343434343434344],\n",
      " ['entropy', None, 3, 6, 1.0, 0.8343434343434344],\n",
      " ['entropy', None, 3, 7, 1.0, 0.8343434343434344],\n",
      " ['entropy', None, 3, 8, 1.0, 0.8343434343434344],\n",
      " ['entropy', None, 3, 9, 1.0, 0.8343434343434344],\n",
      " ['entropy', None, 4, None, 1.0, 0.8343434343434344],\n",
      " ['entropy', None, 4, 5, 1.0, 0.8343434343434344],\n",
      " ['entropy', None, 4, 6, 1.0, 0.8343434343434344],\n",
      " ['entropy', None, 4, 7, 1.0, 0.8343434343434344],\n",
      " ['entropy', None, 4, 8, 1.0, 0.8343434343434344],\n",
      " ['entropy', None, 4, 9, 1.0, 0.8343434343434344],\n",
      " ['entropy', 1, 2, None, 1.0, 0.8343434343434344],\n",
      " ['entropy', 1, 2, 5, 1.0, 0.8343434343434344],\n",
      " ['entropy', 1, 2, 6, 1.0, 0.8343434343434344],\n",
      " ['entropy', 1, 2, 7, 1.0, 0.8343434343434344],\n",
      " ['entropy', 1, 2, 8, 1.0, 0.8343434343434344],\n",
      " ['entropy', 1, 2, 9, 1.0, 0.8343434343434344],\n",
      " ['entropy', 1, 3, None, 1.0, 0.8343434343434344],\n",
      " ['entropy', 1, 3, 5, 1.0, 0.8343434343434344],\n",
      " ['entropy', 1, 3, 6, 1.0, 0.8343434343434344],\n",
      " ['entropy', 1, 3, 7, 1.0, 0.8343434343434344],\n",
      " ['entropy', 1, 3, 8, 1.0, 0.8343434343434344],\n",
      " ['entropy', 1, 3, 9, 1.0, 0.8343434343434344],\n",
      " ['entropy', 1, 4, None, 1.0, 0.8343434343434344],\n",
      " ['entropy', 1, 4, 5, 1.0, 0.8343434343434344],\n",
      " ['entropy', 1, 4, 6, 1.0, 0.8343434343434344],\n",
      " ['entropy', 1, 4, 7, 1.0, 0.8343434343434344],\n",
      " ['entropy', 1, 4, 8, 1.0, 0.8343434343434344],\n",
      " ['entropy', 1, 4, 9, 1.0, 0.8343434343434344],\n",
      " ['entropy', 2, 2, None, 1.0, 0.8343434343434344],\n",
      " ['entropy', 2, 2, 5, 1.0, 0.8343434343434344],\n",
      " ['entropy', 2, 2, 6, 1.0, 0.8343434343434344],\n",
      " ['entropy', 2, 2, 7, 1.0, 0.8343434343434344],\n",
      " ['entropy', 2, 2, 8, 1.0, 0.8343434343434344],\n",
      " ['entropy', 2, 2, 9, 1.0, 0.8343434343434344],\n",
      " ['entropy', 2, 3, None, 1.0, 0.8343434343434344],\n",
      " ['entropy', 2, 3, 5, 1.0, 0.8343434343434344],\n",
      " ['entropy', 2, 3, 6, 1.0, 0.8343434343434344],\n",
      " ['entropy', 2, 3, 7, 1.0, 0.8343434343434344],\n",
      " ['entropy', 2, 3, 8, 1.0, 0.8343434343434344],\n",
      " ['entropy', 2, 3, 9, 1.0, 0.8343434343434344],\n",
      " ['entropy', 2, 4, None, 1.0, 0.8343434343434344],\n",
      " ['entropy', 2, 4, 5, 1.0, 0.8343434343434344],\n",
      " ['entropy', 2, 4, 6, 1.0, 0.8343434343434344],\n",
      " ['entropy', 2, 4, 7, 1.0, 0.8343434343434344],\n",
      " ['entropy', 2, 4, 8, 1.0, 0.8343434343434344],\n",
      " ['entropy', 2, 4, 9, 1.0, 0.8343434343434344],\n",
      " ['entropy', 3, 2, None, 1.0, 0.8343434343434344],\n",
      " ['entropy', 3, 2, 5, 1.0, 0.8343434343434344],\n",
      " ['entropy', 3, 2, 6, 1.0, 0.8343434343434344],\n",
      " ['entropy', 3, 2, 7, 1.0, 0.8343434343434344],\n",
      " ['entropy', 3, 2, 8, 1.0, 0.8343434343434344],\n",
      " ['entropy', 3, 2, 9, 1.0, 0.8343434343434344],\n",
      " ['entropy', 3, 3, None, 1.0, 0.8343434343434344],\n",
      " ['entropy', 3, 3, 5, 1.0, 0.8343434343434344],\n",
      " ['entropy', 3, 3, 6, 1.0, 0.8343434343434344],\n",
      " ['entropy', 3, 3, 7, 1.0, 0.8343434343434344],\n",
      " ['entropy', 3, 3, 8, 1.0, 0.8343434343434344],\n",
      " ['entropy', 3, 3, 9, 1.0, 0.8343434343434344],\n",
      " ['entropy', 3, 4, None, 1.0, 0.8343434343434344],\n",
      " ['entropy', 3, 4, 5, 1.0, 0.8343434343434344],\n",
      " ['entropy', 3, 4, 6, 1.0, 0.8343434343434344],\n",
      " ['entropy', 3, 4, 7, 1.0, 0.8343434343434344],\n",
      " ['entropy', 3, 4, 8, 1.0, 0.8343434343434344],\n",
      " ['entropy', 3, 4, 9, 1.0, 0.8343434343434344],\n",
      " ['entropy', 4, 2, None, 1.0, 0.8343434343434344],\n",
      " ['entropy', 4, 2, 5, 1.0, 0.8343434343434344],\n",
      " ['entropy', 4, 2, 6, 1.0, 0.8343434343434344],\n",
      " ['entropy', 4, 2, 7, 1.0, 0.8343434343434344],\n",
      " ['entropy', 4, 2, 8, 1.0, 0.8343434343434344],\n",
      " ['entropy', 4, 2, 9, 1.0, 0.8343434343434344],\n",
      " ['entropy', 4, 3, None, 1.0, 0.8343434343434344],\n",
      " ['entropy', 4, 3, 5, 1.0, 0.8343434343434344],\n",
      " ['entropy', 4, 3, 6, 1.0, 0.8343434343434344],\n",
      " ['entropy', 4, 3, 7, 1.0, 0.8343434343434344],\n",
      " ['entropy', 4, 3, 8, 1.0, 0.8343434343434344],\n",
      " ['entropy', 4, 3, 9, 1.0, 0.8343434343434344],\n",
      " ['entropy', 4, 4, None, 1.0, 0.8343434343434344],\n",
      " ['entropy', 4, 4, 5, 1.0, 0.8343434343434344],\n",
      " ['entropy', 4, 4, 6, 1.0, 0.8343434343434344],\n",
      " ['entropy', 4, 4, 7, 1.0, 0.8343434343434344],\n",
      " ['entropy', 4, 4, 8, 1.0, 0.8343434343434344],\n",
      " ['entropy', 4, 4, 9, 1.0, 0.8343434343434344],\n",
      " ['entropy', 5, 2, None, 1.0, 0.8343434343434344],\n",
      " ['entropy', 5, 2, 5, 1.0, 0.8343434343434344],\n",
      " ['entropy', 5, 2, 6, 1.0, 0.8343434343434344],\n",
      " ['entropy', 5, 2, 7, 1.0, 0.8343434343434344],\n",
      " ['entropy', 5, 2, 8, 1.0, 0.8343434343434344],\n",
      " ['entropy', 5, 2, 9, 1.0, 0.8343434343434344],\n",
      " ['entropy', 5, 3, None, 1.0, 0.8343434343434344],\n",
      " ['entropy', 5, 3, 5, 1.0, 0.8343434343434344],\n",
      " ['entropy', 5, 3, 6, 1.0, 0.8343434343434344],\n",
      " ['entropy', 5, 3, 7, 1.0, 0.8343434343434344],\n",
      " ['entropy', 5, 3, 8, 1.0, 0.8343434343434344],\n",
      " ['entropy', 5, 3, 9, 1.0, 0.8343434343434344],\n",
      " ['entropy', 5, 4, None, 1.0, 0.8343434343434344],\n",
      " ['entropy', 5, 4, 5, 1.0, 0.8343434343434344],\n",
      " ['entropy', 5, 4, 6, 1.0, 0.8343434343434344],\n",
      " ['entropy', 5, 4, 7, 1.0, 0.8343434343434344],\n",
      " ['entropy', 5, 4, 8, 1.0, 0.8343434343434344],\n",
      " ['entropy', 5, 4, 9, 1.0, 0.8343434343434344],\n",
      " ['entropy', 6, 2, None, 1.0, 0.8343434343434344],\n",
      " ['entropy', 6, 2, 5, 1.0, 0.8343434343434344],\n",
      " ['entropy', 6, 2, 6, 1.0, 0.8343434343434344],\n",
      " ['entropy', 6, 2, 7, 1.0, 0.8343434343434344],\n",
      " ['entropy', 6, 2, 8, 1.0, 0.8343434343434344],\n",
      " ['entropy', 6, 2, 9, 1.0, 0.8343434343434344],\n",
      " ['entropy', 6, 3, None, 1.0, 0.8343434343434344],\n",
      " ['entropy', 6, 3, 5, 1.0, 0.8343434343434344],\n",
      " ['entropy', 6, 3, 6, 1.0, 0.8343434343434344],\n",
      " ['entropy', 6, 3, 7, 1.0, 0.8343434343434344],\n",
      " ['entropy', 6, 3, 8, 1.0, 0.8343434343434344],\n",
      " ['entropy', 6, 3, 9, 1.0, 0.8343434343434344],\n",
      " ['entropy', 6, 4, None, 1.0, 0.8343434343434344],\n",
      " ['entropy', 6, 4, 5, 1.0, 0.8343434343434344],\n",
      " ['entropy', 6, 4, 6, 1.0, 0.8343434343434344],\n",
      " ['entropy', 6, 4, 7, 1.0, 0.8343434343434344],\n",
      " ['entropy', 6, 4, 8, 1.0, 0.8343434343434344],\n",
      " ['entropy', 6, 4, 9, 1.0, 0.8343434343434344],\n",
      " ['entropy', 7, 2, None, 1.0, 0.8343434343434344],\n",
      " ['entropy', 7, 2, 5, 1.0, 0.8343434343434344],\n",
      " ['entropy', 7, 2, 6, 1.0, 0.8343434343434344],\n",
      " ['entropy', 7, 2, 7, 1.0, 0.8343434343434344],\n",
      " ['entropy', 7, 2, 8, 1.0, 0.8343434343434344],\n",
      " ['entropy', 7, 2, 9, 1.0, 0.8343434343434344],\n",
      " ['entropy', 7, 3, None, 1.0, 0.8343434343434344],\n",
      " ['entropy', 7, 3, 5, 1.0, 0.8343434343434344],\n",
      " ['entropy', 7, 3, 6, 1.0, 0.8343434343434344],\n",
      " ['entropy', 7, 3, 7, 1.0, 0.8343434343434344],\n",
      " ['entropy', 7, 3, 8, 1.0, 0.8343434343434344],\n",
      " ['entropy', 7, 3, 9, 1.0, 0.8343434343434344],\n",
      " ['entropy', 7, 4, None, 1.0, 0.8343434343434344],\n",
      " ['entropy', 7, 4, 5, 1.0, 0.8343434343434344],\n",
      " ['entropy', 7, 4, 6, 1.0, 0.8343434343434344],\n",
      " ['entropy', 7, 4, 7, 1.0, 0.8343434343434344],\n",
      " ['entropy', 7, 4, 8, 1.0, 0.8343434343434344],\n",
      " ['entropy', 7, 4, 9, 1.0, 0.8343434343434344],\n",
      " ['entropy', 8, 2, None, 1.0, 0.8343434343434344],\n",
      " ['entropy', 8, 2, 5, 1.0, 0.8343434343434344],\n",
      " ['entropy', 8, 2, 6, 1.0, 0.8343434343434344],\n",
      " ['entropy', 8, 2, 7, 1.0, 0.8343434343434344],\n",
      " ['entropy', 8, 2, 8, 1.0, 0.8343434343434344],\n",
      " ['entropy', 8, 2, 9, 1.0, 0.8343434343434344],\n",
      " ['entropy', 8, 3, None, 1.0, 0.8343434343434344],\n",
      " ['entropy', 8, 3, 5, 1.0, 0.8343434343434344],\n",
      " ['entropy', 8, 3, 6, 1.0, 0.8343434343434344],\n",
      " ['entropy', 8, 3, 7, 1.0, 0.8343434343434344],\n",
      " ['entropy', 8, 3, 8, 1.0, 0.8343434343434344],\n",
      " ['entropy', 8, 3, 9, 1.0, 0.8343434343434344],\n",
      " ['entropy', 8, 4, None, 1.0, 0.8343434343434344],\n",
      " ['entropy', 8, 4, 5, 1.0, 0.8343434343434344],\n",
      " ['entropy', 8, 4, 6, 1.0, 0.8343434343434344],\n",
      " ['entropy', 8, 4, 7, 1.0, 0.8343434343434344],\n",
      " ['entropy', 8, 4, 8, 1.0, 0.8343434343434344],\n",
      " ['entropy', 8, 4, 9, 1.0, 0.8343434343434344],\n",
      " ['entropy', 9, 2, None, 1.0, 0.8343434343434344],\n",
      " ['entropy', 9, 2, 5, 1.0, 0.8343434343434344],\n",
      " ['entropy', 9, 2, 6, 1.0, 0.8343434343434344],\n",
      " ['entropy', 9, 2, 7, 1.0, 0.8343434343434344],\n",
      " ['entropy', 9, 2, 8, 1.0, 0.8343434343434344],\n",
      " ['entropy', 9, 2, 9, 1.0, 0.8343434343434344],\n",
      " ['entropy', 9, 3, None, 1.0, 0.8343434343434344],\n",
      " ['entropy', 9, 3, 5, 1.0, 0.8343434343434344],\n",
      " ['entropy', 9, 3, 6, 1.0, 0.8343434343434344],\n",
      " ['entropy', 9, 3, 7, 1.0, 0.8343434343434344],\n",
      " ['entropy', 9, 3, 8, 1.0, 0.8343434343434344],\n",
      " ['entropy', 9, 3, 9, 1.0, 0.8343434343434344],\n",
      " ['entropy', 9, 4, None, 1.0, 0.8343434343434344],\n",
      " ['entropy', 9, 4, 5, 1.0, 0.8343434343434344],\n",
      " ['entropy', 9, 4, 6, 1.0, 0.8343434343434344],\n",
      " ['entropy', 9, 4, 7, 1.0, 0.8343434343434344],\n",
      " ['entropy', 9, 4, 8, 1.0, 0.8343434343434344],\n",
      " ['entropy', 9, 4, 9, 1.0, 0.8343434343434344],\n",
      " ['gini', 4, 2, 1, 0.9889813907933399, 0.8181818181818182],\n",
      " ['gini', 4, 3, 1, 0.9889813907933399, 0.8181818181818182],\n",
      " ['gini', 4, 4, 1, 0.9889813907933399, 0.8181818181818182],\n",
      " ['gini', 7, 2, 1, 0.9914299706170421, 0.8151515151515152],\n",
      " ['gini', 7, 3, 1, 0.9914299706170421, 0.8151515151515152],\n",
      " ['gini', 7, 4, 1, 0.9914299706170421, 0.8151515151515152],\n",
      " ['gini', 6, 2, 1, 0.9911851126346719, 0.802020202020202],\n",
      " ['gini', 6, 3, 1, 0.9911851126346719, 0.802020202020202],\n",
      " ['gini', 6, 4, 1, 0.9911851126346719, 0.802020202020202],\n",
      " ['entropy', None, 3, 1, 0.9995102840352595, 0.794949494949495],\n",
      " ['entropy', None, 4, 1, 0.9990205680705191, 0.794949494949495],\n",
      " ['entropy', 9, 2, 1, 0.9919196865817825, 0.794949494949495],\n",
      " ['entropy', 9, 3, 1, 0.9919196865817825, 0.794949494949495],\n",
      " ['entropy', 9, 4, 1, 0.9919196865817825, 0.794949494949495],\n",
      " ['entropy', None, 2, 1, 1.0, 0.7929292929292929],\n",
      " ['entropy', 4, 2, 1, 0.9904505386875612, 0.7929292929292929],\n",
      " ['entropy', 4, 3, 1, 0.9904505386875612, 0.7929292929292929],\n",
      " ['entropy', 4, 4, 1, 0.9904505386875612, 0.7929292929292929],\n",
      " ['entropy', 5, 2, 1, 0.9904505386875612, 0.7929292929292929],\n",
      " ['entropy', 5, 3, 1, 0.9904505386875612, 0.7929292929292929],\n",
      " ['entropy', 5, 4, 1, 0.9904505386875612, 0.7929292929292929],\n",
      " ['entropy', 7, 2, 1, 0.9906953966699314, 0.7929292929292929],\n",
      " ['entropy', 7, 3, 1, 0.9906953966699314, 0.7929292929292929],\n",
      " ['entropy', 7, 4, 1, 0.9906953966699314, 0.7929292929292929],\n",
      " ['entropy', 8, 2, 1, 0.9911851126346719, 0.7929292929292929],\n",
      " ['entropy', 8, 3, 1, 0.9911851126346719, 0.7929292929292929],\n",
      " ['entropy', 8, 4, 1, 0.9911851126346719, 0.7929292929292929],\n",
      " ['entropy', None, 3, 2, 0.9995102840352595, 0.7909090909090909],\n",
      " ['entropy', None, 4, 2, 0.9995102840352595, 0.7909090909090909],\n",
      " ['gini', 9, 2, 1, 0.9909402546523016, 0.7888888888888889],\n",
      " ['gini', 8, 2, 1, 0.9916748285994124, 0.7878787878787878],\n",
      " ['gini', 8, 3, 1, 0.9916748285994124, 0.7878787878787878],\n",
      " ['gini', 8, 4, 1, 0.9916748285994124, 0.7878787878787878],\n",
      " ['gini', None, 4, 1, 0.9992654260528894, 0.7868686868686868],\n",
      " ['gini', 9, 4, 1, 0.9955925563173359, 0.7868686868686868],\n",
      " ['gini', 5, 2, 1, 0.9904505386875612, 0.7848484848484848],\n",
      " ['gini', 5, 3, 1, 0.9904505386875612, 0.7848484848484848],\n",
      " ['gini', 5, 4, 1, 0.9904505386875612, 0.7848484848484848],\n",
      " ['gini', 9, 3, 1, 0.997796278158668, 0.7848484848484848],\n",
      " ['gini', None, 2, 1, 1.0, 0.7838383838383839],\n",
      " ['gini', None, 3, 1, 1.0, 0.7838383838383839],\n",
      " ['entropy', 6, 2, 1, 0.9911851126346719, 0.7797979797979798],\n",
      " ['entropy', 6, 3, 1, 0.9911851126346719, 0.7797979797979798],\n",
      " ['entropy', 6, 4, 1, 0.9911851126346719, 0.7797979797979798],\n",
      " ['gini', 9, 2, 2, 0.9973065621939275, 0.7767676767676768],\n",
      " ['gini', 9, 3, 2, 0.9973065621939275, 0.7767676767676768],\n",
      " ['gini', 9, 4, 2, 0.9973065621939275, 0.7767676767676768],\n",
      " ['entropy', 9, 2, 2, 0.9973065621939275, 0.7767676767676768],\n",
      " ['entropy', 9, 3, 2, 0.9973065621939275, 0.7767676767676768],\n",
      " ['entropy', 9, 4, 2, 0.9973065621939275, 0.7767676767676768],\n",
      " ['gini', 5, 2, 2, 0.8734084231145935, 0.7171717171717171],\n",
      " ['gini', 5, 3, 2, 0.8734084231145935, 0.7171717171717171],\n",
      " ['gini', 5, 4, 2, 0.8734084231145935, 0.7171717171717171],\n",
      " ['entropy', 5, 2, 2, 0.8734084231145935, 0.7171717171717171],\n",
      " ['entropy', 5, 3, 2, 0.8734084231145935, 0.7171717171717171],\n",
      " ['entropy', 5, 4, 2, 0.8734084231145935, 0.7171717171717171],\n",
      " ['gini', None, 2, 2, 1.0, 0.7111111111111111],\n",
      " ['gini', 8, 2, 2, 0.9931439764936337, 0.6909090909090909],\n",
      " ['gini', 8, 3, 2, 0.9931439764936337, 0.6909090909090909],\n",
      " ['gini', 8, 4, 2, 0.9931439764936337, 0.6909090909090909],\n",
      " ['entropy', 8, 2, 2, 0.9938785504407444, 0.6909090909090909],\n",
      " ['entropy', 8, 3, 2, 0.9938785504407444, 0.6909090909090909],\n",
      " ['entropy', 8, 4, 2, 0.9938785504407444, 0.6909090909090909],\n",
      " ['gini', 4, 2, 2, 0.7840352595494613, 0.6636363636363637],\n",
      " ['gini', 4, 3, 2, 0.7840352595494613, 0.6636363636363637],\n",
      " ['gini', 4, 4, 2, 0.7840352595494613, 0.6636363636363637],\n",
      " ['entropy', 4, 2, 2, 0.7840352595494613, 0.6636363636363637],\n",
      " ['entropy', 4, 3, 2, 0.7840352595494613, 0.6636363636363637],\n",
      " ['entropy', 4, 4, 2, 0.7840352595494613, 0.6636363636363637],\n",
      " ['entropy', None, 2, 2, 1.0, 0.6444444444444445],\n",
      " ['gini', 6, 2, 2, 0.8856513222331048, 0.6353535353535353],\n",
      " ['gini', 6, 3, 2, 0.8856513222331048, 0.6353535353535353],\n",
      " ['gini', 6, 4, 2, 0.8856513222331048, 0.6353535353535353],\n",
      " ['entropy', 6, 2, 2, 0.8856513222331048, 0.6353535353535353],\n",
      " ['entropy', 6, 3, 2, 0.8856513222331048, 0.6353535353535353],\n",
      " ['entropy', 6, 4, 2, 0.8856513222331048, 0.6353535353535353],\n",
      " ['gini', 2, 2, 2, 0.633692458374143, 0.6222222222222222],\n",
      " ['gini', 2, 3, 2, 0.633692458374143, 0.6222222222222222],\n",
      " ['gini', 2, 4, 2, 0.633692458374143, 0.6222222222222222],\n",
      " ['gini', 7, 2, 2, 0.9360920666013712, 0.6222222222222222],\n",
      " ['gini', 7, 3, 2, 0.9360920666013712, 0.6222222222222222],\n",
      " ['gini', 7, 4, 2, 0.9360920666013712, 0.6222222222222222],\n",
      " ['entropy', 2, 2, 2, 0.633692458374143, 0.6222222222222222],\n",
      " ['entropy', 2, 3, 2, 0.633692458374143, 0.6222222222222222],\n",
      " ['entropy', 2, 4, 2, 0.633692458374143, 0.6222222222222222],\n",
      " ['entropy', 7, 2, 2, 0.9360920666013712, 0.6222222222222222],\n",
      " ['entropy', 7, 3, 2, 0.9360920666013712, 0.6222222222222222],\n",
      " ['entropy', 7, 4, 2, 0.9360920666013712, 0.6222222222222222],\n",
      " ['gini', None, 3, 2, 0.9995102840352595, 0.6080808080808081],\n",
      " ['gini', None, 4, 2, 0.9992654260528894, 0.6080808080808081],\n",
      " ['gini', 3, 2, 2, 0.7020078354554359, 0.5484848484848485],\n",
      " ['gini', 3, 3, 2, 0.7020078354554359, 0.5484848484848485],\n",
      " ['gini', 3, 4, 2, 0.7020078354554359, 0.5484848484848485],\n",
      " ['entropy', 3, 2, 2, 0.7020078354554359, 0.5484848484848485],\n",
      " ['entropy', 3, 3, 2, 0.7020078354554359, 0.5484848484848485],\n",
      " ['entropy', 3, 4, 2, 0.7020078354554359, 0.5484848484848485],\n",
      " ['gini', 1, 2, 1, 0.5288932419196866, 0.5404040404040404],\n",
      " ['gini', 1, 2, 2, 0.5288932419196866, 0.5404040404040404],\n",
      " ['gini', 1, 3, 1, 0.5288932419196866, 0.5404040404040404],\n",
      " ['gini', 1, 3, 2, 0.5288932419196866, 0.5404040404040404],\n",
      " ['gini', 1, 4, 1, 0.5288932419196866, 0.5404040404040404],\n",
      " ['gini', 1, 4, 2, 0.5288932419196866, 0.5404040404040404],\n",
      " ['entropy', 1, 2, 1, 0.5288932419196866, 0.5404040404040404],\n",
      " ['entropy', 1, 2, 2, 0.5288932419196866, 0.5404040404040404],\n",
      " ['entropy', 1, 3, 1, 0.5288932419196866, 0.5404040404040404],\n",
      " ['entropy', 1, 3, 2, 0.5288932419196866, 0.5404040404040404],\n",
      " ['entropy', 1, 4, 1, 0.5288932419196866, 0.5404040404040404],\n",
      " ['entropy', 1, 4, 2, 0.5288932419196866, 0.5404040404040404]]\n"
     ]
    }
   ],
   "source": [
    "pprint(res_sorted[:1000])"
   ]
  },
  {
   "cell_type": "code",
   "execution_count": 246,
   "metadata": {},
   "outputs": [
    {
     "name": "stdout",
     "output_type": "stream",
     "text": [
      "[['gini', None, 2, 'auto', 1.0, 0.8626262626262626],\n",
      " ['gini', None, 2, 'sqrt', 1.0, 0.8626262626262626],\n",
      " ['gini', None, 2, 'log2', 1.0, 0.8626262626262626],\n",
      " ['gini', None, 2, 3, 1.0, 0.8626262626262626],\n",
      " ['gini', None, 2, 4, 1.0, 0.8626262626262626],\n",
      " ['gini', None, 3, 'auto', 1.0, 0.8626262626262626],\n",
      " ['gini', None, 3, 'sqrt', 1.0, 0.8626262626262626],\n",
      " ['gini', None, 3, 'log2', 1.0, 0.8626262626262626],\n",
      " ['gini', None, 3, 3, 1.0, 0.8626262626262626],\n",
      " ['gini', None, 3, 4, 1.0, 0.8626262626262626],\n",
      " ['gini', None, 4, 'auto', 1.0, 0.8626262626262626],\n",
      " ['gini', None, 4, 'sqrt', 1.0, 0.8626262626262626],\n",
      " ['gini', None, 4, 'log2', 1.0, 0.8626262626262626],\n",
      " ['gini', None, 4, 3, 1.0, 0.8626262626262626],\n",
      " ['gini', None, 4, 4, 1.0, 0.8626262626262626],\n",
      " ['gini', 2, 2, 'auto', 1.0, 0.8626262626262626],\n",
      " ['gini', 2, 2, 'sqrt', 1.0, 0.8626262626262626],\n",
      " ['gini', 2, 2, 'log2', 1.0, 0.8626262626262626],\n",
      " ['gini', 2, 2, 3, 1.0, 0.8626262626262626],\n",
      " ['gini', 2, 2, 4, 1.0, 0.8626262626262626],\n",
      " ['gini', 2, 3, 'auto', 1.0, 0.8626262626262626],\n",
      " ['gini', 2, 3, 'sqrt', 1.0, 0.8626262626262626],\n",
      " ['gini', 2, 3, 'log2', 1.0, 0.8626262626262626],\n",
      " ['gini', 2, 3, 3, 1.0, 0.8626262626262626],\n",
      " ['gini', 2, 3, 4, 1.0, 0.8626262626262626],\n",
      " ['gini', 2, 4, 'auto', 1.0, 0.8626262626262626],\n",
      " ['gini', 2, 4, 'sqrt', 1.0, 0.8626262626262626],\n",
      " ['gini', 2, 4, 'log2', 1.0, 0.8626262626262626],\n",
      " ['gini', 2, 4, 3, 1.0, 0.8626262626262626],\n",
      " ['gini', 2, 4, 4, 1.0, 0.8626262626262626],\n",
      " ['gini', 3, 2, 'auto', 1.0, 0.8626262626262626],\n",
      " ['gini', 3, 2, 'sqrt', 1.0, 0.8626262626262626],\n",
      " ['gini', 3, 2, 'log2', 1.0, 0.8626262626262626],\n",
      " ['gini', 3, 2, 3, 1.0, 0.8626262626262626],\n",
      " ['gini', 3, 2, 4, 1.0, 0.8626262626262626],\n",
      " ['gini', 3, 3, 'auto', 1.0, 0.8626262626262626],\n",
      " ['gini', 3, 3, 'sqrt', 1.0, 0.8626262626262626],\n",
      " ['gini', 3, 3, 'log2', 1.0, 0.8626262626262626],\n",
      " ['gini', 3, 3, 3, 1.0, 0.8626262626262626],\n",
      " ['gini', 3, 3, 4, 1.0, 0.8626262626262626],\n",
      " ['gini', 3, 4, 'auto', 1.0, 0.8626262626262626],\n",
      " ['gini', 3, 4, 'sqrt', 1.0, 0.8626262626262626],\n",
      " ['gini', 3, 4, 'log2', 1.0, 0.8626262626262626],\n",
      " ['gini', 3, 4, 3, 1.0, 0.8626262626262626],\n",
      " ['gini', 3, 4, 4, 1.0, 0.8626262626262626],\n",
      " ['gini', 4, 2, 'auto', 1.0, 0.8626262626262626],\n",
      " ['gini', 4, 2, 'sqrt', 1.0, 0.8626262626262626],\n",
      " ['gini', 4, 2, 'log2', 1.0, 0.8626262626262626],\n",
      " ['gini', 4, 2, 3, 1.0, 0.8626262626262626],\n",
      " ['gini', 4, 2, 4, 1.0, 0.8626262626262626],\n",
      " ['gini', 4, 3, 'auto', 1.0, 0.8626262626262626],\n",
      " ['gini', 4, 3, 'sqrt', 1.0, 0.8626262626262626],\n",
      " ['gini', 4, 3, 'log2', 1.0, 0.8626262626262626],\n",
      " ['gini', 4, 3, 3, 1.0, 0.8626262626262626],\n",
      " ['gini', 4, 3, 4, 1.0, 0.8626262626262626],\n",
      " ['gini', 4, 4, 'auto', 1.0, 0.8626262626262626],\n",
      " ['gini', 4, 4, 'sqrt', 1.0, 0.8626262626262626],\n",
      " ['gini', 4, 4, 'log2', 1.0, 0.8626262626262626],\n",
      " ['gini', 4, 4, 3, 1.0, 0.8626262626262626],\n",
      " ['gini', 4, 4, 4, 1.0, 0.8626262626262626],\n",
      " ['gini', 5, 2, 'auto', 1.0, 0.8626262626262626],\n",
      " ['gini', 5, 2, 'sqrt', 1.0, 0.8626262626262626],\n",
      " ['gini', 5, 2, 'log2', 1.0, 0.8626262626262626],\n",
      " ['gini', 5, 2, 3, 1.0, 0.8626262626262626],\n",
      " ['gini', 5, 2, 4, 1.0, 0.8626262626262626],\n",
      " ['gini', 5, 3, 'auto', 1.0, 0.8626262626262626],\n",
      " ['gini', 5, 3, 'sqrt', 1.0, 0.8626262626262626],\n",
      " ['gini', 5, 3, 'log2', 1.0, 0.8626262626262626],\n",
      " ['gini', 5, 3, 3, 1.0, 0.8626262626262626],\n",
      " ['gini', 5, 3, 4, 1.0, 0.8626262626262626],\n",
      " ['gini', 5, 4, 'auto', 1.0, 0.8626262626262626],\n",
      " ['gini', 5, 4, 'sqrt', 1.0, 0.8626262626262626],\n",
      " ['gini', 5, 4, 'log2', 1.0, 0.8626262626262626],\n",
      " ['gini', 5, 4, 3, 1.0, 0.8626262626262626],\n",
      " ['gini', 5, 4, 4, 1.0, 0.8626262626262626],\n",
      " ['gini', 6, 2, 'auto', 1.0, 0.8626262626262626],\n",
      " ['gini', 6, 2, 'sqrt', 1.0, 0.8626262626262626],\n",
      " ['gini', 6, 2, 'log2', 1.0, 0.8626262626262626],\n",
      " ['gini', 6, 2, 3, 1.0, 0.8626262626262626],\n",
      " ['gini', 6, 2, 4, 1.0, 0.8626262626262626],\n",
      " ['gini', 6, 3, 'auto', 1.0, 0.8626262626262626],\n",
      " ['gini', 6, 3, 'sqrt', 1.0, 0.8626262626262626],\n",
      " ['gini', 6, 3, 'log2', 1.0, 0.8626262626262626],\n",
      " ['gini', 6, 3, 3, 1.0, 0.8626262626262626],\n",
      " ['gini', 6, 3, 4, 1.0, 0.8626262626262626],\n",
      " ['gini', 6, 4, 'auto', 1.0, 0.8626262626262626],\n",
      " ['gini', 6, 4, 'sqrt', 1.0, 0.8626262626262626],\n",
      " ['gini', 6, 4, 'log2', 1.0, 0.8626262626262626],\n",
      " ['gini', 6, 4, 3, 1.0, 0.8626262626262626],\n",
      " ['gini', 6, 4, 4, 1.0, 0.8626262626262626],\n",
      " ['gini', 7, 2, 'auto', 1.0, 0.8626262626262626],\n",
      " ['gini', 7, 2, 'sqrt', 1.0, 0.8626262626262626],\n",
      " ['gini', 7, 2, 'log2', 1.0, 0.8626262626262626],\n",
      " ['gini', 7, 2, 3, 1.0, 0.8626262626262626],\n",
      " ['gini', 7, 2, 4, 1.0, 0.8626262626262626],\n",
      " ['gini', 7, 3, 'auto', 1.0, 0.8626262626262626],\n",
      " ['gini', 7, 3, 'sqrt', 1.0, 0.8626262626262626],\n",
      " ['gini', 7, 3, 'log2', 1.0, 0.8626262626262626],\n",
      " ['gini', 7, 3, 3, 1.0, 0.8626262626262626],\n",
      " ['gini', 7, 3, 4, 1.0, 0.8626262626262626],\n",
      " ['gini', 7, 4, 'auto', 1.0, 0.8626262626262626],\n",
      " ['gini', 7, 4, 'sqrt', 1.0, 0.8626262626262626],\n",
      " ['gini', 7, 4, 'log2', 1.0, 0.8626262626262626],\n",
      " ['gini', 7, 4, 3, 1.0, 0.8626262626262626],\n",
      " ['gini', 7, 4, 4, 1.0, 0.8626262626262626],\n",
      " ['gini', 8, 2, 'auto', 1.0, 0.8626262626262626],\n",
      " ['gini', 8, 2, 'sqrt', 1.0, 0.8626262626262626],\n",
      " ['gini', 8, 2, 'log2', 1.0, 0.8626262626262626],\n",
      " ['gini', 8, 2, 3, 1.0, 0.8626262626262626],\n",
      " ['gini', 8, 2, 4, 1.0, 0.8626262626262626],\n",
      " ['gini', 8, 3, 'auto', 1.0, 0.8626262626262626],\n",
      " ['gini', 8, 3, 'sqrt', 1.0, 0.8626262626262626],\n",
      " ['gini', 8, 3, 'log2', 1.0, 0.8626262626262626],\n",
      " ['gini', 8, 3, 3, 1.0, 0.8626262626262626],\n",
      " ['gini', 8, 3, 4, 1.0, 0.8626262626262626],\n",
      " ['gini', 8, 4, 'auto', 1.0, 0.8626262626262626],\n",
      " ['gini', 8, 4, 'sqrt', 1.0, 0.8626262626262626],\n",
      " ['gini', 8, 4, 'log2', 1.0, 0.8626262626262626],\n",
      " ['gini', 8, 4, 3, 1.0, 0.8626262626262626],\n",
      " ['gini', 8, 4, 4, 1.0, 0.8626262626262626],\n",
      " ['gini', 9, 2, 'auto', 1.0, 0.8626262626262626],\n",
      " ['gini', 9, 2, 'sqrt', 1.0, 0.8626262626262626],\n",
      " ['gini', 9, 2, 'log2', 1.0, 0.8626262626262626],\n",
      " ['gini', 9, 2, 3, 1.0, 0.8626262626262626],\n",
      " ['gini', 9, 2, 4, 1.0, 0.8626262626262626],\n",
      " ['gini', 9, 3, 'auto', 1.0, 0.8626262626262626],\n",
      " ['gini', 9, 3, 'sqrt', 1.0, 0.8626262626262626],\n",
      " ['gini', 9, 3, 'log2', 1.0, 0.8626262626262626],\n",
      " ['gini', 9, 3, 3, 1.0, 0.8626262626262626],\n",
      " ['gini', 9, 3, 4, 1.0, 0.8626262626262626],\n",
      " ['gini', 9, 4, 'auto', 1.0, 0.8626262626262626],\n",
      " ['gini', 9, 4, 'sqrt', 1.0, 0.8626262626262626],\n",
      " ['gini', 9, 4, 'log2', 1.0, 0.8626262626262626],\n",
      " ['gini', 9, 4, 3, 1.0, 0.8626262626262626],\n",
      " ['gini', 9, 4, 4, 1.0, 0.8626262626262626],\n",
      " ['entropy', None, 2, 'auto', 1.0, 0.8626262626262626],\n",
      " ['entropy', None, 2, 'sqrt', 1.0, 0.8626262626262626],\n",
      " ['entropy', None, 2, 'log2', 1.0, 0.8626262626262626],\n",
      " ['entropy', None, 2, 3, 1.0, 0.8626262626262626],\n",
      " ['entropy', None, 2, 4, 1.0, 0.8626262626262626],\n",
      " ['entropy', None, 3, 'auto', 1.0, 0.8626262626262626],\n",
      " ['entropy', None, 3, 'sqrt', 1.0, 0.8626262626262626],\n",
      " ['entropy', None, 3, 'log2', 1.0, 0.8626262626262626],\n",
      " ['entropy', None, 3, 3, 1.0, 0.8626262626262626],\n",
      " ['entropy', None, 3, 4, 1.0, 0.8626262626262626],\n",
      " ['entropy', None, 4, 'auto', 1.0, 0.8626262626262626],\n",
      " ['entropy', None, 4, 'sqrt', 1.0, 0.8626262626262626],\n",
      " ['entropy', None, 4, 'log2', 1.0, 0.8626262626262626],\n",
      " ['entropy', None, 4, 3, 1.0, 0.8626262626262626],\n",
      " ['entropy', None, 4, 4, 1.0, 0.8626262626262626],\n",
      " ['entropy', 2, 2, 'auto', 1.0, 0.8626262626262626],\n",
      " ['entropy', 2, 2, 'sqrt', 1.0, 0.8626262626262626],\n",
      " ['entropy', 2, 2, 'log2', 1.0, 0.8626262626262626],\n",
      " ['entropy', 2, 2, 3, 1.0, 0.8626262626262626],\n",
      " ['entropy', 2, 2, 4, 1.0, 0.8626262626262626],\n",
      " ['entropy', 2, 3, 'auto', 1.0, 0.8626262626262626],\n",
      " ['entropy', 2, 3, 'sqrt', 1.0, 0.8626262626262626],\n",
      " ['entropy', 2, 3, 'log2', 1.0, 0.8626262626262626],\n",
      " ['entropy', 2, 3, 3, 1.0, 0.8626262626262626],\n",
      " ['entropy', 2, 3, 4, 1.0, 0.8626262626262626],\n",
      " ['entropy', 2, 4, 'auto', 1.0, 0.8626262626262626],\n",
      " ['entropy', 2, 4, 'sqrt', 1.0, 0.8626262626262626],\n",
      " ['entropy', 2, 4, 'log2', 1.0, 0.8626262626262626],\n",
      " ['entropy', 2, 4, 3, 1.0, 0.8626262626262626],\n",
      " ['entropy', 2, 4, 4, 1.0, 0.8626262626262626],\n",
      " ['entropy', 3, 2, 'auto', 1.0, 0.8626262626262626],\n",
      " ['entropy', 3, 2, 'sqrt', 1.0, 0.8626262626262626],\n",
      " ['entropy', 3, 2, 'log2', 1.0, 0.8626262626262626],\n",
      " ['entropy', 3, 2, 3, 1.0, 0.8626262626262626],\n",
      " ['entropy', 3, 2, 4, 1.0, 0.8626262626262626],\n",
      " ['entropy', 3, 3, 'auto', 1.0, 0.8626262626262626],\n",
      " ['entropy', 3, 3, 'sqrt', 1.0, 0.8626262626262626],\n",
      " ['entropy', 3, 3, 'log2', 1.0, 0.8626262626262626],\n",
      " ['entropy', 3, 3, 3, 1.0, 0.8626262626262626],\n",
      " ['entropy', 3, 3, 4, 1.0, 0.8626262626262626],\n",
      " ['entropy', 3, 4, 'auto', 1.0, 0.8626262626262626],\n",
      " ['entropy', 3, 4, 'sqrt', 1.0, 0.8626262626262626],\n",
      " ['entropy', 3, 4, 'log2', 1.0, 0.8626262626262626],\n",
      " ['entropy', 3, 4, 3, 1.0, 0.8626262626262626],\n",
      " ['entropy', 3, 4, 4, 1.0, 0.8626262626262626],\n",
      " ['entropy', 4, 2, 'auto', 1.0, 0.8626262626262626],\n",
      " ['entropy', 4, 2, 'sqrt', 1.0, 0.8626262626262626],\n",
      " ['entropy', 4, 2, 'log2', 1.0, 0.8626262626262626],\n",
      " ['entropy', 4, 2, 3, 1.0, 0.8626262626262626],\n",
      " ['entropy', 4, 2, 4, 1.0, 0.8626262626262626],\n",
      " ['entropy', 4, 3, 'auto', 1.0, 0.8626262626262626],\n",
      " ['entropy', 4, 3, 'sqrt', 1.0, 0.8626262626262626],\n",
      " ['entropy', 4, 3, 'log2', 1.0, 0.8626262626262626],\n",
      " ['entropy', 4, 3, 3, 1.0, 0.8626262626262626],\n",
      " ['entropy', 4, 3, 4, 1.0, 0.8626262626262626],\n",
      " ['entropy', 4, 4, 'auto', 1.0, 0.8626262626262626],\n",
      " ['entropy', 4, 4, 'sqrt', 1.0, 0.8626262626262626],\n",
      " ['entropy', 4, 4, 'log2', 1.0, 0.8626262626262626],\n",
      " ['entropy', 4, 4, 3, 1.0, 0.8626262626262626],\n",
      " ['entropy', 4, 4, 4, 1.0, 0.8626262626262626],\n",
      " ['entropy', 5, 2, 'auto', 1.0, 0.8626262626262626],\n",
      " ['entropy', 5, 2, 'sqrt', 1.0, 0.8626262626262626],\n",
      " ['entropy', 5, 2, 'log2', 1.0, 0.8626262626262626],\n",
      " ['entropy', 5, 2, 3, 1.0, 0.8626262626262626],\n",
      " ['entropy', 5, 2, 4, 1.0, 0.8626262626262626],\n",
      " ['entropy', 5, 3, 'auto', 1.0, 0.8626262626262626],\n",
      " ['entropy', 5, 3, 'sqrt', 1.0, 0.8626262626262626],\n",
      " ['entropy', 5, 3, 'log2', 1.0, 0.8626262626262626],\n",
      " ['entropy', 5, 3, 3, 1.0, 0.8626262626262626],\n",
      " ['entropy', 5, 3, 4, 1.0, 0.8626262626262626],\n",
      " ['entropy', 5, 4, 'auto', 1.0, 0.8626262626262626],\n",
      " ['entropy', 5, 4, 'sqrt', 1.0, 0.8626262626262626],\n",
      " ['entropy', 5, 4, 'log2', 1.0, 0.8626262626262626],\n",
      " ['entropy', 5, 4, 3, 1.0, 0.8626262626262626],\n",
      " ['entropy', 5, 4, 4, 1.0, 0.8626262626262626],\n",
      " ['entropy', 6, 2, 'auto', 1.0, 0.8626262626262626],\n",
      " ['entropy', 6, 2, 'sqrt', 1.0, 0.8626262626262626],\n",
      " ['entropy', 6, 2, 'log2', 1.0, 0.8626262626262626],\n",
      " ['entropy', 6, 2, 3, 1.0, 0.8626262626262626],\n",
      " ['entropy', 6, 2, 4, 1.0, 0.8626262626262626],\n",
      " ['entropy', 6, 3, 'auto', 1.0, 0.8626262626262626],\n",
      " ['entropy', 6, 3, 'sqrt', 1.0, 0.8626262626262626],\n",
      " ['entropy', 6, 3, 'log2', 1.0, 0.8626262626262626],\n",
      " ['entropy', 6, 3, 3, 1.0, 0.8626262626262626],\n",
      " ['entropy', 6, 3, 4, 1.0, 0.8626262626262626],\n",
      " ['entropy', 6, 4, 'auto', 1.0, 0.8626262626262626],\n",
      " ['entropy', 6, 4, 'sqrt', 1.0, 0.8626262626262626],\n",
      " ['entropy', 6, 4, 'log2', 1.0, 0.8626262626262626],\n",
      " ['entropy', 6, 4, 3, 1.0, 0.8626262626262626],\n",
      " ['entropy', 6, 4, 4, 1.0, 0.8626262626262626],\n",
      " ['entropy', 7, 2, 'auto', 1.0, 0.8626262626262626],\n",
      " ['entropy', 7, 2, 'sqrt', 1.0, 0.8626262626262626],\n",
      " ['entropy', 7, 2, 'log2', 1.0, 0.8626262626262626],\n",
      " ['entropy', 7, 2, 3, 1.0, 0.8626262626262626],\n",
      " ['entropy', 7, 2, 4, 1.0, 0.8626262626262626],\n",
      " ['entropy', 7, 3, 'auto', 1.0, 0.8626262626262626],\n",
      " ['entropy', 7, 3, 'sqrt', 1.0, 0.8626262626262626],\n",
      " ['entropy', 7, 3, 'log2', 1.0, 0.8626262626262626],\n",
      " ['entropy', 7, 3, 3, 1.0, 0.8626262626262626],\n",
      " ['entropy', 7, 3, 4, 1.0, 0.8626262626262626],\n",
      " ['entropy', 7, 4, 'auto', 1.0, 0.8626262626262626],\n",
      " ['entropy', 7, 4, 'sqrt', 1.0, 0.8626262626262626],\n",
      " ['entropy', 7, 4, 'log2', 1.0, 0.8626262626262626],\n",
      " ['entropy', 7, 4, 3, 1.0, 0.8626262626262626],\n",
      " ['entropy', 7, 4, 4, 1.0, 0.8626262626262626],\n",
      " ['entropy', 8, 2, 'auto', 1.0, 0.8626262626262626],\n",
      " ['entropy', 8, 2, 'sqrt', 1.0, 0.8626262626262626],\n",
      " ['entropy', 8, 2, 'log2', 1.0, 0.8626262626262626],\n",
      " ['entropy', 8, 2, 3, 1.0, 0.8626262626262626],\n",
      " ['entropy', 8, 2, 4, 1.0, 0.8626262626262626],\n",
      " ['entropy', 8, 3, 'auto', 1.0, 0.8626262626262626],\n",
      " ['entropy', 8, 3, 'sqrt', 1.0, 0.8626262626262626],\n",
      " ['entropy', 8, 3, 'log2', 1.0, 0.8626262626262626],\n",
      " ['entropy', 8, 3, 3, 1.0, 0.8626262626262626],\n",
      " ['entropy', 8, 3, 4, 1.0, 0.8626262626262626],\n",
      " ['entropy', 8, 4, 'auto', 1.0, 0.8626262626262626],\n",
      " ['entropy', 8, 4, 'sqrt', 1.0, 0.8626262626262626],\n",
      " ['entropy', 8, 4, 'log2', 1.0, 0.8626262626262626],\n",
      " ['entropy', 8, 4, 3, 1.0, 0.8626262626262626],\n",
      " ['entropy', 8, 4, 4, 1.0, 0.8626262626262626],\n",
      " ['entropy', 9, 2, 'auto', 1.0, 0.8626262626262626],\n",
      " ['entropy', 9, 2, 'sqrt', 1.0, 0.8626262626262626],\n",
      " ['entropy', 9, 2, 'log2', 1.0, 0.8626262626262626],\n",
      " ['entropy', 9, 2, 3, 1.0, 0.8626262626262626],\n",
      " ['entropy', 9, 2, 4, 1.0, 0.8626262626262626],\n",
      " ['entropy', 9, 3, 'auto', 1.0, 0.8626262626262626],\n",
      " ['entropy', 9, 3, 'sqrt', 1.0, 0.8626262626262626],\n",
      " ['entropy', 9, 3, 'log2', 1.0, 0.8626262626262626],\n",
      " ['entropy', 9, 3, 3, 1.0, 0.8626262626262626],\n",
      " ['entropy', 9, 3, 4, 1.0, 0.8626262626262626],\n",
      " ['entropy', 9, 4, 'auto', 1.0, 0.8626262626262626],\n",
      " ['entropy', 9, 4, 'sqrt', 1.0, 0.8626262626262626],\n",
      " ['entropy', 9, 4, 'log2', 1.0, 0.8626262626262626],\n",
      " ['entropy', 9, 4, 3, 1.0, 0.8626262626262626],\n",
      " ['entropy', 9, 4, 4, 1.0, 0.8626262626262626],\n",
      " ['gini', 1, 2, 'auto', 0.9622918707149853, 0.8363636363636363],\n",
      " ['gini', 1, 2, 'sqrt', 0.9622918707149853, 0.8363636363636363],\n",
      " ['gini', 1, 2, 'log2', 0.9622918707149853, 0.8363636363636363],\n",
      " ['gini', 1, 2, 3, 0.9622918707149853, 0.8363636363636363],\n",
      " ['gini', 1, 2, 4, 0.9622918707149853, 0.8363636363636363],\n",
      " ['gini', 1, 3, 'auto', 0.9622918707149853, 0.8363636363636363],\n",
      " ['gini', 1, 3, 'sqrt', 0.9622918707149853, 0.8363636363636363],\n",
      " ['gini', 1, 3, 'log2', 0.9622918707149853, 0.8363636363636363],\n",
      " ['gini', 1, 3, 3, 0.9622918707149853, 0.8363636363636363],\n",
      " ['gini', 1, 3, 4, 0.9622918707149853, 0.8363636363636363],\n",
      " ['gini', 1, 4, 'auto', 0.9622918707149853, 0.8363636363636363],\n",
      " ['gini', 1, 4, 'sqrt', 0.9622918707149853, 0.8363636363636363],\n",
      " ['gini', 1, 4, 'log2', 0.9622918707149853, 0.8363636363636363],\n",
      " ['gini', 1, 4, 3, 0.9622918707149853, 0.8363636363636363],\n",
      " ['gini', 1, 4, 4, 0.9622918707149853, 0.8363636363636363],\n",
      " ['entropy', 1, 2, 'auto', 0.9622918707149853, 0.8363636363636363],\n",
      " ['entropy', 1, 2, 'sqrt', 0.9622918707149853, 0.8363636363636363],\n",
      " ['entropy', 1, 2, 'log2', 0.9622918707149853, 0.8363636363636363],\n",
      " ['entropy', 1, 2, 3, 0.9622918707149853, 0.8363636363636363],\n",
      " ['entropy', 1, 2, 4, 0.9622918707149853, 0.8363636363636363],\n",
      " ['entropy', 1, 3, 'auto', 0.9622918707149853, 0.8363636363636363],\n",
      " ['entropy', 1, 3, 'sqrt', 0.9622918707149853, 0.8363636363636363],\n",
      " ['entropy', 1, 3, 'log2', 0.9622918707149853, 0.8363636363636363],\n",
      " ['entropy', 1, 3, 3, 0.9622918707149853, 0.8363636363636363],\n",
      " ['entropy', 1, 3, 4, 0.9622918707149853, 0.8363636363636363],\n",
      " ['entropy', 1, 4, 'auto', 0.9622918707149853, 0.8363636363636363],\n",
      " ['entropy', 1, 4, 'sqrt', 0.9622918707149853, 0.8363636363636363],\n",
      " ['entropy', 1, 4, 'log2', 0.9622918707149853, 0.8363636363636363],\n",
      " ['entropy', 1, 4, 3, 0.9622918707149853, 0.8363636363636363],\n",
      " ['entropy', 1, 4, 4, 0.9622918707149853, 0.8363636363636363],\n",
      " ['gini', 2, 2, 1, 0.9622918707149853, 0.8353535353535354],\n",
      " ['gini', 2, 3, 1, 0.9622918707149853, 0.8353535353535354],\n",
      " ['gini', 2, 4, 1, 0.9622918707149853, 0.8353535353535354],\n",
      " ['gini', 3, 2, 1, 0.9622918707149853, 0.8353535353535354],\n",
      " ['gini', 3, 3, 1, 0.9622918707149853, 0.8353535353535354],\n",
      " ['gini', 3, 4, 1, 0.9622918707149853, 0.8353535353535354],\n",
      " ['entropy', 2, 2, 1, 0.9622918707149853, 0.8353535353535354],\n",
      " ['entropy', 2, 3, 1, 0.9622918707149853, 0.8353535353535354],\n",
      " ['entropy', 2, 4, 1, 0.9622918707149853, 0.8353535353535354],\n",
      " ['entropy', 3, 2, 1, 0.9622918707149853, 0.8353535353535354],\n",
      " ['entropy', 3, 3, 1, 0.9622918707149853, 0.8353535353535354],\n",
      " ['entropy', 3, 4, 1, 0.9622918707149853, 0.8353535353535354],\n",
      " ['gini', None, 2, None, 1.0, 0.8343434343434344],\n",
      " ['gini', None, 2, 5, 1.0, 0.8343434343434344],\n",
      " ['gini', None, 2, 6, 1.0, 0.8343434343434344],\n",
      " ['gini', None, 2, 7, 1.0, 0.8343434343434344],\n",
      " ['gini', None, 2, 8, 1.0, 0.8343434343434344],\n",
      " ['gini', None, 2, 9, 1.0, 0.8343434343434344],\n",
      " ['gini', None, 3, None, 1.0, 0.8343434343434344],\n",
      " ['gini', None, 3, 5, 1.0, 0.8343434343434344],\n",
      " ['gini', None, 3, 6, 1.0, 0.8343434343434344],\n",
      " ['gini', None, 3, 7, 1.0, 0.8343434343434344],\n",
      " ['gini', None, 3, 8, 1.0, 0.8343434343434344],\n",
      " ['gini', None, 3, 9, 1.0, 0.8343434343434344],\n",
      " ['gini', None, 4, None, 1.0, 0.8343434343434344],\n",
      " ['gini', None, 4, 5, 1.0, 0.8343434343434344],\n",
      " ['gini', None, 4, 6, 1.0, 0.8343434343434344],\n",
      " ['gini', None, 4, 7, 1.0, 0.8343434343434344],\n",
      " ['gini', None, 4, 8, 1.0, 0.8343434343434344],\n",
      " ['gini', None, 4, 9, 1.0, 0.8343434343434344],\n",
      " ['gini', 1, 2, None, 1.0, 0.8343434343434344],\n",
      " ['gini', 1, 2, 5, 1.0, 0.8343434343434344],\n",
      " ['gini', 1, 2, 6, 1.0, 0.8343434343434344],\n",
      " ['gini', 1, 2, 7, 1.0, 0.8343434343434344],\n",
      " ['gini', 1, 2, 8, 1.0, 0.8343434343434344],\n",
      " ['gini', 1, 2, 9, 1.0, 0.8343434343434344],\n",
      " ['gini', 1, 3, None, 1.0, 0.8343434343434344],\n",
      " ['gini', 1, 3, 5, 1.0, 0.8343434343434344],\n",
      " ['gini', 1, 3, 6, 1.0, 0.8343434343434344],\n",
      " ['gini', 1, 3, 7, 1.0, 0.8343434343434344],\n",
      " ['gini', 1, 3, 8, 1.0, 0.8343434343434344],\n",
      " ['gini', 1, 3, 9, 1.0, 0.8343434343434344],\n",
      " ['gini', 1, 4, None, 1.0, 0.8343434343434344],\n",
      " ['gini', 1, 4, 5, 1.0, 0.8343434343434344],\n",
      " ['gini', 1, 4, 6, 1.0, 0.8343434343434344],\n",
      " ['gini', 1, 4, 7, 1.0, 0.8343434343434344],\n",
      " ['gini', 1, 4, 8, 1.0, 0.8343434343434344],\n",
      " ['gini', 1, 4, 9, 1.0, 0.8343434343434344],\n",
      " ['gini', 2, 2, None, 1.0, 0.8343434343434344],\n",
      " ['gini', 2, 2, 5, 1.0, 0.8343434343434344],\n",
      " ['gini', 2, 2, 6, 1.0, 0.8343434343434344],\n",
      " ['gini', 2, 2, 7, 1.0, 0.8343434343434344],\n",
      " ['gini', 2, 2, 8, 1.0, 0.8343434343434344],\n",
      " ['gini', 2, 2, 9, 1.0, 0.8343434343434344],\n",
      " ['gini', 2, 3, None, 1.0, 0.8343434343434344],\n",
      " ['gini', 2, 3, 5, 1.0, 0.8343434343434344],\n",
      " ['gini', 2, 3, 6, 1.0, 0.8343434343434344],\n",
      " ['gini', 2, 3, 7, 1.0, 0.8343434343434344],\n",
      " ['gini', 2, 3, 8, 1.0, 0.8343434343434344],\n",
      " ['gini', 2, 3, 9, 1.0, 0.8343434343434344],\n",
      " ['gini', 2, 4, None, 1.0, 0.8343434343434344],\n",
      " ['gini', 2, 4, 5, 1.0, 0.8343434343434344],\n",
      " ['gini', 2, 4, 6, 1.0, 0.8343434343434344],\n",
      " ['gini', 2, 4, 7, 1.0, 0.8343434343434344],\n",
      " ['gini', 2, 4, 8, 1.0, 0.8343434343434344],\n",
      " ['gini', 2, 4, 9, 1.0, 0.8343434343434344],\n",
      " ['gini', 3, 2, None, 1.0, 0.8343434343434344],\n",
      " ['gini', 3, 2, 5, 1.0, 0.8343434343434344],\n",
      " ['gini', 3, 2, 6, 1.0, 0.8343434343434344],\n",
      " ['gini', 3, 2, 7, 1.0, 0.8343434343434344],\n",
      " ['gini', 3, 2, 8, 1.0, 0.8343434343434344],\n",
      " ['gini', 3, 2, 9, 1.0, 0.8343434343434344],\n",
      " ['gini', 3, 3, None, 1.0, 0.8343434343434344],\n",
      " ['gini', 3, 3, 5, 1.0, 0.8343434343434344],\n",
      " ['gini', 3, 3, 6, 1.0, 0.8343434343434344],\n",
      " ['gini', 3, 3, 7, 1.0, 0.8343434343434344],\n",
      " ['gini', 3, 3, 8, 1.0, 0.8343434343434344],\n",
      " ['gini', 3, 3, 9, 1.0, 0.8343434343434344],\n",
      " ['gini', 3, 4, None, 1.0, 0.8343434343434344],\n",
      " ['gini', 3, 4, 5, 1.0, 0.8343434343434344],\n",
      " ['gini', 3, 4, 6, 1.0, 0.8343434343434344],\n",
      " ['gini', 3, 4, 7, 1.0, 0.8343434343434344],\n",
      " ['gini', 3, 4, 8, 1.0, 0.8343434343434344],\n",
      " ['gini', 3, 4, 9, 1.0, 0.8343434343434344],\n",
      " ['gini', 4, 2, None, 1.0, 0.8343434343434344],\n",
      " ['gini', 4, 2, 5, 1.0, 0.8343434343434344],\n",
      " ['gini', 4, 2, 6, 1.0, 0.8343434343434344],\n",
      " ['gini', 4, 2, 7, 1.0, 0.8343434343434344],\n",
      " ['gini', 4, 2, 8, 1.0, 0.8343434343434344],\n",
      " ['gini', 4, 2, 9, 1.0, 0.8343434343434344],\n",
      " ['gini', 4, 3, None, 1.0, 0.8343434343434344],\n",
      " ['gini', 4, 3, 5, 1.0, 0.8343434343434344],\n",
      " ['gini', 4, 3, 6, 1.0, 0.8343434343434344],\n",
      " ['gini', 4, 3, 7, 1.0, 0.8343434343434344],\n",
      " ['gini', 4, 3, 8, 1.0, 0.8343434343434344],\n",
      " ['gini', 4, 3, 9, 1.0, 0.8343434343434344],\n",
      " ['gini', 4, 4, None, 1.0, 0.8343434343434344],\n",
      " ['gini', 4, 4, 5, 1.0, 0.8343434343434344],\n",
      " ['gini', 4, 4, 6, 1.0, 0.8343434343434344],\n",
      " ['gini', 4, 4, 7, 1.0, 0.8343434343434344],\n",
      " ['gini', 4, 4, 8, 1.0, 0.8343434343434344],\n",
      " ['gini', 4, 4, 9, 1.0, 0.8343434343434344],\n",
      " ['gini', 5, 2, None, 1.0, 0.8343434343434344],\n",
      " ['gini', 5, 2, 5, 1.0, 0.8343434343434344],\n",
      " ['gini', 5, 2, 6, 1.0, 0.8343434343434344],\n",
      " ['gini', 5, 2, 7, 1.0, 0.8343434343434344],\n",
      " ['gini', 5, 2, 8, 1.0, 0.8343434343434344],\n",
      " ['gini', 5, 2, 9, 1.0, 0.8343434343434344],\n",
      " ['gini', 5, 3, None, 1.0, 0.8343434343434344],\n",
      " ['gini', 5, 3, 5, 1.0, 0.8343434343434344],\n",
      " ['gini', 5, 3, 6, 1.0, 0.8343434343434344],\n",
      " ['gini', 5, 3, 7, 1.0, 0.8343434343434344],\n",
      " ['gini', 5, 3, 8, 1.0, 0.8343434343434344],\n",
      " ['gini', 5, 3, 9, 1.0, 0.8343434343434344],\n",
      " ['gini', 5, 4, None, 1.0, 0.8343434343434344],\n",
      " ['gini', 5, 4, 5, 1.0, 0.8343434343434344],\n",
      " ['gini', 5, 4, 6, 1.0, 0.8343434343434344],\n",
      " ['gini', 5, 4, 7, 1.0, 0.8343434343434344],\n",
      " ['gini', 5, 4, 8, 1.0, 0.8343434343434344],\n",
      " ['gini', 5, 4, 9, 1.0, 0.8343434343434344],\n",
      " ['gini', 6, 2, None, 1.0, 0.8343434343434344],\n",
      " ['gini', 6, 2, 5, 1.0, 0.8343434343434344],\n",
      " ['gini', 6, 2, 6, 1.0, 0.8343434343434344],\n",
      " ['gini', 6, 2, 7, 1.0, 0.8343434343434344],\n",
      " ['gini', 6, 2, 8, 1.0, 0.8343434343434344],\n",
      " ['gini', 6, 2, 9, 1.0, 0.8343434343434344],\n",
      " ['gini', 6, 3, None, 1.0, 0.8343434343434344],\n",
      " ['gini', 6, 3, 5, 1.0, 0.8343434343434344],\n",
      " ['gini', 6, 3, 6, 1.0, 0.8343434343434344],\n",
      " ['gini', 6, 3, 7, 1.0, 0.8343434343434344],\n",
      " ['gini', 6, 3, 8, 1.0, 0.8343434343434344],\n",
      " ['gini', 6, 3, 9, 1.0, 0.8343434343434344],\n",
      " ['gini', 6, 4, None, 1.0, 0.8343434343434344],\n",
      " ['gini', 6, 4, 5, 1.0, 0.8343434343434344],\n",
      " ['gini', 6, 4, 6, 1.0, 0.8343434343434344],\n",
      " ['gini', 6, 4, 7, 1.0, 0.8343434343434344],\n",
      " ['gini', 6, 4, 8, 1.0, 0.8343434343434344],\n",
      " ['gini', 6, 4, 9, 1.0, 0.8343434343434344],\n",
      " ['gini', 7, 2, None, 1.0, 0.8343434343434344],\n",
      " ['gini', 7, 2, 5, 1.0, 0.8343434343434344],\n",
      " ['gini', 7, 2, 6, 1.0, 0.8343434343434344],\n",
      " ['gini', 7, 2, 7, 1.0, 0.8343434343434344],\n",
      " ['gini', 7, 2, 8, 1.0, 0.8343434343434344],\n",
      " ['gini', 7, 2, 9, 1.0, 0.8343434343434344],\n",
      " ['gini', 7, 3, None, 1.0, 0.8343434343434344],\n",
      " ['gini', 7, 3, 5, 1.0, 0.8343434343434344],\n",
      " ['gini', 7, 3, 6, 1.0, 0.8343434343434344],\n",
      " ['gini', 7, 3, 7, 1.0, 0.8343434343434344],\n",
      " ['gini', 7, 3, 8, 1.0, 0.8343434343434344],\n",
      " ['gini', 7, 3, 9, 1.0, 0.8343434343434344],\n",
      " ['gini', 7, 4, None, 1.0, 0.8343434343434344],\n",
      " ['gini', 7, 4, 5, 1.0, 0.8343434343434344],\n",
      " ['gini', 7, 4, 6, 1.0, 0.8343434343434344],\n",
      " ['gini', 7, 4, 7, 1.0, 0.8343434343434344],\n",
      " ['gini', 7, 4, 8, 1.0, 0.8343434343434344],\n",
      " ['gini', 7, 4, 9, 1.0, 0.8343434343434344],\n",
      " ['gini', 8, 2, None, 1.0, 0.8343434343434344],\n",
      " ['gini', 8, 2, 5, 1.0, 0.8343434343434344],\n",
      " ['gini', 8, 2, 6, 1.0, 0.8343434343434344],\n",
      " ['gini', 8, 2, 7, 1.0, 0.8343434343434344],\n",
      " ['gini', 8, 2, 8, 1.0, 0.8343434343434344],\n",
      " ['gini', 8, 2, 9, 1.0, 0.8343434343434344],\n",
      " ['gini', 8, 3, None, 1.0, 0.8343434343434344],\n",
      " ['gini', 8, 3, 5, 1.0, 0.8343434343434344],\n",
      " ['gini', 8, 3, 6, 1.0, 0.8343434343434344],\n",
      " ['gini', 8, 3, 7, 1.0, 0.8343434343434344],\n",
      " ['gini', 8, 3, 8, 1.0, 0.8343434343434344],\n",
      " ['gini', 8, 3, 9, 1.0, 0.8343434343434344],\n",
      " ['gini', 8, 4, None, 1.0, 0.8343434343434344],\n",
      " ['gini', 8, 4, 5, 1.0, 0.8343434343434344],\n",
      " ['gini', 8, 4, 6, 1.0, 0.8343434343434344],\n",
      " ['gini', 8, 4, 7, 1.0, 0.8343434343434344],\n",
      " ['gini', 8, 4, 8, 1.0, 0.8343434343434344],\n",
      " ['gini', 8, 4, 9, 1.0, 0.8343434343434344],\n",
      " ['gini', 9, 2, None, 1.0, 0.8343434343434344],\n",
      " ['gini', 9, 2, 5, 1.0, 0.8343434343434344],\n",
      " ['gini', 9, 2, 6, 1.0, 0.8343434343434344],\n",
      " ['gini', 9, 2, 7, 1.0, 0.8343434343434344],\n",
      " ['gini', 9, 2, 8, 1.0, 0.8343434343434344],\n",
      " ['gini', 9, 2, 9, 1.0, 0.8343434343434344],\n",
      " ['gini', 9, 3, None, 1.0, 0.8343434343434344],\n",
      " ['gini', 9, 3, 5, 1.0, 0.8343434343434344],\n",
      " ['gini', 9, 3, 6, 1.0, 0.8343434343434344],\n",
      " ['gini', 9, 3, 7, 1.0, 0.8343434343434344],\n",
      " ['gini', 9, 3, 8, 1.0, 0.8343434343434344],\n",
      " ['gini', 9, 3, 9, 1.0, 0.8343434343434344],\n",
      " ['gini', 9, 4, None, 1.0, 0.8343434343434344],\n",
      " ['gini', 9, 4, 5, 1.0, 0.8343434343434344],\n",
      " ['gini', 9, 4, 6, 1.0, 0.8343434343434344],\n",
      " ['gini', 9, 4, 7, 1.0, 0.8343434343434344],\n",
      " ['gini', 9, 4, 8, 1.0, 0.8343434343434344],\n",
      " ['gini', 9, 4, 9, 1.0, 0.8343434343434344],\n",
      " ['entropy', None, 2, None, 1.0, 0.8343434343434344],\n",
      " ['entropy', None, 2, 5, 1.0, 0.8343434343434344],\n",
      " ['entropy', None, 2, 6, 1.0, 0.8343434343434344],\n",
      " ['entropy', None, 2, 7, 1.0, 0.8343434343434344],\n",
      " ['entropy', None, 2, 8, 1.0, 0.8343434343434344],\n",
      " ['entropy', None, 2, 9, 1.0, 0.8343434343434344],\n",
      " ['entropy', None, 3, None, 1.0, 0.8343434343434344],\n",
      " ['entropy', None, 3, 5, 1.0, 0.8343434343434344],\n",
      " ['entropy', None, 3, 6, 1.0, 0.8343434343434344],\n",
      " ['entropy', None, 3, 7, 1.0, 0.8343434343434344],\n",
      " ['entropy', None, 3, 8, 1.0, 0.8343434343434344],\n",
      " ['entropy', None, 3, 9, 1.0, 0.8343434343434344],\n",
      " ['entropy', None, 4, None, 1.0, 0.8343434343434344],\n",
      " ['entropy', None, 4, 5, 1.0, 0.8343434343434344],\n",
      " ['entropy', None, 4, 6, 1.0, 0.8343434343434344],\n",
      " ['entropy', None, 4, 7, 1.0, 0.8343434343434344],\n",
      " ['entropy', None, 4, 8, 1.0, 0.8343434343434344],\n",
      " ['entropy', None, 4, 9, 1.0, 0.8343434343434344],\n",
      " ['entropy', 1, 2, None, 1.0, 0.8343434343434344],\n",
      " ['entropy', 1, 2, 5, 1.0, 0.8343434343434344],\n",
      " ['entropy', 1, 2, 6, 1.0, 0.8343434343434344],\n",
      " ['entropy', 1, 2, 7, 1.0, 0.8343434343434344],\n",
      " ['entropy', 1, 2, 8, 1.0, 0.8343434343434344],\n",
      " ['entropy', 1, 2, 9, 1.0, 0.8343434343434344],\n",
      " ['entropy', 1, 3, None, 1.0, 0.8343434343434344],\n",
      " ['entropy', 1, 3, 5, 1.0, 0.8343434343434344],\n",
      " ['entropy', 1, 3, 6, 1.0, 0.8343434343434344],\n",
      " ['entropy', 1, 3, 7, 1.0, 0.8343434343434344],\n",
      " ['entropy', 1, 3, 8, 1.0, 0.8343434343434344],\n",
      " ['entropy', 1, 3, 9, 1.0, 0.8343434343434344],\n",
      " ['entropy', 1, 4, None, 1.0, 0.8343434343434344],\n",
      " ['entropy', 1, 4, 5, 1.0, 0.8343434343434344],\n",
      " ['entropy', 1, 4, 6, 1.0, 0.8343434343434344],\n",
      " ['entropy', 1, 4, 7, 1.0, 0.8343434343434344],\n",
      " ['entropy', 1, 4, 8, 1.0, 0.8343434343434344],\n",
      " ['entropy', 1, 4, 9, 1.0, 0.8343434343434344],\n",
      " ['entropy', 2, 2, None, 1.0, 0.8343434343434344],\n",
      " ['entropy', 2, 2, 5, 1.0, 0.8343434343434344],\n",
      " ['entropy', 2, 2, 6, 1.0, 0.8343434343434344],\n",
      " ['entropy', 2, 2, 7, 1.0, 0.8343434343434344],\n",
      " ['entropy', 2, 2, 8, 1.0, 0.8343434343434344],\n",
      " ['entropy', 2, 2, 9, 1.0, 0.8343434343434344],\n",
      " ['entropy', 2, 3, None, 1.0, 0.8343434343434344],\n",
      " ['entropy', 2, 3, 5, 1.0, 0.8343434343434344],\n",
      " ['entropy', 2, 3, 6, 1.0, 0.8343434343434344],\n",
      " ['entropy', 2, 3, 7, 1.0, 0.8343434343434344],\n",
      " ['entropy', 2, 3, 8, 1.0, 0.8343434343434344],\n",
      " ['entropy', 2, 3, 9, 1.0, 0.8343434343434344],\n",
      " ['entropy', 2, 4, None, 1.0, 0.8343434343434344],\n",
      " ['entropy', 2, 4, 5, 1.0, 0.8343434343434344],\n",
      " ['entropy', 2, 4, 6, 1.0, 0.8343434343434344],\n",
      " ['entropy', 2, 4, 7, 1.0, 0.8343434343434344],\n",
      " ['entropy', 2, 4, 8, 1.0, 0.8343434343434344],\n",
      " ['entropy', 2, 4, 9, 1.0, 0.8343434343434344],\n",
      " ['entropy', 3, 2, None, 1.0, 0.8343434343434344],\n",
      " ['entropy', 3, 2, 5, 1.0, 0.8343434343434344],\n",
      " ['entropy', 3, 2, 6, 1.0, 0.8343434343434344],\n",
      " ['entropy', 3, 2, 7, 1.0, 0.8343434343434344],\n",
      " ['entropy', 3, 2, 8, 1.0, 0.8343434343434344],\n",
      " ['entropy', 3, 2, 9, 1.0, 0.8343434343434344],\n",
      " ['entropy', 3, 3, None, 1.0, 0.8343434343434344],\n",
      " ['entropy', 3, 3, 5, 1.0, 0.8343434343434344],\n",
      " ['entropy', 3, 3, 6, 1.0, 0.8343434343434344],\n",
      " ['entropy', 3, 3, 7, 1.0, 0.8343434343434344],\n",
      " ['entropy', 3, 3, 8, 1.0, 0.8343434343434344],\n",
      " ['entropy', 3, 3, 9, 1.0, 0.8343434343434344],\n",
      " ['entropy', 3, 4, None, 1.0, 0.8343434343434344],\n",
      " ['entropy', 3, 4, 5, 1.0, 0.8343434343434344],\n",
      " ['entropy', 3, 4, 6, 1.0, 0.8343434343434344],\n",
      " ['entropy', 3, 4, 7, 1.0, 0.8343434343434344],\n",
      " ['entropy', 3, 4, 8, 1.0, 0.8343434343434344],\n",
      " ['entropy', 3, 4, 9, 1.0, 0.8343434343434344],\n",
      " ['entropy', 4, 2, None, 1.0, 0.8343434343434344],\n",
      " ['entropy', 4, 2, 5, 1.0, 0.8343434343434344],\n",
      " ['entropy', 4, 2, 6, 1.0, 0.8343434343434344],\n",
      " ['entropy', 4, 2, 7, 1.0, 0.8343434343434344],\n",
      " ['entropy', 4, 2, 8, 1.0, 0.8343434343434344],\n",
      " ['entropy', 4, 2, 9, 1.0, 0.8343434343434344],\n",
      " ['entropy', 4, 3, None, 1.0, 0.8343434343434344],\n",
      " ['entropy', 4, 3, 5, 1.0, 0.8343434343434344],\n",
      " ['entropy', 4, 3, 6, 1.0, 0.8343434343434344],\n",
      " ['entropy', 4, 3, 7, 1.0, 0.8343434343434344],\n",
      " ['entropy', 4, 3, 8, 1.0, 0.8343434343434344],\n",
      " ['entropy', 4, 3, 9, 1.0, 0.8343434343434344],\n",
      " ['entropy', 4, 4, None, 1.0, 0.8343434343434344],\n",
      " ['entropy', 4, 4, 5, 1.0, 0.8343434343434344],\n",
      " ['entropy', 4, 4, 6, 1.0, 0.8343434343434344],\n",
      " ['entropy', 4, 4, 7, 1.0, 0.8343434343434344],\n",
      " ['entropy', 4, 4, 8, 1.0, 0.8343434343434344],\n",
      " ['entropy', 4, 4, 9, 1.0, 0.8343434343434344],\n",
      " ['entropy', 5, 2, None, 1.0, 0.8343434343434344],\n",
      " ['entropy', 5, 2, 5, 1.0, 0.8343434343434344],\n",
      " ['entropy', 5, 2, 6, 1.0, 0.8343434343434344],\n",
      " ['entropy', 5, 2, 7, 1.0, 0.8343434343434344],\n",
      " ['entropy', 5, 2, 8, 1.0, 0.8343434343434344],\n",
      " ['entropy', 5, 2, 9, 1.0, 0.8343434343434344],\n",
      " ['entropy', 5, 3, None, 1.0, 0.8343434343434344],\n",
      " ['entropy', 5, 3, 5, 1.0, 0.8343434343434344],\n",
      " ['entropy', 5, 3, 6, 1.0, 0.8343434343434344],\n",
      " ['entropy', 5, 3, 7, 1.0, 0.8343434343434344],\n",
      " ['entropy', 5, 3, 8, 1.0, 0.8343434343434344],\n",
      " ['entropy', 5, 3, 9, 1.0, 0.8343434343434344],\n",
      " ['entropy', 5, 4, None, 1.0, 0.8343434343434344],\n",
      " ['entropy', 5, 4, 5, 1.0, 0.8343434343434344],\n",
      " ['entropy', 5, 4, 6, 1.0, 0.8343434343434344],\n",
      " ['entropy', 5, 4, 7, 1.0, 0.8343434343434344],\n",
      " ['entropy', 5, 4, 8, 1.0, 0.8343434343434344],\n",
      " ['entropy', 5, 4, 9, 1.0, 0.8343434343434344],\n",
      " ['entropy', 6, 2, None, 1.0, 0.8343434343434344],\n",
      " ['entropy', 6, 2, 5, 1.0, 0.8343434343434344],\n",
      " ['entropy', 6, 2, 6, 1.0, 0.8343434343434344],\n",
      " ['entropy', 6, 2, 7, 1.0, 0.8343434343434344],\n",
      " ['entropy', 6, 2, 8, 1.0, 0.8343434343434344],\n",
      " ['entropy', 6, 2, 9, 1.0, 0.8343434343434344],\n",
      " ['entropy', 6, 3, None, 1.0, 0.8343434343434344],\n",
      " ['entropy', 6, 3, 5, 1.0, 0.8343434343434344],\n",
      " ['entropy', 6, 3, 6, 1.0, 0.8343434343434344],\n",
      " ['entropy', 6, 3, 7, 1.0, 0.8343434343434344],\n",
      " ['entropy', 6, 3, 8, 1.0, 0.8343434343434344],\n",
      " ['entropy', 6, 3, 9, 1.0, 0.8343434343434344],\n",
      " ['entropy', 6, 4, None, 1.0, 0.8343434343434344],\n",
      " ['entropy', 6, 4, 5, 1.0, 0.8343434343434344],\n",
      " ['entropy', 6, 4, 6, 1.0, 0.8343434343434344],\n",
      " ['entropy', 6, 4, 7, 1.0, 0.8343434343434344],\n",
      " ['entropy', 6, 4, 8, 1.0, 0.8343434343434344],\n",
      " ['entropy', 6, 4, 9, 1.0, 0.8343434343434344],\n",
      " ['entropy', 7, 2, None, 1.0, 0.8343434343434344],\n",
      " ['entropy', 7, 2, 5, 1.0, 0.8343434343434344],\n",
      " ['entropy', 7, 2, 6, 1.0, 0.8343434343434344],\n",
      " ['entropy', 7, 2, 7, 1.0, 0.8343434343434344],\n",
      " ['entropy', 7, 2, 8, 1.0, 0.8343434343434344],\n",
      " ['entropy', 7, 2, 9, 1.0, 0.8343434343434344],\n",
      " ['entropy', 7, 3, None, 1.0, 0.8343434343434344],\n",
      " ['entropy', 7, 3, 5, 1.0, 0.8343434343434344],\n",
      " ['entropy', 7, 3, 6, 1.0, 0.8343434343434344],\n",
      " ['entropy', 7, 3, 7, 1.0, 0.8343434343434344],\n",
      " ['entropy', 7, 3, 8, 1.0, 0.8343434343434344],\n",
      " ['entropy', 7, 3, 9, 1.0, 0.8343434343434344],\n",
      " ['entropy', 7, 4, None, 1.0, 0.8343434343434344],\n",
      " ['entropy', 7, 4, 5, 1.0, 0.8343434343434344],\n",
      " ['entropy', 7, 4, 6, 1.0, 0.8343434343434344],\n",
      " ['entropy', 7, 4, 7, 1.0, 0.8343434343434344],\n",
      " ['entropy', 7, 4, 8, 1.0, 0.8343434343434344],\n",
      " ['entropy', 7, 4, 9, 1.0, 0.8343434343434344],\n",
      " ['entropy', 8, 2, None, 1.0, 0.8343434343434344],\n",
      " ['entropy', 8, 2, 5, 1.0, 0.8343434343434344],\n",
      " ['entropy', 8, 2, 6, 1.0, 0.8343434343434344],\n",
      " ['entropy', 8, 2, 7, 1.0, 0.8343434343434344],\n",
      " ['entropy', 8, 2, 8, 1.0, 0.8343434343434344],\n",
      " ['entropy', 8, 2, 9, 1.0, 0.8343434343434344],\n",
      " ['entropy', 8, 3, None, 1.0, 0.8343434343434344],\n",
      " ['entropy', 8, 3, 5, 1.0, 0.8343434343434344],\n",
      " ['entropy', 8, 3, 6, 1.0, 0.8343434343434344],\n",
      " ['entropy', 8, 3, 7, 1.0, 0.8343434343434344],\n",
      " ['entropy', 8, 3, 8, 1.0, 0.8343434343434344],\n",
      " ['entropy', 8, 3, 9, 1.0, 0.8343434343434344],\n",
      " ['entropy', 8, 4, None, 1.0, 0.8343434343434344],\n",
      " ['entropy', 8, 4, 5, 1.0, 0.8343434343434344],\n",
      " ['entropy', 8, 4, 6, 1.0, 0.8343434343434344],\n",
      " ['entropy', 8, 4, 7, 1.0, 0.8343434343434344],\n",
      " ['entropy', 8, 4, 8, 1.0, 0.8343434343434344],\n",
      " ['entropy', 8, 4, 9, 1.0, 0.8343434343434344],\n",
      " ['entropy', 9, 2, None, 1.0, 0.8343434343434344],\n",
      " ['entropy', 9, 2, 2, 0.997796278158668, 0.8343434343434344],\n",
      " ['entropy', 9, 2, 5, 1.0, 0.8343434343434344],\n",
      " ['entropy', 9, 2, 6, 1.0, 0.8343434343434344],\n",
      " ['entropy', 9, 2, 7, 1.0, 0.8343434343434344],\n",
      " ['entropy', 9, 2, 8, 1.0, 0.8343434343434344],\n",
      " ['entropy', 9, 2, 9, 1.0, 0.8343434343434344],\n",
      " ['entropy', 9, 3, None, 1.0, 0.8343434343434344],\n",
      " ['entropy', 9, 3, 2, 0.997796278158668, 0.8343434343434344],\n",
      " ['entropy', 9, 3, 5, 1.0, 0.8343434343434344],\n",
      " ['entropy', 9, 3, 6, 1.0, 0.8343434343434344],\n",
      " ['entropy', 9, 3, 7, 1.0, 0.8343434343434344],\n",
      " ['entropy', 9, 3, 8, 1.0, 0.8343434343434344],\n",
      " ['entropy', 9, 3, 9, 1.0, 0.8343434343434344],\n",
      " ['entropy', 9, 4, None, 1.0, 0.8343434343434344],\n",
      " ['entropy', 9, 4, 2, 0.997796278158668, 0.8343434343434344],\n",
      " ['entropy', 9, 4, 5, 1.0, 0.8343434343434344],\n",
      " ['entropy', 9, 4, 6, 1.0, 0.8343434343434344],\n",
      " ['entropy', 9, 4, 7, 1.0, 0.8343434343434344],\n",
      " ['entropy', 9, 4, 8, 1.0, 0.8343434343434344],\n",
      " ['entropy', 9, 4, 9, 1.0, 0.8343434343434344],\n",
      " ['entropy', 8, 2, 2, 0.9941234084231146, 0.8212121212121212],\n",
      " ['entropy', 8, 3, 2, 0.9941234084231146, 0.8212121212121212],\n",
      " ['entropy', 8, 4, 2, 0.9941234084231146, 0.8212121212121212],\n",
      " ['gini', None, 3, 1, 0.9992654260528894, 0.8202020202020202],\n",
      " ['gini', None, 4, 1, 0.9980411361410382, 0.8202020202020202],\n",
      " ['gini', 4, 2, 1, 0.9889813907933399, 0.8181818181818182],\n",
      " ['gini', 4, 3, 1, 0.9889813907933399, 0.8181818181818182],\n",
      " ['gini', 4, 4, 1, 0.9889813907933399, 0.8181818181818182],\n",
      " ['gini', None, 2, 1, 1.0, 0.8161616161616162],\n",
      " ['gini', 7, 2, 1, 0.9914299706170421, 0.8151515151515152],\n",
      " ['gini', 7, 3, 1, 0.9914299706170421, 0.8151515151515152],\n",
      " ['gini', 7, 4, 1, 0.9914299706170421, 0.8151515151515152],\n",
      " ['gini', 6, 2, 1, 0.9911851126346719, 0.802020202020202],\n",
      " ['gini', 6, 3, 1, 0.9911851126346719, 0.802020202020202],\n",
      " ['gini', 6, 4, 1, 0.9911851126346719, 0.802020202020202],\n",
      " ['entropy', None, 2, 1, 1.0, 0.794949494949495],\n",
      " ['entropy', None, 3, 1, 0.9997551420176298, 0.794949494949495],\n",
      " ['entropy', None, 4, 1, 0.9997551420176298, 0.794949494949495],\n",
      " ['entropy', 4, 2, 1, 0.9904505386875612, 0.7929292929292929],\n",
      " ['entropy', 4, 3, 1, 0.9904505386875612, 0.7929292929292929],\n",
      " ['entropy', 4, 4, 1, 0.9904505386875612, 0.7929292929292929],\n",
      " ['entropy', 5, 2, 1, 0.9904505386875612, 0.7929292929292929],\n",
      " ['entropy', 5, 3, 1, 0.9904505386875612, 0.7929292929292929],\n",
      " ['entropy', 5, 4, 1, 0.9904505386875612, 0.7929292929292929],\n",
      " ['entropy', 7, 2, 1, 0.9906953966699314, 0.7929292929292929],\n",
      " ['entropy', 7, 3, 1, 0.9906953966699314, 0.7929292929292929],\n",
      " ['entropy', 7, 4, 1, 0.9906953966699314, 0.7929292929292929],\n",
      " ['entropy', 8, 2, 1, 0.9911851126346719, 0.7929292929292929],\n",
      " ['entropy', 8, 3, 1, 0.9911851126346719, 0.7929292929292929],\n",
      " ['entropy', 8, 4, 1, 0.9911851126346719, 0.7929292929292929],\n",
      " ['entropy', 9, 2, 1, 0.9941234084231146, 0.7929292929292929],\n",
      " ['entropy', 9, 3, 1, 0.9941234084231146, 0.7929292929292929],\n",
      " ['entropy', 9, 4, 1, 0.9941234084231146, 0.7929292929292929],\n",
      " ['gini', None, 2, 2, 1.0, 0.7919191919191919],\n",
      " ['gini', 8, 2, 1, 0.9916748285994124, 0.7878787878787878],\n",
      " ['gini', 8, 3, 1, 0.9916748285994124, 0.7878787878787878],\n",
      " ['gini', 8, 4, 1, 0.9916748285994124, 0.7878787878787878],\n",
      " ['gini', 9, 2, 1, 0.9909402546523016, 0.7878787878787878],\n",
      " ['gini', 9, 4, 1, 0.9951028403525954, 0.7868686868686868],\n",
      " ['gini', 5, 2, 1, 0.9904505386875612, 0.7848484848484848],\n",
      " ['gini', 5, 3, 1, 0.9904505386875612, 0.7848484848484848],\n",
      " ['gini', 5, 4, 1, 0.9904505386875612, 0.7848484848484848],\n",
      " ['gini', 9, 3, 1, 0.9975514201762977, 0.7848484848484848],\n",
      " ['entropy', 6, 2, 1, 0.9911851126346719, 0.7797979797979798],\n",
      " ['entropy', 6, 3, 1, 0.9911851126346719, 0.7797979797979798],\n",
      " ['entropy', 6, 4, 1, 0.9911851126346719, 0.7797979797979798],\n",
      " ['gini', 9, 2, 2, 0.9970617042115573, 0.7767676767676768],\n",
      " ['gini', 9, 3, 2, 0.9970617042115573, 0.7767676767676768],\n",
      " ['gini', 9, 4, 2, 0.9970617042115573, 0.7767676767676768],\n",
      " ['entropy', None, 2, 2, 1.0, 0.7717171717171717],\n",
      " ['entropy', None, 4, 2, 0.9985308521057786, 0.7626262626262627],\n",
      " ['gini', 5, 2, 2, 0.8734084231145935, 0.7171717171717171],\n",
      " ['gini', 5, 3, 2, 0.8734084231145935, 0.7171717171717171],\n",
      " ['gini', 5, 4, 2, 0.8734084231145935, 0.7171717171717171],\n",
      " ['entropy', 5, 2, 2, 0.8734084231145935, 0.7171717171717171],\n",
      " ['entropy', 5, 3, 2, 0.8734084231145935, 0.7171717171717171],\n",
      " ['entropy', 5, 4, 2, 0.8734084231145935, 0.7171717171717171],\n",
      " ['gini', 8, 2, 2, 0.9931439764936337, 0.6909090909090909],\n",
      " ['gini', 8, 3, 2, 0.9931439764936337, 0.6909090909090909],\n",
      " ['gini', 8, 4, 2, 0.9931439764936337, 0.6909090909090909],\n",
      " ['gini', None, 3, 2, 0.9990205680705191, 0.6888888888888889],\n",
      " ['gini', None, 4, 2, 0.9990205680705191, 0.6888888888888889],\n",
      " ['gini', 4, 2, 2, 0.7840352595494613, 0.6636363636363637],\n",
      " ['gini', 4, 3, 2, 0.7840352595494613, 0.6636363636363637],\n",
      " ['gini', 4, 4, 2, 0.7840352595494613, 0.6636363636363637],\n",
      " ['entropy', 4, 2, 2, 0.7840352595494613, 0.6636363636363637],\n",
      " ['entropy', 4, 3, 2, 0.7840352595494613, 0.6636363636363637],\n",
      " ['entropy', 4, 4, 2, 0.7840352595494613, 0.6636363636363637],\n",
      " ['entropy', None, 3, 2, 0.9987757100881489, 0.6424242424242425],\n",
      " ['gini', 6, 2, 2, 0.8851616062683644, 0.6333333333333333],\n",
      " ['gini', 6, 3, 2, 0.8851616062683644, 0.6333333333333333],\n",
      " ['gini', 6, 4, 2, 0.8851616062683644, 0.6333333333333333],\n",
      " ['entropy', 6, 2, 2, 0.8851616062683644, 0.6333333333333333],\n",
      " ['entropy', 6, 3, 2, 0.8851616062683644, 0.6333333333333333],\n",
      " ['entropy', 6, 4, 2, 0.8851616062683644, 0.6333333333333333],\n",
      " ['gini', 2, 2, 2, 0.633692458374143, 0.6222222222222222],\n",
      " ['gini', 2, 3, 2, 0.633692458374143, 0.6222222222222222],\n",
      " ['gini', 2, 4, 2, 0.633692458374143, 0.6222222222222222],\n",
      " ['gini', 7, 2, 2, 0.9360920666013712, 0.6222222222222222],\n",
      " ['gini', 7, 3, 2, 0.9360920666013712, 0.6222222222222222],\n",
      " ['gini', 7, 4, 2, 0.9360920666013712, 0.6222222222222222],\n",
      " ['entropy', 2, 2, 2, 0.633692458374143, 0.6222222222222222],\n",
      " ['entropy', 2, 3, 2, 0.633692458374143, 0.6222222222222222],\n",
      " ['entropy', 2, 4, 2, 0.633692458374143, 0.6222222222222222],\n",
      " ['entropy', 7, 2, 2, 0.9360920666013712, 0.6222222222222222],\n",
      " ['entropy', 7, 3, 2, 0.9360920666013712, 0.6222222222222222],\n",
      " ['entropy', 7, 4, 2, 0.9360920666013712, 0.6222222222222222],\n",
      " ['gini', 3, 2, 2, 0.7020078354554359, 0.5484848484848485],\n",
      " ['gini', 3, 3, 2, 0.7020078354554359, 0.5484848484848485],\n",
      " ['gini', 3, 4, 2, 0.7020078354554359, 0.5484848484848485],\n",
      " ['entropy', 3, 2, 2, 0.7020078354554359, 0.5484848484848485],\n",
      " ['entropy', 3, 3, 2, 0.7020078354554359, 0.5484848484848485],\n",
      " ['entropy', 3, 4, 2, 0.7020078354554359, 0.5484848484848485],\n",
      " ['gini', 1, 2, 1, 0.5288932419196866, 0.5404040404040404],\n",
      " ['gini', 1, 2, 2, 0.5288932419196866, 0.5404040404040404],\n",
      " ['gini', 1, 3, 1, 0.5288932419196866, 0.5404040404040404],\n",
      " ['gini', 1, 3, 2, 0.5288932419196866, 0.5404040404040404],\n",
      " ['gini', 1, 4, 1, 0.5288932419196866, 0.5404040404040404],\n",
      " ['gini', 1, 4, 2, 0.5288932419196866, 0.5404040404040404],\n",
      " ['entropy', 1, 2, 1, 0.5288932419196866, 0.5404040404040404],\n",
      " ['entropy', 1, 2, 2, 0.5288932419196866, 0.5404040404040404],\n",
      " ['entropy', 1, 3, 1, 0.5288932419196866, 0.5404040404040404],\n",
      " ['entropy', 1, 3, 2, 0.5288932419196866, 0.5404040404040404],\n",
      " ['entropy', 1, 4, 1, 0.5288932419196866, 0.5404040404040404],\n",
      " ['entropy', 1, 4, 2, 0.5288932419196866, 0.5404040404040404]]\n"
     ]
    }
   ],
   "source": [
    "pprint(res_sorted[:1000])"
   ]
  },
  {
   "cell_type": "markdown",
   "metadata": {},
   "source": [
    "#### RandomForest"
   ]
  },
  {
   "cell_type": "code",
   "execution_count": 18,
   "metadata": {},
   "outputs": [],
   "source": [
    "#RandomForestClassifier(max_depth=5, n_estimators=100, max_features=1, random_state=42),"
   ]
  },
  {
   "cell_type": "code",
   "execution_count": 31,
   "metadata": {},
   "outputs": [],
   "source": [
    "hyperparams = dict()\n",
    "#hyperparams['criterion'] = ['mse', 'mae']\n",
    "hyperparams['n_estimators'] = [10, 50, 100]\n",
    "hyperparams['max_depth'] = [None] + list(range(1,10))\n",
    "#hyperparams['min_samples_split'] = list(range(2,6))\n",
    "#hyperparams['min_samples_leaf'] = list(range(1,10))\n",
    "hyperparams['max_features'] = [None, \"auto\", \"sqrt\", \"log2\"] + list(range(1,5))\n",
    "name = \"RandomForest\"\n",
    "res = tuneModel(name, hyperparams)"
   ]
  },
  {
   "cell_type": "code",
   "execution_count": 32,
   "metadata": {},
   "outputs": [],
   "source": [
    "res_sorted = sorted(res, key=lambda x: x[-1], reverse=True)"
   ]
  },
  {
   "cell_type": "code",
   "execution_count": 33,
   "metadata": {},
   "outputs": [
    {
     "name": "stdout",
     "output_type": "stream",
     "text": [
      "[[50, 1, 3, 0.9906953966699314, 0.8606060606060606],\n",
      " [100, 1, 'auto', 0.9906953966699314, 0.8606060606060606],\n",
      " [100, 1, 'sqrt', 0.9906953966699314, 0.8606060606060606],\n",
      " [100, 1, 'log2', 0.9906953966699314, 0.8606060606060606],\n",
      " [100, 1, 3, 0.9897159647404505, 0.8606060606060606],\n",
      " [100, 1, 4, 0.9906953966699314, 0.8606060606060606],\n",
      " [50, 1, 2, 0.9865328109696376, 0.8575757575757575],\n",
      " [100, 1, 2, 0.9865328109696376, 0.8575757575757575],\n",
      " [50, 1, 1, 0.9865328109696376, 0.8555555555555555],\n",
      " [100, 1, 1, 0.9867776689520078, 0.8474747474747475],\n",
      " [10, 2, 3, 0.9911851126346719, 0.8434343434343434],\n",
      " [10, None, 2, 1.0, 0.8363636363636363],\n",
      " [10, None, None, 1.0, 0.8343434343434344],\n",
      " [10, 1, None, 1.0, 0.8343434343434344],\n",
      " [10, 2, None, 1.0, 0.8343434343434344],\n",
      " [10, 3, None, 1.0, 0.8343434343434344],\n",
      " [10, 4, None, 1.0, 0.8343434343434344],\n",
      " [10, 5, None, 1.0, 0.8343434343434344],\n",
      " [10, 6, None, 1.0, 0.8343434343434344],\n",
      " [10, 7, None, 1.0, 0.8343434343434344]]\n"
     ]
    }
   ],
   "source": [
    "pprint(res_sorted[:20])"
   ]
  },
  {
   "cell_type": "code",
   "execution_count": 243,
   "metadata": {},
   "outputs": [
    {
     "name": "stdout",
     "output_type": "stream",
     "text": [
      "[[50, 1, 3, 0.9906953966699314, 0.8606060606060606],\n",
      " [100, 1, 'auto', 0.9906953966699314, 0.8606060606060606],\n",
      " [100, 1, 'sqrt', 0.9906953966699314, 0.8606060606060606],\n",
      " [100, 1, 'log2', 0.9906953966699314, 0.8606060606060606],\n",
      " [100, 1, 3, 0.9897159647404505, 0.8606060606060606],\n",
      " [100, 1, 4, 0.9906953966699314, 0.8606060606060606],\n",
      " [50, 1, 2, 0.9865328109696376, 0.8575757575757575],\n",
      " [100, 1, 2, 0.9865328109696376, 0.8575757575757575],\n",
      " [50, 1, 1, 0.9865328109696376, 0.8555555555555555],\n",
      " [100, 1, 1, 0.9867776689520078, 0.8474747474747475],\n",
      " [10, 2, 3, 0.9911851126346719, 0.8434343434343434],\n",
      " [10, None, None, 1.0, 0.8343434343434344],\n",
      " [10, 1, None, 1.0, 0.8343434343434344],\n",
      " [10, 2, None, 1.0, 0.8343434343434344],\n",
      " [10, 3, None, 1.0, 0.8343434343434344],\n",
      " [10, 4, None, 1.0, 0.8343434343434344],\n",
      " [10, 5, None, 1.0, 0.8343434343434344],\n",
      " [10, 6, None, 1.0, 0.8343434343434344],\n",
      " [10, 7, None, 1.0, 0.8343434343434344],\n",
      " [10, 8, None, 1.0, 0.8343434343434344]]\n"
     ]
    }
   ],
   "source": [
    "pprint(res_sorted[:20])"
   ]
  },
  {
   "cell_type": "markdown",
   "metadata": {},
   "source": [
    "# Features"
   ]
  },
  {
   "cell_type": "code",
   "execution_count": 34,
   "metadata": {},
   "outputs": [],
   "source": [
    "def getAUC(X, y, clf, feat=\"\"):\n",
    "    y_scores = cross_val_predict(clf, X, y, cv=5, method=\"predict_proba\")\n",
    "    fpr, tpr, thresholds = roc_curve(y, y_scores[:, 1])\n",
    "    roc_auc = auc(fpr, tpr)\n",
    "    #print(\"%s: AUC %s\" % (feat, roc_auc))\n",
    "    #print()\n",
    "    return roc_auc, feat"
   ]
  },
  {
   "cell_type": "code",
   "execution_count": 76,
   "metadata": {},
   "outputs": [],
   "source": [
    "def getAccuracy(X, Xval, clf, feat=\"\"):\n",
    "    clf.fit(X, ytrain)\n",
    "    yval_pred = clf.predict(Xval)\n",
    "    acc_val = accuracy_score(yvalb, yval_pred)\n",
    "    return acc_val, feat"
   ]
  },
  {
   "cell_type": "markdown",
   "metadata": {},
   "source": [
    "#### Individual"
   ]
  },
  {
   "cell_type": "code",
   "execution_count": 80,
   "metadata": {},
   "outputs": [
    {
     "name": "stdout",
     "output_type": "stream",
     "text": [
      "RandomForest\n",
      "['archived', 'years_active', 'years_inactive', 'num_captures', 'freenom_tld', 'prev_mal_tld', 'wildcard_subdomain', 'reachable', 'redirected', 'blocked', 'alexa_rank', 'ratio_longest_word', 'contain_digit', 'contain_dash', 'name_len', 'brandname_partialratio', 'prev_mal_domain_ed', 'sub_levels', 'num_sub']\n",
      "[(0.8363636363636363, 'archived'),\n",
      " (0.8363636363636363, 'years_active'),\n",
      " (0.8363636363636363, 'years_inactive'),\n",
      " (0.8363636363636363, 'num_captures'),\n",
      " (0.5, 'freenom_tld'),\n",
      " (0.8343434343434344, 'prev_mal_tld'),\n",
      " (0.5060606060606061, 'wildcard_subdomain'),\n",
      " (0.5404040404040404, 'reachable'),\n",
      " (0.5404040404040404, 'redirected'),\n",
      " (0.5404040404040404, 'blocked'),\n",
      " (0.5404040404040404, 'alexa_rank'),\n",
      " (0.4909090909090909, 'ratio_longest_word'),\n",
      " (0.5202020202020202, 'contain_digit'),\n",
      " (0.5282828282828282, 'contain_dash'),\n",
      " (0.5878787878787879, 'name_len'),\n",
      " (0.4888888888888889, 'brandname_partialratio'),\n",
      " (0.5545454545454546, 'prev_mal_domain_ed'),\n",
      " (0.5747474747474748, 'sub_levels'),\n",
      " (0.4868686868686869, 'num_sub')]\n"
     ]
    }
   ],
   "source": [
    "clf = classifiers[3]\n",
    "name = names[3]\n",
    "print(name)\n",
    "auc_feat_list = []\n",
    "print(feat_labels)\n",
    "paper_feat_labels = feat_labels\n",
    "#paper_feat_labels = [\"Archived\", \"Years active\", \"Years inactive\", \"Number of captures\", \"Archive redirected\", \"Freenom TLD\", \"Wildcard subdomain\", \"Reachable\", \"Blocked\", \"Alexa rank\", \"Ratio of longest word\", \"Contain digits\", \"Contain hyphen\", \"Name length\", \"Match brand name\"]\n",
    "for i, feat in enumerate(paper_feat_labels):\n",
    "    X = Xtrain[:,i].reshape(-1, 1)\n",
    "    Xval = Xvalb[:,i].reshape(-1, 1)\n",
    "    #auc_feat_list.append(getAUC(X, ytrain, clf, feat))\n",
    "    auc_feat_list.append(getAccuracy(X, Xval, clf, feat))\n",
    "\n",
    "pprint(auc_feat_list)"
   ]
  },
  {
   "cell_type": "code",
   "execution_count": 78,
   "metadata": {},
   "outputs": [
    {
     "data": {
      "image/png": "[encoded data removed]",
      "text/plain": [
       "<matplotlib.figure.Figure at 0x7f65847558d0>"
      ]
     },
     "metadata": {},
     "output_type": "display_data"
    },
    {
     "data": {
      "text/plain": [
       "<matplotlib.figure.Figure at 0x7f6584755898>"
      ]
     },
     "metadata": {},
     "output_type": "display_data"
    }
   ],
   "source": [
    "aucs = [x[0] for x in auc_feat_list]\n",
    "feats = [x[1] for x in auc_feat_list]\n",
    "\n",
    "fig, ax = plt.subplots()\n",
    "plt.figure(figsize=(15,10))\n",
    "\n",
    "# Example data\n",
    "y_pos = np.arange(len(feats))\n",
    "\n",
    "ax.barh(y_pos, aucs, align='center')\n",
    "ax.set_yticks(y_pos)\n",
    "ax.set_yticklabels(feats)\n",
    "ax.invert_yaxis()  # labels read top-to-bottom\n",
    "ax.set_xlabel('Area under the curve (AUC)')\n",
    "ax.set_xlim([0,1])\n",
    "#ax.set_title('How fast do you want to go today?')\n",
    "\n",
    "plt.show()"
   ]
  },
  {
   "cell_type": "code",
   "execution_count": 54,
   "metadata": {},
   "outputs": [
    {
     "data": {
      "image/png": "[encoded data removed]",
      "text/plain": [
       "<matplotlib.figure.Figure at 0x7f8bffb6f828>"
      ]
     },
     "metadata": {},
     "output_type": "display_data"
    },
    {
     "data": {
      "text/plain": [
       "<matplotlib.figure.Figure at 0x7f8bffb6f860>"
      ]
     },
     "metadata": {},
     "output_type": "display_data"
    }
   ],
   "source": [
    "aucs = [x[0] for x in auc_feat_list]\n",
    "feats = [x[1] for x in auc_feat_list]\n",
    "\n",
    "fig, ax = plt.subplots()\n",
    "plt.figure(figsize=(15,10))\n",
    "\n",
    "# Example data\n",
    "y_pos = np.arange(len(feats))\n",
    "\n",
    "ax.barh(y_pos, aucs, align='center')\n",
    "ax.set_yticks(y_pos)\n",
    "ax.set_yticklabels(feats)\n",
    "ax.invert_yaxis()  # labels read top-to-bottom\n",
    "ax.set_xlabel('Area under the curve (AUC)')\n",
    "ax.set_xlim([0,1])\n",
    "#ax.set_title('How fast do you want to go today?')\n",
    "\n",
    "plt.show()"
   ]
  },
  {
   "cell_type": "code",
   "execution_count": 227,
   "metadata": {},
   "outputs": [
    {
     "data": {
      "image/png": "[encoded data removed]",
      "text/plain": [
       "<matplotlib.figure.Figure at 0x7fa5228796a0>"
      ]
     },
     "metadata": {},
     "output_type": "display_data"
    },
    {
     "data": {
      "text/plain": [
       "<matplotlib.figure.Figure at 0x7fa5228790b8>"
      ]
     },
     "metadata": {},
     "output_type": "display_data"
    }
   ],
   "source": [
    "aucs = [x[0] for x in auc_feat_list]\n",
    "feats = [x[1] for x in auc_feat_list]\n",
    "\n",
    "fig, ax = plt.subplots()\n",
    "plt.figure(figsize=(15,10))\n",
    "\n",
    "# Example data\n",
    "y_pos = np.arange(len(feats))\n",
    "\n",
    "ax.barh(y_pos, aucs, align='center')\n",
    "ax.set_yticks(y_pos)\n",
    "ax.set_yticklabels(feats)\n",
    "ax.invert_yaxis()  # labels read top-to-bottom\n",
    "ax.set_xlabel('Area under the curve (AUC)')\n",
    "ax.set_xlim([0,1])\n",
    "#ax.set_title('How fast do you want to go today?')\n",
    "\n",
    "plt.show()"
   ]
  },
  {
   "cell_type": "markdown",
   "metadata": {},
   "source": [
    "# Predict"
   ]
  },
  {
   "cell_type": "code",
   "execution_count": 52,
   "metadata": {},
   "outputs": [
    {
     "name": "stdout",
     "output_type": "stream",
     "text": [
      "{'comp-deltaphish', 'comp-phishlabs', 'mal-future-apwg', 'mal-apwg', 'unlabeled-apwg', 'mal-phishlabs'}\n",
      "KNeighbors-comp-deltaphish\n",
      "NeuralNetwork-comp-deltaphish\n",
      "DecisionTree-comp-deltaphish\n",
      "RandomForest-comp-deltaphish\n",
      "Dummy-comp-deltaphish\n",
      "KNeighbors-mal-future-apwg\n",
      "NeuralNetwork-mal-future-apwg\n",
      "DecisionTree-mal-future-apwg\n",
      "RandomForest-mal-future-apwg\n",
      "Dummy-mal-future-apwg\n",
      "KNeighbors-mal-phishlabs\n",
      "NeuralNetwork-mal-phishlabs\n",
      "DecisionTree-mal-phishlabs\n",
      "RandomForest-mal-phishlabs\n",
      "Dummy-mal-phishlabs\n",
      "KNeighbors-train_rest\n",
      "NeuralNetwork-train_rest\n",
      "DecisionTree-train_rest\n",
      "RandomForest-train_rest\n",
      "Dummy-train_rest\n",
      "KNeighbors-val_rest\n",
      "NeuralNetwork-val_rest\n",
      "DecisionTree-val_rest\n",
      "RandomForest-val_rest\n",
      "Dummy-val_rest\n"
     ]
    }
   ],
   "source": [
    "datasets = set([d['dataset'] for d in data_predict])\n",
    "print(datasets)\n",
    "dataset_predict = ['comp-deltaphish','mal-future-apwg','mal-phishlabs', 'train_rest', 'val_rest']\n",
    "compare_datasets=dict()\n",
    "compare_datasets['acc'] = []\n",
    "compare_datasets['err'] = []\n",
    "compare_names = []\n",
    "for dataset in dataset_predict:\n",
    "    clf_datasets_acc = []\n",
    "    clf_datasets_err = []\n",
    "    clf_names = []\n",
    "    for name, clf in zip(names, classifiers):\n",
    "        clf.fit(Xtrain, ytrain)\n",
    "        \n",
    "        # get X and y for specific datasets\n",
    "        if dataset == 'train_rest':\n",
    "            Xpredict = Xtest\n",
    "            ypredict = ytest\n",
    "        elif dataset == 'val_rest':\n",
    "            Xpredict = Xvaltestb\n",
    "            ypredict = yvaltestb\n",
    "        else:\n",
    "            Xpredict = np.array([d['feat'] for d in data_predict if d['dataset'] in dataset])\n",
    "            ypredict = np.array([d['target'] for d in data_predict if d['dataset'] in dataset])\n",
    "        \n",
    "        # transform (handle nan and normalize)\n",
    "        #Xpredict = imp.transform(Xpredict)\n",
    "        Xpredict = np.where(np.isnan(Xpredict), -1, Xpredict)\n",
    "        Xpredict = scaler.transform(Xpredict)\n",
    "        \n",
    "        # calibrate\n",
    "        Xpredict = applyIsoFunction(Xpredict, ypredict, iso_functions)\n",
    "        \n",
    "        # predict\n",
    "        ypredict_pred = clf.predict(Xpredict)\n",
    "        #tn, fp, fn, tp = confusion_matrix(ypredict, Xpredict_pred, labels=[-1,1]).ravel()\n",
    "        \n",
    "        # evaluation criteria\n",
    "        acc = accuracy_score(ypredict, ypredict_pred)\n",
    "        err = 1-acc\n",
    "        #avg_acc = (tp+tn)/2\n",
    "        \n",
    "        # add avg_acc and corresponding name label\n",
    "        clf_datasets_acc.append(acc)\n",
    "        clf_datasets_err.append(err)\n",
    "        clf_name = '-'.join([name, dataset])\n",
    "        print(clf_name)\n",
    "        clf_names.append(clf_name)\n",
    "    \n",
    "    # add dataset results for specific clf\n",
    "    compare_datasets['acc'].append(clf_datasets_acc)\n",
    "    compare_datasets['err'].append(clf_datasets_err)\n",
    "    compare_names.append(clf_names)"
   ]
  },
  {
   "cell_type": "code",
   "execution_count": 53,
   "metadata": {},
   "outputs": [
    {
     "name": "stdout",
     "output_type": "stream",
     "text": [
      "[[0.6981132075471698,\n",
      "  0.8896952104499274,\n",
      "  0.9172714078374455,\n",
      "  0.9172714078374455,\n",
      "  0.4934687953555878],\n",
      " [0.9554140127388535,\n",
      "  0.9554140127388535,\n",
      "  0.9585987261146497,\n",
      "  0.9490445859872612,\n",
      "  0.5222929936305732],\n",
      " [0.9315263908701854,\n",
      "  0.9087018544935807,\n",
      "  0.9197574893009985,\n",
      "  0.8801711840228246,\n",
      "  0.5035663338088445],\n",
      " [1.0, 1.0, 1.0, 1.0, 0.4939759036144578],\n",
      " [0.6724137931034483,\n",
      "  0.7183908045977011,\n",
      "  0.7241379310344828,\n",
      "  0.7298850574712644,\n",
      "  0.5287356321839081]]\n"
     ]
    }
   ],
   "source": [
    "pprint(compare_datasets['acc'])"
   ]
  },
  {
   "cell_type": "markdown",
   "metadata": {},
   "source": [
    "#### Balanced Accuracy"
   ]
  },
  {
   "cell_type": "code",
   "execution_count": 61,
   "metadata": {},
   "outputs": [
    {
     "name": "stdout",
     "output_type": "stream",
     "text": [
      "[0.8791450005065985,\n",
      " 0.9156282330439856,\n",
      " 0.928846278138523,\n",
      " 0.906664590467589,\n",
      " 0.5057236141509625]\n"
     ]
    }
   ],
   "source": [
    "#compare_datasets_temp = compare_datasets[:3]\n",
    "balanced_acc = []\n",
    "\n",
    "for i in range(5): # 5 algorithms\n",
    "    x = ((compare_datasets['acc'][0][i] + compare_datasets['acc'][1][i])/2 + compare_datasets['acc'][2][i])/2\n",
    "    balanced_acc.append(x)\n",
    "    #balanced_acc.append(((compare_datasets[0][i] + compare_datasets[1][i])/2 + compare_datasets[2][i])/2)\n",
    "\n",
    "pprint(balanced_acc)"
   ]
  },
  {
   "cell_type": "markdown",
   "metadata": {},
   "source": [
    "# Decision Tree rules"
   ]
  },
  {
   "cell_type": "code",
   "execution_count": 69,
   "metadata": {},
   "outputs": [],
   "source": [
    "from sklearn.tree import _tree\n",
    "\n",
    "def tree_to_code(tree, feature_names):\n",
    "    tree_ = tree.tree_\n",
    "    feature_name = [\n",
    "        feature_names[i] if i != _tree.TREE_UNDEFINED else \"undefined!\"\n",
    "        for i in tree_.feature\n",
    "    ]\n",
    "    #print(\"def tree({}):\".format(\", \".join(feature_names)))\n",
    "    print(\"def tree(%s):\" % (\", \".join(feature_names)))\n",
    "\n",
    "    def recurse(node, depth):\n",
    "        indent = \"  \" * depth\n",
    "        if tree_.feature[node] != _tree.TREE_UNDEFINED:\n",
    "            name = feature_name[node]\n",
    "            threshold = tree_.threshold[node]\n",
    "            print(\"%sif %s <= %s:\" % (indent, name, str(threshold)))\n",
    "            recurse(tree_.children_left[node], depth + 1)\n",
    "            #print(\"{}else:  # if {} > {}\".format(indent, name, threshold))\n",
    "            print(\"%selse:  # if %s > %s\" % (indent, name, str(threshold)))\n",
    "            recurse(tree_.children_right[node], depth + 1)\n",
    "        else:\n",
    "            #print(\"{}return {}\".format(indent, tree_.value[node]))\n",
    "            print(\"%sreturn %s\" % (indent, tree_.value[node]))\n",
    "            #pass\n",
    "\n",
    "    recurse(0, 1)"
   ]
  },
  {
   "cell_type": "code",
   "execution_count": 84,
   "metadata": {},
   "outputs": [
    {
     "name": "stdout",
     "output_type": "stream",
     "text": [
      "def tree(archived, years_active, years_inactive, num_captures, freenom_tld, prev_mal_tld, wildcard_subdomain, reachable, redirected, blocked, alexa_rank, ratio_longest_word, contain_digit, contain_dash, name_len, brandname_partialratio, prev_mal_domain_ed, sub_levels, num_sub):\n",
      "  if archived <= -0.07563164830207825:\n",
      "    return [[1888.    0.]]\n",
      "  else:  # if archived > -0.07563164830207825\n",
      "    if prev_mal_tld <= 0.0:\n",
      "      return [[   0. 2042.]]\n",
      "    else:  # if prev_mal_tld > 0.0\n",
      "      return [[154.   0.]]\n"
     ]
    }
   ],
   "source": [
    "clf = classifiers[2]\n",
    "clf.fit(Xtrain, ytrain)\n",
    "tree_to_code(classifiers[2], feat_labels)"
   ]
  },
  {
   "cell_type": "markdown",
   "metadata": {},
   "source": [
    "# Friedman test and Nemenyi CD"
   ]
  },
  {
   "cell_type": "code",
   "execution_count": 30,
   "metadata": {},
   "outputs": [
    {
     "name": "stdout",
     "output_type": "stream",
     "text": [
      "Statistics=7.600, p=0.022\n",
      "Different distributions (reject H0)\n"
     ]
    }
   ],
   "source": [
    "# compare samples\n",
    "#stat, p = friedmanchisquare(compare_datasets['acc'][0], compare_datasets['acc'][1], compare_datasets['acc'][2], compare_datasets['acc'][3], compare_datasets['acc'][4])\n",
    "stat, p = friedmanchisquare(compare_datasets['acc'][0], compare_datasets['acc'][1], compare_datasets['acc'][2])\n",
    "\n",
    "print('Statistics=%.3f, p=%.3f' % (stat, p))\n",
    "# interpret\n",
    "alpha = 0.05\n",
    "if p > alpha:\n",
    "    print('Same distributions (fail to reject H0)')\n",
    "else:\n",
    "    print('Different distributions (reject H0)')"
   ]
  },
  {
   "cell_type": "code",
   "execution_count": 250,
   "metadata": {},
   "outputs": [
    {
     "name": "stdout",
     "output_type": "stream",
     "text": [
      "Statistics=9.360, p=0.009\n",
      "Different distributions (reject H0)\n"
     ]
    }
   ],
   "source": [
    "from numpy.random import seed\n",
    "from numpy.random import randn\n",
    "# seed the random number generator\n",
    "seed(1)\n",
    "# generate three independent samples\n",
    "data1 = 5 * randn(100) + 50\n",
    "data2 = 5 * randn(100) + 50\n",
    "data3 = 5 * randn(100) + 52\n",
    "# compare samples\n",
    "stat, p = friedmanchisquare(data1, data2, data3)\n",
    "print('Statistics=%.3f, p=%.3f' % (stat, p))\n",
    "# interpret\n",
    "alpha = 0.05\n",
    "if p > alpha:\n",
    "\tprint('Same distributions (fail to reject H0)')\n",
    "else:\n",
    "\tprint('Different distributions (reject H0)')"
   ]
  },
  {
   "cell_type": "code",
   "execution_count": 35,
   "metadata": {},
   "outputs": [
    {
     "name": "stdout",
     "output_type": "stream",
     "text": [
      "[array([4., 2., 3., 1., 5.]), array([2., 2., 2., 4., 5.]), array([2., 3., 1., 4., 5.]), array([2., 2., 4., 2., 5.]), array([3., 2., 4., 1., 5.])]\n",
      "[2.6 2.2 2.8 2.4 5. ]\n"
     ]
    }
   ],
   "source": [
    "ranks = []\n",
    "for i, comp in enumerate(compare_datasets['err']):\n",
    "    rank = rankdata(comp)\n",
    "    ranks.append(rank)\n",
    "    #if i > 2:\n",
    "    #    break\n",
    "print(ranks)\n",
    "avranks = np.mean(ranks, axis=0)\n",
    "print(avranks)"
   ]
  },
  {
   "cell_type": "code",
   "execution_count": 36,
   "metadata": {},
   "outputs": [
    {
     "name": "stdout",
     "output_type": "stream",
     "text": [
      "5\n"
     ]
    },
    {
     "data": {
      "image/png": "[encoded data removed]",
      "text/plain": [
       "<matplotlib.figure.Figure at 0x7f8c71d96978>"
      ]
     },
     "metadata": {},
     "output_type": "display_data"
    }
   ],
   "source": [
    "#names = [\"first\", \"third\", \"second\", \"fourth\" ]\n",
    "#avranks =  [1.9, 3.2, 2.8, 3.3 ]\n",
    "num_datasets = len(dataset_predict)\n",
    "print(num_datasets)\n",
    "cd = compute_CD(avranks, num_datasets)\n",
    "graph_ranks(avranks, names, cd=cd, width=6, textspace=1.5)\n",
    "plt.show()"
   ]
  },
  {
   "cell_type": "markdown",
   "metadata": {},
   "source": [
    "# Model persistence"
   ]
  },
  {
   "cell_type": "code",
   "execution_count": 17,
   "metadata": {},
   "outputs": [
    {
     "data": {
      "text/plain": [
       "['finalized_scaler.joblib']"
      ]
     },
     "execution_count": 17,
     "metadata": {},
     "output_type": "execute_result"
    }
   ],
   "source": [
    "from joblib import dump, load\n",
    "modelname = 'apwg'\n",
    "filename = './model/'+modelname+'_scaler.joblib'\n",
    "dump(scaler, filename)"
   ]
  },
  {
   "cell_type": "code",
   "execution_count": 21,
   "metadata": {},
   "outputs": [
    {
     "data": {
      "text/plain": [
       "['finalized_imputer.joblib']"
      ]
     },
     "execution_count": 21,
     "metadata": {},
     "output_type": "execute_result"
    }
   ],
   "source": [
    "filename = './model/'+modelname+'_imputer.joblib'\n",
    "dump(imp, filename)"
   ]
  },
  {
   "cell_type": "code",
   "execution_count": 14,
   "metadata": {},
   "outputs": [
    {
     "data": {
      "text/plain": [
       "RandomForestClassifier(bootstrap=True, class_weight=None, criterion='gini',\n",
       "            max_depth=5, max_features=1, max_leaf_nodes=None,\n",
       "            min_impurity_decrease=0.0, min_impurity_split=None,\n",
       "            min_samples_leaf=1, min_samples_split=2,\n",
       "            min_weight_fraction_leaf=0.0, n_estimators=100, n_jobs=None,\n",
       "            oob_score=False, random_state=42, verbose=0, warm_start=False)"
      ]
     },
     "execution_count": 14,
     "metadata": {},
     "output_type": "execute_result"
    }
   ],
   "source": [
    "clf = classifiers[3]\n",
    "clf.fit(Xtrain, ytrain)"
   ]
  },
  {
   "cell_type": "code",
   "execution_count": 20,
   "metadata": {},
   "outputs": [
    {
     "data": {
      "text/plain": [
       "['finalized_model.joblib']"
      ]
     },
     "execution_count": 20,
     "metadata": {},
     "output_type": "execute_result"
    }
   ],
   "source": [
    "#from joblib import dump, load\n",
    "filename = './model/'+modelname+'_model.joblib'\n",
    "dump(clf, filename)\n",
    "#pickle.dump(clf, 'mlp.joblib') "
   ]
  }
 ],
 "metadata": {
  "kernelspec": {
   "display_name": "Python 3",
   "language": "python",
   "name": "python3"
  },
  "language_info": {
   "codemirror_mode": {
    "name": "ipython",
    "version": 3
   },
   "file_extension": ".py",
   "mimetype": "text/x-python",
   "name": "python",
   "nbconvert_exporter": "python",
   "pygments_lexer": "ipython3",
   "version": "3.6.4"
  }
 },
 "nbformat": 4,
 "nbformat_minor": 1
}
