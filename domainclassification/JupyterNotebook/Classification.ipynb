{
 "cells": [
  {
   "cell_type": "markdown",
   "metadata": {},
   "source": [
    "**Problem**: Given a phishing url, classify the domain as compromised (owned) or malicious (hacked).\n",
    "\n",
    "**Objective**: Given labeled data, analyze the best model and features."
   ]
  },
  {
   "cell_type": "code",
   "execution_count": 1,
   "metadata": {},
   "outputs": [
    {
     "name": "stdout",
     "output_type": "stream",
     "text": [
      "0.20.1\n"
     ]
    }
   ],
   "source": [
    "import sklearn\n",
    "print(sklearn.__version__)"
   ]
  },
  {
   "cell_type": "markdown",
   "metadata": {},
   "source": [
    "# Setup"
   ]
  },
  {
   "cell_type": "code",
   "execution_count": 1,
   "metadata": {},
   "outputs": [],
   "source": [
    "from sklearn import preprocessing\n",
    "from sklearn.preprocessing import StandardScaler, Imputer\n",
    "from sklearn.model_selection import cross_val_score\n",
    "from sklearn.metrics import roc_curve, auc, confusion_matrix, f1_score\n",
    "from sklearn.model_selection import cross_val_predict\n",
    "from sklearn.datasets import make_moons, make_circles, make_classification\n",
    "from sklearn.model_selection import train_test_split\n",
    "from sklearn.metrics import accuracy_score\n",
    "\n",
    "from sklearn.linear_model import SGDClassifier\n",
    "from sklearn.linear_model import LogisticRegression\n",
    "from sklearn.neighbors import KNeighborsClassifier\n",
    "from sklearn.neural_network import MLPClassifier\n",
    "from sklearn.svm import SVC\n",
    "from sklearn.ensemble import RandomForestClassifier, GradientBoostingClassifier\n",
    "from sklearn.discriminant_analysis import QuadraticDiscriminantAnalysis\n",
    "from sklearn.naive_bayes import GaussianNB\n",
    "\n",
    "#from sklearn.impute import SimpleImputer\n",
    "\n",
    "from sklearn.decomposition import PCA\n",
    "from sklearn.manifold import TSNE\n",
    "\n",
    "#import xgboost as xgb\n",
    "\n",
    "import numpy as np\n",
    "\n",
    "import matplotlib.pyplot as plt\n",
    "from mpl_toolkits.axes_grid1.inset_locator import inset_axes\n",
    "\n",
    "import scipy\n",
    "\n",
    "from pprint import pprint\n",
    "\n",
    "import pickle\n",
    "\n",
    "import numpy as np\n",
    "from numpy import nan"
   ]
  },
  {
   "cell_type": "markdown",
   "metadata": {},
   "source": [
    "# Data"
   ]
  },
  {
   "cell_type": "code",
   "execution_count": 2,
   "metadata": {},
   "outputs": [],
   "source": [
    "# balanced train and test sets\n",
    "def balance_data(X, y):\n",
    "    X_bal = []\n",
    "    y_bal = []\n",
    "    X_rest = []\n",
    "    y_rest = []\n",
    "    min1 = len([tar for tar in y if tar==1])\n",
    "    min2 = len([tar for tar in y if tar==-1])\n",
    "    mini = min1\n",
    "    if min2 < min1:\n",
    "        mini = min2\n",
    "\n",
    "    cnt_1 = 0\n",
    "    cnt_0 = 0\n",
    "    print(mini)\n",
    "    for i, tar in enumerate(y):\n",
    "        if tar == 1 and cnt_1<mini:\n",
    "            cnt_1+=1\n",
    "            X_bal.append(X[i])\n",
    "            y_bal.append(y[i])\n",
    "        elif tar == -1 and cnt_0<mini:\n",
    "            cnt_0+=1\n",
    "            X_bal.append(X[i])\n",
    "            y_bal.append(y[i])\n",
    "        else:\n",
    "            X_rest.append(X[i])\n",
    "            y_rest.append(y[i])\n",
    "\n",
    "    print(\"# X_bal:\", len(X_bal))\n",
    "    print(\"# y_bal:\", len(y_bal))\n",
    "    print(\"% compromised: \", len([tar for tar in y_bal if tar==1])/len(y_bal))\n",
    "    print(\"% malicious: \", len([tar for tar in y_bal if tar==-1])/len(y_bal))\n",
    "    \n",
    "    print(\"# X_rest:\", len(X_rest))\n",
    "    print(\"# y_rest:\", len(y_rest))\n",
    "    print(\"% compromised: \", len([tar for tar in y_rest if tar==1])/len(y_rest))\n",
    "    print(\"% malicious: \", len([tar for tar in y_rest if tar==-1])/len(y_rest))\n",
    "    \n",
    "    return [X_bal, y_bal, X_rest, y_rest]"
   ]
  },
  {
   "cell_type": "markdown",
   "metadata": {},
   "source": [
    "### Train/Test"
   ]
  },
  {
   "cell_type": "code",
   "execution_count": 15,
   "metadata": {
    "scrolled": true
   },
   "outputs": [
    {
     "name": "stdout",
     "output_type": "stream",
     "text": [
      "{'comp-deltaphish',\n",
      " 'comp-phishlabs',\n",
      " 'mal-apwg',\n",
      " 'mal-future-apwg',\n",
      " 'mal-phishlabs',\n",
      " 'unlabeled-apwg'}\n"
     ]
    }
   ],
   "source": [
    "with open(\"/home/sophie/SSRG/domainclassification/results/dataset/domain_target_49100\", \"r\", encoding='utf-8') as f:\n",
    "    data = eval(f.read())\n",
    "    \n",
    "datasets = set([d['dataset'] for d in data])\n",
    "pprint(datasets)"
   ]
  },
  {
   "cell_type": "code",
   "execution_count": 16,
   "metadata": {},
   "outputs": [
    {
     "name": "stdout",
     "output_type": "stream",
     "text": [
      "(5952, 19)\n",
      "(5952,)\n",
      "['archived', 'years_active', 'years_inactive', 'num_captures', 'freenom_tld', 'prev_mal_tld', 'wildcard_subdomain', 'reachable', 'redirected', 'blocked', 'alexa_rank', 'ratio_longest_word', 'contain_digit', 'contain_dash', 'name_len', 'brandname_partialratio', 'prev_mal_domain_ed', 'sub_levels', 'num_sub']\n",
      "array([[1.00000000e+00, 9.00000000e+00, 1.00000000e+00, 7.42000000e+02,\n",
      "        0.00000000e+00, 0.00000000e+00, 1.00000000e+00, 1.00000000e+00,\n",
      "        0.00000000e+00, 0.00000000e+00, 1.14676000e+05, 3.75000000e-01,\n",
      "        1.00000000e+00, 0.00000000e+00, 4.00000000e+00, 5.00000000e+01,\n",
      "        2.50000000e-01, 1.00000000e+00, 8.00000000e+00],\n",
      "       [0.00000000e+00,            nan,            nan,            nan,\n",
      "        0.00000000e+00, 1.00000000e+00, 0.00000000e+00, 0.00000000e+00,\n",
      "                   nan,            nan,            nan, 4.28571429e-01,\n",
      "        1.00000000e+00, 0.00000000e+00, 3.00000000e+00, 6.70000000e+01,\n",
      "        3.33333333e-01, 0.00000000e+00, 1.00000000e+00],\n",
      "       [0.00000000e+00,            nan,            nan,            nan,\n",
      "        0.00000000e+00, 1.00000000e+00, 0.00000000e+00, 0.00000000e+00,\n",
      "                   nan,            nan,            nan, 3.33333333e-01,\n",
      "        1.00000000e+00, 0.00000000e+00, 5.00000000e+00, 0.00000000e+00,\n",
      "        2.00000000e-01, 0.00000000e+00, 1.00000000e+00],\n",
      "       [1.00000000e+00, 0.00000000e+00, 1.00000000e+00, 2.00000000e+00,\n",
      "        0.00000000e+00, 1.00000000e+00, 0.00000000e+00, 0.00000000e+00,\n",
      "                   nan,            nan,            nan, 3.84615385e-01,\n",
      "        1.00000000e+00, 0.00000000e+00, 9.00000000e+00, 6.70000000e+01,\n",
      "        1.11111111e-01, 0.00000000e+00, 1.00000000e+00],\n",
      "       [1.00000000e+00, 1.60000000e+01, 1.00000000e+00, 2.50000000e+01,\n",
      "        0.00000000e+00, 0.00000000e+00, 1.00000000e+00, 1.00000000e+00,\n",
      "        0.00000000e+00, 0.00000000e+00,            nan, 4.00000000e-01,\n",
      "        1.00000000e+00, 0.00000000e+00, 2.00000000e+00, 0.00000000e+00,\n",
      "        5.00000000e-01, 0.00000000e+00, 1.00000000e+00]])\n",
      "array([ 1, -1, -1, -1,  1])\n",
      "# compromised:  3907\n",
      "# malicious:  2045\n",
      "% compromised:  0.6564180107526881\n",
      "% malicious:  0.3435819892473118\n"
     ]
    }
   ],
   "source": [
    "with open(\"data/data_cluster_5952\", \"r\", encoding='utf-8') as f:\n",
    "    data_train = eval(f.read())\n",
    "\n",
    "Xtrain = np.array([d['feat'] for d in data_train])\n",
    "ytrain = np.array([d['target'] for d in data_train])\n",
    "feat_labels = data_train[0]['feat_labels']\n",
    "print(Xtrain.shape)\n",
    "print(ytrain.shape)\n",
    "print(feat_labels)\n",
    "pprint(Xtrain[:5])\n",
    "pprint(ytrain[:5])\n",
    "print(\"# compromised: \", len([tar for tar in ytrain if tar==1]))\n",
    "print(\"# malicious: \", len([tar for tar in ytrain if tar==-1]))\n",
    "print(\"% compromised: \", len([tar for tar in ytrain if tar==1])/len(ytrain))\n",
    "print(\"% malicious: \", len([tar for tar in ytrain if tar==-1])/len(ytrain))"
   ]
  },
  {
   "cell_type": "code",
   "execution_count": 17,
   "metadata": {},
   "outputs": [
    {
     "name": "stdout",
     "output_type": "stream",
     "text": [
      "2045\n",
      "# X_bal: 4090\n",
      "# y_bal: 4090\n",
      "% compromised:  0.5\n",
      "% malicious:  0.5\n",
      "# X_rest: 1862\n",
      "# y_rest: 1862\n",
      "% compromised:  1.0\n",
      "% malicious:  0.0\n"
     ]
    }
   ],
   "source": [
    "# balance\n",
    "Xtrain, ytrain, Xtest, ytest = balance_data(Xtrain, ytrain)"
   ]
  },
  {
   "cell_type": "markdown",
   "metadata": {},
   "source": [
    "### Predict"
   ]
  },
  {
   "cell_type": "markdown",
   "metadata": {},
   "source": [
    "#### Comp"
   ]
  },
  {
   "cell_type": "code",
   "execution_count": 32,
   "metadata": {},
   "outputs": [
    {
     "name": "stdout",
     "output_type": "stream",
     "text": [
      "(689, 19)\n",
      "(689,)\n",
      "['archived', 'years_active', 'years_inactive', 'num_captures', 'freenom_tld', 'prev_mal_tld', 'wildcard_subdomain', 'reachable', 'redirected', 'blocked', 'alexa_rank', 'ratio_longest_word', 'contain_digit', 'contain_dash', 'name_len', 'brandname_partialratio', 'prev_mal_domain_ed', 'sub_levels', 'num_sub']\n",
      "array([[1.00000000e+00, 6.00000000e+00, 0.00000000e+00, 7.40000000e+01,\n",
      "        0.00000000e+00, 0.00000000e+00, 0.00000000e+00, 1.00000000e+00,\n",
      "        0.00000000e+00, 0.00000000e+00,            nan, 3.33333333e-01,\n",
      "        1.00000000e+00, 0.00000000e+00, 5.00000000e+00, 6.00000000e+01,\n",
      "        2.00000000e-01, 3.00000000e+00, 1.00000000e+00],\n",
      "       [1.00000000e+00, 8.00000000e+00, 1.00000000e+00, 9.50000000e+01,\n",
      "        0.00000000e+00, 0.00000000e+00, 0.00000000e+00, 1.00000000e+00,\n",
      "        0.00000000e+00, 0.00000000e+00,            nan, 6.66666667e-01,\n",
      "        1.00000000e+00, 0.00000000e+00, 9.00000000e+00, 6.70000000e+01,\n",
      "        1.11111111e-01, 3.00000000e+00, 1.00000000e+00],\n",
      "       [1.00000000e+00, 1.00000000e+00, 1.00000000e+00, 9.00000000e+00,\n",
      "        0.00000000e+00, 0.00000000e+00, 0.00000000e+00, 1.00000000e+00,\n",
      "        0.00000000e+00, 1.00000000e+00,            nan, 4.16666667e-01,\n",
      "        1.00000000e+00, 0.00000000e+00, 1.70000000e+01, 1.00000000e+02,\n",
      "        5.88235294e-02, 3.00000000e+00, 1.00000000e+00],\n",
      "       [1.00000000e+00, 9.00000000e+00, 0.00000000e+00, 6.30000000e+01,\n",
      "        0.00000000e+00, 0.00000000e+00, 0.00000000e+00, 1.00000000e+00,\n",
      "        0.00000000e+00, 0.00000000e+00,            nan, 2.35294118e-01,\n",
      "        1.00000000e+00, 0.00000000e+00, 1.40000000e+01, 5.20000000e+01,\n",
      "        7.14285714e-02, 2.00000000e+00, 1.00000000e+00],\n",
      "       [1.00000000e+00, 1.60000000e+01, 1.00000000e+00, 1.36000000e+02,\n",
      "        0.00000000e+00, 0.00000000e+00, 1.00000000e+00, 1.00000000e+00,\n",
      "        0.00000000e+00, 0.00000000e+00,            nan, 1.11111111e-01,\n",
      "        1.00000000e+00, 0.00000000e+00, 3.00000000e+00, 5.00000000e+01,\n",
      "        3.33333333e-01, 3.00000000e+00, 1.00000000e+00]])\n",
      "array([1, 1, 1, 1, 1])\n",
      "# compromised:  689\n",
      "# malicious:  0\n",
      "% compromised:  1.0\n",
      "% malicious:  0.0\n"
     ]
    }
   ],
   "source": [
    "with open(\"data/test_comp_689\", \"r\", encoding='utf-8') as f:\n",
    "    data_predict = eval(f.read())\n",
    "\n",
    "Xpredict = np.array([d['feat'] for d in data_predict])\n",
    "ypredict = np.array([d['target'] for d in data_predict])\n",
    "feat_labels = data_predict[0]['feat_labels']\n",
    "print(Xpredict.shape)\n",
    "print(ypredict.shape)\n",
    "print(feat_labels)\n",
    "pprint(Xpredict[:5])\n",
    "pprint(ypredict[:5])\n",
    "print(\"# compromised: \", len([tar for tar in ypredict if tar==1]))\n",
    "print(\"# malicious: \", len([tar for tar in ypredict if tar==0]))\n",
    "print(\"% compromised: \", len([tar for tar in ypredict if tar==1])/len(ypredict))\n",
    "print(\"% malicious: \", len([tar for tar in ypredict if tar==0])/len(ypredict))"
   ]
  },
  {
   "cell_type": "markdown",
   "metadata": {},
   "source": [
    "#### Mal"
   ]
  },
  {
   "cell_type": "code",
   "execution_count": 33,
   "metadata": {},
   "outputs": [
    {
     "name": "stdout",
     "output_type": "stream",
     "text": [
      "(2806, 19)\n",
      "(2806,)\n",
      "['archived', 'years_active', 'years_inactive', 'num_captures', 'freenom_tld', 'prev_mal_tld', 'wildcard_subdomain', 'reachable', 'redirected', 'blocked', 'alexa_rank', 'ratio_longest_word', 'contain_digit', 'contain_dash', 'name_len', 'brandname_partialratio', 'prev_mal_domain_ed', 'sub_levels', 'num_sub']\n",
      "array([[0.00000000e+00,            nan,            nan,            nan,\n",
      "        0.00000000e+00, 0.00000000e+00, 0.00000000e+00, 0.00000000e+00,\n",
      "                   nan,            nan,            nan, 2.35294118e-01,\n",
      "        1.00000000e+00, 1.00000000e+00, 1.30000000e+01, 5.50000000e+01,\n",
      "        7.69230769e-02, 2.00000000e+00, 2.00000000e+00],\n",
      "       [0.00000000e+00,            nan,            nan,            nan,\n",
      "        1.00000000e+00, 0.00000000e+00, 0.00000000e+00, 0.00000000e+00,\n",
      "                   nan,            nan,            nan, 6.25000000e-02,\n",
      "        1.00000000e+00, 0.00000000e+00, 1.30000000e+01, 5.00000000e+01,\n",
      "        7.69230769e-02, 7.00000000e+00, 1.00000000e+00],\n",
      "       [0.00000000e+00,            nan,            nan,            nan,\n",
      "        1.00000000e+00, 0.00000000e+00, 0.00000000e+00, 0.00000000e+00,\n",
      "                   nan,            nan,            nan, 1.00000000e-01,\n",
      "        1.00000000e+00, 0.00000000e+00, 7.00000000e+00, 3.30000000e+01,\n",
      "        1.42857143e-01, 2.00000000e+00, 1.00000000e+00],\n",
      "       [0.00000000e+00,            nan,            nan,            nan,\n",
      "        0.00000000e+00, 0.00000000e+00, 0.00000000e+00, 0.00000000e+00,\n",
      "                   nan,            nan,            nan, 1.81818182e-01,\n",
      "        1.00000000e+00, 0.00000000e+00, 7.00000000e+00, 6.70000000e+01,\n",
      "        1.42857143e-01, 2.00000000e+00, 1.00000000e+00],\n",
      "       [0.00000000e+00,            nan,            nan,            nan,\n",
      "        1.00000000e+00, 0.00000000e+00, 0.00000000e+00, 0.00000000e+00,\n",
      "                   nan,            nan,            nan, 3.00000000e-01,\n",
      "        1.00000000e+00, 0.00000000e+00, 7.00000000e+00, 5.00000000e+01,\n",
      "        1.42857143e-01, 2.00000000e+00, 1.00000000e+00]])\n",
      "array([0, 0, 0, 0, 0])\n",
      "# compromised:  0\n",
      "# malicious:  2806\n",
      "% compromised:  0.0\n",
      "% malicious:  1.0\n"
     ]
    }
   ],
   "source": [
    "# phishlabs\n",
    "with open(\"data/test_mal_2806\", \"r\", encoding='utf-8') as f:\n",
    "    data_predict = eval(f.read())\n",
    "\n",
    "Xpredict = np.array([d['feat'] for d in data_predict])\n",
    "ypredict = np.array([d['target'] for d in data_predict])\n",
    "feat_labels = data_predict[0]['feat_labels']\n",
    "print(Xpredict.shape)\n",
    "print(ypredict.shape)\n",
    "print(feat_labels)\n",
    "pprint(Xpredict[:5])\n",
    "pprint(ypredict[:5])\n",
    "print(\"# compromised: \", len([tar for tar in ypredict if tar==1]))\n",
    "print(\"# malicious: \", len([tar for tar in ypredict if tar==0]))\n",
    "print(\"% compromised: \", len([tar for tar in ypredict if tar==1])/len(ypredict))\n",
    "print(\"% malicious: \", len([tar for tar in ypredict if tar==0])/len(ypredict))"
   ]
  },
  {
   "cell_type": "code",
   "execution_count": 37,
   "metadata": {},
   "outputs": [
    {
     "name": "stdout",
     "output_type": "stream",
     "text": [
      "(324, 19)\n",
      "(324,)\n",
      "['archived', 'years_active', 'years_inactive', 'num_captures', 'freenom_tld', 'prev_mal_tld', 'wildcard_subdomain', 'reachable', 'redirected', 'blocked', 'alexa_rank', 'ratio_longest_word', 'contain_digit', 'contain_dash', 'name_len', 'brandname_partialratio', 'prev_mal_domain_ed', 'sub_levels', 'num_sub']\n",
      "array([[  1.        ,  16.        ,   1.        ,  83.        ,\n",
      "          0.        ,   0.        ,   0.        ,   1.        ,\n",
      "          1.        ,   0.        ,          nan,   0.21428571,\n",
      "          1.        ,   0.        ,  10.        ,  80.        ,\n",
      "          0.        ,   3.        ,  92.        ],\n",
      "       [  1.        ,   1.        ,   1.        ,  58.        ,\n",
      "          0.        ,   0.        ,   0.        ,   1.        ,\n",
      "          1.        ,   0.        ,          nan,   0.5       ,\n",
      "          0.        ,   0.        ,   6.        ,  67.        ,\n",
      "          0.16666667,   2.        ,   1.        ],\n",
      "       [  0.        ,          nan,          nan,          nan,\n",
      "          0.        ,   0.        ,   0.        ,   1.        ,\n",
      "          0.        ,   1.        ,          nan,   0.35714286,\n",
      "          0.        ,   0.        ,  10.        ,  70.        ,\n",
      "          0.1       ,   2.        ,   1.        ],\n",
      "       [  0.        ,          nan,          nan,          nan,\n",
      "          0.        ,   1.        ,   0.        ,   1.        ,\n",
      "          0.        ,   0.        ,          nan,   0.5       ,\n",
      "          0.        ,   0.        ,  10.        , 100.        ,\n",
      "          0.        ,   2.        ,   1.        ],\n",
      "       [  0.        ,          nan,          nan,          nan,\n",
      "          0.        ,   1.        ,   1.        ,   0.        ,\n",
      "                 nan,          nan,          nan,   0.35714286,\n",
      "          0.        ,   0.        ,  10.        ,  67.        ,\n",
      "          0.1       ,   2.        ,   1.        ]])\n",
      "array([0, 0, 0, 0, 0])\n",
      "# compromised:  0\n",
      "# malicious:  324\n",
      "% compromised:  0.0\n",
      "% malicious:  1.0\n"
     ]
    }
   ],
   "source": [
    "# next apwg mal\n",
    "with open(\"data/test_post_mal_324\", \"r\", encoding='utf-8') as f:\n",
    "    data_predict = eval(f.read())\n",
    "\n",
    "Xpredict = np.array([d['feat'] for d in data_predict])\n",
    "ypredict = np.array([d['target'] for d in data_predict])\n",
    "feat_labels = data_predict[0]['feat_labels']\n",
    "print(Xpredict.shape)\n",
    "print(ypredict.shape)\n",
    "print(feat_labels)\n",
    "pprint(Xpredict[:5])\n",
    "pprint(ypredict[:5])\n",
    "print(\"# compromised: \", len([tar for tar in ypredict if tar==1]))\n",
    "print(\"# malicious: \", len([tar for tar in ypredict if tar==0]))\n",
    "print(\"% compromised: \", len([tar for tar in ypredict if tar==1])/len(ypredict))\n",
    "print(\"% malicious: \", len([tar for tar in ypredict if tar==0])/len(ypredict))"
   ]
  },
  {
   "cell_type": "markdown",
   "metadata": {},
   "source": [
    "# Normalize and imputer"
   ]
  },
  {
   "cell_type": "code",
   "execution_count": 21,
   "metadata": {},
   "outputs": [
    {
     "name": "stdout",
     "output_type": "stream",
     "text": [
      "[-9.61145444e-01  8.21706689e-14 -2.69241240e-14  1.04395239e-14\n",
      " -2.70930756e-02  9.99511122e-01 -3.43208022e-01 -1.60961771e+00\n",
      "  4.95140095e-15 -4.05453161e-15 -9.13630348e-14 -5.30878246e-03\n",
      "  4.38720010e+00 -2.20721428e-01 -9.36942367e-01 -3.90937599e+00\n",
      "  4.56208404e-01 -3.53633407e-01 -6.51221937e-02]\n",
      "[ 1.04042526e+00 -1.17209941e+00 -1.55694634e+00 -1.46700587e-01\n",
      " -2.70930756e-02 -1.00048912e+00 -3.43208022e-01  6.21265529e-01\n",
      " -3.61287915e-01  2.01857457e+00 -9.13630348e-14 -2.56472645e-01\n",
      " -2.27935808e-01 -2.20721428e-01 -1.01836013e-01  3.38199808e-01\n",
      " -3.05091121e-01 -3.53633407e-01 -6.51221937e-02]\n"
     ]
    }
   ],
   "source": [
    "imp = Imputer(missing_values=np.nan, strategy='mean')\n",
    "imp.fit(Xtrain)\n",
    "Xtrain = imp.transform(Xtrain)\n",
    "Xtest = imp.transform(Xtest)\n",
    "\n",
    "scaler = StandardScaler()\n",
    "scaler.fit(Xtrain)\n",
    "Xtrain = scaler.transform(Xtrain)\n",
    "Xtest = scaler.transform(Xtest)\n",
    "print(Xtrain[2])\n",
    "print(Xtest[2])"
   ]
  },
  {
   "cell_type": "markdown",
   "metadata": {},
   "source": [
    "# Visualize data with t-SNE"
   ]
  },
  {
   "cell_type": "markdown",
   "metadata": {},
   "source": [
    "Takes a high dimensional dataset and reduces to a low dimensional graph that retains a lot of the original information.\n",
    "\n",
    "What t-SNE does is find a way to project data into a low dimensional space so that the clustering in the high dimensional space is preserved.\n",
    "\n",
    "O(n^2) time and memory. "
   ]
  },
  {
   "cell_type": "code",
   "execution_count": 22,
   "metadata": {},
   "outputs": [],
   "source": [
    "def plottsne(data, ax, title=None):\n",
    "    X_embedded = data[0]\n",
    "    y = data[1]\n",
    "    sc = ax.scatter(X_embedded[:, 0], X_embedded[:, 1],\n",
    "                c=y, marker='o', alpha=.3)\n",
    "    #plt.colorbar(sc)\n",
    "    if title:\n",
    "        ax.set_title(title)\n",
    "    return sc"
   ]
  },
  {
   "cell_type": "code",
   "execution_count": 23,
   "metadata": {},
   "outputs": [],
   "source": [
    "def plotsidebyside(tr, te, title1=None, title2=None):\n",
    "    # display images\n",
    "    fig, ax = plt.subplots(1,2)\n",
    "    #fig.set_size_inches(18.5, 10.5)\n",
    "    fig.set_size_inches(15, 7)\n",
    "    \n",
    "    if tr:\n",
    "        sc_tr = plottsne(tr, ax[0], title1)\n",
    "    if te:\n",
    "        sc_te = plottsne(te, ax[1], title2)\n",
    "    \n",
    "    #plt.figure(figsize=(15, 15))\n",
    "    print(\"blue malicious (owned), yellow compromised (hacked)\")"
   ]
  },
  {
   "cell_type": "code",
   "execution_count": 24,
   "metadata": {},
   "outputs": [],
   "source": [
    "Xtrain_embedded = TSNE(n_components=2, perplexity=40, verbose=0).fit_transform(Xtrain)"
   ]
  },
  {
   "cell_type": "code",
   "execution_count": 25,
   "metadata": {},
   "outputs": [
    {
     "name": "stdout",
     "output_type": "stream",
     "text": [
      "blue malicious (owned), yellow compromised (hacked)\n"
     ]
    },
    {
     "data": {
      "image/png": "[encoded data removed]",
      "text/plain": [
       "<matplotlib.figure.Figure at 0x7f6569f01710>"
      ]
     },
     "metadata": {},
     "output_type": "display_data"
    }
   ],
   "source": [
    "plotsidebyside([Xtrain_embedded, ytrain], None, title1=\"Train\", title2=\"Test\")"
   ]
  },
  {
   "cell_type": "markdown",
   "metadata": {},
   "source": [
    "# ROC\n",
    "Compare the performance of each model."
   ]
  },
  {
   "cell_type": "code",
   "execution_count": 26,
   "metadata": {},
   "outputs": [],
   "source": [
    "names = [\n",
    "        #\"KNeighbors\", \n",
    "         #\"Linear SVM\", \n",
    "         #\"RBF SVM\", \n",
    "         \"Neural Net\", \n",
    "        \"Random Forest\",\n",
    "         #\"QDA\",\n",
    "         #\"SGDClassifier\",\n",
    "         \"GaussianNB\",\n",
    "         #\"XGBoost\"\n",
    "        ]\n",
    "\n",
    "classifiers = [\n",
    "    #KNeighborsClassifier(),\n",
    "    #SVC(kernel=\"linear\", C=0.025, probability=True),\n",
    "    #SVC(kernel=\"linear\", probability=True, class_weight={'balanced'}),\n",
    "    #SVC(kernel=\"linear\", probability=True, class_weight='balanced'),\n",
    "    #SVC(gamma=2, probability=True),\n",
    "    #RandomForestClassifier(random_state=42),\n",
    "    #RandomForestClassifier(n_estimators=10, max_features=1, random_state=42),\n",
    "    MLPClassifier(random_state=42),\n",
    "    RandomForestClassifier(max_depth=5, n_estimators=100, max_features=1, random_state=42),\n",
    "    #QuadraticDiscriminantAnalysis(),\n",
    "    #SGDClassifier(max_iter=1000, probability=True),\n",
    "    GaussianNB(),\n",
    "    #GradientBoostingClassifier()\n",
    "]"
   ]
  },
  {
   "cell_type": "code",
   "execution_count": 27,
   "metadata": {},
   "outputs": [],
   "source": [
    "def plot_roc_curve(fpr, tpr, ax, axins, name, label=None):\n",
    "    #plt.xlim(0, 0.2)\n",
    "    #plt.ylim(0.6, 1)\n",
    "    #ax.plot(fpr, tpr, 'r', linewidth=2, label=label)\n",
    "    ax.plot(fpr, tpr, linewidth=2, label=label)\n",
    "    ax.grid()\n",
    "    if axins and name == 'Random Forest':\n",
    "        axins.plot(fpr, tpr, 'r', linewidth=2)\n",
    "        axins.grid()\n",
    "        axins.set_xticks(ticks=[0,5,10,15,20])\n",
    "        axins.set_yticks(ticks=[60,70,80,90,100])"
   ]
  },
  {
   "cell_type": "code",
   "execution_count": 28,
   "metadata": {},
   "outputs": [],
   "source": [
    "def getRoc(data, title=None):\n",
    "    X, y = data\n",
    "    y = y\n",
    "    fig, ax = plt.subplots(1, 1, figsize=(8, 6))\n",
    "    axins = inset_axes(ax, width=2, height=1.5, loc=10)\n",
    "    #axins = inset_axes(ax)\n",
    "\n",
    "    #plt.figure(figsize=(8, 6))\n",
    "    #ax.plot([0, 1], [0, 1], 'k--')\n",
    "    ax.set_xlabel('False Postive Rate (%)')\n",
    "    ax.set_ylabel('True Positive Rate (%)')\n",
    "    ax.axis([0, 100, 0, 100])\n",
    "    ax.set_xticks(ticks=[0,10,20,30,40,50,60,70,80,90,100])\n",
    "    ax.set_yticks(ticks=[0,10,20,30,40,50,60,70,80,90,100])\n",
    "    \n",
    "    #axins.set_xlim([0, 0.5])\n",
    "    #axins.set_ylim([0.6, 1])\n",
    "    axins.axis([0, 20, 60, 100])\n",
    "    #plt.axis([0, 1, 0, 1])\n",
    "    #plt.xlabel('False Positive Rate', fontsize=16)\n",
    "    #plt.ylabel('True Positive Rate', fontsize=16)\n",
    "\n",
    "    for name, clf in zip(names, classifiers):\n",
    "        y_scores = cross_val_predict(clf, X, y, cv=10, method=\"predict_proba\")\n",
    "        fpr, tpr, thresholds = roc_curve(y, y_scores[:, 1])\n",
    "        fpr, tpr = fpr*100, tpr*100\n",
    "        roc_auc = auc(fpr, tpr)/(100*100)\n",
    "        plot_roc_curve(fpr, tpr, ax, axins, name, label='%s (AUC = %0.3f)' % (name, roc_auc))\n",
    "\n",
    "    ax.legend()\n",
    "    #plt.show()"
   ]
  },
  {
   "cell_type": "code",
   "execution_count": 29,
   "metadata": {},
   "outputs": [
    {
     "data": {
      "image/png": "[encoded data removed]",
      "text/plain": [
       "<matplotlib.figure.Figure at 0x7f6569da5518>"
      ]
     },
     "metadata": {},
     "output_type": "display_data"
    }
   ],
   "source": [
    "getRoc([Xtrain, ytrain])"
   ]
  },
  {
   "cell_type": "code",
   "execution_count": 31,
   "metadata": {},
   "outputs": [
    {
     "name": "stdout",
     "output_type": "stream",
     "text": [
      "[[1859    0]\n",
      " [   3    0]]\n",
      "acc:  0.9983888292158969\n",
      "tpr:  0.9983888292158969\n",
      "fpr:  nan\n",
      "f1:  0.999193765116904\n"
     ]
    },
    {
     "name": "stderr",
     "output_type": "stream",
     "text": [
      "/home/sophie/anaconda3/lib/python3.6/site-packages/ipykernel_launcher.py:15: RuntimeWarning: invalid value encountered in long_scalars\n",
      "  from ipykernel import kernelapp as app\n"
     ]
    }
   ],
   "source": [
    "clf = classifiers[1]\n",
    "name = names[1]\n",
    "model = clf.fit(Xtrain, ytrain)\n",
    "\n",
    "#threshold = 0.67\n",
    "threshold = 0.5\n",
    "#threshold = 0.33\n",
    "\n",
    "predicted = model.predict(Xtest)\n",
    "\n",
    "tn, fp, fn, tp = confusion_matrix(ytest, predicted, labels=[-1,1]).ravel()\n",
    "print(np.array([[tp, fp],[fn, tn]]))\n",
    "print(\"acc: \", accuracy_score(ytest, predicted))\n",
    "print(\"tpr: \", tp/(tp+fn))\n",
    "print(\"fpr: \", fp/(tn+fp))\n",
    "#print(\"f1: \", f1_score(ytrain, predicted, average='micro'))\n",
    "print(\"f1: \", f1_score(ytest, predicted))"
   ]
  },
  {
   "cell_type": "markdown",
   "metadata": {},
   "source": [
    "# Classifier predictions"
   ]
  },
  {
   "cell_type": "code",
   "execution_count": 11,
   "metadata": {
    "scrolled": true
   },
   "outputs": [
    {
     "name": "stdout",
     "output_type": "stream",
     "text": [
      "[[11330     0]\n",
      " [  375     0]]\n",
      "acc:  0.9679624092268262\n",
      "tpr:  0.9679624092268262\n",
      "fpr:  nan\n",
      "fnr:  0.032037590773173856\n",
      "tnr:  nan\n",
      "f1:  0.9679624092268262\n"
     ]
    },
    {
     "name": "stderr",
     "output_type": "stream",
     "text": [
      "C:\\Users\\Sophie\\Anaconda3\\lib\\site-packages\\ipykernel_launcher.py:17: RuntimeWarning: invalid value encountered in longlong_scalars\n",
      "C:\\Users\\Sophie\\Anaconda3\\lib\\site-packages\\ipykernel_launcher.py:19: RuntimeWarning: invalid value encountered in longlong_scalars\n"
     ]
    }
   ],
   "source": [
    "clf = classifiers[3]\n",
    "name = names[3]\n",
    "model = clf.fit(Xtrain, ytrain)\n",
    "\n",
    "#threshold = 0.67\n",
    "threshold = 0.5\n",
    "#threshold = 0.33\n",
    "\n",
    "predicted_proba = model.predict_proba(Xtest)\n",
    "predicted = (predicted_proba [:,1] >= threshold).astype('int')\n",
    "predicted = clf.predict(Xtest)\n",
    "\n",
    "tn, fp, fn, tp = confusion_matrix(ytest, predicted, labels=[0,1]).ravel()\n",
    "print(np.array([[tp, fp],[fn, tn]]))\n",
    "print(\"acc: \", accuracy_score(ytest, predicted))\n",
    "print(\"tpr: \", tp/(tp+fn))\n",
    "print(\"fpr: \", fp/(tn+fp))\n",
    "print(\"fnr: \", fn/(tp+fn))\n",
    "print(\"tnr: \", tn/(tn+fp))\n",
    "print(\"f1: \", f1_score(ytest, predicted, average='micro'))"
   ]
  },
  {
   "cell_type": "code",
   "execution_count": 11,
   "metadata": {},
   "outputs": [
    {
     "data": {
      "text/plain": [
       "<matplotlib.legend.Legend at 0x2be92e35a90>"
      ]
     },
     "execution_count": 11,
     "metadata": {},
     "output_type": "execute_result"
    },
    {
     "data": {
      "image/png": "[encoded data removed]",
      "text/plain": [
       "<Figure size 576x432 with 2 Axes>"
      ]
     },
     "metadata": {},
     "output_type": "display_data"
    }
   ],
   "source": [
    "fig, ax = plt.subplots(1, 1, figsize=(8, 6))\n",
    "axins = inset_axes(ax, width=2, height=1.5, loc=10)\n",
    "#axins = inset_axes(ax)\n",
    "\n",
    "#plt.figure(figsize=(8, 6))\n",
    "#ax.plot([0, 1], [0, 1], 'k--')\n",
    "ax.set_xlabel('False Postive Rate (%)')\n",
    "ax.set_ylabel('True Positive Rate (%)')\n",
    "ax.axis([0, 100, 0, 100])\n",
    "ax.set_xticks(ticks=[0,10,20,30,40,50,60,70,80,90,100])\n",
    "ax.set_yticks(ticks=[0,10,20,30,40,50,60,70,80,90,100])\n",
    "\n",
    "#axins.set_xlim([0, 0.5])\n",
    "#axins.set_ylim([0.6, 1])\n",
    "axins.axis([0, 20, 60, 100])\n",
    "fpr, tpr, thresholds = roc_curve(ytest, predicted_proba[:, 1])\n",
    "fpr, tpr = fpr*100, tpr*100\n",
    "roc_auc = auc(fpr, tpr)/(100*100)\n",
    "plot_roc_curve(fpr, tpr, ax, axins, name, label='%s (AUC = %0.3f)' % (name, roc_auc))\n",
    "\n",
    "ax.legend(loc='lower right')"
   ]
  },
  {
   "cell_type": "markdown",
   "metadata": {},
   "source": [
    "# Features"
   ]
  },
  {
   "cell_type": "code",
   "execution_count": 32,
   "metadata": {},
   "outputs": [],
   "source": [
    "def getAUC(X, y, feat=\"\"):\n",
    "    y_scores = cross_val_predict(clf, X, y, cv=5, method=\"predict_proba\")\n",
    "    fpr, tpr, thresholds = roc_curve(y, y_scores[:, 1])\n",
    "    roc_auc = auc(fpr, tpr)\n",
    "    #print(\"%s: AUC %s\" % (feat, roc_auc))\n",
    "    #print()\n",
    "    return roc_auc, feat"
   ]
  },
  {
   "cell_type": "markdown",
   "metadata": {},
   "source": [
    "#### Individual"
   ]
  },
  {
   "cell_type": "code",
   "execution_count": 33,
   "metadata": {},
   "outputs": [
    {
     "name": "stdout",
     "output_type": "stream",
     "text": [
      "['archived', 'years_active', 'years_inactive', 'num_captures', 'freenom_tld', 'prev_mal_tld', 'wildcard_subdomain', 'reachable', 'redirected', 'blocked', 'alexa_rank', 'ratio_longest_word', 'contain_digit', 'contain_dash', 'name_len', 'brandname_partialratio', 'prev_mal_domain_ed', 'sub_levels', 'num_sub']\n",
      "[(0.8954117921341934, 'archived'),\n",
      " (0.929989060323647, 'years_active'),\n",
      " (0.9103898231120091, 'years_inactive'),\n",
      " (0.9311929029596906, 'num_captures'),\n",
      " (0.5009290953545232, 'freenom_tld'),\n",
      " (0.6737408312958436, 'reachable'),\n",
      " (0.7225191145437917, 'redirected'),\n",
      " (0.5516860850903569, 'wildcard_subdomain'),\n",
      " (0.7762653260083333, 'blocked'),\n",
      " (0.9995599022004891, 'prev_mal_tld'),\n",
      " (0.6095843520782397, 'alexa_rank'),\n",
      " (0.7365008578380091, 'ratio_longest_word'),\n",
      " (0.4933424596935695, 'contain_digit'),\n",
      " (0.48565120964126235, 'contain_dash'),\n",
      " (0.8410435136088377, 'name_len'),\n",
      " (0.6767391395316862, 'brandname_partialratio'),\n",
      " (0.843001058099844, 'prev_mal_domain_ed'),\n",
      " (0.6748224843227862, 'sub_levels'),\n",
      " (0.5443747945074455, 'num_sub')]\n"
     ]
    }
   ],
   "source": [
    "auc_feat_list = []\n",
    "print(feat_labels)\n",
    "paper_feat_labels = feat_labels\n",
    "#paper_feat_labels = [\"Archived\", \"Years active\", \"Years inactive\", \"Number of captures\", \"Archive redirected\", \"Freenom TLD\", \"Wildcard subdomain\", \"Reachable\", \"Blocked\", \"Alexa rank\", \"Ratio of longest word\", \"Contain digits\", \"Contain hyphen\", \"Name length\", \"Match brand name\"]\n",
    "for i, feat in enumerate(paper_feat_labels):\n",
    "    if 'excluded' in feat:\n",
    "        continue\n",
    "    X = Xtrain[:,i].reshape(-1, 1)\n",
    "    auc_feat_list.append(getAUC(X, ytrain, feat))\n",
    "\n",
    "ftld = auc_feat_list[5]\n",
    "auc_feat_list[5] = auc_feat_list[7]\n",
    "\n",
    "wcsd = auc_feat_list[6]\n",
    "auc_feat_list[6] = auc_feat_list[8]\n",
    "\n",
    "auc_feat_list[7] = wcsd\n",
    "auc_feat_list[8] = auc_feat_list[9]\n",
    "auc_feat_list[9] = ftld\n",
    "pprint(auc_feat_list)"
   ]
  },
  {
   "cell_type": "code",
   "execution_count": 34,
   "metadata": {},
   "outputs": [
    {
     "data": {
      "image/png": "[encoded data removed]",
      "text/plain": [
       "<matplotlib.figure.Figure at 0x7f6569c99b00>"
      ]
     },
     "metadata": {},
     "output_type": "display_data"
    },
    {
     "data": {
      "text/plain": [
       "<matplotlib.figure.Figure at 0x7f6569c994a8>"
      ]
     },
     "metadata": {},
     "output_type": "display_data"
    }
   ],
   "source": [
    "aucs = [x[0] for x in auc_feat_list]\n",
    "feats = [x[1] for x in auc_feat_list]\n",
    "\n",
    "fig, ax = plt.subplots()\n",
    "plt.figure(figsize=(15,10))\n",
    "\n",
    "# Example data\n",
    "y_pos = np.arange(len(feats))\n",
    "\n",
    "ax.barh(y_pos, aucs, align='center')\n",
    "ax.set_yticks(y_pos)\n",
    "ax.set_yticklabels(feats)\n",
    "ax.invert_yaxis()  # labels read top-to-bottom\n",
    "ax.set_xlabel('Area under the curve (AUC)')\n",
    "ax.set_xlim([0,1])\n",
    "#ax.set_title('How fast do you want to go today?')\n",
    "\n",
    "plt.show()"
   ]
  },
  {
   "cell_type": "markdown",
   "metadata": {},
   "source": [
    "# Predict"
   ]
  },
  {
   "cell_type": "code",
   "execution_count": 38,
   "metadata": {},
   "outputs": [
    {
     "name": "stdout",
     "output_type": "stream",
     "text": [
      "[[ 1.00935858e+00  7.73496723e-01  8.00513663e-01 -1.78650456e-01\n",
      "  -1.73317774e-02 -1.00060078e+00 -4.05383355e-01  6.97096676e-01\n",
      "   2.88273144e+01 -5.16418245e-01 -2.06111888e-13 -1.37862686e+00\n",
      "   4.49557461e+00 -2.34804344e-01 -4.78490310e-02  6.32187469e-01\n",
      "  -2.19090566e+00  1.13915640e+00  3.11154219e+01]\n",
      " [ 1.00935858e+00 -2.95021706e+00  8.00513663e-01 -1.94301267e-01\n",
      "  -1.73317774e-02 -1.00060078e+00 -4.05383355e-01  6.97096676e-01\n",
      "   2.88273144e+01 -5.16418245e-01 -2.06111888e-13  1.48490216e+00\n",
      "  -2.22440975e-01 -2.34804344e-01 -1.20877634e+00 -5.24018511e-01\n",
      "   1.06651930e+00 -4.12967502e-01 -7.89561693e-02]]\n"
     ]
    }
   ],
   "source": [
    "#scaler = StandardScaler()\n",
    "#scaler.fit(Xtrain_reduced)\n",
    "#Xtrain_reduced = scaler.transform(Xtrain_reduced)\n",
    "Xpredict = imp.transform(Xpredict)\n",
    "Xpredict = scaler.transform(Xpredict)\n",
    "print(Xpredict[:2])"
   ]
  },
  {
   "cell_type": "code",
   "execution_count": 39,
   "metadata": {},
   "outputs": [
    {
     "name": "stdout",
     "output_type": "stream",
     "text": [
      "Random Forest\n"
     ]
    }
   ],
   "source": [
    "clf = classifiers[1]\n",
    "name = names[1]\n",
    "print(name)\n",
    "clf.fit(Xtrain, ytrain)\n",
    "\n",
    "Xpredict_pred = clf.predict(Xpredict)\n",
    "Xpredict_proba = clf.predict_proba(Xpredict)\n",
    "#print(sorted(Xpredict_proba[:,0]))"
   ]
  },
  {
   "cell_type": "markdown",
   "metadata": {},
   "source": [
    "#### comp (deltaphish)"
   ]
  },
  {
   "cell_type": "code",
   "execution_count": 30,
   "metadata": {},
   "outputs": [
    {
     "name": "stdout",
     "output_type": "stream",
     "text": [
      "# 2nd level domains: 689\n",
      "# compromised, hacked: 638\n",
      "# malicious, owned: 51\n",
      "% compromised, hacked: 0.9259796806966618\n",
      "% malicious, owned: 0.07402031930333818\n"
     ]
    }
   ],
   "source": [
    "print(\"# 2nd level domains:\", len(Xpredict_pred))\n",
    "print(\"# compromised, hacked:\", len([x for x in Xpredict_pred if x==1]))\n",
    "print(\"# malicious, owned:\", len([x for x in Xpredict_pred if x==-1]))\n",
    "print(\"% compromised, hacked:\", len([x for x in Xpredict_pred if x==1])/len(Xpredict_pred))\n",
    "print(\"% malicious, owned:\", len([x for x in Xpredict_pred if x==-1])/len(Xpredict_pred))"
   ]
  },
  {
   "cell_type": "markdown",
   "metadata": {},
   "source": [
    "#### mal current (phishlabs)"
   ]
  },
  {
   "cell_type": "code",
   "execution_count": 36,
   "metadata": {},
   "outputs": [
    {
     "name": "stdout",
     "output_type": "stream",
     "text": [
      "# 2nd level domains: 2806\n",
      "# compromised, hacked: 437\n",
      "# malicious, owned: 2369\n",
      "% compromised, hacked: 0.1557377049180328\n",
      "% malicious, owned: 0.8442622950819673\n"
     ]
    }
   ],
   "source": [
    "print(\"# 2nd level domains:\", len(Xpredict_pred))\n",
    "print(\"# compromised, hacked:\", len([x for x in Xpredict_pred if x==1]))\n",
    "print(\"# malicious, owned:\", len([x for x in Xpredict_pred if x==-1]))\n",
    "print(\"% compromised, hacked:\", len([x for x in Xpredict_pred if x==1])/len(Xpredict_pred))\n",
    "print(\"% malicious, owned:\", len([x for x in Xpredict_pred if x==-1])/len(Xpredict_pred))"
   ]
  },
  {
   "cell_type": "markdown",
   "metadata": {},
   "source": [
    "#### mal post (apwg)"
   ]
  },
  {
   "cell_type": "code",
   "execution_count": 41,
   "metadata": {},
   "outputs": [
    {
     "name": "stdout",
     "output_type": "stream",
     "text": [
      "# 2nd level domains: 324\n",
      "# compromised, hacked: 49\n",
      "# malicious, owned: 275\n",
      "% compromised, hacked: 0.15123456790123457\n",
      "% malicious, owned: 0.8487654320987654\n"
     ]
    }
   ],
   "source": [
    "print(\"# 2nd level domains:\", len(Xpredict_pred))\n",
    "print(\"# compromised, hacked:\", len([x for x in Xpredict_pred if x==1]))\n",
    "print(\"# malicious, owned:\", len([x for x in Xpredict_pred if x==-1]))\n",
    "print(\"% compromised, hacked:\", len([x for x in Xpredict_pred if x==1])/len(Xpredict_pred))\n",
    "print(\"% malicious, owned:\", len([x for x in Xpredict_pred if x==-1])/len(Xpredict_pred))"
   ]
  },
  {
   "cell_type": "markdown",
   "metadata": {},
   "source": [
    "# Model persistence"
   ]
  },
  {
   "cell_type": "code",
   "execution_count": 17,
   "metadata": {},
   "outputs": [
    {
     "data": {
      "text/plain": [
       "['finalized_scaler.joblib']"
      ]
     },
     "execution_count": 17,
     "metadata": {},
     "output_type": "execute_result"
    }
   ],
   "source": [
    "from joblib import dump, load\n",
    "modelname = 'apwg'\n",
    "filename = './model/'+modelname+'_scaler.joblib'\n",
    "dump(scaler, filename)"
   ]
  },
  {
   "cell_type": "code",
   "execution_count": 21,
   "metadata": {},
   "outputs": [
    {
     "data": {
      "text/plain": [
       "['finalized_imputer.joblib']"
      ]
     },
     "execution_count": 21,
     "metadata": {},
     "output_type": "execute_result"
    }
   ],
   "source": [
    "filename = './model/'+modelname+'_imputer.joblib'\n",
    "dump(imp, filename)"
   ]
  },
  {
   "cell_type": "code",
   "execution_count": 14,
   "metadata": {},
   "outputs": [
    {
     "data": {
      "text/plain": [
       "RandomForestClassifier(bootstrap=True, class_weight=None, criterion='gini',\n",
       "            max_depth=5, max_features=1, max_leaf_nodes=None,\n",
       "            min_impurity_decrease=0.0, min_impurity_split=None,\n",
       "            min_samples_leaf=1, min_samples_split=2,\n",
       "            min_weight_fraction_leaf=0.0, n_estimators=100, n_jobs=None,\n",
       "            oob_score=False, random_state=42, verbose=0, warm_start=False)"
      ]
     },
     "execution_count": 14,
     "metadata": {},
     "output_type": "execute_result"
    }
   ],
   "source": [
    "clf = classifiers[3]\n",
    "clf.fit(Xtrain, ytrain)"
   ]
  },
  {
   "cell_type": "code",
   "execution_count": 20,
   "metadata": {},
   "outputs": [
    {
     "data": {
      "text/plain": [
       "['finalized_model.joblib']"
      ]
     },
     "execution_count": 20,
     "metadata": {},
     "output_type": "execute_result"
    }
   ],
   "source": [
    "#from joblib import dump, load\n",
    "filename = './model/'+modelname+'_model.joblib'\n",
    "dump(clf, filename)\n",
    "#pickle.dump(clf, 'mlp.joblib') "
   ]
  },
  {
   "cell_type": "markdown",
   "metadata": {},
   "source": [
    "# Xgboost"
   ]
  },
  {
   "cell_type": "code",
   "execution_count": 44,
   "metadata": {},
   "outputs": [],
   "source": [
    "dtrain = xgb.DMatrix(Xtrain, label=ytrain)\n",
    "dtest = xgb.DMatrix(Xtest, label=ytest)"
   ]
  },
  {
   "cell_type": "code",
   "execution_count": 45,
   "metadata": {},
   "outputs": [],
   "source": [
    "param = {\n",
    "    'max_depth': 3,  # the maximum depth of each tree\n",
    "    'eta': 0.3,  # the training step for each iteration\n",
    "    'silent': 1,  # logging mode - quiet\n",
    "    'objective': 'multi:softprob',  # error evaluation for multiclass training\n",
    "    'num_class': 3}  # the number of classes that exist in this datset\n",
    "num_round = 20  # the number of training iterations"
   ]
  },
  {
   "cell_type": "code",
   "execution_count": 46,
   "metadata": {},
   "outputs": [],
   "source": [
    "bst = xgb.train(param, dtrain, num_round)"
   ]
  },
  {
   "cell_type": "code",
   "execution_count": 47,
   "metadata": {},
   "outputs": [],
   "source": [
    "bst.dump_model('dump.raw.txt')"
   ]
  },
  {
   "cell_type": "code",
   "execution_count": null,
   "metadata": {},
   "outputs": [],
   "source": []
  }
 ],
 "metadata": {
  "kernelspec": {
   "display_name": "Python 3",
   "language": "python",
   "name": "python3"
  },
  "language_info": {
   "codemirror_mode": {
    "name": "ipython",
    "version": 3
   },
   "file_extension": ".py",
   "mimetype": "text/x-python",
   "name": "python",
   "nbconvert_exporter": "python",
   "pygments_lexer": "ipython3",
   "version": "3.6.4"
  }
 },
 "nbformat": 4,
 "nbformat_minor": 1
}
