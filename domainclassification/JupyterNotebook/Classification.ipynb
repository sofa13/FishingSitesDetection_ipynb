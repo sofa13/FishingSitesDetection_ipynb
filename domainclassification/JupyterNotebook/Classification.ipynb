{
 "cells": [
  {
   "cell_type": "markdown",
   "metadata": {},
   "source": [
    "**Problem**: Given a phishing url, classify the domain as compromised (owned) or malicious (hacked).\n",
    "\n",
    "**Objective**: Given labeled data, analyze the best model and features."
   ]
  },
  {
   "cell_type": "code",
   "execution_count": 1,
   "metadata": {},
   "outputs": [
    {
     "name": "stdout",
     "output_type": "stream",
     "text": [
      "0.20.1\n"
     ]
    }
   ],
   "source": [
    "import sklearn\n",
    "print(sklearn.__version__)"
   ]
  },
  {
   "cell_type": "markdown",
   "metadata": {},
   "source": [
    "# Setup"
   ]
  },
  {
   "cell_type": "code",
   "execution_count": 1,
   "metadata": {},
   "outputs": [],
   "source": [
    "from sklearn import preprocessing\n",
    "from sklearn.preprocessing import StandardScaler, Imputer\n",
    "from sklearn.model_selection import cross_val_score\n",
    "from sklearn.metrics import roc_curve, auc, confusion_matrix, f1_score\n",
    "from sklearn.model_selection import cross_val_predict\n",
    "from sklearn.datasets import make_moons, make_circles, make_classification\n",
    "from sklearn.model_selection import train_test_split\n",
    "from sklearn.metrics import accuracy_score\n",
    "\n",
    "from sklearn.linear_model import SGDClassifier\n",
    "from sklearn.linear_model import LogisticRegression\n",
    "from sklearn.neighbors import KNeighborsClassifier\n",
    "from sklearn.neural_network import MLPClassifier\n",
    "from sklearn.svm import SVC\n",
    "from sklearn.ensemble import RandomForestClassifier, GradientBoostingClassifier\n",
    "from sklearn.discriminant_analysis import QuadraticDiscriminantAnalysis\n",
    "from sklearn.naive_bayes import GaussianNB\n",
    "\n",
    "#from sklearn.impute import SimpleImputer\n",
    "\n",
    "from sklearn.decomposition import PCA\n",
    "from sklearn.manifold import TSNE\n",
    "\n",
    "import xgboost as xgb\n",
    "\n",
    "import numpy as np\n",
    "\n",
    "import matplotlib.pyplot as plt\n",
    "from mpl_toolkits.axes_grid1.inset_locator import inset_axes\n",
    "\n",
    "import scipy\n",
    "\n",
    "from pprint import pprint\n",
    "\n",
    "import pickle\n",
    "\n",
    "import numpy as np\n",
    "from numpy import nan"
   ]
  },
  {
   "cell_type": "markdown",
   "metadata": {},
   "source": [
    "# Data"
   ]
  },
  {
   "cell_type": "code",
   "execution_count": 2,
   "metadata": {},
   "outputs": [],
   "source": [
    "# balanced train and test sets\n",
    "def balance_data(X, y):\n",
    "    X_bal = []\n",
    "    y_bal = []\n",
    "    X_rest = []\n",
    "    y_rest = []\n",
    "    min1 = len([tar for tar in y if tar==1])\n",
    "    min2 = len([tar for tar in y if tar==0])\n",
    "    mini = min1\n",
    "    if min2 < min1:\n",
    "        mini = min2\n",
    "\n",
    "    cnt_1 = 0\n",
    "    cnt_0 = 0\n",
    "    print(mini)\n",
    "    for i, tar in enumerate(y):\n",
    "        if tar == 1 and cnt_1<mini:\n",
    "            cnt_1+=1\n",
    "            X_bal.append(X[i])\n",
    "            y_bal.append(y[i])\n",
    "        elif tar == 0 and cnt_0<mini:\n",
    "            cnt_0+=1\n",
    "            X_bal.append(X[i])\n",
    "            y_bal.append(y[i])\n",
    "        else:\n",
    "            X_rest.append(X[i])\n",
    "            y_rest.append(y[i])\n",
    "\n",
    "    print(\"# X_bal:\", len(X_bal))\n",
    "    print(\"# y_bal:\", len(y_bal))\n",
    "    print(\"% compromised: \", len([tar for tar in y_bal if tar==1])/len(y_bal))\n",
    "    print(\"% malicious: \", len([tar for tar in y_bal if tar==0])/len(y_bal))\n",
    "    \n",
    "    print(\"# X_bal:\", len(X_rest))\n",
    "    print(\"# y_bal:\", len(y_rest))\n",
    "    print(\"% compromised: \", len([tar for tar in y_rest if tar==1])/len(y_rest))\n",
    "    print(\"% malicious: \", len([tar for tar in y_rest if tar==0])/len(y_rest))\n",
    "    \n",
    "    return [X_bal, y_bal, X_rest, y_rest]"
   ]
  },
  {
   "cell_type": "markdown",
   "metadata": {},
   "source": [
    "### Train/Test"
   ]
  },
  {
   "cell_type": "code",
   "execution_count": 3,
   "metadata": {},
   "outputs": [
    {
     "name": "stdout",
     "output_type": "stream",
     "text": [
      "(26977, 19)\n",
      "(26977,)\n",
      "['archived', 'years_active', 'years_inactive', 'num_captures', 'freenom_tld', 'prev_mal_tld', 'wildcard_subdomain', 'reachable', 'redirected', 'blocked', 'alexa_rank', 'ratio_longest_word', 'contain_digit', 'contain_dash', 'name_len', 'brandname_partialratio', 'prev_mal_domain_ed', 'sub_levels', 'num_sub']\n",
      "array([[1.00000000e+00, 9.00000000e+00, 1.00000000e+00, 7.42000000e+02,\n",
      "        0.00000000e+00, 0.00000000e+00, 1.00000000e+00, 1.00000000e+00,\n",
      "        0.00000000e+00, 0.00000000e+00, 1.14676000e+05, 3.75000000e-01,\n",
      "        1.00000000e+00, 0.00000000e+00, 4.00000000e+00, 6.70000000e+01,\n",
      "        2.50000000e-01, 3.00000000e+00, 8.00000000e+00],\n",
      "       [0.00000000e+00,            nan,            nan,            nan,\n",
      "        1.00000000e+00, 0.00000000e+00, 0.00000000e+00, 0.00000000e+00,\n",
      "                   nan,            nan,            nan, 2.00000000e-01,\n",
      "        1.00000000e+00, 0.00000000e+00, 7.00000000e+00, 6.70000000e+01,\n",
      "        1.42857143e-01, 2.00000000e+00, 1.00000000e+00],\n",
      "       [1.00000000e+00, 1.60000000e+01, 0.00000000e+00, 6.60000000e+01,\n",
      "        0.00000000e+00, 0.00000000e+00, 1.00000000e+00, 1.00000000e+00,\n",
      "        0.00000000e+00, 0.00000000e+00, 5.45321000e+05, 2.00000000e-01,\n",
      "        1.00000000e+00, 0.00000000e+00, 6.00000000e+00, 5.50000000e+01,\n",
      "        1.66666667e-01, 2.00000000e+00, 1.00000000e+00],\n",
      "       [1.00000000e+00, 1.10000000e+01, 1.00000000e+00, 8.50000000e+01,\n",
      "        0.00000000e+00, 0.00000000e+00, 1.00000000e+00, 1.00000000e+00,\n",
      "        0.00000000e+00, 0.00000000e+00,            nan, 3.33333333e-01,\n",
      "        1.00000000e+00, 1.00000000e+00, 8.00000000e+00, 6.70000000e+01,\n",
      "        1.25000000e-01, 3.00000000e+00, 2.00000000e+00],\n",
      "       [0.00000000e+00,            nan,            nan,            nan,\n",
      "        0.00000000e+00, 0.00000000e+00, 0.00000000e+00, 0.00000000e+00,\n",
      "                   nan,            nan,            nan, 1.42857143e-01,\n",
      "        1.00000000e+00, 0.00000000e+00, 4.00000000e+00, 4.00000000e+01,\n",
      "        2.50000000e-01, 5.00000000e+00, 1.00000000e+00]])\n",
      "array([1, 0, 1, 1, 1])\n",
      "# compromised:  19341\n",
      "# malicious:  7636\n",
      "% compromised:  0.7169440634614672\n",
      "% malicious:  0.28305593653853284\n"
     ]
    }
   ],
   "source": [
    "with open(\"data/data_cluster_26977\", \"r\", encoding='utf-8') as f:\n",
    "    data_train = eval(f.read())\n",
    "\n",
    "Xtrain = np.array([d['feat'] for d in data_train])\n",
    "ytrain = np.array([d['target'] for d in data_train])\n",
    "feat_labels = data_train[0]['feat_labels']\n",
    "print(Xtrain.shape)\n",
    "print(ytrain.shape)\n",
    "print(feat_labels)\n",
    "pprint(Xtrain[:5])\n",
    "pprint(ytrain[:5])\n",
    "print(\"# compromised: \", len([tar for tar in ytrain if tar==1]))\n",
    "print(\"# malicious: \", len([tar for tar in ytrain if tar==0]))\n",
    "print(\"% compromised: \", len([tar for tar in ytrain if tar==1])/len(ytrain))\n",
    "print(\"% malicious: \", len([tar for tar in ytrain if tar==0])/len(ytrain))"
   ]
  },
  {
   "cell_type": "code",
   "execution_count": 4,
   "metadata": {},
   "outputs": [
    {
     "name": "stdout",
     "output_type": "stream",
     "text": [
      "7636\n",
      "# X_bal: 15272\n",
      "# y_bal: 15272\n",
      "% compromised:  0.5\n",
      "% malicious:  0.5\n",
      "# X_bal: 11705\n",
      "# y_bal: 11705\n",
      "% compromised:  1.0\n",
      "% malicious:  0.0\n"
     ]
    }
   ],
   "source": [
    "# balance\n",
    "Xtrain, ytrain, Xtest, ytest = balance_data(Xtrain, ytrain)"
   ]
  },
  {
   "cell_type": "markdown",
   "metadata": {},
   "source": [
    "### Predict"
   ]
  },
  {
   "cell_type": "markdown",
   "metadata": {},
   "source": [
    "#### Comp"
   ]
  },
  {
   "cell_type": "code",
   "execution_count": 31,
   "metadata": {},
   "outputs": [
    {
     "name": "stdout",
     "output_type": "stream",
     "text": [
      "(689, 19)\n",
      "(689,)\n",
      "['archived', 'years_active', 'years_inactive', 'num_captures', 'freenom_tld', 'prev_mal_tld', 'wildcard_subdomain', 'reachable', 'redirected', 'blocked', 'alexa_rank', 'ratio_longest_word', 'contain_digit', 'contain_dash', 'name_len', 'brandname_partialratio', 'prev_mal_domain_ed', 'sub_levels', 'num_sub']\n",
      "array([[1.00000000e+00, 6.00000000e+00, 0.00000000e+00, 7.40000000e+01,\n",
      "        0.00000000e+00, 0.00000000e+00, 0.00000000e+00, 1.00000000e+00,\n",
      "        0.00000000e+00, 0.00000000e+00,            nan, 3.33333333e-01,\n",
      "        1.00000000e+00, 0.00000000e+00, 5.00000000e+00, 6.00000000e+01,\n",
      "        2.00000000e-01, 3.00000000e+00, 1.00000000e+00],\n",
      "       [1.00000000e+00, 8.00000000e+00, 1.00000000e+00, 9.50000000e+01,\n",
      "        0.00000000e+00, 0.00000000e+00, 0.00000000e+00, 1.00000000e+00,\n",
      "        0.00000000e+00, 0.00000000e+00,            nan, 6.66666667e-01,\n",
      "        1.00000000e+00, 0.00000000e+00, 9.00000000e+00, 6.70000000e+01,\n",
      "        1.11111111e-01, 3.00000000e+00, 1.00000000e+00],\n",
      "       [1.00000000e+00, 1.00000000e+00, 1.00000000e+00, 9.00000000e+00,\n",
      "        0.00000000e+00, 0.00000000e+00, 0.00000000e+00, 1.00000000e+00,\n",
      "        0.00000000e+00, 1.00000000e+00,            nan, 4.16666667e-01,\n",
      "        1.00000000e+00, 0.00000000e+00, 1.70000000e+01, 1.00000000e+02,\n",
      "        5.88235294e-02, 3.00000000e+00, 1.00000000e+00],\n",
      "       [1.00000000e+00, 9.00000000e+00, 0.00000000e+00, 6.30000000e+01,\n",
      "        0.00000000e+00, 0.00000000e+00, 0.00000000e+00, 1.00000000e+00,\n",
      "        0.00000000e+00, 0.00000000e+00,            nan, 2.35294118e-01,\n",
      "        1.00000000e+00, 0.00000000e+00, 1.40000000e+01, 5.20000000e+01,\n",
      "        7.14285714e-02, 2.00000000e+00, 1.00000000e+00],\n",
      "       [1.00000000e+00, 1.60000000e+01, 1.00000000e+00, 1.36000000e+02,\n",
      "        0.00000000e+00, 0.00000000e+00, 1.00000000e+00, 1.00000000e+00,\n",
      "        0.00000000e+00, 0.00000000e+00,            nan, 1.11111111e-01,\n",
      "        1.00000000e+00, 0.00000000e+00, 3.00000000e+00, 5.00000000e+01,\n",
      "        3.33333333e-01, 3.00000000e+00, 1.00000000e+00]])\n",
      "array([1, 1, 1, 1, 1])\n",
      "# compromised:  689\n",
      "# malicious:  0\n",
      "% compromised:  1.0\n",
      "% malicious:  0.0\n"
     ]
    }
   ],
   "source": [
    "with open(\"data/test_comp_689\", \"r\", encoding='utf-8') as f:\n",
    "    data_predict = eval(f.read())\n",
    "\n",
    "Xpredict = np.array([d['feat'] for d in data_predict])\n",
    "ypredict = np.array([d['target'] for d in data_predict])\n",
    "feat_labels = data_predict[0]['feat_labels']\n",
    "print(Xpredict.shape)\n",
    "print(ypredict.shape)\n",
    "print(feat_labels)\n",
    "pprint(Xpredict[:5])\n",
    "pprint(ypredict[:5])\n",
    "print(\"# compromised: \", len([tar for tar in ypredict if tar==1]))\n",
    "print(\"# malicious: \", len([tar for tar in ypredict if tar==0]))\n",
    "print(\"% compromised: \", len([tar for tar in ypredict if tar==1])/len(ypredict))\n",
    "print(\"% malicious: \", len([tar for tar in ypredict if tar==0])/len(ypredict))"
   ]
  },
  {
   "cell_type": "markdown",
   "metadata": {},
   "source": [
    "#### Mal"
   ]
  },
  {
   "cell_type": "code",
   "execution_count": 35,
   "metadata": {},
   "outputs": [
    {
     "name": "stdout",
     "output_type": "stream",
     "text": [
      "(2806, 19)\n",
      "(2806,)\n",
      "['archived', 'years_active', 'years_inactive', 'num_captures', 'freenom_tld', 'prev_mal_tld', 'wildcard_subdomain', 'reachable', 'redirected', 'blocked', 'alexa_rank', 'ratio_longest_word', 'contain_digit', 'contain_dash', 'name_len', 'brandname_partialratio', 'prev_mal_domain_ed', 'sub_levels', 'num_sub']\n",
      "array([[0.00000000e+00,            nan,            nan,            nan,\n",
      "        0.00000000e+00, 0.00000000e+00, 0.00000000e+00, 0.00000000e+00,\n",
      "                   nan,            nan,            nan, 2.35294118e-01,\n",
      "        1.00000000e+00, 1.00000000e+00, 1.30000000e+01, 5.50000000e+01,\n",
      "        7.69230769e-02, 2.00000000e+00, 2.00000000e+00],\n",
      "       [0.00000000e+00,            nan,            nan,            nan,\n",
      "        1.00000000e+00, 0.00000000e+00, 0.00000000e+00, 0.00000000e+00,\n",
      "                   nan,            nan,            nan, 6.25000000e-02,\n",
      "        1.00000000e+00, 0.00000000e+00, 1.30000000e+01, 5.00000000e+01,\n",
      "        7.69230769e-02, 7.00000000e+00, 1.00000000e+00],\n",
      "       [0.00000000e+00,            nan,            nan,            nan,\n",
      "        1.00000000e+00, 0.00000000e+00, 0.00000000e+00, 0.00000000e+00,\n",
      "                   nan,            nan,            nan, 1.00000000e-01,\n",
      "        1.00000000e+00, 0.00000000e+00, 7.00000000e+00, 3.30000000e+01,\n",
      "        1.42857143e-01, 2.00000000e+00, 1.00000000e+00],\n",
      "       [0.00000000e+00,            nan,            nan,            nan,\n",
      "        0.00000000e+00, 0.00000000e+00, 0.00000000e+00, 0.00000000e+00,\n",
      "                   nan,            nan,            nan, 1.81818182e-01,\n",
      "        1.00000000e+00, 0.00000000e+00, 7.00000000e+00, 6.70000000e+01,\n",
      "        1.42857143e-01, 2.00000000e+00, 1.00000000e+00],\n",
      "       [0.00000000e+00,            nan,            nan,            nan,\n",
      "        1.00000000e+00, 0.00000000e+00, 0.00000000e+00, 0.00000000e+00,\n",
      "                   nan,            nan,            nan, 3.00000000e-01,\n",
      "        1.00000000e+00, 0.00000000e+00, 7.00000000e+00, 5.00000000e+01,\n",
      "        1.42857143e-01, 2.00000000e+00, 1.00000000e+00]])\n",
      "array([0, 0, 0, 0, 0])\n",
      "# compromised:  0\n",
      "# malicious:  2806\n",
      "% compromised:  0.0\n",
      "% malicious:  1.0\n"
     ]
    }
   ],
   "source": [
    "with open(\"data/test_mal_2806\", \"r\", encoding='utf-8') as f:\n",
    "    data_predict = eval(f.read())\n",
    "\n",
    "Xpredict = np.array([d['feat'] for d in data_predict])\n",
    "ypredict = np.array([d['target'] for d in data_predict])\n",
    "feat_labels = data_predict[0]['feat_labels']\n",
    "print(Xpredict.shape)\n",
    "print(ypredict.shape)\n",
    "print(feat_labels)\n",
    "pprint(Xpredict[:5])\n",
    "pprint(ypredict[:5])\n",
    "print(\"# compromised: \", len([tar for tar in ypredict if tar==1]))\n",
    "print(\"# malicious: \", len([tar for tar in ypredict if tar==0]))\n",
    "print(\"% compromised: \", len([tar for tar in ypredict if tar==1])/len(ypredict))\n",
    "print(\"% malicious: \", len([tar for tar in ypredict if tar==0])/len(ypredict))"
   ]
  },
  {
   "cell_type": "code",
   "execution_count": 27,
   "metadata": {},
   "outputs": [
    {
     "name": "stdout",
     "output_type": "stream",
     "text": [
      "(324, 19)\n",
      "(324,)\n",
      "['archived', 'years_active', 'years_inactive', 'num_captures', 'freenom_tld', 'prev_mal_tld', 'wildcard_subdomain', 'reachable', 'redirected', 'blocked', 'alexa_rank', 'ratio_longest_word', 'contain_digit', 'contain_dash', 'name_len', 'brandname_partialratio', 'prev_mal_domain_ed', 'sub_levels', 'num_sub']\n",
      "array([[  1.        ,  16.        ,   1.        ,  83.        ,\n",
      "          0.        ,   0.        ,   0.        ,   1.        ,\n",
      "          1.        ,   0.        ,          nan,   0.21428571,\n",
      "          1.        ,   0.        ,  10.        ,  80.        ,\n",
      "          0.        ,   3.        ,  92.        ],\n",
      "       [  1.        ,   1.        ,   1.        ,  58.        ,\n",
      "          0.        ,   0.        ,   0.        ,   1.        ,\n",
      "          1.        ,   0.        ,          nan,   0.5       ,\n",
      "          0.        ,   0.        ,   6.        ,  67.        ,\n",
      "          0.16666667,   2.        ,   1.        ],\n",
      "       [  0.        ,          nan,          nan,          nan,\n",
      "          0.        ,   0.        ,   0.        ,   1.        ,\n",
      "          0.        ,   1.        ,          nan,   0.35714286,\n",
      "          0.        ,   0.        ,  10.        ,  70.        ,\n",
      "          0.1       ,   2.        ,   1.        ],\n",
      "       [  0.        ,          nan,          nan,          nan,\n",
      "          0.        ,   1.        ,   0.        ,   1.        ,\n",
      "          0.        ,   0.        ,          nan,   0.5       ,\n",
      "          0.        ,   0.        ,  10.        , 100.        ,\n",
      "          0.        ,   2.        ,   1.        ],\n",
      "       [  0.        ,          nan,          nan,          nan,\n",
      "          0.        ,   1.        ,   1.        ,   0.        ,\n",
      "                 nan,          nan,          nan,   0.35714286,\n",
      "          0.        ,   0.        ,  10.        ,  67.        ,\n",
      "          0.1       ,   2.        ,   1.        ]])\n",
      "array([0, 0, 0, 0, 0])\n",
      "# compromised:  0\n",
      "# malicious:  324\n",
      "% compromised:  0.0\n",
      "% malicious:  1.0\n"
     ]
    }
   ],
   "source": [
    "with open(\"data/test_post_mal_324\", \"r\", encoding='utf-8') as f:\n",
    "    data_predict = eval(f.read())\n",
    "\n",
    "Xpredict = np.array([d['feat'] for d in data_predict])\n",
    "ypredict = np.array([d['target'] for d in data_predict])\n",
    "feat_labels = data_predict[0]['feat_labels']\n",
    "print(Xpredict.shape)\n",
    "print(ypredict.shape)\n",
    "print(feat_labels)\n",
    "pprint(Xpredict[:5])\n",
    "pprint(ypredict[:5])\n",
    "print(\"# compromised: \", len([tar for tar in ypredict if tar==1]))\n",
    "print(\"# malicious: \", len([tar for tar in ypredict if tar==0]))\n",
    "print(\"% compromised: \", len([tar for tar in ypredict if tar==1])/len(ypredict))\n",
    "print(\"% malicious: \", len([tar for tar in ypredict if tar==0])/len(ypredict))"
   ]
  },
  {
   "cell_type": "markdown",
   "metadata": {},
   "source": [
    "# Normalize and imputer"
   ]
  },
  {
   "cell_type": "code",
   "execution_count": 5,
   "metadata": {},
   "outputs": [
    {
     "name": "stdout",
     "output_type": "stream",
     "text": [
      "[ 1.33252125  2.60730598 -1.34740656 -0.07073816 -0.35986422 -0.41133086\n",
      "  2.57308346  1.07680187 -0.64690462 -0.29947909  5.18159458 -1.13234227\n",
      "  2.81712975 -0.40817032 -1.03030801 -1.51748492  0.93104907 -0.46694308\n",
      " -0.04200788]\n",
      "[ 1.33252125e+00  2.60730598e+00  7.55458363e-02 -4.11104417e-02\n",
      " -3.59864218e-01 -4.11330863e-01 -3.88638774e-01  1.07680187e+00\n",
      " -6.46904617e-01 -2.99479086e-01  1.58602495e-12 -4.75707797e-01\n",
      " -3.54971226e-01 -4.08170319e-01 -8.60625119e-01 -5.32152024e-01\n",
      "  5.73363397e-01 -4.66943080e-01 -4.20078769e-02]\n"
     ]
    },
    {
     "name": "stderr",
     "output_type": "stream",
     "text": [
      "C:\\Users\\Sophie\\Anaconda3\\lib\\site-packages\\sklearn\\utils\\deprecation.py:58: DeprecationWarning: Class Imputer is deprecated; Imputer was deprecated in version 0.20 and will be removed in 0.22. Import impute.SimpleImputer from sklearn instead.\n",
      "  warnings.warn(msg, category=DeprecationWarning)\n"
     ]
    }
   ],
   "source": [
    "imp = Imputer(missing_values=np.nan, strategy='mean')\n",
    "imp.fit(Xtrain)\n",
    "Xtrain = imp.transform(Xtrain)\n",
    "Xtest = imp.transform(Xtest)\n",
    "\n",
    "scaler = StandardScaler()\n",
    "scaler.fit(Xtrain)\n",
    "Xtrain = scaler.transform(Xtrain)\n",
    "Xtest = scaler.transform(Xtest)\n",
    "print(Xtrain[2])\n",
    "print(Xtest[2])"
   ]
  },
  {
   "cell_type": "markdown",
   "metadata": {},
   "source": [
    "# Visualize data with t-SNE"
   ]
  },
  {
   "cell_type": "markdown",
   "metadata": {},
   "source": [
    "Takes a high dimensional dataset and reduces to a low dimensional graph that retains a lot of the original information.\n",
    "\n",
    "What t-SNE does is find a way to project data into a low dimensional space so that the clustering in the high dimensional space is preserved.\n",
    "\n",
    "O(n^2) time and memory. "
   ]
  },
  {
   "cell_type": "code",
   "execution_count": 7,
   "metadata": {},
   "outputs": [],
   "source": [
    "def plottsne(data, ax, title=None):\n",
    "    X_embedded = data[0]\n",
    "    y = data[1]\n",
    "    sc = ax.scatter(X_embedded[:, 0], X_embedded[:, 1],\n",
    "                c=y, marker='o', alpha=.3)\n",
    "    #plt.colorbar(sc)\n",
    "    if title:\n",
    "        ax.set_title(title)\n",
    "    return sc"
   ]
  },
  {
   "cell_type": "code",
   "execution_count": 8,
   "metadata": {},
   "outputs": [],
   "source": [
    "def plotsidebyside(tr, te, title1=None, title2=None):\n",
    "    # display images\n",
    "    fig, ax = plt.subplots(1,2)\n",
    "    #fig.set_size_inches(18.5, 10.5)\n",
    "    fig.set_size_inches(15, 7)\n",
    "    \n",
    "    if tr:\n",
    "        sc_tr = plottsne(tr, ax[0], title1)\n",
    "    if te:\n",
    "        sc_te = plottsne(te, ax[1], title2)\n",
    "    \n",
    "    #plt.figure(figsize=(15, 15))\n",
    "    print(\"blue malicious (owned), yellow compromised (hacked)\")"
   ]
  },
  {
   "cell_type": "code",
   "execution_count": 9,
   "metadata": {},
   "outputs": [],
   "source": [
    "Xtrain_embedded = TSNE(n_components=2, perplexity=40, verbose=0).fit_transform(Xtrain)"
   ]
  },
  {
   "cell_type": "code",
   "execution_count": 10,
   "metadata": {},
   "outputs": [
    {
     "name": "stdout",
     "output_type": "stream",
     "text": [
      "blue malicious (owned), yellow compromised (hacked)\n"
     ]
    },
    {
     "data": {
      "image/png": "[encoded data removed]",
      "text/plain": [
       "<Figure size 1080x504 with 2 Axes>"
      ]
     },
     "metadata": {},
     "output_type": "display_data"
    }
   ],
   "source": [
    "plotsidebyside([Xtrain_embedded, ytrain], None, title1=\"Train\", title2=\"Test\")"
   ]
  },
  {
   "cell_type": "markdown",
   "metadata": {},
   "source": [
    "# ROC\n",
    "Compare the performance of each model."
   ]
  },
  {
   "cell_type": "code",
   "execution_count": 6,
   "metadata": {},
   "outputs": [],
   "source": [
    "names = [\n",
    "        #\"KNeighbors\", \n",
    "         #\"Linear SVM\", \n",
    "         #\"RBF SVM\", \n",
    "         \"Neural Net\", \n",
    "        \"Random Forest\",\n",
    "         #\"QDA\",\n",
    "         #\"SGDClassifier\",\n",
    "         \"GaussianNB\",\n",
    "         \"XGBoost\"\n",
    "        ]\n",
    "\n",
    "classifiers = [\n",
    "    #KNeighborsClassifier(),\n",
    "    #SVC(kernel=\"linear\", C=0.025, probability=True),\n",
    "    #SVC(kernel=\"linear\", probability=True, class_weight={'balanced'}),\n",
    "    #SVC(kernel=\"linear\", probability=True, class_weight='balanced'),\n",
    "    #SVC(gamma=2, probability=True),\n",
    "    #RandomForestClassifier(random_state=42),\n",
    "    #RandomForestClassifier(n_estimators=10, max_features=1, random_state=42),\n",
    "    MLPClassifier(random_state=42),\n",
    "    RandomForestClassifier(max_depth=5, n_estimators=100, max_features=1, random_state=42),\n",
    "    #QuadraticDiscriminantAnalysis(),\n",
    "    #SGDClassifier(max_iter=1000, probability=True),\n",
    "    GaussianNB(),\n",
    "    GradientBoostingClassifier()\n",
    "]"
   ]
  },
  {
   "cell_type": "code",
   "execution_count": 7,
   "metadata": {},
   "outputs": [],
   "source": [
    "def plot_roc_curve(fpr, tpr, ax, axins, name, label=None):\n",
    "    #plt.xlim(0, 0.2)\n",
    "    #plt.ylim(0.6, 1)\n",
    "    #ax.plot(fpr, tpr, 'r', linewidth=2, label=label)\n",
    "    ax.plot(fpr, tpr, linewidth=2, label=label)\n",
    "    ax.grid()\n",
    "    if axins and name == 'Random Forest':\n",
    "        axins.plot(fpr, tpr, 'r', linewidth=2)\n",
    "        axins.grid()\n",
    "        axins.set_xticks(ticks=[0,5,10,15,20])\n",
    "        axins.set_yticks(ticks=[60,70,80,90,100])"
   ]
  },
  {
   "cell_type": "code",
   "execution_count": 8,
   "metadata": {},
   "outputs": [],
   "source": [
    "def getRoc(data, title=None):\n",
    "    X, y = data\n",
    "    y = y\n",
    "    fig, ax = plt.subplots(1, 1, figsize=(8, 6))\n",
    "    axins = inset_axes(ax, width=2, height=1.5, loc=10)\n",
    "    #axins = inset_axes(ax)\n",
    "\n",
    "    #plt.figure(figsize=(8, 6))\n",
    "    #ax.plot([0, 1], [0, 1], 'k--')\n",
    "    ax.set_xlabel('False Postive Rate (%)')\n",
    "    ax.set_ylabel('True Positive Rate (%)')\n",
    "    ax.axis([0, 100, 0, 100])\n",
    "    ax.set_xticks(ticks=[0,10,20,30,40,50,60,70,80,90,100])\n",
    "    ax.set_yticks(ticks=[0,10,20,30,40,50,60,70,80,90,100])\n",
    "    \n",
    "    #axins.set_xlim([0, 0.5])\n",
    "    #axins.set_ylim([0.6, 1])\n",
    "    axins.axis([0, 20, 60, 100])\n",
    "    #plt.axis([0, 1, 0, 1])\n",
    "    #plt.xlabel('False Positive Rate', fontsize=16)\n",
    "    #plt.ylabel('True Positive Rate', fontsize=16)\n",
    "\n",
    "    for name, clf in zip(names, classifiers):\n",
    "        y_scores = cross_val_predict(clf, X, y, cv=10, method=\"predict_proba\")\n",
    "        fpr, tpr, thresholds = roc_curve(y, y_scores[:, 1])\n",
    "        fpr, tpr = fpr*100, tpr*100\n",
    "        roc_auc = auc(fpr, tpr)/(100*100)\n",
    "        plot_roc_curve(fpr, tpr, ax, axins, name, label='%s (AUC = %0.3f)' % (name, roc_auc))\n",
    "\n",
    "    ax.legend()\n",
    "    #plt.show()"
   ]
  },
  {
   "cell_type": "code",
   "execution_count": 9,
   "metadata": {},
   "outputs": [
    {
     "name": "stderr",
     "output_type": "stream",
     "text": [
      "C:\\Users\\Sophie\\Anaconda3\\lib\\site-packages\\sklearn\\neural_network\\multilayer_perceptron.py:562: ConvergenceWarning: Stochastic Optimizer: Maximum iterations (200) reached and the optimization hasn't converged yet.\n",
      "  % self.max_iter, ConvergenceWarning)\n",
      "C:\\Users\\Sophie\\Anaconda3\\lib\\site-packages\\sklearn\\neural_network\\multilayer_perceptron.py:562: ConvergenceWarning: Stochastic Optimizer: Maximum iterations (200) reached and the optimization hasn't converged yet.\n",
      "  % self.max_iter, ConvergenceWarning)\n",
      "C:\\Users\\Sophie\\Anaconda3\\lib\\site-packages\\sklearn\\neural_network\\multilayer_perceptron.py:562: ConvergenceWarning: Stochastic Optimizer: Maximum iterations (200) reached and the optimization hasn't converged yet.\n",
      "  % self.max_iter, ConvergenceWarning)\n",
      "C:\\Users\\Sophie\\Anaconda3\\lib\\site-packages\\sklearn\\neural_network\\multilayer_perceptron.py:562: ConvergenceWarning: Stochastic Optimizer: Maximum iterations (200) reached and the optimization hasn't converged yet.\n",
      "  % self.max_iter, ConvergenceWarning)\n",
      "C:\\Users\\Sophie\\Anaconda3\\lib\\site-packages\\sklearn\\neural_network\\multilayer_perceptron.py:562: ConvergenceWarning: Stochastic Optimizer: Maximum iterations (200) reached and the optimization hasn't converged yet.\n",
      "  % self.max_iter, ConvergenceWarning)\n",
      "C:\\Users\\Sophie\\Anaconda3\\lib\\site-packages\\sklearn\\neural_network\\multilayer_perceptron.py:562: ConvergenceWarning: Stochastic Optimizer: Maximum iterations (200) reached and the optimization hasn't converged yet.\n",
      "  % self.max_iter, ConvergenceWarning)\n",
      "C:\\Users\\Sophie\\Anaconda3\\lib\\site-packages\\sklearn\\neural_network\\multilayer_perceptron.py:562: ConvergenceWarning: Stochastic Optimizer: Maximum iterations (200) reached and the optimization hasn't converged yet.\n",
      "  % self.max_iter, ConvergenceWarning)\n",
      "C:\\Users\\Sophie\\Anaconda3\\lib\\site-packages\\sklearn\\neural_network\\multilayer_perceptron.py:562: ConvergenceWarning: Stochastic Optimizer: Maximum iterations (200) reached and the optimization hasn't converged yet.\n",
      "  % self.max_iter, ConvergenceWarning)\n"
     ]
    },
    {
     "data": {
      "image/png": "[encoded data removed]",
      "text/plain": [
       "<Figure size 576x432 with 2 Axes>"
      ]
     },
     "metadata": {},
     "output_type": "display_data"
    }
   ],
   "source": [
    "getRoc([Xtrain, ytrain])"
   ]
  },
  {
   "cell_type": "code",
   "execution_count": 10,
   "metadata": {},
   "outputs": [
    {
     "name": "stdout",
     "output_type": "stream",
     "text": [
      "[[9786    0]\n",
      " [1919    0]]\n",
      "acc:  0.836052968816745\n",
      "tpr:  0.836052968816745\n",
      "fpr:  nan\n",
      "f1:  0.9107068075008142\n"
     ]
    },
    {
     "name": "stderr",
     "output_type": "stream",
     "text": [
      "C:\\Users\\Sophie\\Anaconda3\\lib\\site-packages\\ipykernel_launcher.py:15: RuntimeWarning: invalid value encountered in longlong_scalars\n",
      "  from ipykernel import kernelapp as app\n"
     ]
    }
   ],
   "source": [
    "clf = classifiers[1]\n",
    "name = names[1]\n",
    "model = clf.fit(Xtrain, ytrain)\n",
    "\n",
    "#threshold = 0.67\n",
    "threshold = 0.5\n",
    "#threshold = 0.33\n",
    "\n",
    "predicted = model.predict(Xtest)\n",
    "\n",
    "tn, fp, fn, tp = confusion_matrix(ytest, predicted, labels=[0,1]).ravel()\n",
    "print(np.array([[tp, fp],[fn, tn]]))\n",
    "print(\"acc: \", accuracy_score(ytest, predicted))\n",
    "print(\"tpr: \", tp/(tp+fn))\n",
    "print(\"fpr: \", fp/(tn+fp))\n",
    "#print(\"f1: \", f1_score(ytrain, predicted, average='micro'))\n",
    "print(\"f1: \", f1_score(ytest, predicted))"
   ]
  },
  {
   "cell_type": "markdown",
   "metadata": {},
   "source": [
    "# Classifier predictions"
   ]
  },
  {
   "cell_type": "code",
   "execution_count": 11,
   "metadata": {
    "scrolled": true
   },
   "outputs": [
    {
     "name": "stdout",
     "output_type": "stream",
     "text": [
      "[[11330     0]\n",
      " [  375     0]]\n",
      "acc:  0.9679624092268262\n",
      "tpr:  0.9679624092268262\n",
      "fpr:  nan\n",
      "fnr:  0.032037590773173856\n",
      "tnr:  nan\n",
      "f1:  0.9679624092268262\n"
     ]
    },
    {
     "name": "stderr",
     "output_type": "stream",
     "text": [
      "C:\\Users\\Sophie\\Anaconda3\\lib\\site-packages\\ipykernel_launcher.py:17: RuntimeWarning: invalid value encountered in longlong_scalars\n",
      "C:\\Users\\Sophie\\Anaconda3\\lib\\site-packages\\ipykernel_launcher.py:19: RuntimeWarning: invalid value encountered in longlong_scalars\n"
     ]
    }
   ],
   "source": [
    "clf = classifiers[3]\n",
    "name = names[3]\n",
    "model = clf.fit(Xtrain, ytrain)\n",
    "\n",
    "#threshold = 0.67\n",
    "threshold = 0.5\n",
    "#threshold = 0.33\n",
    "\n",
    "predicted_proba = model.predict_proba(Xtest)\n",
    "predicted = (predicted_proba [:,1] >= threshold).astype('int')\n",
    "predicted = clf.predict(Xtest)\n",
    "\n",
    "tn, fp, fn, tp = confusion_matrix(ytest, predicted, labels=[0,1]).ravel()\n",
    "print(np.array([[tp, fp],[fn, tn]]))\n",
    "print(\"acc: \", accuracy_score(ytest, predicted))\n",
    "print(\"tpr: \", tp/(tp+fn))\n",
    "print(\"fpr: \", fp/(tn+fp))\n",
    "print(\"fnr: \", fn/(tp+fn))\n",
    "print(\"tnr: \", tn/(tn+fp))\n",
    "print(\"f1: \", f1_score(ytest, predicted, average='micro'))"
   ]
  },
  {
   "cell_type": "code",
   "execution_count": 11,
   "metadata": {},
   "outputs": [
    {
     "data": {
      "text/plain": [
       "<matplotlib.legend.Legend at 0x2be92e35a90>"
      ]
     },
     "execution_count": 11,
     "metadata": {},
     "output_type": "execute_result"
    },
    {
     "data": {
      "image/png": "[encoded data removed]",
      "text/plain": [
       "<Figure size 576x432 with 2 Axes>"
      ]
     },
     "metadata": {},
     "output_type": "display_data"
    }
   ],
   "source": [
    "fig, ax = plt.subplots(1, 1, figsize=(8, 6))\n",
    "axins = inset_axes(ax, width=2, height=1.5, loc=10)\n",
    "#axins = inset_axes(ax)\n",
    "\n",
    "#plt.figure(figsize=(8, 6))\n",
    "#ax.plot([0, 1], [0, 1], 'k--')\n",
    "ax.set_xlabel('False Postive Rate (%)')\n",
    "ax.set_ylabel('True Positive Rate (%)')\n",
    "ax.axis([0, 100, 0, 100])\n",
    "ax.set_xticks(ticks=[0,10,20,30,40,50,60,70,80,90,100])\n",
    "ax.set_yticks(ticks=[0,10,20,30,40,50,60,70,80,90,100])\n",
    "\n",
    "#axins.set_xlim([0, 0.5])\n",
    "#axins.set_ylim([0.6, 1])\n",
    "axins.axis([0, 20, 60, 100])\n",
    "fpr, tpr, thresholds = roc_curve(ytest, predicted_proba[:, 1])\n",
    "fpr, tpr = fpr*100, tpr*100\n",
    "roc_auc = auc(fpr, tpr)/(100*100)\n",
    "plot_roc_curve(fpr, tpr, ax, axins, name, label='%s (AUC = %0.3f)' % (name, roc_auc))\n",
    "\n",
    "ax.legend(loc='lower right')"
   ]
  },
  {
   "cell_type": "markdown",
   "metadata": {},
   "source": [
    "# Features"
   ]
  },
  {
   "cell_type": "code",
   "execution_count": 12,
   "metadata": {},
   "outputs": [],
   "source": [
    "def getAUC(X, y, feat=\"\"):\n",
    "    y_scores = cross_val_predict(clf, X, y, cv=5, method=\"predict_proba\")\n",
    "    fpr, tpr, thresholds = roc_curve(y, y_scores[:, 1])\n",
    "    roc_auc = auc(fpr, tpr)\n",
    "    #print(\"%s: AUC %s\" % (feat, roc_auc))\n",
    "    #print()\n",
    "    return roc_auc, feat"
   ]
  },
  {
   "cell_type": "markdown",
   "metadata": {},
   "source": [
    "#### Individual"
   ]
  },
  {
   "cell_type": "code",
   "execution_count": 13,
   "metadata": {},
   "outputs": [
    {
     "name": "stdout",
     "output_type": "stream",
     "text": [
      "['archived', 'years_active', 'years_inactive', 'num_captures', 'freenom_tld', 'prev_mal_tld', 'wildcard_subdomain', 'reachable', 'redirected', 'blocked', 'alexa_rank', 'ratio_longest_word', 'contain_digit', 'contain_dash', 'name_len', 'brandname_partialratio', 'prev_mal_domain_ed', 'sub_levels', 'num_sub']\n",
      "[(0.7557684046592454, 'archived'),\n",
      " (0.7585710322557454, 'years_active'),\n",
      " (0.7597260440399629, 'years_inactive'),\n",
      " (0.7596481308658688, 'num_captures'),\n",
      " (0.5487257208623594, 'freenom_tld'),\n",
      " (0.6685958166370816, 'reachable'),\n",
      " (0.7634453991061612, 'redirected'),\n",
      " (0.5532856995659775, 'wildcard_subdomain'),\n",
      " (0.6739431677332237, 'blocked'),\n",
      " (0.6300165330966521, 'prev_mal_tld'),\n",
      " (0.5135195306701102, 'alexa_rank'),\n",
      " (0.5875222540468202, 'ratio_longest_word'),\n",
      " (0.5335854401046463, 'contain_digit'),\n",
      " (0.5875616822632503, 'contain_dash'),\n",
      " (0.6297185319271484, 'name_len'),\n",
      " (0.5342620567678509, 'brandname_partialratio'),\n",
      " (0.6294519755748802, 'prev_mal_domain_ed'),\n",
      " (0.5777523570493054, 'sub_levels'),\n",
      " (0.5124702238932728, 'num_sub')]\n"
     ]
    }
   ],
   "source": [
    "auc_feat_list = []\n",
    "print(feat_labels)\n",
    "paper_feat_labels = feat_labels\n",
    "#paper_feat_labels = [\"Archived\", \"Years active\", \"Years inactive\", \"Number of captures\", \"Archive redirected\", \"Freenom TLD\", \"Wildcard subdomain\", \"Reachable\", \"Blocked\", \"Alexa rank\", \"Ratio of longest word\", \"Contain digits\", \"Contain hyphen\", \"Name length\", \"Match brand name\"]\n",
    "for i, feat in enumerate(paper_feat_labels):\n",
    "    if 'excluded' in feat:\n",
    "        continue\n",
    "    X = Xtrain[:,i].reshape(-1, 1)\n",
    "    auc_feat_list.append(getAUC(X, ytrain, feat))\n",
    "\n",
    "ftld = auc_feat_list[5]\n",
    "auc_feat_list[5] = auc_feat_list[7]\n",
    "\n",
    "wcsd = auc_feat_list[6]\n",
    "auc_feat_list[6] = auc_feat_list[8]\n",
    "\n",
    "auc_feat_list[7] = wcsd\n",
    "auc_feat_list[8] = auc_feat_list[9]\n",
    "auc_feat_list[9] = ftld\n",
    "pprint(auc_feat_list)"
   ]
  },
  {
   "cell_type": "code",
   "execution_count": 14,
   "metadata": {},
   "outputs": [
    {
     "data": {
      "image/png": "[encoded data removed]",
      "text/plain": [
       "<Figure size 432x288 with 1 Axes>"
      ]
     },
     "metadata": {},
     "output_type": "display_data"
    },
    {
     "data": {
      "text/plain": [
       "<Figure size 1080x720 with 0 Axes>"
      ]
     },
     "metadata": {},
     "output_type": "display_data"
    }
   ],
   "source": [
    "aucs = [x[0] for x in auc_feat_list]\n",
    "feats = [x[1] for x in auc_feat_list]\n",
    "\n",
    "fig, ax = plt.subplots()\n",
    "plt.figure(figsize=(15,10))\n",
    "\n",
    "# Example data\n",
    "y_pos = np.arange(len(feats))\n",
    "\n",
    "ax.barh(y_pos, aucs, align='center')\n",
    "ax.set_yticks(y_pos)\n",
    "ax.set_yticklabels(feats)\n",
    "ax.invert_yaxis()  # labels read top-to-bottom\n",
    "ax.set_xlabel('Area under the curve (AUC)')\n",
    "ax.set_xlim([0,1])\n",
    "#ax.set_title('How fast do you want to go today?')\n",
    "\n",
    "plt.show()"
   ]
  },
  {
   "cell_type": "markdown",
   "metadata": {},
   "source": [
    "# Predict"
   ]
  },
  {
   "cell_type": "code",
   "execution_count": 36,
   "metadata": {},
   "outputs": [
    {
     "name": "stdout",
     "output_type": "stream",
     "text": [
      "[[-7.51293376e-01  4.66013494e-13 -2.35705341e-13  1.19004367e-14\n",
      "  -3.59864218e-01 -4.11330863e-01 -3.88638774e-01 -9.28675952e-01\n",
      "  -3.19660295e-14  4.06484970e-15  1.58602495e-12 -8.13681424e-01\n",
      "   2.81712975e+00  2.44995766e+00  1.57472209e-01 -1.51748492e+00\n",
      "  -4.17150777e-01 -4.66943080e-01  2.30772703e-02]\n",
      " [-7.51293376e-01  4.66013494e-13 -2.35705341e-13  1.19004367e-14\n",
      "   2.77882587e+00 -4.11330863e-01 -3.88638774e-01 -9.28675952e-01\n",
      "  -3.19660295e-14  4.06484970e-15  1.58602495e-12 -2.37379183e+00\n",
      "   2.81712975e+00 -4.08170319e-01  1.57472209e-01 -1.92804029e+00\n",
      "  -4.17150777e-01  5.21887634e+00 -4.20078769e-02]]\n"
     ]
    }
   ],
   "source": [
    "#scaler = StandardScaler()\n",
    "#scaler.fit(Xtrain_reduced)\n",
    "#Xtrain_reduced = scaler.transform(Xtrain_reduced)\n",
    "Xpredict = imp.transform(Xpredict)\n",
    "Xpredict = scaler.transform(Xpredict)\n",
    "print(Xpredict[:2])"
   ]
  },
  {
   "cell_type": "code",
   "execution_count": 37,
   "metadata": {},
   "outputs": [
    {
     "name": "stdout",
     "output_type": "stream",
     "text": [
      "Neural Net\n"
     ]
    }
   ],
   "source": [
    "clf = classifiers[0]\n",
    "name = names[0]\n",
    "print(name)\n",
    "clf.fit(Xtrain, ytrain)\n",
    "\n",
    "Xpredict_pred = clf.predict(Xpredict)\n",
    "Xpredict_proba = clf.predict_proba(Xpredict)\n",
    "#print(sorted(Xpredict_proba[:,0]))"
   ]
  },
  {
   "cell_type": "markdown",
   "metadata": {},
   "source": [
    "#### comp (deltaphish)"
   ]
  },
  {
   "cell_type": "code",
   "execution_count": 26,
   "metadata": {},
   "outputs": [
    {
     "name": "stdout",
     "output_type": "stream",
     "text": [
      "# 2nd level domains: 689\n",
      "# compromised, hacked: 639\n",
      "# malicious, owned: 50\n",
      "% compromised, hacked: 0.9274310595065312\n",
      "% malicious, owned: 0.07256894049346879\n"
     ]
    }
   ],
   "source": [
    "print(\"# 2nd level domains:\", len(Xpredict_pred))\n",
    "print(\"# compromised, hacked:\", len([x for x in Xpredict_pred if x==1]))\n",
    "print(\"# malicious, owned:\", len([x for x in Xpredict_pred if x==0]))\n",
    "print(\"% compromised, hacked:\", len([x for x in Xpredict_pred if x==1])/len(Xpredict_pred))\n",
    "print(\"% malicious, owned:\", len([x for x in Xpredict_pred if x==0])/len(Xpredict_pred))"
   ]
  },
  {
   "cell_type": "code",
   "execution_count": 34,
   "metadata": {},
   "outputs": [
    {
     "name": "stdout",
     "output_type": "stream",
     "text": [
      "# 2nd level domains: 689\n",
      "# compromised, hacked: 610\n",
      "# malicious, owned: 79\n",
      "% compromised, hacked: 0.8853410740203193\n",
      "% malicious, owned: 0.11465892597968069\n"
     ]
    }
   ],
   "source": [
    "print(\"# 2nd level domains:\", len(Xpredict_pred))\n",
    "print(\"# compromised, hacked:\", len([x for x in Xpredict_pred if x==1]))\n",
    "print(\"# malicious, owned:\", len([x for x in Xpredict_pred if x==0]))\n",
    "print(\"% compromised, hacked:\", len([x for x in Xpredict_pred if x==1])/len(Xpredict_pred))\n",
    "print(\"% malicious, owned:\", len([x for x in Xpredict_pred if x==0])/len(Xpredict_pred))"
   ]
  },
  {
   "cell_type": "markdown",
   "metadata": {},
   "source": [
    "#### mal current (phishlabs)"
   ]
  },
  {
   "cell_type": "code",
   "execution_count": 18,
   "metadata": {},
   "outputs": [
    {
     "name": "stdout",
     "output_type": "stream",
     "text": [
      "# 2nd level domains: 2806\n",
      "# compromised, hacked: 760\n",
      "# malicious, owned: 2046\n",
      "% compromised, hacked: 0.27084818246614395\n",
      "% malicious, owned: 0.729151817533856\n"
     ]
    }
   ],
   "source": [
    "print(\"# 2nd level domains:\", len(Xpredict_pred))\n",
    "print(\"# compromised, hacked:\", len([x for x in Xpredict_pred if x==1]))\n",
    "print(\"# malicious, owned:\", len([x for x in Xpredict_pred if x==0]))\n",
    "print(\"% compromised, hacked:\", len([x for x in Xpredict_pred if x==1])/len(Xpredict_pred))\n",
    "print(\"% malicious, owned:\", len([x for x in Xpredict_pred if x==0])/len(Xpredict_pred))"
   ]
  },
  {
   "cell_type": "code",
   "execution_count": 62,
   "metadata": {},
   "outputs": [
    {
     "name": "stdout",
     "output_type": "stream",
     "text": [
      "# 2nd level domains: 400\n",
      "# compromised, hacked: 86\n",
      "# malicious, owned: 314\n",
      "% compromised, hacked: 0.215\n",
      "% malicious, owned: 0.785\n"
     ]
    }
   ],
   "source": [
    "print(\"# 2nd level domains:\", len(Xpredict_pred))\n",
    "print(\"# compromised, hacked:\", len([x for x in Xpredict_pred if x==1]))\n",
    "print(\"# malicious, owned:\", len([x for x in Xpredict_pred if x==0]))\n",
    "print(\"% compromised, hacked:\", len([x for x in Xpredict_pred if x==1])/len(Xpredict_pred))\n",
    "print(\"% malicious, owned:\", len([x for x in Xpredict_pred if x==0])/len(Xpredict_pred))"
   ]
  },
  {
   "cell_type": "markdown",
   "metadata": {},
   "source": [
    "#### mal post (apwg)"
   ]
  },
  {
   "cell_type": "code",
   "execution_count": 22,
   "metadata": {},
   "outputs": [
    {
     "name": "stdout",
     "output_type": "stream",
     "text": [
      "# 2nd level domains: 324\n",
      "# compromised, hacked: 68\n",
      "# malicious, owned: 256\n",
      "% compromised, hacked: 0.20987654320987653\n",
      "% malicious, owned: 0.7901234567901234\n"
     ]
    }
   ],
   "source": [
    "print(\"# 2nd level domains:\", len(Xpredict_pred))\n",
    "print(\"# compromised, hacked:\", len([x for x in Xpredict_pred if x==1]))\n",
    "print(\"# malicious, owned:\", len([x for x in Xpredict_pred if x==0]))\n",
    "print(\"% compromised, hacked:\", len([x for x in Xpredict_pred if x==1])/len(Xpredict_pred))\n",
    "print(\"% malicious, owned:\", len([x for x in Xpredict_pred if x==0])/len(Xpredict_pred))"
   ]
  },
  {
   "cell_type": "code",
   "execution_count": 30,
   "metadata": {},
   "outputs": [
    {
     "name": "stdout",
     "output_type": "stream",
     "text": [
      "# 2nd level domains: 324\n",
      "# compromised, hacked: 69\n",
      "# malicious, owned: 255\n",
      "% compromised, hacked: 0.21296296296296297\n",
      "% malicious, owned: 0.7870370370370371\n"
     ]
    }
   ],
   "source": [
    "print(\"# 2nd level domains:\", len(Xpredict_pred))\n",
    "print(\"# compromised, hacked:\", len([x for x in Xpredict_pred if x==1]))\n",
    "print(\"# malicious, owned:\", len([x for x in Xpredict_pred if x==0]))\n",
    "print(\"% compromised, hacked:\", len([x for x in Xpredict_pred if x==1])/len(Xpredict_pred))\n",
    "print(\"% malicious, owned:\", len([x for x in Xpredict_pred if x==0])/len(Xpredict_pred))"
   ]
  },
  {
   "cell_type": "markdown",
   "metadata": {},
   "source": [
    "# Model persistence"
   ]
  },
  {
   "cell_type": "code",
   "execution_count": 17,
   "metadata": {},
   "outputs": [
    {
     "data": {
      "text/plain": [
       "['finalized_scaler.joblib']"
      ]
     },
     "execution_count": 17,
     "metadata": {},
     "output_type": "execute_result"
    }
   ],
   "source": [
    "from joblib import dump, load\n",
    "modelname = 'apwg'\n",
    "filename = './model/'+modelname+'_scaler.joblib'\n",
    "dump(scaler, filename)"
   ]
  },
  {
   "cell_type": "code",
   "execution_count": 21,
   "metadata": {},
   "outputs": [
    {
     "data": {
      "text/plain": [
       "['finalized_imputer.joblib']"
      ]
     },
     "execution_count": 21,
     "metadata": {},
     "output_type": "execute_result"
    }
   ],
   "source": [
    "filename = './model/'+modelname+'_imputer.joblib'\n",
    "dump(imp, filename)"
   ]
  },
  {
   "cell_type": "code",
   "execution_count": 14,
   "metadata": {},
   "outputs": [
    {
     "data": {
      "text/plain": [
       "RandomForestClassifier(bootstrap=True, class_weight=None, criterion='gini',\n",
       "            max_depth=5, max_features=1, max_leaf_nodes=None,\n",
       "            min_impurity_decrease=0.0, min_impurity_split=None,\n",
       "            min_samples_leaf=1, min_samples_split=2,\n",
       "            min_weight_fraction_leaf=0.0, n_estimators=100, n_jobs=None,\n",
       "            oob_score=False, random_state=42, verbose=0, warm_start=False)"
      ]
     },
     "execution_count": 14,
     "metadata": {},
     "output_type": "execute_result"
    }
   ],
   "source": [
    "clf = classifiers[3]\n",
    "clf.fit(Xtrain, ytrain)"
   ]
  },
  {
   "cell_type": "code",
   "execution_count": 20,
   "metadata": {},
   "outputs": [
    {
     "data": {
      "text/plain": [
       "['finalized_model.joblib']"
      ]
     },
     "execution_count": 20,
     "metadata": {},
     "output_type": "execute_result"
    }
   ],
   "source": [
    "#from joblib import dump, load\n",
    "filename = './model/'+modelname+'_model.joblib'\n",
    "dump(clf, filename)\n",
    "#pickle.dump(clf, 'mlp.joblib') "
   ]
  },
  {
   "cell_type": "markdown",
   "metadata": {},
   "source": [
    "# Xgboost"
   ]
  },
  {
   "cell_type": "code",
   "execution_count": 44,
   "metadata": {},
   "outputs": [],
   "source": [
    "dtrain = xgb.DMatrix(Xtrain, label=ytrain)\n",
    "dtest = xgb.DMatrix(Xtest, label=ytest)"
   ]
  },
  {
   "cell_type": "code",
   "execution_count": 45,
   "metadata": {},
   "outputs": [],
   "source": [
    "param = {\n",
    "    'max_depth': 3,  # the maximum depth of each tree\n",
    "    'eta': 0.3,  # the training step for each iteration\n",
    "    'silent': 1,  # logging mode - quiet\n",
    "    'objective': 'multi:softprob',  # error evaluation for multiclass training\n",
    "    'num_class': 3}  # the number of classes that exist in this datset\n",
    "num_round = 20  # the number of training iterations"
   ]
  },
  {
   "cell_type": "code",
   "execution_count": 46,
   "metadata": {},
   "outputs": [],
   "source": [
    "bst = xgb.train(param, dtrain, num_round)"
   ]
  },
  {
   "cell_type": "code",
   "execution_count": 47,
   "metadata": {},
   "outputs": [],
   "source": [
    "bst.dump_model('dump.raw.txt')"
   ]
  },
  {
   "cell_type": "code",
   "execution_count": null,
   "metadata": {},
   "outputs": [],
   "source": []
  }
 ],
 "metadata": {
  "kernelspec": {
   "display_name": "Python 3",
   "language": "python",
   "name": "python3"
  },
  "language_info": {
   "codemirror_mode": {
    "name": "ipython",
    "version": 3
   },
   "file_extension": ".py",
   "mimetype": "text/x-python",
   "name": "python",
   "nbconvert_exporter": "python",
   "pygments_lexer": "ipython3",
   "version": "3.6.5"
  }
 },
 "nbformat": 4,
 "nbformat_minor": 1
}
