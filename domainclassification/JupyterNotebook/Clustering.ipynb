{
 "cells": [
  {
   "cell_type": "markdown",
   "metadata": {},
   "source": [
    "# Setup"
   ]
  },
  {
   "cell_type": "code",
   "execution_count": 1,
   "metadata": {},
   "outputs": [],
   "source": [
    "# ML algorithms\n",
    "from sklearn.cluster import KMeans, DBSCAN, Birch\n",
    "from sklearn.tree import DecisionTreeClassifier\n",
    "\n",
    "# preprocessing\n",
    "from sklearn.preprocessing import StandardScaler, Imputer\n",
    "\n",
    "# evaluation\n",
    "from sklearn.model_selection import cross_val_predict\n",
    "from sklearn.metrics import roc_curve, auc, confusion_matrix, accuracy_score\n",
    "\n",
    "# feature reduction\n",
    "from sklearn.pipeline import FeatureUnion\n",
    "from sklearn.decomposition import PCA\n",
    "from sklearn.feature_selection import SelectKBest\n",
    "\n",
    "# feature calibration\n",
    "from sklearn.isotonic import IsotonicRegression\n",
    "\n",
    "# matplotlib\n",
    "import matplotlib.pyplot as plt\n",
    "\n",
    "import numpy as np\n",
    "from numpy import nan\n",
    "\n",
    "from pprint import pprint\n",
    "\n",
    "import math\n",
    "import random"
   ]
  },
  {
   "cell_type": "markdown",
   "metadata": {},
   "source": [
    "# Functions"
   ]
  },
  {
   "cell_type": "code",
   "execution_count": 2,
   "metadata": {},
   "outputs": [],
   "source": [
    "# balanced train and test sets\n",
    "def balance_data(X, y):\n",
    "    X_bal = []\n",
    "    y_bal = []\n",
    "    X_rest = []\n",
    "    y_rest = []\n",
    "    min1 = len([tar for tar in y if tar==1])\n",
    "    min2 = len([tar for tar in y if tar==-1])\n",
    "    mini = min1\n",
    "    if min2 < min1:\n",
    "        mini = min2\n",
    "\n",
    "    cnt_1 = 0\n",
    "    cnt_0 = 0\n",
    "    print(mini)\n",
    "    for i, tar in enumerate(y):\n",
    "        if tar == 1 and cnt_1<mini:\n",
    "            cnt_1+=1\n",
    "            X_bal.append(X[i])\n",
    "            y_bal.append(y[i])\n",
    "        elif tar == -1 and cnt_0<mini:\n",
    "            cnt_0+=1\n",
    "            X_bal.append(X[i])\n",
    "            y_bal.append(y[i])\n",
    "        elif tar == 0:\n",
    "            X_bal.append(X[i])\n",
    "            y_bal.append(y[i])\n",
    "        else:\n",
    "            X_rest.append(X[i])\n",
    "            y_rest.append(y[i])\n",
    "\n",
    "    print(\"# X_bal:\", len(X_bal))\n",
    "    print(\"# y_bal:\", len(y_bal))\n",
    "    print(\"% compromised: \", len([tar for tar in y_bal if tar==1])/len(y_bal))\n",
    "    print(\"% malicious: \", len([tar for tar in y_bal if tar==-1])/len(y_bal))\n",
    "    print(\"% unlabeled: \", len([tar for tar in y_bal if tar==0])/len(y_bal))\n",
    "    \n",
    "    print(\"# X_rest:\", len(X_rest))\n",
    "    print(\"# y_rest:\", len(y_rest))\n",
    "    print(\"% compromised: \", len([tar for tar in y_rest if tar==1])/len(y_rest))\n",
    "    print(\"% malicious: \", len([tar for tar in y_rest if tar==-1])/len(y_rest))\n",
    "    print(\"% unlabeled: \", len([tar for tar in y_rest if tar==0])/len(y_rest))\n",
    "    \n",
    "    return [X_bal, y_bal, X_rest, y_rest]"
   ]
  },
  {
   "cell_type": "markdown",
   "metadata": {},
   "source": [
    "# Read data"
   ]
  },
  {
   "cell_type": "code",
   "execution_count": 3,
   "metadata": {},
   "outputs": [
    {
     "name": "stdout",
     "output_type": "stream",
     "text": [
      "{'comp-deltaphish',\n",
      " 'comp-phishlabs',\n",
      " 'mal-apwg',\n",
      " 'mal-future-apwg',\n",
      " 'mal-phishlabs',\n",
      " 'unlabeled-apwg'}\n"
     ]
    }
   ],
   "source": [
    "with open(\"/home/sophie/SSRG/domainclassification/results/dataset/domain_target_55383\", \"r\", encoding='utf-8') as f:\n",
    "    data = eval(f.read())\n",
    "    \n",
    "random.Random(4).shuffle(data)\n",
    "    \n",
    "datasets = set([d['dataset'] for d in data])\n",
    "pprint(datasets)"
   ]
  },
  {
   "cell_type": "code",
   "execution_count": 9,
   "metadata": {},
   "outputs": [
    {
     "name": "stdout",
     "output_type": "stream",
     "text": [
      "['archived', 'years_active', 'years_inactive', 'num_captures', 'freenom_tld', 'prev_mal_tld', 'wildcard_subdomain', 'reachable', 'redirected', 'blocked', 'alexa_rank', 'ratio_longest_word', 'contain_digit', 'contain_dash', 'name_len', 'brandname_partialratio', 'prev_mal_domain_ed', 'sub_levels', 'num_sub']\n",
      "19\n",
      "['archived' 'years_active' 'years_inactive' 'num_captures' 'freenom_tld'\n",
      " 'wildcard_subdomain' 'reachable' 'redirected' 'blocked' 'alexa_rank'\n",
      " 'ratio_longest_word' 'contain_digit' 'contain_dash' 'name_len'\n",
      " 'brandname_partialratio' 'sub_levels' 'num_sub']\n",
      "17\n"
     ]
    }
   ],
   "source": [
    "# original\n",
    "feat_labels = data[0]['feat_labels']\n",
    "print(feat_labels)\n",
    "print(len(feat_labels))\n",
    "\n",
    "# remove specific features 'prev_mal_tld', 'prev_mal_domain_ed'\n",
    "feat_labels = np.concatenate((data[0]['feat_labels'][0:5], data[0]['feat_labels'][6:16], data[0]['feat_labels'][17:19]), axis=0)\n",
    "print(feat_labels)\n",
    "print(len(feat_labels))"
   ]
  },
  {
   "cell_type": "code",
   "execution_count": 20,
   "metadata": {},
   "outputs": [],
   "source": [
    "# remove specific features\n",
    "for d in data:\n",
    "    feat_temp = d['feat']\n",
    "    feat_labels = d['feat_labels']\n",
    "    d['feat'] = feat_temp[0:5] + feat_temp[6:16] + feat_temp[17:19]\n",
    "    d['feat_labels'] = feat_labels[0:5] + feat_labels[6:16] + feat_labels[17:19]"
   ]
  },
  {
   "cell_type": "code",
   "execution_count": 4,
   "metadata": {},
   "outputs": [
    {
     "name": "stdout",
     "output_type": "stream",
     "text": [
      "['archived', 'years_active', 'years_inactive', 'num_captures', 'freenom_tld', 'prev_mal_tld', 'wildcard_subdomain', 'reachable', 'redirected', 'blocked', 'alexa_rank', 'ratio_longest_word', 'contain_digit', 'contain_dash', 'name_len', 'brandname_partialratio', 'prev_mal_domain_ed', 'sub_levels', 'num_sub']\n",
      "19\n",
      "51576\n",
      "(51576, 19)\n",
      "(51576,)\n",
      "['archived', 'years_active', 'years_inactive', 'num_captures', 'freenom_tld', 'prev_mal_tld', 'wildcard_subdomain', 'reachable', 'redirected', 'blocked', 'alexa_rank', 'ratio_longest_word', 'contain_digit', 'contain_dash', 'name_len', 'brandname_partialratio', 'prev_mal_domain_ed', 'sub_levels', 'num_sub']\n",
      "array([[0.00000000e+00,            nan,            nan,            nan,\n",
      "        0.00000000e+00, 0.00000000e+00, 0.00000000e+00, 0.00000000e+00,\n",
      "                   nan,            nan,            nan, 3.33333333e-01,\n",
      "        0.00000000e+00, 0.00000000e+00, 1.20000000e+01, 6.70000000e+01,\n",
      "        8.33333333e-02, 0.00000000e+00, 1.00000000e+00],\n",
      "       [0.00000000e+00,            nan,            nan,            nan,\n",
      "        0.00000000e+00, 1.00000000e+00, 0.00000000e+00, 0.00000000e+00,\n",
      "                   nan,            nan,            nan, 2.00000000e-01,\n",
      "        0.00000000e+00, 0.00000000e+00, 1.10000000e+01, 1.00000000e+02,\n",
      "        9.09090909e-02, 0.00000000e+00, 1.00000000e+00],\n",
      "       [0.00000000e+00,            nan,            nan,            nan,\n",
      "        0.00000000e+00, 0.00000000e+00, 0.00000000e+00, 1.00000000e+00,\n",
      "        0.00000000e+00, 0.00000000e+00,            nan, 6.36363636e-01,\n",
      "        0.00000000e+00, 0.00000000e+00, 8.00000000e+00, 6.70000000e+01,\n",
      "        1.25000000e-01, 1.00000000e+00, 1.00000000e+00],\n",
      "       [0.00000000e+00,            nan,            nan,            nan,\n",
      "        0.00000000e+00, 0.00000000e+00, 0.00000000e+00, 0.00000000e+00,\n",
      "                   nan,            nan,            nan, 3.63636364e-01,\n",
      "        0.00000000e+00, 1.00000000e+00, 6.00000000e+00, 6.00000000e+01,\n",
      "        1.66666667e-01, 1.00000000e+00, 2.00000000e+00],\n",
      "       [1.00000000e+00, 2.00000000e+00, 1.00000000e+00, 2.00000000e+00,\n",
      "        0.00000000e+00, 0.00000000e+00, 0.00000000e+00, 1.00000000e+00,\n",
      "        0.00000000e+00, 0.00000000e+00,            nan, 2.00000000e-01,\n",
      "        0.00000000e+00, 1.00000000e+00, 1.10000000e+01, 5.00000000e+01,\n",
      "        9.09090909e-02, 0.00000000e+00, 1.00000000e+00]])\n",
      "array([0, 0, 0, 0, 0])\n",
      "# compromised:  669\n",
      "# malicious:  495\n",
      "# unknown:  50412\n",
      "% compromised:  0.012971149371800838\n",
      "% malicious:  0.009597487203350396\n",
      "% unknown:  0.9774313634248488\n"
     ]
    }
   ],
   "source": [
    "#random.Random(4).shuffle(data)\n",
    "\n",
    "#dataset_train = {'mal-apwg', 'comp-deltaphish', 'unlabeled-apwg'}\n",
    "dataset_train = {'mal-apwg', 'comp-phishlabs', 'unlabeled-apwg'}\n",
    "\n",
    "X = np.array([d['feat'] for d in data if d['dataset'] in dataset_train])\n",
    "y = np.array([d['target'] for d in data if d['dataset'] in dataset_train])\n",
    "data = [d for d in data if d['dataset'] in dataset_train]\n",
    "\n",
    "feat_labels = data[0]['feat_labels']\n",
    "print(feat_labels)\n",
    "print(len(feat_labels))\n",
    "\n",
    "print(len(data))\n",
    "print(X.shape)\n",
    "print(y.shape)\n",
    "print(feat_labels)\n",
    "pprint(X[:5])\n",
    "pprint(y[:5])\n",
    "print(\"# compromised: \", len([tar for tar in y if tar==1]))\n",
    "print(\"# malicious: \", len([tar for tar in y if tar==-1]))\n",
    "print(\"# unknown: \", len([tar for tar in y if tar==0]))\n",
    "print(\"% compromised: \", len([tar for tar in y if tar==1])/len(y))\n",
    "print(\"% malicious: \", len([tar for tar in y if tar==-1])/len(y))\n",
    "print(\"% unknown: \", len([tar for tar in y if tar==0])/len(y))"
   ]
  },
  {
   "cell_type": "code",
   "execution_count": 50,
   "metadata": {},
   "outputs": [],
   "source": [
    "# balance\n",
    "#X, y, X_val, y_val = balance_data(X, y)"
   ]
  },
  {
   "cell_type": "markdown",
   "metadata": {},
   "source": [
    "# Normalize and Impute"
   ]
  },
  {
   "cell_type": "code",
   "execution_count": 5,
   "metadata": {},
   "outputs": [
    {
     "name": "stdout",
     "output_type": "stream",
     "text": [
      "[-1.11920933 -0.68645534 -0.80890736 -0.02315445 -0.29762989 -0.2200951\n",
      " -0.46933103  0.92116008  0.74077259  0.78517207 -0.15525539  2.80600545\n",
      " -0.2985938  -0.4211886  -0.72102866 -0.44826006  0.32710065  0.76978709\n",
      " -0.05508077]\n"
     ]
    }
   ],
   "source": [
    "# imp = Imputer(missing_values=np.nan, strategy='mean')\n",
    "# imp.fit(X)\n",
    "# X = imp.transform(X)\n",
    "X = np.where(np.isnan(X), -1, X)\n",
    "\n",
    "scaler = StandardScaler()\n",
    "scaler.fit(X)\n",
    "X = scaler.transform(X)\n",
    "print(X[2])"
   ]
  },
  {
   "cell_type": "markdown",
   "metadata": {},
   "source": [
    "# Data calibration"
   ]
  },
  {
   "cell_type": "code",
   "execution_count": 36,
   "metadata": {},
   "outputs": [],
   "source": [
    "def sortAscendingFeature(cX, cy):\n",
    "    idx_cX = np.argsort(cX)\n",
    "    cX = np.array(cX)[idx_cX]\n",
    "    cy = np.array(cy)[idx_cX]\n",
    "    return cX, idx_cX, cy"
   ]
  },
  {
   "cell_type": "code",
   "execution_count": 37,
   "metadata": {},
   "outputs": [
    {
     "name": "stdout",
     "output_type": "stream",
     "text": [
      "(array([1, 2, 3, 4, 5]), array([3, 4, 0, 1, 2]), array([0, 0, 1, 1, 1]))\n",
      "[2 3 4 0 1]\n",
      "[3 4 5 1 2]\n"
     ]
    }
   ],
   "source": [
    "# test\n",
    "cX = [3,4,5,1,2]\n",
    "cy = [1,1,1,0,0]\n",
    "x = sortAscendingFeature(cX,cy)\n",
    "print(x)\n",
    "cX, idx_cX, cy = x\n",
    "idx_cX_sort = np.argsort(idx_cX)\n",
    "cX = np.array(cX)[idx_cX_sort]\n",
    "print(idx_cX_sort)\n",
    "print(cX)"
   ]
  },
  {
   "cell_type": "code",
   "execution_count": 38,
   "metadata": {},
   "outputs": [],
   "source": [
    "def calibratedFeature(cX, cy):\n",
    "    cX, idx_cX, cy = sortAscendingFeature(cX, cy)\n",
    "    \n",
    "    #print(cX[:-20])\n",
    "    iso = IsotonicRegression(out_of_bounds='clip')\n",
    "    iso.fit(cX, cy)\n",
    "    cX = iso.transform(cX)\n",
    "    #print(cX[:-20])\n",
    "    \n",
    "    # sort back to original indexes\n",
    "    idx_cX_sort = np.argsort(idx_cX)\n",
    "    cX = np.array(cX)[idx_cX_sort]\n",
    "    return cX"
   ]
  },
  {
   "cell_type": "code",
   "execution_count": 39,
   "metadata": {},
   "outputs": [],
   "source": [
    "# calibrated features\n",
    "cfeatures = {'years_active', 'years_inactive', 'num_captures', 'alexa_rank', 'sub_levels', 'num_sub'}\n",
    "\n",
    "X_new = np.copy(X)\n",
    "for i, feat in enumerate(feat_labels):\n",
    "    if feat in cfeatures:\n",
    "        cX, cy = X_new[:,i], y\n",
    "        #print(cX[:50])\n",
    "        #print(cy[:50])\n",
    "        cX = calibratedFeature(cX, cy)\n",
    "        X_new[:, i] = cX"
   ]
  },
  {
   "cell_type": "markdown",
   "metadata": {},
   "source": [
    "#### Visualize calibrated features"
   ]
  },
  {
   "cell_type": "code",
   "execution_count": 40,
   "metadata": {},
   "outputs": [],
   "source": [
    "def plotFractionalGraph(x, y=None, xlabel=\"\", xmin=0, xmax=4000):\n",
    "    ax = plt.subplot()\n",
    "    ax.plot(x)\n",
    "\n",
    "    plt.grid(True, linestyle='dotted')\n",
    "    plt.show()"
   ]
  },
  {
   "cell_type": "code",
   "execution_count": 41,
   "metadata": {},
   "outputs": [
    {
     "name": "stdout",
     "output_type": "stream",
     "text": [
      "years_active\n"
     ]
    },
    {
     "data": {
      "image/png": "[encoded data removed]",
      "text/plain": [
       "<matplotlib.figure.Figure at 0x7fa3c93849e8>"
      ]
     },
     "metadata": {},
     "output_type": "display_data"
    },
    {
     "data": {
      "image/png": "[encoded data removed]",
      "text/plain": [
       "<matplotlib.figure.Figure at 0x7fa355745eb8>"
      ]
     },
     "metadata": {},
     "output_type": "display_data"
    },
    {
     "name": "stdout",
     "output_type": "stream",
     "text": [
      "years_inactive\n"
     ]
    },
    {
     "data": {
      "image/png": "[encoded data removed]",
      "text/plain": [
       "<matplotlib.figure.Figure at 0x7fa3556fb400>"
      ]
     },
     "metadata": {},
     "output_type": "display_data"
    },
    {
     "data": {
      "image/png": "[encoded data removed]",
      "text/plain": [
       "<matplotlib.figure.Figure at 0x7fa3554c87f0>"
      ]
     },
     "metadata": {},
     "output_type": "display_data"
    },
    {
     "name": "stdout",
     "output_type": "stream",
     "text": [
      "num_captures\n"
     ]
    },
    {
     "data": {
      "image/png": "[encoded data removed]",
      "text/plain": [
       "<matplotlib.figure.Figure at 0x7fa355492fd0>"
      ]
     },
     "metadata": {},
     "output_type": "display_data"
    },
    {
     "data": {
      "image/png": "[encoded data removed]",
      "text/plain": [
       "<matplotlib.figure.Figure at 0x7fa355460f98>"
      ]
     },
     "metadata": {},
     "output_type": "display_data"
    },
    {
     "name": "stdout",
     "output_type": "stream",
     "text": [
      "alexa_rank\n"
     ]
    },
    {
     "data": {
      "image/png": "[encoded data removed]",
      "text/plain": [
       "<matplotlib.figure.Figure at 0x7fa354fcb898>"
      ]
     },
     "metadata": {},
     "output_type": "display_data"
    },
    {
     "data": {
      "image/png": "[encoded data removed]",
      "text/plain": [
       "<matplotlib.figure.Figure at 0x7fa35054c0b8>"
      ]
     },
     "metadata": {},
     "output_type": "display_data"
    },
    {
     "name": "stdout",
     "output_type": "stream",
     "text": [
      "sub_levels\n"
     ]
    },
    {
     "data": {
      "image/png": "[encoded data removed]",
      "text/plain": [
       "<matplotlib.figure.Figure at 0x7fa3502a54e0>"
      ]
     },
     "metadata": {},
     "output_type": "display_data"
    },
    {
     "data": {
      "image/png": "[encoded data removed]",
      "text/plain": [
       "<matplotlib.figure.Figure at 0x7fa34ff6c358>"
      ]
     },
     "metadata": {},
     "output_type": "display_data"
    },
    {
     "name": "stdout",
     "output_type": "stream",
     "text": [
      "num_sub\n"
     ]
    },
    {
     "data": {
      "image/png": "[encoded data removed]",
      "text/plain": [
       "<matplotlib.figure.Figure at 0x7fa34fe94320>"
      ]
     },
     "metadata": {},
     "output_type": "display_data"
    },
    {
     "data": {
      "image/png": "[encoded data removed]",
      "text/plain": [
       "<matplotlib.figure.Figure at 0x7fa34fda1748>"
      ]
     },
     "metadata": {},
     "output_type": "display_data"
    }
   ],
   "source": [
    "for i, feat in enumerate(feat_labels):\n",
    "    if feat in cfeatures:\n",
    "        print(feat)\n",
    "        # get feat before and after\n",
    "        feat_before = X[:,i]\n",
    "        feat_after = X_new[:,i]\n",
    "        \n",
    "        # sort feats\n",
    "        feat_before = np.sort(np.array(feat_before))\n",
    "        feat_after = np.sort(np.array(feat_after))\n",
    "        \n",
    "        plotFractionalGraph(feat_before)\n",
    "        plotFractionalGraph(feat_after)\n",
    "        #plt.plot(feat_before)"
   ]
  },
  {
   "cell_type": "code",
   "execution_count": 42,
   "metadata": {},
   "outputs": [],
   "source": [
    "X = X_new"
   ]
  },
  {
   "cell_type": "markdown",
   "metadata": {},
   "source": [
    "#### Verify feature relevance"
   ]
  },
  {
   "cell_type": "code",
   "execution_count": 24,
   "metadata": {},
   "outputs": [],
   "source": [
    "def getAUC(X, y, clf, feat=\"\"):\n",
    "    clf.fit(X, y)\n",
    "    y_pred = clf.predict(X)\n",
    "    acc_train = accuracy_score(y, y_pred)\n",
    "    return acc_train, feat"
   ]
  },
  {
   "cell_type": "code",
   "execution_count": 29,
   "metadata": {},
   "outputs": [
    {
     "name": "stdout",
     "output_type": "stream",
     "text": [
      "DecisionTreeClassifier()\n",
      "['archived', 'years_active', 'years_inactive', 'num_captures', 'freenom_tld', 'prev_mal_tld', 'wildcard_subdomain', 'reachable', 'redirected', 'blocked', 'alexa_rank', 'ratio_longest_word', 'contain_digit', 'contain_dash', 'name_len', 'brandname_partialratio', 'prev_mal_domain_ed', 'sub_levels', 'num_sub']\n",
      "[(0.9807400490253297, 'archived'),\n",
      " (0.9807400490253297, 'years_active'),\n",
      " (0.9807400490253297, 'years_inactive'),\n",
      " (0.9807400490253297, 'num_captures'),\n",
      " (0.9807400490253297, 'freenom_tld'),\n",
      " (0.9807400490253297, 'prev_mal_tld'),\n",
      " (0.9807400490253297, 'wildcard_subdomain'),\n",
      " (0.9807400490253297, 'reachable'),\n",
      " (0.9807400490253297, 'redirected'),\n",
      " (0.9807400490253297, 'blocked'),\n",
      " (0.9807400490253297, 'alexa_rank'),\n",
      " (0.9807400490253297, 'ratio_longest_word'),\n",
      " (0.9807400490253297, 'contain_digit'),\n",
      " (0.9807400490253297, 'contain_dash'),\n",
      " (0.9807400490253297, 'name_len'),\n",
      " (0.9807400490253297, 'brandname_partialratio'),\n",
      " (0.9807400490253297, 'prev_mal_domain_ed'),\n",
      " (0.9807400490253297, 'sub_levels'),\n",
      " (0.9807400490253297, 'num_sub')]\n"
     ]
    }
   ],
   "source": [
    "clf = DecisionTreeClassifier()\n",
    "name = \"DecisionTreeClassifier()\"\n",
    "print(name)\n",
    "auc_feat_list = []\n",
    "print(feat_labels)\n",
    "paper_feat_labels = feat_labels\n",
    "for i, feat in enumerate(paper_feat_labels):\n",
    "    X_temp = X[:,i].reshape(-1, 1)\n",
    "    auc_feat_list.append(getAUC(X_temp, y, clf, feat))\n",
    "\n",
    "pprint(auc_feat_list)"
   ]
  },
  {
   "cell_type": "code",
   "execution_count": null,
   "metadata": {},
   "outputs": [],
   "source": [
    "aucs = [x[0] for x in auc_feat_list]\n",
    "feats = [x[1] for x in auc_feat_list]\n",
    "\n",
    "fig, ax = plt.subplots()\n",
    "plt.figure(figsize=(15,10))\n",
    "\n",
    "# Example data\n",
    "y_pos = np.arange(len(feats))\n",
    "\n",
    "ax.barh(y_pos, aucs, align='center')\n",
    "ax.set_yticks(y_pos)\n",
    "ax.set_yticklabels(feats)\n",
    "ax.invert_yaxis()  # labels read top-to-bottom\n",
    "ax.set_xlabel('Area under the curve (AUC)')\n",
    "ax.set_xlim([0,1])\n",
    "#ax.set_title('How fast do you want to go today?')\n",
    "\n",
    "plt.show()"
   ]
  },
  {
   "cell_type": "markdown",
   "metadata": {},
   "source": [
    "# Data reduction"
   ]
  },
  {
   "cell_type": "code",
   "execution_count": 52,
   "metadata": {},
   "outputs": [],
   "source": [
    "# To deal with high-dimensional data\n",
    "def getPCA(X, n_c=10):\n",
    "    pca = PCA(n_components=n_c, svd_solver='full', random_state=42)\n",
    "    pca.fit(X) \n",
    "    X_pca = pca.transform(X)\n",
    "    return X_pca\n",
    "    #print(X_pca[2])"
   ]
  },
  {
   "cell_type": "markdown",
   "metadata": {},
   "source": [
    "# Cluster"
   ]
  },
  {
   "cell_type": "code",
   "execution_count": 6,
   "metadata": {},
   "outputs": [],
   "source": [
    "def entropy(prob):\n",
    "    if prob == 1 or prob == 0:\n",
    "        return 0\n",
    "    return -prob*math.log(prob, 2) - (1-prob)*math.log((1-prob), 2)"
   ]
  },
  {
   "cell_type": "code",
   "execution_count": 7,
   "metadata": {},
   "outputs": [],
   "source": [
    "def getEntropy(pred, pred_label):\n",
    "    t_total = len(data)\n",
    "    ent_w = 0\n",
    "\n",
    "    for pred, labels in pred_label.items():\n",
    "        neg, pos, unknown = labels[-1], labels[1], labels[0]\n",
    "        total = neg+pos+unknown\n",
    "        neg_pr = neg/total\n",
    "        if total > 0:\n",
    "            neg_pr = neg/total\n",
    "        else:\n",
    "            neg_pr = 0\n",
    "        \n",
    "        ent = entropy(neg_pr)\n",
    "        ent_w += ent*(total/t_total)\n",
    "    return ent_w"
   ]
  },
  {
   "cell_type": "code",
   "execution_count": 8,
   "metadata": {},
   "outputs": [],
   "source": [
    "def getCluster(X, n_c=12, name=\"KMeans\"):\n",
    "    if name == \"KMeans\":\n",
    "        clf = KMeans(n_clusters=n_c, random_state=42)\n",
    "    elif name == \"DBSCAN\":\n",
    "        clf = DBSCAN(min_samples=30)\n",
    "    elif name == \"Birch\":\n",
    "        clf = Birch(n_clusters=n_c, threshold=0.5, branching_factor=50)\n",
    "\n",
    "    pred = clf.fit_predict(X)\n",
    "\n",
    "    pred_label = dict()\n",
    "    for i, pr in enumerate(pred):\n",
    "        label = y[i]\n",
    "        if pr not in pred_label:\n",
    "            pred_label[pr] = dict()\n",
    "            pred_label[pr][0], pred_label[pr][1], pred_label[pr][-1] = 0, 0, 0\n",
    "\n",
    "        pred_label[pr][label] += 1\n",
    "        \n",
    "    return pred_label, pred"
   ]
  },
  {
   "cell_type": "code",
   "execution_count": 9,
   "metadata": {},
   "outputs": [],
   "source": [
    "def processClusters(pred_label, min_entropy=0.2, min_entity=10):\n",
    "    cluster_to_label = dict()\n",
    "\n",
    "    for cluster, labels in pred_label.items():\n",
    "        neg, pos = labels[-1], labels[1]\n",
    "        total = neg+pos\n",
    "\n",
    "        # ignore clusters where max label is less than threshold\n",
    "        if max(neg, pos) < min_entity:\n",
    "            continue\n",
    "\n",
    "        # ignore clusters where entropy is > threshold\n",
    "        neg_pr = neg/total\n",
    "        if entropy(neg_pr) > min_entropy:\n",
    "            continue\n",
    "\n",
    "        label = 0\n",
    "        if neg > pos:\n",
    "            label = -1\n",
    "        elif neg < pos:\n",
    "            label = 1\n",
    "\n",
    "        cluster_to_label[cluster] = label\n",
    "    return cluster_to_label\n",
    "    #print(cluster_to_label)"
   ]
  },
  {
   "cell_type": "code",
   "execution_count": 10,
   "metadata": {},
   "outputs": [],
   "source": [
    "def getNumDomainsAndDomainTypeRatio(pred, cluster_to_label, data, y):\n",
    "\n",
    "    data_idx_label = []\n",
    "    for i, pr in enumerate(pred):\n",
    "        if pr in cluster_to_label:\n",
    "            label = y[i]\n",
    "            if label == 0:\n",
    "                label = cluster_to_label[pr]\n",
    "                data_idx_label.append([i, label])\n",
    "                #temp = data[i]\n",
    "                #temp[\"target\"] = label\n",
    "                #data_label.append(temp)\n",
    "    \n",
    "    #X_cluster = np.array([d['feat'] for d in data_label])\n",
    "    #y_cluster = np.array([d['target'] for d in data_label])\n",
    "    \n",
    "    per_comp, per_mal = 0, 0\n",
    "    if len(data_idx_label) > 0:\n",
    "        per_comp = len([x for x in data_idx_label if x[1]==1])/len(data_idx_label)\n",
    "        per_mal = len([x for x in data_idx_label if x[1]==-1])/len(data_idx_label)\n",
    "    \n",
    "    return round(per_comp*100), round(per_mal*100), data_idx_label"
   ]
  },
  {
   "cell_type": "code",
   "execution_count": 11,
   "metadata": {},
   "outputs": [
    {
     "name": "stdout",
     "output_type": "stream",
     "text": [
      "Number of combinations: 12\n",
      "['pca_c', 'n_c', 'min_ent', 'min_e', 'per_comp', 'per_mal', 'num_domains']\n",
      "1\n",
      "[0, 12, 0.25, 10, 87, 13, 15638, 0.05399895200988528]\n",
      "\n",
      "2\n",
      "[0, 12, 0.3, 10, 87, 13, 15638, 0.05399895200988528]\n",
      "\n",
      "3\n",
      "[0, 12, 0.35, 10, 87, 13, 15638, 0.05399895200988528]\n",
      "\n",
      "4\n",
      "[0, 13, 0.25, 10, 93, 7, 29340, 0.05250231884333648]\n",
      "\n",
      "5\n",
      "[0, 13, 0.3, 10, 93, 7, 29340, 0.05250231884333648]\n",
      "\n",
      "6\n",
      "[0, 13, 0.35, 10, 93, 7, 29340, 0.05250231884333648]\n",
      "\n",
      "7\n",
      "[0, 14, 0.25, 10, 93, 7, 29124, 0.052839670030149534]\n",
      "\n",
      "8\n",
      "[0, 14, 0.3, 10, 94, 6, 32050, 0.052839670030149534]\n",
      "\n",
      "9\n",
      "[0, 14, 0.35, 10, 94, 6, 32050, 0.052839670030149534]\n",
      "\n",
      "10\n",
      "[0, 15, 0.25, 10, 93, 7, 29582, 0.05247681249449126]\n",
      "\n",
      "11\n",
      "[0, 15, 0.3, 10, 93, 7, 29582, 0.05247681249449126]\n",
      "\n",
      "12\n",
      "[0, 15, 0.35, 10, 93, 7, 29582, 0.05247681249449126]\n",
      "\n"
     ]
    }
   ],
   "source": [
    "# try several hyperparamters\n",
    "#pca_components = list(range(1,20)) #1-19\n",
    "#pca_components = list(range(5,11)) #1-19\n",
    "#pca_components = list(range(12,14)) #1-19\n",
    "pca_components = [5, 10]\n",
    "pca_components = [False] + pca_components\n",
    "trypca = False\n",
    "if trypca is False:\n",
    "    pca_components = [0]\n",
    "\n",
    "#n_clusters = list(range(2,13)) #2-12\n",
    "#n_clusters = list(range(7,13))\n",
    "n_clusters = list(range(12,16))\n",
    "\n",
    "#min_entropy = [0.05, 0.1, 0.15, 0.2, 0.25, 0.3, 0.35, 0.4, 0.45, 0.5]\n",
    "#min_entropy = [0.1, 0.15, 0.2]\n",
    "min_entropy = [0.25, 0.3, 0.35]\n",
    "\n",
    "#min_entity = list(range(1,20)) #1-20\n",
    "#min_entity = list(range(7,11)) #1-20\n",
    "min_entity = [10]\n",
    "\n",
    "#orig_X, orig_y = X, y\n",
    "\n",
    "data_idx_label = dict()\n",
    "cnt = 0\n",
    "test = False\n",
    "print(\"Number of combinations:\", len(pca_components)*len(n_clusters)*len(min_entropy)*len(min_entity))\n",
    "print([\"pca_c\", \"n_c\", \"min_ent\", \"min_e\", \"per_comp\", \"per_mal\", \"num_domains\"])\n",
    "for min_e in min_entity:\n",
    "    for n_c in n_clusters:\n",
    "        for min_ent in min_entropy:\n",
    "            for pca_c in pca_components:\n",
    "            \n",
    "                # keep track of combinations\n",
    "                cnt+=1\n",
    "                if cnt > 10 and test:\n",
    "                    continue\n",
    "                else:\n",
    "                    print(cnt)\n",
    "                \n",
    "                # try reducing dimensions \n",
    "                if trypca and pca_c != False:\n",
    "                    X_pca = getPCA(X, pca_c)\n",
    "                else:\n",
    "                    X_pca = X\n",
    "                #print(X_pca[2])\n",
    "                \n",
    "                # get predicted cluster labels\n",
    "                pred_label, pred = getCluster(X_pca, n_c)\n",
    "                #pprint(pred_label)\n",
    "                ent = getEntropy(pred, pred_label)\n",
    "                \n",
    "                # only keep clusters with certain entropy and minimum number of entities in cluster\n",
    "                cluster_to_label = processClusters(pred_label, min_ent, min_e)\n",
    "                #print(cluster_to_label)\n",
    "                \n",
    "                # get resulting number of domains and domain type ratio\n",
    "                per_comp, per_mal, idx_label = getNumDomainsAndDomainTypeRatio(pred, cluster_to_label, data, y)\n",
    "                \n",
    "                # ignore results with too little domains or incorrect ratio\n",
    "                num_domains = len(idx_label)\n",
    "                entry = [pca_c, n_c, min_ent, min_e, per_comp, per_mal, num_domains, ent]\n",
    "                print(entry)\n",
    "#                 if num_domains < 4000:\n",
    "#                     ignored.append(entry)\n",
    "#                 elif per_comp > 80 or per_comp < 50:\n",
    "#                     ignored.append(entry)\n",
    "#                 else:\n",
    "#                     candidate.append(entry)\n",
    "                idx_label = str(idx_label)\n",
    "                if idx_label not in data_idx_label:\n",
    "                    data_idx_label[idx_label] = []\n",
    "                data_idx_label[idx_label].append(entry)\n",
    "                    \n",
    "                print()"
   ]
  },
  {
   "cell_type": "code",
   "execution_count": 12,
   "metadata": {},
   "outputs": [
    {
     "name": "stdout",
     "output_type": "stream",
     "text": [
      "5\n"
     ]
    }
   ],
   "source": [
    "print(len(data_idx_label))"
   ]
  },
  {
   "cell_type": "code",
   "execution_count": 13,
   "metadata": {},
   "outputs": [
    {
     "name": "stdout",
     "output_type": "stream",
     "text": [
      "[[[0, 12, 0.25, 10, 87, 13, 15638, 0.05399895200988528],\n",
      "  [0, 12, 0.3, 10, 87, 13, 15638, 0.05399895200988528],\n",
      "  [0, 12, 0.35, 10, 87, 13, 15638, 0.05399895200988528]],\n",
      " [[0, 13, 0.25, 10, 93, 7, 29340, 0.05250231884333648],\n",
      "  [0, 13, 0.3, 10, 93, 7, 29340, 0.05250231884333648],\n",
      "  [0, 13, 0.35, 10, 93, 7, 29340, 0.05250231884333648]],\n",
      " [[0, 14, 0.25, 10, 93, 7, 29124, 0.052839670030149534]],\n",
      " [[0, 14, 0.3, 10, 94, 6, 32050, 0.052839670030149534],\n",
      "  [0, 14, 0.35, 10, 94, 6, 32050, 0.052839670030149534]],\n",
      " [[0, 15, 0.25, 10, 93, 7, 29582, 0.05247681249449126],\n",
      "  [0, 15, 0.3, 10, 93, 7, 29582, 0.05247681249449126],\n",
      "  [0, 15, 0.35, 10, 93, 7, 29582, 0.05247681249449126]]]\n",
      "2032.94\n",
      "2053.8\n",
      "2038.68\n",
      "1923.0\n",
      "2070.74\n"
     ]
    }
   ],
   "source": [
    "pprint(list(data_idx_label.values()))\n",
    "\n",
    "for x in list(data_idx_label.values()):\n",
    "    num_domains = x[0][6]\n",
    "    per_mal = x[0][5]\n",
    "    per_comp = x[0][4]\n",
    "    \n",
    "    per_min = min(per_mal, per_comp)\n",
    "    #diff = per_max-50\n",
    "    print(num_domains*per_min/100)"
   ]
  },
  {
   "cell_type": "markdown",
   "metadata": {},
   "source": [
    "# Choose specific hyperparameters after manual checking"
   ]
  },
  {
   "cell_type": "code",
   "execution_count": 65,
   "metadata": {},
   "outputs": [],
   "source": [
    "def getNumDomainsAndDomainTypeRatioSpecific(pred, cluster_to_label, data, y):\n",
    "\n",
    "    data_label = []\n",
    "    for i, pr in enumerate(pred):\n",
    "        if pr in cluster_to_label:\n",
    "            label = y[i]\n",
    "            if label == 0:\n",
    "                label = cluster_to_label[pr]\n",
    "                #data_idx_label.append([i, label])\n",
    "                temp = data[i]\n",
    "                temp[\"target\"] = label\n",
    "                data_label.append(temp)\n",
    "    \n",
    "    X_cluster = np.array([d['feat'] for d in data_label])\n",
    "    y_cluster = np.array([d['target'] for d in data_label])\n",
    "    \n",
    "    per_comp, per_mal = 0, 0\n",
    "    if len(data_idx_label) > 0:\n",
    "        per_comp = len([x for x in y_cluster if x==1])/len(y_cluster)\n",
    "        per_mal = len([x for x in y_cluster if x==-1])/len(y_cluster)\n",
    "    \n",
    "    return data_label, round(per_comp*100), round(per_mal*100)"
   ]
  },
  {
   "cell_type": "code",
   "execution_count": 66,
   "metadata": {},
   "outputs": [
    {
     "name": "stdout",
     "output_type": "stream",
     "text": [
      "0.05247681249449126\n",
      "5744\n",
      "64\n",
      "36\n"
     ]
    }
   ],
   "source": [
    "#X_pca = getPCA(X, n_c=12)\n",
    "X_pca = X\n",
    "X_pca, n_c, min_ent, min_e = X_pca, 15, 0.1, 10\n",
    "#73, 27, 19195, 0.053659451762850106],\n",
    "#[0, 15, 0.1, 10, 64, 36, 5744, 0.05247681249449126]\n",
    "\n",
    "# get predicted cluster labels\n",
    "pred_label, pred = getCluster(X_pca, n_c)\n",
    "#pprint(pred_label)\n",
    "ent = getEntropy(pred, pred_label)\n",
    "print(ent)\n",
    "\n",
    "# only keep clusters with certain entropy and minimum number of entities in cluster\n",
    "cluster_to_label = processClusters(pred_label, min_ent, min_e)\n",
    "#print(cluster_to_label)\n",
    "\n",
    "# get resulting number of domains and domain type ratio\n",
    "data_label, per_comp, per_mal = getNumDomainsAndDomainTypeRatioSpecific(pred, cluster_to_label, data, y)\n",
    "print(len(data_label))\n",
    "print(per_comp)\n",
    "print(per_mal)"
   ]
  },
  {
   "cell_type": "code",
   "execution_count": 67,
   "metadata": {},
   "outputs": [],
   "source": [
    "with open('./data/data_cluster_5744', 'w', encoding=\"utf-8\") as fout:\n",
    "    pprint(data_label, fout)"
   ]
  },
  {
   "cell_type": "markdown",
   "metadata": {},
   "source": [
    "# Cluster Analysis"
   ]
  },
  {
   "cell_type": "code",
   "execution_count": 15,
   "metadata": {},
   "outputs": [
    {
     "name": "stdout",
     "output_type": "stream",
     "text": [
      "n_clusters: 2\n",
      "{1: {0: 69, 1: 383, -1: 14191}, 0: {0: 420, 1: 103, -1: 11811}}\n",
      "entropy: 0.12144051983185408\n",
      "\n"
     ]
    }
   ],
   "source": [
    "#n_clusters = [2,3,4,5,6,7,8,9,10,11,12]\n",
    "n_clusters = [2]\n",
    "#n_c = 5\n",
    "for n_c in n_clusters:\n",
    "    print(\"n_clusters:\", n_c)\n",
    "    clf = KMeans(n_clusters=n_c)\n",
    "    pred = clf.fit_predict(X)\n",
    "\n",
    "    pred_label = dict()\n",
    "    pred_data = dict()\n",
    "    for i, pr in enumerate(pred):\n",
    "        label = y[i]\n",
    "        dt = data[i]\n",
    "        if pr not in pred_label:\n",
    "            pred_label[pr] = dict()\n",
    "            pred_label[pr][0] = 0\n",
    "            pred_label[pr][1] = 0\n",
    "            pred_label[pr][-1] = 0\n",
    "            \n",
    "            pred_data[pr] = dict()\n",
    "            pred_data[pr][0] = []\n",
    "            pred_data[pr][1] = []\n",
    "            pred_data[pr][-1] = []\n",
    "\n",
    "        pred_label[pr][label] += 1\n",
    "        pred_data[pr][label].append(dt)\n",
    "\n",
    "    print(pred_label)\n",
    "    print(\"entropy:\", getEntropy(pred, pred_label))\n",
    "    print()"
   ]
  },
  {
   "cell_type": "code",
   "execution_count": 28,
   "metadata": {},
   "outputs": [
    {
     "name": "stdout",
     "output_type": "stream",
     "text": [
      "account-services-login.net\n",
      "ackermanproduction.com\n",
      "activerecoveryinc.cf\n",
      "addarpluss.com\n",
      "administartingserv.online\n",
      "ahaofunweb.com\n",
      "amservers.fr\n",
      "antseducati.com\n",
      "attvalidated.com\n",
      "banauws.com\n",
      "careerx.cf\n",
      "casa-davinci.mn\n",
      "caucasiana.ge\n",
      "caughtoncamera.co.za\n",
      "cazanele-dunarii.ro\n",
      "cdnusercontent.men\n",
      "centrul2sibiu.ro\n",
      "cleanday34.ru\n",
      "clearfieldcountydemocrats.com\n",
      "com-app.eu\n",
      "compraonline14.com.ar\n",
      "constcarte-updates.com\n",
      "contact-apple.com.br\n",
      "contemporarympreg.net\n",
      "cryptoga.org\n",
      "denise-thibault.com\n",
      "depositeagency.online\n",
      "edgnuunfit.com\n",
      "ekoservis.in.ua\n",
      "enovadese.tk\n",
      "etyu-mimon.com\n",
      "fromevalleywindowcleaning.co.uk\n",
      "fromnowon.eu\n",
      "ghandinku.com\n",
      "ginphed.com.ng\n",
      "godadogixc.com\n",
      "gottfried-weiss.online\n",
      "gw-siegen.us\n",
      "help-mnhbvgyfty.ga\n",
      "help-robinettegosselin.net\n",
      "iban-naambevestigen.website\n",
      "id-icloud-nnsms.com\n",
      "iflixes.gq\n",
      "inversoresasociados.com.bo\n",
      "ios-sign-in.us\n",
      "jasdbseywion.com\n",
      "johnson-industrlal.com\n",
      "justinso.ga\n",
      "kjcdzi.com\n",
      "langitterbelahbalik.com\n",
      "latina.com.es\n",
      "lawyerparalegalservices.com\n",
      "linkatel.gt\n",
      "linked-buyers.com\n",
      "mafiathree.ga\n",
      "mafiaiii.tk\n",
      "margot-seifert.org\n",
      "maxinc.com\n",
      "mekonometrics.com.au\n",
      "mjutrf.com\n",
      "morameradarshan.com\n",
      "my-apple-id.cf\n",
      "my-sharepointofficedrive.tk\n",
      "mytbkeciq.com\n",
      "naviko.cf\n",
      "neslaok.com\n",
      "newsweek.ga\n",
      "newsweek.ml\n",
      "nogml.com\n",
      "omarlyonsa.club\n",
      "optionalz.cf\n",
      "packa.ml\n",
      "peoloyshop.club\n",
      "perutour360.pe\n",
      "phansoureser.ml\n",
      "plantandplanet.in\n",
      "qp-unhpvl.cf\n",
      "role-staffing.us\n",
      "scorevshop.club\n",
      "seachoicegames.host\n",
      "service-qaswarzs.com\n",
      "service-wiu6h.com\n",
      "shareholderss.cf\n",
      "sqwytr.ml\n",
      "starctic.ga\n",
      "summeds.ga\n",
      "sungaijebol.com\n",
      "susanne-motz.de\n",
      "tantratitangelgold.com.tr\n",
      "tapex.rs\n",
      "tauhiso.com\n",
      "tikkiemepay.website\n",
      "treffen.gq\n",
      "tuttixte.cf\n",
      "vbasco-web.com\n",
      "verynicegameare.info\n",
      "violation-activity-page3.ml\n",
      "wheeled.cf\n",
      "whhalks.com\n",
      "worldmoneytransfer.pl\n",
      "woulaiss.tk\n",
      "xaqcyxw.bid\n",
      "zc-rgbuik.ga\n"
     ]
    }
   ],
   "source": [
    "x = [x['info'][0] for x in pred_data[0][1]]\n",
    "for xx in x:\n",
    "    print(xx)"
   ]
  },
  {
   "cell_type": "code",
   "execution_count": 26,
   "metadata": {},
   "outputs": [
    {
     "name": "stdout",
     "output_type": "stream",
     "text": [
      "['3utilities.com',\n",
      " 'appleidsecuritys.com',\n",
      " 'appliancesty.date',\n",
      " 'at0.win',\n",
      " 'automobilesbuy.pw',\n",
      " 'beautyitems.xyz',\n",
      " 'bounceme.net',\n",
      " 'buycamera.date',\n",
      " 'buytools.pw',\n",
      " 'buytoolse.site',\n",
      " 'camillebirrell.site',\n",
      " 'canbeauty.date',\n",
      " 'carmeelbrmeente.site',\n",
      " 'carpartsnet.men',\n",
      " 'carpetstore.pw',\n",
      " 'carpetstores.xyz',\n",
      " 'catherinewylde.site',\n",
      " 'cedricbacon.site',\n",
      " 'cheaptoyget.date',\n",
      " 'culinarygoodst.trade',\n",
      " 'ddns.net',\n",
      " 'ddnsking.com',\n",
      " 'dekinsore.online',\n",
      " 'discountmany.site',\n",
      " 'eprtmanpower.com',\n",
      " 'euesshop.top',\n",
      " 'furnituresy.trade',\n",
      " 'getwood.date',\n",
      " 'glassesscarf.date',\n",
      " 'goodshouse.men',\n",
      " 'goodsshop.win',\n",
      " 'homemachine.xyz',\n",
      " 'homeresjob.men',\n",
      " 'humphreyjulius.site',\n",
      " 'imcreator.com',\n",
      " 'inhomething.men',\n",
      " 'inthebedst.date',\n",
      " 'itursulogalvan.edu.mx',\n",
      " 'jewelryshops.trade',\n",
      " 'joyviolet.site',\n",
      " 'jpanbest.win',\n",
      " 'kimonodress.date',\n",
      " 'kitchentask.xyz',\n",
      " 'kitchenget.pw',\n",
      " 'kitchentooly.date',\n",
      " 'machinelive.xyz',\n",
      " 'manydiscount.site',\n",
      " 'menshoesly.trade',\n",
      " 'modelshop.pw',\n",
      " 'motormeet.men',\n",
      " 'msshoesbuy.win',\n",
      " 'msshoesget.pw',\n",
      " 'myftp.org',\n",
      " 'myvnc.com',\n",
      " 'onthewifi.com',\n",
      " 'pitsubunchi.space',\n",
      " 'plantwaretry.date',\n",
      " 'pukushinaka.online',\n",
      " 'servehalflife.com',\n",
      " 'servehttp.com',\n",
      " 'serveirc.com',\n",
      " 'shoeschoose.win',\n",
      " 'skybackpack.date',\n",
      " 'sytes.net',\n",
      " 'teasetsale.pw',\n",
      " 'thingbuys.trade',\n",
      " 'violacowper.site',\n",
      " 'winfredspender.site',\n",
      " 'yagetsubora.website']\n",
      "['account-services-login.net',\n",
      " 'ackermanproduction.com',\n",
      " 'activerecoveryinc.cf',\n",
      " 'addarpluss.com',\n",
      " 'administartingserv.online',\n",
      " 'ahaofunweb.com',\n",
      " 'amservers.fr',\n",
      " 'antseducati.com',\n",
      " 'attvalidated.com',\n",
      " 'banauws.com',\n",
      " 'careerx.cf',\n",
      " 'casa-davinci.mn',\n",
      " 'caucasiana.ge',\n",
      " 'caughtoncamera.co.za',\n",
      " 'cazanele-dunarii.ro',\n",
      " 'cdnusercontent.men',\n",
      " 'centrul2sibiu.ro',\n",
      " 'cleanday34.ru',\n",
      " 'clearfieldcountydemocrats.com',\n",
      " 'com-app.eu',\n",
      " 'compraonline14.com.ar',\n",
      " 'constcarte-updates.com',\n",
      " 'contact-apple.com.br',\n",
      " 'contemporarympreg.net',\n",
      " 'cryptoga.org',\n",
      " 'denise-thibault.com',\n",
      " 'depositeagency.online',\n",
      " 'edgnuunfit.com',\n",
      " 'ekoservis.in.ua',\n",
      " 'enovadese.tk',\n",
      " 'etyu-mimon.com',\n",
      " 'fromevalleywindowcleaning.co.uk',\n",
      " 'fromnowon.eu',\n",
      " 'ghandinku.com',\n",
      " 'ginphed.com.ng',\n",
      " 'godadogixc.com',\n",
      " 'gottfried-weiss.online',\n",
      " 'gw-siegen.us',\n",
      " 'help-mnhbvgyfty.ga',\n",
      " 'help-robinettegosselin.net',\n",
      " 'iban-naambevestigen.website',\n",
      " 'id-icloud-nnsms.com',\n",
      " 'iflixes.gq',\n",
      " 'inversoresasociados.com.bo',\n",
      " 'ios-sign-in.us',\n",
      " 'jasdbseywion.com',\n",
      " 'johnson-industrlal.com',\n",
      " 'justinso.ga',\n",
      " 'kjcdzi.com',\n",
      " 'langitterbelahbalik.com',\n",
      " 'latina.com.es',\n",
      " 'lawyerparalegalservices.com',\n",
      " 'linkatel.gt',\n",
      " 'linked-buyers.com',\n",
      " 'mafiathree.ga',\n",
      " 'mafiaiii.tk',\n",
      " 'margot-seifert.org',\n",
      " 'maxinc.com',\n",
      " 'mekonometrics.com.au',\n",
      " 'mjutrf.com',\n",
      " 'morameradarshan.com',\n",
      " 'my-apple-id.cf',\n",
      " 'my-sharepointofficedrive.tk',\n",
      " 'mytbkeciq.com',\n",
      " 'naviko.cf',\n",
      " 'neslaok.com',\n",
      " 'newsweek.ga',\n",
      " 'newsweek.ml',\n",
      " 'nogml.com',\n",
      " 'omarlyonsa.club',\n",
      " 'optionalz.cf',\n",
      " 'packa.ml',\n",
      " 'peoloyshop.club',\n",
      " 'perutour360.pe',\n",
      " 'phansoureser.ml',\n",
      " 'plantandplanet.in',\n",
      " 'qp-unhpvl.cf',\n",
      " 'role-staffing.us',\n",
      " 'scorevshop.club',\n",
      " 'seachoicegames.host',\n",
      " 'service-qaswarzs.com',\n",
      " 'service-wiu6h.com',\n",
      " 'shareholderss.cf',\n",
      " 'sqwytr.ml',\n",
      " 'starctic.ga',\n",
      " 'summeds.ga',\n",
      " 'sungaijebol.com',\n",
      " 'susanne-motz.de',\n",
      " 'tantratitangelgold.com.tr',\n",
      " 'tapex.rs',\n",
      " 'tauhiso.com',\n",
      " 'tikkiemepay.website',\n",
      " 'treffen.gq',\n",
      " 'tuttixte.cf',\n",
      " 'vbasco-web.com',\n",
      " 'verynicegameare.info',\n",
      " 'violation-activity-page3.ml',\n",
      " 'wheeled.cf',\n",
      " 'whhalks.com',\n",
      " 'worldmoneytransfer.pl',\n",
      " 'woulaiss.tk',\n",
      " 'xaqcyxw.bid',\n",
      " 'zc-rgbuik.ga']\n"
     ]
    }
   ],
   "source": [
    "#pprint([x['info'][0] for x in pred_data[1][0] if x['feat'][7] == 1])\n",
    "pprint([x['info'][0] for x in pred_data[0][1]])"
   ]
  },
  {
   "cell_type": "code",
   "execution_count": null,
   "metadata": {},
   "outputs": [],
   "source": []
  }
 ],
 "metadata": {
  "kernelspec": {
   "display_name": "Python 3",
   "language": "python",
   "name": "python3"
  },
  "language_info": {
   "codemirror_mode": {
    "name": "ipython",
    "version": 3
   },
   "file_extension": ".py",
   "mimetype": "text/x-python",
   "name": "python",
   "nbconvert_exporter": "python",
   "pygments_lexer": "ipython3",
   "version": "3.6.4"
  }
 },
 "nbformat": 4,
 "nbformat_minor": 2
}
